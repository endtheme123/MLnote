{
  "nbformat": 4,
  "nbformat_minor": 0,
  "metadata": {
    "colab": {
      "provenance": []
    },
    "kernelspec": {
      "name": "python3",
      "display_name": "Python 3"
    },
    "language_info": {
      "name": "python"
    }
  },
  "cells": [
    {
      "cell_type": "markdown",
      "source": [
        "#Introduction to NLP fundamentals in TensorFlow\n",
        "\n",
        "NLP has the goal of deriving information out of natural language (could be sequenced text or speech)\n",
        "\n",
        "Another common term for NLP problems is sequence to sequence problems (seq2seq)\n"
      ],
      "metadata": {
        "id": "kdRZzIrg3Swz"
      }
    },
    {
      "cell_type": "markdown",
      "source": [
        "##check for GPU"
      ],
      "metadata": {
        "id": "Vvz1LPjWz-SQ"
      }
    },
    {
      "cell_type": "code",
      "source": [
        "!pip install tensorflow==2.8.0"
      ],
      "metadata": {
        "colab": {
          "base_uri": "https://localhost:8080/"
        },
        "id": "IhOqQUGYb9UL",
        "outputId": "56dd9eba-a4fc-442d-8109-32eff41ea37d"
      },
      "execution_count": 1,
      "outputs": [
        {
          "output_type": "stream",
          "name": "stdout",
          "text": [
            "Looking in indexes: https://pypi.org/simple, https://us-python.pkg.dev/colab-wheels/public/simple/\n",
            "Collecting tensorflow==2.8.0\n",
            "  Downloading tensorflow-2.8.0-cp310-cp310-manylinux2010_x86_64.whl (497.6 MB)\n",
            "\u001b[2K     \u001b[90m━━━━━━━━━━━━━━━━━━━━━━━━━━━━━━━━━━━━━━━\u001b[0m \u001b[32m497.6/497.6 MB\u001b[0m \u001b[31m3.0 MB/s\u001b[0m eta \u001b[36m0:00:00\u001b[0m\n",
            "\u001b[?25hRequirement already satisfied: gast>=0.2.1 in /usr/local/lib/python3.10/dist-packages (from tensorflow==2.8.0) (0.4.0)\n",
            "Requirement already satisfied: setuptools in /usr/local/lib/python3.10/dist-packages (from tensorflow==2.8.0) (67.7.2)\n",
            "Requirement already satisfied: flatbuffers>=1.12 in /usr/local/lib/python3.10/dist-packages (from tensorflow==2.8.0) (23.3.3)\n",
            "Requirement already satisfied: astunparse>=1.6.0 in /usr/local/lib/python3.10/dist-packages (from tensorflow==2.8.0) (1.6.3)\n",
            "Requirement already satisfied: numpy>=1.20 in /usr/local/lib/python3.10/dist-packages (from tensorflow==2.8.0) (1.22.4)\n",
            "Collecting tensorboard<2.9,>=2.8\n",
            "  Downloading tensorboard-2.8.0-py3-none-any.whl (5.8 MB)\n",
            "\u001b[2K     \u001b[90m━━━━━━━━━━━━━━━━━━━━━━━━━━━━━━━━━━━━━━━━\u001b[0m \u001b[32m5.8/5.8 MB\u001b[0m \u001b[31m76.8 MB/s\u001b[0m eta \u001b[36m0:00:00\u001b[0m\n",
            "\u001b[?25hRequirement already satisfied: h5py>=2.9.0 in /usr/local/lib/python3.10/dist-packages (from tensorflow==2.8.0) (3.8.0)\n",
            "Requirement already satisfied: termcolor>=1.1.0 in /usr/local/lib/python3.10/dist-packages (from tensorflow==2.8.0) (2.3.0)\n",
            "Collecting keras<2.9,>=2.8.0rc0\n",
            "  Downloading keras-2.8.0-py2.py3-none-any.whl (1.4 MB)\n",
            "\u001b[2K     \u001b[90m━━━━━━━━━━━━━━━━━━━━━━━━━━━━━━━━━━━━━━━━\u001b[0m \u001b[32m1.4/1.4 MB\u001b[0m \u001b[31m62.7 MB/s\u001b[0m eta \u001b[36m0:00:00\u001b[0m\n",
            "\u001b[?25hCollecting keras-preprocessing>=1.1.1\n",
            "  Downloading Keras_Preprocessing-1.1.2-py2.py3-none-any.whl (42 kB)\n",
            "\u001b[2K     \u001b[90m━━━━━━━━━━━━━━━━━━━━━━━━━━━━━━━━━━━━━━━━\u001b[0m \u001b[32m42.6/42.6 kB\u001b[0m \u001b[31m2.8 MB/s\u001b[0m eta \u001b[36m0:00:00\u001b[0m\n",
            "\u001b[?25hRequirement already satisfied: protobuf>=3.9.2 in /usr/local/lib/python3.10/dist-packages (from tensorflow==2.8.0) (3.20.3)\n",
            "Collecting tf-estimator-nightly==2.8.0.dev2021122109\n",
            "  Downloading tf_estimator_nightly-2.8.0.dev2021122109-py2.py3-none-any.whl (462 kB)\n",
            "\u001b[2K     \u001b[90m━━━━━━━━━━━━━━━━━━━━━━━━━━━━━━━━━━━━━━\u001b[0m \u001b[32m462.5/462.5 kB\u001b[0m \u001b[31m31.5 MB/s\u001b[0m eta \u001b[36m0:00:00\u001b[0m\n",
            "\u001b[?25hRequirement already satisfied: grpcio<2.0,>=1.24.3 in /usr/local/lib/python3.10/dist-packages (from tensorflow==2.8.0) (1.54.0)\n",
            "Requirement already satisfied: absl-py>=0.4.0 in /usr/local/lib/python3.10/dist-packages (from tensorflow==2.8.0) (1.4.0)\n",
            "Requirement already satisfied: six>=1.12.0 in /usr/local/lib/python3.10/dist-packages (from tensorflow==2.8.0) (1.16.0)\n",
            "Requirement already satisfied: libclang>=9.0.1 in /usr/local/lib/python3.10/dist-packages (from tensorflow==2.8.0) (16.0.0)\n",
            "Requirement already satisfied: opt-einsum>=2.3.2 in /usr/local/lib/python3.10/dist-packages (from tensorflow==2.8.0) (3.3.0)\n",
            "Requirement already satisfied: wrapt>=1.11.0 in /usr/local/lib/python3.10/dist-packages (from tensorflow==2.8.0) (1.14.1)\n",
            "Requirement already satisfied: typing-extensions>=3.6.6 in /usr/local/lib/python3.10/dist-packages (from tensorflow==2.8.0) (4.5.0)\n",
            "Requirement already satisfied: tensorflow-io-gcs-filesystem>=0.23.1 in /usr/local/lib/python3.10/dist-packages (from tensorflow==2.8.0) (0.32.0)\n",
            "Requirement already satisfied: google-pasta>=0.1.1 in /usr/local/lib/python3.10/dist-packages (from tensorflow==2.8.0) (0.2.0)\n",
            "Requirement already satisfied: wheel<1.0,>=0.23.0 in /usr/local/lib/python3.10/dist-packages (from astunparse>=1.6.0->tensorflow==2.8.0) (0.40.0)\n",
            "Requirement already satisfied: markdown>=2.6.8 in /usr/local/lib/python3.10/dist-packages (from tensorboard<2.9,>=2.8->tensorflow==2.8.0) (3.4.3)\n",
            "Collecting tensorboard-data-server<0.7.0,>=0.6.0\n",
            "  Downloading tensorboard_data_server-0.6.1-py3-none-manylinux2010_x86_64.whl (4.9 MB)\n",
            "\u001b[2K     \u001b[90m━━━━━━━━━━━━━━━━━━━━━━━━━━━━━━━━━━━━━━━━\u001b[0m \u001b[32m4.9/4.9 MB\u001b[0m \u001b[31m58.6 MB/s\u001b[0m eta \u001b[36m0:00:00\u001b[0m\n",
            "\u001b[?25hRequirement already satisfied: tensorboard-plugin-wit>=1.6.0 in /usr/local/lib/python3.10/dist-packages (from tensorboard<2.9,>=2.8->tensorflow==2.8.0) (1.8.1)\n",
            "Requirement already satisfied: werkzeug>=0.11.15 in /usr/local/lib/python3.10/dist-packages (from tensorboard<2.9,>=2.8->tensorflow==2.8.0) (2.3.0)\n",
            "Requirement already satisfied: google-auth<3,>=1.6.3 in /usr/local/lib/python3.10/dist-packages (from tensorboard<2.9,>=2.8->tensorflow==2.8.0) (2.17.3)\n",
            "Requirement already satisfied: requests<3,>=2.21.0 in /usr/local/lib/python3.10/dist-packages (from tensorboard<2.9,>=2.8->tensorflow==2.8.0) (2.27.1)\n",
            "Collecting google-auth-oauthlib<0.5,>=0.4.1\n",
            "  Downloading google_auth_oauthlib-0.4.6-py2.py3-none-any.whl (18 kB)\n",
            "Requirement already satisfied: rsa<5,>=3.1.4 in /usr/local/lib/python3.10/dist-packages (from google-auth<3,>=1.6.3->tensorboard<2.9,>=2.8->tensorflow==2.8.0) (4.9)\n",
            "Requirement already satisfied: cachetools<6.0,>=2.0.0 in /usr/local/lib/python3.10/dist-packages (from google-auth<3,>=1.6.3->tensorboard<2.9,>=2.8->tensorflow==2.8.0) (5.3.0)\n",
            "Requirement already satisfied: pyasn1-modules>=0.2.1 in /usr/local/lib/python3.10/dist-packages (from google-auth<3,>=1.6.3->tensorboard<2.9,>=2.8->tensorflow==2.8.0) (0.3.0)\n",
            "Requirement already satisfied: requests-oauthlib>=0.7.0 in /usr/local/lib/python3.10/dist-packages (from google-auth-oauthlib<0.5,>=0.4.1->tensorboard<2.9,>=2.8->tensorflow==2.8.0) (1.3.1)\n",
            "Requirement already satisfied: charset-normalizer~=2.0.0 in /usr/local/lib/python3.10/dist-packages (from requests<3,>=2.21.0->tensorboard<2.9,>=2.8->tensorflow==2.8.0) (2.0.12)\n",
            "Requirement already satisfied: urllib3<1.27,>=1.21.1 in /usr/local/lib/python3.10/dist-packages (from requests<3,>=2.21.0->tensorboard<2.9,>=2.8->tensorflow==2.8.0) (1.26.15)\n",
            "Requirement already satisfied: idna<4,>=2.5 in /usr/local/lib/python3.10/dist-packages (from requests<3,>=2.21.0->tensorboard<2.9,>=2.8->tensorflow==2.8.0) (3.4)\n",
            "Requirement already satisfied: certifi>=2017.4.17 in /usr/local/lib/python3.10/dist-packages (from requests<3,>=2.21.0->tensorboard<2.9,>=2.8->tensorflow==2.8.0) (2022.12.7)\n",
            "Requirement already satisfied: MarkupSafe>=2.1.1 in /usr/local/lib/python3.10/dist-packages (from werkzeug>=0.11.15->tensorboard<2.9,>=2.8->tensorflow==2.8.0) (2.1.2)\n",
            "Requirement already satisfied: pyasn1<0.6.0,>=0.4.6 in /usr/local/lib/python3.10/dist-packages (from pyasn1-modules>=0.2.1->google-auth<3,>=1.6.3->tensorboard<2.9,>=2.8->tensorflow==2.8.0) (0.5.0)\n",
            "Requirement already satisfied: oauthlib>=3.0.0 in /usr/local/lib/python3.10/dist-packages (from requests-oauthlib>=0.7.0->google-auth-oauthlib<0.5,>=0.4.1->tensorboard<2.9,>=2.8->tensorflow==2.8.0) (3.2.2)\n",
            "Installing collected packages: tf-estimator-nightly, keras, tensorboard-data-server, keras-preprocessing, google-auth-oauthlib, tensorboard, tensorflow\n",
            "  Attempting uninstall: keras\n",
            "    Found existing installation: keras 2.12.0\n",
            "    Uninstalling keras-2.12.0:\n",
            "      Successfully uninstalled keras-2.12.0\n",
            "  Attempting uninstall: tensorboard-data-server\n",
            "    Found existing installation: tensorboard-data-server 0.7.0\n",
            "    Uninstalling tensorboard-data-server-0.7.0:\n",
            "      Successfully uninstalled tensorboard-data-server-0.7.0\n",
            "  Attempting uninstall: google-auth-oauthlib\n",
            "    Found existing installation: google-auth-oauthlib 1.0.0\n",
            "    Uninstalling google-auth-oauthlib-1.0.0:\n",
            "      Successfully uninstalled google-auth-oauthlib-1.0.0\n",
            "  Attempting uninstall: tensorboard\n",
            "    Found existing installation: tensorboard 2.12.2\n",
            "    Uninstalling tensorboard-2.12.2:\n",
            "      Successfully uninstalled tensorboard-2.12.2\n",
            "  Attempting uninstall: tensorflow\n",
            "    Found existing installation: tensorflow 2.12.0\n",
            "    Uninstalling tensorflow-2.12.0:\n",
            "      Successfully uninstalled tensorflow-2.12.0\n",
            "Successfully installed google-auth-oauthlib-0.4.6 keras-2.8.0 keras-preprocessing-1.1.2 tensorboard-2.8.0 tensorboard-data-server-0.6.1 tensorflow-2.8.0 tf-estimator-nightly-2.8.0.dev2021122109\n"
          ]
        }
      ]
    },
    {
      "cell_type": "code",
      "source": [
        "!nvidia-smi -L"
      ],
      "metadata": {
        "colab": {
          "base_uri": "https://localhost:8080/"
        },
        "id": "Si1Z2BRo0Eqj",
        "outputId": "660bc32a-66c7-4999-b77e-8ecdd5c98ea0"
      },
      "execution_count": 2,
      "outputs": [
        {
          "output_type": "stream",
          "name": "stdout",
          "text": [
            "/bin/bash: nvidia-smi: command not found\n"
          ]
        }
      ]
    },
    {
      "cell_type": "markdown",
      "source": [
        "##Get helper functions"
      ],
      "metadata": {
        "id": "u4C5qbL50MKz"
      }
    },
    {
      "cell_type": "code",
      "source": [
        "!wget https://raw.githubusercontent.com/mrdbourke/tensorflow-deep-learning/main/extras/helper_functions.py\n",
        "\n",
        "#get helper functions for our notebook\n",
        "from helper_functions import unzip_data, create_tensorboard_callback, plot_loss_curves, compare_historys"
      ],
      "metadata": {
        "colab": {
          "base_uri": "https://localhost:8080/"
        },
        "id": "nKKPls6i0ScD",
        "outputId": "9cbe2ceb-5803-45a0-abea-e6775eeda101"
      },
      "execution_count": 3,
      "outputs": [
        {
          "output_type": "stream",
          "name": "stdout",
          "text": [
            "--2023-05-03 13:14:29--  https://raw.githubusercontent.com/mrdbourke/tensorflow-deep-learning/main/extras/helper_functions.py\n",
            "Resolving raw.githubusercontent.com (raw.githubusercontent.com)... 185.199.108.133, 185.199.111.133, 185.199.109.133, ...\n",
            "Connecting to raw.githubusercontent.com (raw.githubusercontent.com)|185.199.108.133|:443... connected.\n",
            "HTTP request sent, awaiting response... 200 OK\n",
            "Length: 10246 (10K) [text/plain]\n",
            "Saving to: ‘helper_functions.py’\n",
            "\n",
            "helper_functions.py 100%[===================>]  10.01K  --.-KB/s    in 0s      \n",
            "\n",
            "2023-05-03 13:14:30 (89.4 MB/s) - ‘helper_functions.py’ saved [10246/10246]\n",
            "\n"
          ]
        }
      ]
    },
    {
      "cell_type": "markdown",
      "source": [
        "## Get a text dataset\n",
        "\n",
        "The dataset we're going to use is Kaggle's introduction to NLP dataset (text samples of Tweets labelled as disaster or not disaster)\n",
        "\n",
        "See the original source on Kaggle"
      ],
      "metadata": {
        "id": "MgL-6qLn007q"
      }
    },
    {
      "cell_type": "code",
      "source": [
        "!wget https://storage.googleapis.com/ztm_tf_course/nlp_getting_started.zip"
      ],
      "metadata": {
        "colab": {
          "base_uri": "https://localhost:8080/"
        },
        "id": "98W9z8GX05ND",
        "outputId": "62d9aeb4-e5b8-4716-c49c-dea05f320236"
      },
      "execution_count": 4,
      "outputs": [
        {
          "output_type": "stream",
          "name": "stdout",
          "text": [
            "--2023-05-03 13:14:34--  https://storage.googleapis.com/ztm_tf_course/nlp_getting_started.zip\n",
            "Resolving storage.googleapis.com (storage.googleapis.com)... 142.250.145.128, 173.194.79.128, 108.177.119.128, ...\n",
            "Connecting to storage.googleapis.com (storage.googleapis.com)|142.250.145.128|:443... connected.\n",
            "HTTP request sent, awaiting response... 200 OK\n",
            "Length: 607343 (593K) [application/zip]\n",
            "Saving to: ‘nlp_getting_started.zip’\n",
            "\n",
            "nlp_getting_started 100%[===================>] 593.11K  1.49MB/s    in 0.4s    \n",
            "\n",
            "2023-05-03 13:14:35 (1.49 MB/s) - ‘nlp_getting_started.zip’ saved [607343/607343]\n",
            "\n"
          ]
        }
      ]
    },
    {
      "cell_type": "code",
      "source": [
        "#unzip data\n",
        "unzip_data(\"nlp_getting_started.zip\")"
      ],
      "metadata": {
        "id": "GgjGDwVZ3o6d"
      },
      "execution_count": 5,
      "outputs": []
    },
    {
      "cell_type": "markdown",
      "source": [
        "##Visualizing a text dataset\n",
        "\n",
        "to visualize our text samples, we first have to read them in, one way to do so would be to use Python\n",
        "\n",
        "But I prefer to get visual straight away\n",
        "\n",
        "So another way to do this is to use Pandas\n",
        "\n",
        "if the dataset is too large, then you might want to use load_text from tensorflow"
      ],
      "metadata": {
        "id": "bjI3P5wx303p"
      }
    },
    {
      "cell_type": "code",
      "source": [
        "import pandas as pd\n",
        "train_df = pd.read_csv(\"train.csv\")\n",
        "test_df = pd.read_csv(\"test.csv\")\n",
        "train_df.head()"
      ],
      "metadata": {
        "colab": {
          "base_uri": "https://localhost:8080/",
          "height": 206
        },
        "id": "VSMBlkT14JnV",
        "outputId": "b70285dd-02c0-4f68-a0a2-ff50defd7b5d"
      },
      "execution_count": 6,
      "outputs": [
        {
          "output_type": "execute_result",
          "data": {
            "text/plain": [
              "   id keyword location                                               text  \\\n",
              "0   1     NaN      NaN  Our Deeds are the Reason of this #earthquake M...   \n",
              "1   4     NaN      NaN             Forest fire near La Ronge Sask. Canada   \n",
              "2   5     NaN      NaN  All residents asked to 'shelter in place' are ...   \n",
              "3   6     NaN      NaN  13,000 people receive #wildfires evacuation or...   \n",
              "4   7     NaN      NaN  Just got sent this photo from Ruby #Alaska as ...   \n",
              "\n",
              "   target  \n",
              "0       1  \n",
              "1       1  \n",
              "2       1  \n",
              "3       1  \n",
              "4       1  "
            ],
            "text/html": [
              "\n",
              "  <div id=\"df-8c0347d4-99f3-4dc6-ab12-768a27ac0263\">\n",
              "    <div class=\"colab-df-container\">\n",
              "      <div>\n",
              "<style scoped>\n",
              "    .dataframe tbody tr th:only-of-type {\n",
              "        vertical-align: middle;\n",
              "    }\n",
              "\n",
              "    .dataframe tbody tr th {\n",
              "        vertical-align: top;\n",
              "    }\n",
              "\n",
              "    .dataframe thead th {\n",
              "        text-align: right;\n",
              "    }\n",
              "</style>\n",
              "<table border=\"1\" class=\"dataframe\">\n",
              "  <thead>\n",
              "    <tr style=\"text-align: right;\">\n",
              "      <th></th>\n",
              "      <th>id</th>\n",
              "      <th>keyword</th>\n",
              "      <th>location</th>\n",
              "      <th>text</th>\n",
              "      <th>target</th>\n",
              "    </tr>\n",
              "  </thead>\n",
              "  <tbody>\n",
              "    <tr>\n",
              "      <th>0</th>\n",
              "      <td>1</td>\n",
              "      <td>NaN</td>\n",
              "      <td>NaN</td>\n",
              "      <td>Our Deeds are the Reason of this #earthquake M...</td>\n",
              "      <td>1</td>\n",
              "    </tr>\n",
              "    <tr>\n",
              "      <th>1</th>\n",
              "      <td>4</td>\n",
              "      <td>NaN</td>\n",
              "      <td>NaN</td>\n",
              "      <td>Forest fire near La Ronge Sask. Canada</td>\n",
              "      <td>1</td>\n",
              "    </tr>\n",
              "    <tr>\n",
              "      <th>2</th>\n",
              "      <td>5</td>\n",
              "      <td>NaN</td>\n",
              "      <td>NaN</td>\n",
              "      <td>All residents asked to 'shelter in place' are ...</td>\n",
              "      <td>1</td>\n",
              "    </tr>\n",
              "    <tr>\n",
              "      <th>3</th>\n",
              "      <td>6</td>\n",
              "      <td>NaN</td>\n",
              "      <td>NaN</td>\n",
              "      <td>13,000 people receive #wildfires evacuation or...</td>\n",
              "      <td>1</td>\n",
              "    </tr>\n",
              "    <tr>\n",
              "      <th>4</th>\n",
              "      <td>7</td>\n",
              "      <td>NaN</td>\n",
              "      <td>NaN</td>\n",
              "      <td>Just got sent this photo from Ruby #Alaska as ...</td>\n",
              "      <td>1</td>\n",
              "    </tr>\n",
              "  </tbody>\n",
              "</table>\n",
              "</div>\n",
              "      <button class=\"colab-df-convert\" onclick=\"convertToInteractive('df-8c0347d4-99f3-4dc6-ab12-768a27ac0263')\"\n",
              "              title=\"Convert this dataframe to an interactive table.\"\n",
              "              style=\"display:none;\">\n",
              "        \n",
              "  <svg xmlns=\"http://www.w3.org/2000/svg\" height=\"24px\"viewBox=\"0 0 24 24\"\n",
              "       width=\"24px\">\n",
              "    <path d=\"M0 0h24v24H0V0z\" fill=\"none\"/>\n",
              "    <path d=\"M18.56 5.44l.94 2.06.94-2.06 2.06-.94-2.06-.94-.94-2.06-.94 2.06-2.06.94zm-11 1L8.5 8.5l.94-2.06 2.06-.94-2.06-.94L8.5 2.5l-.94 2.06-2.06.94zm10 10l.94 2.06.94-2.06 2.06-.94-2.06-.94-.94-2.06-.94 2.06-2.06.94z\"/><path d=\"M17.41 7.96l-1.37-1.37c-.4-.4-.92-.59-1.43-.59-.52 0-1.04.2-1.43.59L10.3 9.45l-7.72 7.72c-.78.78-.78 2.05 0 2.83L4 21.41c.39.39.9.59 1.41.59.51 0 1.02-.2 1.41-.59l7.78-7.78 2.81-2.81c.8-.78.8-2.07 0-2.86zM5.41 20L4 18.59l7.72-7.72 1.47 1.35L5.41 20z\"/>\n",
              "  </svg>\n",
              "      </button>\n",
              "      \n",
              "  <style>\n",
              "    .colab-df-container {\n",
              "      display:flex;\n",
              "      flex-wrap:wrap;\n",
              "      gap: 12px;\n",
              "    }\n",
              "\n",
              "    .colab-df-convert {\n",
              "      background-color: #E8F0FE;\n",
              "      border: none;\n",
              "      border-radius: 50%;\n",
              "      cursor: pointer;\n",
              "      display: none;\n",
              "      fill: #1967D2;\n",
              "      height: 32px;\n",
              "      padding: 0 0 0 0;\n",
              "      width: 32px;\n",
              "    }\n",
              "\n",
              "    .colab-df-convert:hover {\n",
              "      background-color: #E2EBFA;\n",
              "      box-shadow: 0px 1px 2px rgba(60, 64, 67, 0.3), 0px 1px 3px 1px rgba(60, 64, 67, 0.15);\n",
              "      fill: #174EA6;\n",
              "    }\n",
              "\n",
              "    [theme=dark] .colab-df-convert {\n",
              "      background-color: #3B4455;\n",
              "      fill: #D2E3FC;\n",
              "    }\n",
              "\n",
              "    [theme=dark] .colab-df-convert:hover {\n",
              "      background-color: #434B5C;\n",
              "      box-shadow: 0px 1px 3px 1px rgba(0, 0, 0, 0.15);\n",
              "      filter: drop-shadow(0px 1px 2px rgba(0, 0, 0, 0.3));\n",
              "      fill: #FFFFFF;\n",
              "    }\n",
              "  </style>\n",
              "\n",
              "      <script>\n",
              "        const buttonEl =\n",
              "          document.querySelector('#df-8c0347d4-99f3-4dc6-ab12-768a27ac0263 button.colab-df-convert');\n",
              "        buttonEl.style.display =\n",
              "          google.colab.kernel.accessAllowed ? 'block' : 'none';\n",
              "\n",
              "        async function convertToInteractive(key) {\n",
              "          const element = document.querySelector('#df-8c0347d4-99f3-4dc6-ab12-768a27ac0263');\n",
              "          const dataTable =\n",
              "            await google.colab.kernel.invokeFunction('convertToInteractive',\n",
              "                                                     [key], {});\n",
              "          if (!dataTable) return;\n",
              "\n",
              "          const docLinkHtml = 'Like what you see? Visit the ' +\n",
              "            '<a target=\"_blank\" href=https://colab.research.google.com/notebooks/data_table.ipynb>data table notebook</a>'\n",
              "            + ' to learn more about interactive tables.';\n",
              "          element.innerHTML = '';\n",
              "          dataTable['output_type'] = 'display_data';\n",
              "          await google.colab.output.renderOutput(dataTable, element);\n",
              "          const docLink = document.createElement('div');\n",
              "          docLink.innerHTML = docLinkHtml;\n",
              "          element.appendChild(docLink);\n",
              "        }\n",
              "      </script>\n",
              "    </div>\n",
              "  </div>\n",
              "  "
            ]
          },
          "metadata": {},
          "execution_count": 6
        }
      ]
    },
    {
      "cell_type": "code",
      "source": [
        "train_df[\"text\"][0]"
      ],
      "metadata": {
        "colab": {
          "base_uri": "https://localhost:8080/",
          "height": 36
        },
        "id": "i9nnH6K35Hcl",
        "outputId": "b9fd64c7-7486-4b0d-da9e-19fbaee0f5c1"
      },
      "execution_count": 7,
      "outputs": [
        {
          "output_type": "execute_result",
          "data": {
            "text/plain": [
              "'Our Deeds are the Reason of this #earthquake May ALLAH Forgive us all'"
            ],
            "application/vnd.google.colaboratory.intrinsic+json": {
              "type": "string"
            }
          },
          "metadata": {},
          "execution_count": 7
        }
      ]
    },
    {
      "cell_type": "code",
      "source": [
        "#shuffle training dataframe\n",
        "train_df_shuffled =train_df.sample(frac=1, random_state = 42)\n",
        "train_df_shuffled.head()"
      ],
      "metadata": {
        "colab": {
          "base_uri": "https://localhost:8080/",
          "height": 337
        },
        "id": "zwYuNMGQ5Qsn",
        "outputId": "01d86d8c-d664-4be1-dae7-6e1353b281ad"
      },
      "execution_count": 8,
      "outputs": [
        {
          "output_type": "execute_result",
          "data": {
            "text/plain": [
              "        id      keyword               location  \\\n",
              "2644  3796  destruction                    NaN   \n",
              "2227  3185       deluge                    NaN   \n",
              "5448  7769       police                     UK   \n",
              "132    191   aftershock                    NaN   \n",
              "6845  9810       trauma  Montgomery County, MD   \n",
              "\n",
              "                                                   text  target  \n",
              "2644  So you have a new weapon that can cause un-ima...       1  \n",
              "2227  The f$&amp;@ing things I do for #GISHWHES Just...       0  \n",
              "5448  DT @georgegalloway: RT @Galloway4Mayor: ÛÏThe...       1  \n",
              "132   Aftershock back to school kick off was great. ...       0  \n",
              "6845  in response to trauma Children of Addicts deve...       0  "
            ],
            "text/html": [
              "\n",
              "  <div id=\"df-da50b3e6-c9e0-4a60-acb6-31eb93702f7f\">\n",
              "    <div class=\"colab-df-container\">\n",
              "      <div>\n",
              "<style scoped>\n",
              "    .dataframe tbody tr th:only-of-type {\n",
              "        vertical-align: middle;\n",
              "    }\n",
              "\n",
              "    .dataframe tbody tr th {\n",
              "        vertical-align: top;\n",
              "    }\n",
              "\n",
              "    .dataframe thead th {\n",
              "        text-align: right;\n",
              "    }\n",
              "</style>\n",
              "<table border=\"1\" class=\"dataframe\">\n",
              "  <thead>\n",
              "    <tr style=\"text-align: right;\">\n",
              "      <th></th>\n",
              "      <th>id</th>\n",
              "      <th>keyword</th>\n",
              "      <th>location</th>\n",
              "      <th>text</th>\n",
              "      <th>target</th>\n",
              "    </tr>\n",
              "  </thead>\n",
              "  <tbody>\n",
              "    <tr>\n",
              "      <th>2644</th>\n",
              "      <td>3796</td>\n",
              "      <td>destruction</td>\n",
              "      <td>NaN</td>\n",
              "      <td>So you have a new weapon that can cause un-ima...</td>\n",
              "      <td>1</td>\n",
              "    </tr>\n",
              "    <tr>\n",
              "      <th>2227</th>\n",
              "      <td>3185</td>\n",
              "      <td>deluge</td>\n",
              "      <td>NaN</td>\n",
              "      <td>The f$&amp;amp;@ing things I do for #GISHWHES Just...</td>\n",
              "      <td>0</td>\n",
              "    </tr>\n",
              "    <tr>\n",
              "      <th>5448</th>\n",
              "      <td>7769</td>\n",
              "      <td>police</td>\n",
              "      <td>UK</td>\n",
              "      <td>DT @georgegalloway: RT @Galloway4Mayor: ÛÏThe...</td>\n",
              "      <td>1</td>\n",
              "    </tr>\n",
              "    <tr>\n",
              "      <th>132</th>\n",
              "      <td>191</td>\n",
              "      <td>aftershock</td>\n",
              "      <td>NaN</td>\n",
              "      <td>Aftershock back to school kick off was great. ...</td>\n",
              "      <td>0</td>\n",
              "    </tr>\n",
              "    <tr>\n",
              "      <th>6845</th>\n",
              "      <td>9810</td>\n",
              "      <td>trauma</td>\n",
              "      <td>Montgomery County, MD</td>\n",
              "      <td>in response to trauma Children of Addicts deve...</td>\n",
              "      <td>0</td>\n",
              "    </tr>\n",
              "  </tbody>\n",
              "</table>\n",
              "</div>\n",
              "      <button class=\"colab-df-convert\" onclick=\"convertToInteractive('df-da50b3e6-c9e0-4a60-acb6-31eb93702f7f')\"\n",
              "              title=\"Convert this dataframe to an interactive table.\"\n",
              "              style=\"display:none;\">\n",
              "        \n",
              "  <svg xmlns=\"http://www.w3.org/2000/svg\" height=\"24px\"viewBox=\"0 0 24 24\"\n",
              "       width=\"24px\">\n",
              "    <path d=\"M0 0h24v24H0V0z\" fill=\"none\"/>\n",
              "    <path d=\"M18.56 5.44l.94 2.06.94-2.06 2.06-.94-2.06-.94-.94-2.06-.94 2.06-2.06.94zm-11 1L8.5 8.5l.94-2.06 2.06-.94-2.06-.94L8.5 2.5l-.94 2.06-2.06.94zm10 10l.94 2.06.94-2.06 2.06-.94-2.06-.94-.94-2.06-.94 2.06-2.06.94z\"/><path d=\"M17.41 7.96l-1.37-1.37c-.4-.4-.92-.59-1.43-.59-.52 0-1.04.2-1.43.59L10.3 9.45l-7.72 7.72c-.78.78-.78 2.05 0 2.83L4 21.41c.39.39.9.59 1.41.59.51 0 1.02-.2 1.41-.59l7.78-7.78 2.81-2.81c.8-.78.8-2.07 0-2.86zM5.41 20L4 18.59l7.72-7.72 1.47 1.35L5.41 20z\"/>\n",
              "  </svg>\n",
              "      </button>\n",
              "      \n",
              "  <style>\n",
              "    .colab-df-container {\n",
              "      display:flex;\n",
              "      flex-wrap:wrap;\n",
              "      gap: 12px;\n",
              "    }\n",
              "\n",
              "    .colab-df-convert {\n",
              "      background-color: #E8F0FE;\n",
              "      border: none;\n",
              "      border-radius: 50%;\n",
              "      cursor: pointer;\n",
              "      display: none;\n",
              "      fill: #1967D2;\n",
              "      height: 32px;\n",
              "      padding: 0 0 0 0;\n",
              "      width: 32px;\n",
              "    }\n",
              "\n",
              "    .colab-df-convert:hover {\n",
              "      background-color: #E2EBFA;\n",
              "      box-shadow: 0px 1px 2px rgba(60, 64, 67, 0.3), 0px 1px 3px 1px rgba(60, 64, 67, 0.15);\n",
              "      fill: #174EA6;\n",
              "    }\n",
              "\n",
              "    [theme=dark] .colab-df-convert {\n",
              "      background-color: #3B4455;\n",
              "      fill: #D2E3FC;\n",
              "    }\n",
              "\n",
              "    [theme=dark] .colab-df-convert:hover {\n",
              "      background-color: #434B5C;\n",
              "      box-shadow: 0px 1px 3px 1px rgba(0, 0, 0, 0.15);\n",
              "      filter: drop-shadow(0px 1px 2px rgba(0, 0, 0, 0.3));\n",
              "      fill: #FFFFFF;\n",
              "    }\n",
              "  </style>\n",
              "\n",
              "      <script>\n",
              "        const buttonEl =\n",
              "          document.querySelector('#df-da50b3e6-c9e0-4a60-acb6-31eb93702f7f button.colab-df-convert');\n",
              "        buttonEl.style.display =\n",
              "          google.colab.kernel.accessAllowed ? 'block' : 'none';\n",
              "\n",
              "        async function convertToInteractive(key) {\n",
              "          const element = document.querySelector('#df-da50b3e6-c9e0-4a60-acb6-31eb93702f7f');\n",
              "          const dataTable =\n",
              "            await google.colab.kernel.invokeFunction('convertToInteractive',\n",
              "                                                     [key], {});\n",
              "          if (!dataTable) return;\n",
              "\n",
              "          const docLinkHtml = 'Like what you see? Visit the ' +\n",
              "            '<a target=\"_blank\" href=https://colab.research.google.com/notebooks/data_table.ipynb>data table notebook</a>'\n",
              "            + ' to learn more about interactive tables.';\n",
              "          element.innerHTML = '';\n",
              "          dataTable['output_type'] = 'display_data';\n",
              "          await google.colab.output.renderOutput(dataTable, element);\n",
              "          const docLink = document.createElement('div');\n",
              "          docLink.innerHTML = docLinkHtml;\n",
              "          element.appendChild(docLink);\n",
              "        }\n",
              "      </script>\n",
              "    </div>\n",
              "  </div>\n",
              "  "
            ]
          },
          "metadata": {},
          "execution_count": 8
        }
      ]
    },
    {
      "cell_type": "code",
      "source": [
        "#what does the test dataframe look like?\n",
        "test_df.head()"
      ],
      "metadata": {
        "colab": {
          "base_uri": "https://localhost:8080/",
          "height": 206
        },
        "id": "Ng0LWGoc5pK9",
        "outputId": "ef994c04-3afb-4cec-ff41-66ec19d5bf0a"
      },
      "execution_count": 9,
      "outputs": [
        {
          "output_type": "execute_result",
          "data": {
            "text/plain": [
              "   id keyword location                                               text\n",
              "0   0     NaN      NaN                 Just happened a terrible car crash\n",
              "1   2     NaN      NaN  Heard about #earthquake is different cities, s...\n",
              "2   3     NaN      NaN  there is a forest fire at spot pond, geese are...\n",
              "3   9     NaN      NaN           Apocalypse lighting. #Spokane #wildfires\n",
              "4  11     NaN      NaN      Typhoon Soudelor kills 28 in China and Taiwan"
            ],
            "text/html": [
              "\n",
              "  <div id=\"df-8677c1a3-f155-409f-b2eb-93258369cce6\">\n",
              "    <div class=\"colab-df-container\">\n",
              "      <div>\n",
              "<style scoped>\n",
              "    .dataframe tbody tr th:only-of-type {\n",
              "        vertical-align: middle;\n",
              "    }\n",
              "\n",
              "    .dataframe tbody tr th {\n",
              "        vertical-align: top;\n",
              "    }\n",
              "\n",
              "    .dataframe thead th {\n",
              "        text-align: right;\n",
              "    }\n",
              "</style>\n",
              "<table border=\"1\" class=\"dataframe\">\n",
              "  <thead>\n",
              "    <tr style=\"text-align: right;\">\n",
              "      <th></th>\n",
              "      <th>id</th>\n",
              "      <th>keyword</th>\n",
              "      <th>location</th>\n",
              "      <th>text</th>\n",
              "    </tr>\n",
              "  </thead>\n",
              "  <tbody>\n",
              "    <tr>\n",
              "      <th>0</th>\n",
              "      <td>0</td>\n",
              "      <td>NaN</td>\n",
              "      <td>NaN</td>\n",
              "      <td>Just happened a terrible car crash</td>\n",
              "    </tr>\n",
              "    <tr>\n",
              "      <th>1</th>\n",
              "      <td>2</td>\n",
              "      <td>NaN</td>\n",
              "      <td>NaN</td>\n",
              "      <td>Heard about #earthquake is different cities, s...</td>\n",
              "    </tr>\n",
              "    <tr>\n",
              "      <th>2</th>\n",
              "      <td>3</td>\n",
              "      <td>NaN</td>\n",
              "      <td>NaN</td>\n",
              "      <td>there is a forest fire at spot pond, geese are...</td>\n",
              "    </tr>\n",
              "    <tr>\n",
              "      <th>3</th>\n",
              "      <td>9</td>\n",
              "      <td>NaN</td>\n",
              "      <td>NaN</td>\n",
              "      <td>Apocalypse lighting. #Spokane #wildfires</td>\n",
              "    </tr>\n",
              "    <tr>\n",
              "      <th>4</th>\n",
              "      <td>11</td>\n",
              "      <td>NaN</td>\n",
              "      <td>NaN</td>\n",
              "      <td>Typhoon Soudelor kills 28 in China and Taiwan</td>\n",
              "    </tr>\n",
              "  </tbody>\n",
              "</table>\n",
              "</div>\n",
              "      <button class=\"colab-df-convert\" onclick=\"convertToInteractive('df-8677c1a3-f155-409f-b2eb-93258369cce6')\"\n",
              "              title=\"Convert this dataframe to an interactive table.\"\n",
              "              style=\"display:none;\">\n",
              "        \n",
              "  <svg xmlns=\"http://www.w3.org/2000/svg\" height=\"24px\"viewBox=\"0 0 24 24\"\n",
              "       width=\"24px\">\n",
              "    <path d=\"M0 0h24v24H0V0z\" fill=\"none\"/>\n",
              "    <path d=\"M18.56 5.44l.94 2.06.94-2.06 2.06-.94-2.06-.94-.94-2.06-.94 2.06-2.06.94zm-11 1L8.5 8.5l.94-2.06 2.06-.94-2.06-.94L8.5 2.5l-.94 2.06-2.06.94zm10 10l.94 2.06.94-2.06 2.06-.94-2.06-.94-.94-2.06-.94 2.06-2.06.94z\"/><path d=\"M17.41 7.96l-1.37-1.37c-.4-.4-.92-.59-1.43-.59-.52 0-1.04.2-1.43.59L10.3 9.45l-7.72 7.72c-.78.78-.78 2.05 0 2.83L4 21.41c.39.39.9.59 1.41.59.51 0 1.02-.2 1.41-.59l7.78-7.78 2.81-2.81c.8-.78.8-2.07 0-2.86zM5.41 20L4 18.59l7.72-7.72 1.47 1.35L5.41 20z\"/>\n",
              "  </svg>\n",
              "      </button>\n",
              "      \n",
              "  <style>\n",
              "    .colab-df-container {\n",
              "      display:flex;\n",
              "      flex-wrap:wrap;\n",
              "      gap: 12px;\n",
              "    }\n",
              "\n",
              "    .colab-df-convert {\n",
              "      background-color: #E8F0FE;\n",
              "      border: none;\n",
              "      border-radius: 50%;\n",
              "      cursor: pointer;\n",
              "      display: none;\n",
              "      fill: #1967D2;\n",
              "      height: 32px;\n",
              "      padding: 0 0 0 0;\n",
              "      width: 32px;\n",
              "    }\n",
              "\n",
              "    .colab-df-convert:hover {\n",
              "      background-color: #E2EBFA;\n",
              "      box-shadow: 0px 1px 2px rgba(60, 64, 67, 0.3), 0px 1px 3px 1px rgba(60, 64, 67, 0.15);\n",
              "      fill: #174EA6;\n",
              "    }\n",
              "\n",
              "    [theme=dark] .colab-df-convert {\n",
              "      background-color: #3B4455;\n",
              "      fill: #D2E3FC;\n",
              "    }\n",
              "\n",
              "    [theme=dark] .colab-df-convert:hover {\n",
              "      background-color: #434B5C;\n",
              "      box-shadow: 0px 1px 3px 1px rgba(0, 0, 0, 0.15);\n",
              "      filter: drop-shadow(0px 1px 2px rgba(0, 0, 0, 0.3));\n",
              "      fill: #FFFFFF;\n",
              "    }\n",
              "  </style>\n",
              "\n",
              "      <script>\n",
              "        const buttonEl =\n",
              "          document.querySelector('#df-8677c1a3-f155-409f-b2eb-93258369cce6 button.colab-df-convert');\n",
              "        buttonEl.style.display =\n",
              "          google.colab.kernel.accessAllowed ? 'block' : 'none';\n",
              "\n",
              "        async function convertToInteractive(key) {\n",
              "          const element = document.querySelector('#df-8677c1a3-f155-409f-b2eb-93258369cce6');\n",
              "          const dataTable =\n",
              "            await google.colab.kernel.invokeFunction('convertToInteractive',\n",
              "                                                     [key], {});\n",
              "          if (!dataTable) return;\n",
              "\n",
              "          const docLinkHtml = 'Like what you see? Visit the ' +\n",
              "            '<a target=\"_blank\" href=https://colab.research.google.com/notebooks/data_table.ipynb>data table notebook</a>'\n",
              "            + ' to learn more about interactive tables.';\n",
              "          element.innerHTML = '';\n",
              "          dataTable['output_type'] = 'display_data';\n",
              "          await google.colab.output.renderOutput(dataTable, element);\n",
              "          const docLink = document.createElement('div');\n",
              "          docLink.innerHTML = docLinkHtml;\n",
              "          element.appendChild(docLink);\n",
              "        }\n",
              "      </script>\n",
              "    </div>\n",
              "  </div>\n",
              "  "
            ]
          },
          "metadata": {},
          "execution_count": 9
        }
      ]
    },
    {
      "cell_type": "code",
      "source": [
        "#how many examples of each class?\n",
        "train_df.target.value_counts()"
      ],
      "metadata": {
        "colab": {
          "base_uri": "https://localhost:8080/"
        },
        "id": "Lx6j9C2552Bo",
        "outputId": "188ee78e-f50a-43a8-a03b-8c03c3233733"
      },
      "execution_count": 10,
      "outputs": [
        {
          "output_type": "execute_result",
          "data": {
            "text/plain": [
              "0    4342\n",
              "1    3271\n",
              "Name: target, dtype: int64"
            ]
          },
          "metadata": {},
          "execution_count": 10
        }
      ]
    },
    {
      "cell_type": "code",
      "source": [
        "#how many total samples?\n",
        "len(train_df), len(test_df)"
      ],
      "metadata": {
        "colab": {
          "base_uri": "https://localhost:8080/"
        },
        "id": "WADjZFYB5_JL",
        "outputId": "f641d45b-7197-464c-ae6b-c3d9acaecd3c"
      },
      "execution_count": 11,
      "outputs": [
        {
          "output_type": "execute_result",
          "data": {
            "text/plain": [
              "(7613, 3263)"
            ]
          },
          "metadata": {},
          "execution_count": 11
        }
      ]
    },
    {
      "cell_type": "code",
      "source": [
        "#Let's visualize some random training examples\n",
        "import random\n",
        "random_index = random.randint(0, len(train_df)-5) #create random indexes not higher than the total number of samples\n",
        "for row in train_df_shuffled[[\"text\", \"target\"]][random_index:random_index + 5].itertuples():\n",
        "  _, text, target = row\n",
        "  print(f\"target: {target}\", \"(real_disaster)\" if target > 0 else \"(not real disaster)\")\n",
        "  print(f\"Text:\\n {text}\\n\")\n",
        "  print(\"-----\\n\")"
      ],
      "metadata": {
        "colab": {
          "base_uri": "https://localhost:8080/"
        },
        "id": "YYYTMs9W6d_v",
        "outputId": "02efdae0-05d7-4b8d-ddc1-c92a18f62d92"
      },
      "execution_count": 12,
      "outputs": [
        {
          "output_type": "stream",
          "name": "stdout",
          "text": [
            "target: 1 (real_disaster)\n",
            "Text:\n",
            " Pakistan Supreme Court endorses military courts for terrorism cases http://t.co/sZeapuEuvy\n",
            "\n",
            "-----\n",
            "\n",
            "target: 0 (not real disaster)\n",
            "Text:\n",
            " @DevinJoslyn thunder and lighting ????\n",
            "\n",
            "-----\n",
            "\n",
            "target: 1 (real_disaster)\n",
            "Text:\n",
            " If you did a cannon ball into the ocean then Japan would evacuate.\n",
            "\n",
            "-----\n",
            "\n",
            "target: 1 (real_disaster)\n",
            "Text:\n",
            " @Ashayo @MsMiggi Hi Ashayo! I believe there will be VODs on YouTube after the presentation but there is nothing like seeing it live :)\n",
            "\n",
            "-----\n",
            "\n",
            "target: 1 (real_disaster)\n",
            "Text:\n",
            " A poignant reminder that in war there are many casualties. http://t.co/Mwmt3BdR5L\n",
            "\n",
            "-----\n",
            "\n"
          ]
        }
      ]
    },
    {
      "cell_type": "markdown",
      "source": [
        "### Split data in training and validation data sets"
      ],
      "metadata": {
        "id": "kSkyJjn_7-hi"
      }
    },
    {
      "cell_type": "code",
      "source": [
        "from sklearn.model_selection import train_test_split\n",
        "\n"
      ],
      "metadata": {
        "id": "nhx2kgo6_5i-"
      },
      "execution_count": 13,
      "outputs": []
    },
    {
      "cell_type": "code",
      "source": [
        "from traitlets import Sentinel\n",
        "#use train test split to split training data into training and valiation sets\n",
        "\n",
        "train_sentences, val_sentences, train_labels, val_labels = train_test_split(train_df_shuffled[\"text\"].to_numpy(),\n",
        "                                                                            train_df_shuffled[\"target\"].to_numpy(),\n",
        "                                                                            test_size = 0.1, #use 10% of training data for valiation split\n",
        "                                                                            random_state = 42)"
      ],
      "metadata": {
        "id": "8mh2RFTFAICU"
      },
      "execution_count": 14,
      "outputs": []
    },
    {
      "cell_type": "code",
      "source": [
        "#check the len of our dataset\n",
        "len(train_sentences), len(train_labels), len(val_sentences), len(val_labels)"
      ],
      "metadata": {
        "colab": {
          "base_uri": "https://localhost:8080/"
        },
        "id": "iHOx_sdRAy7P",
        "outputId": "e592e494-b048-4505-c5da-8a88bd6a427c"
      },
      "execution_count": 15,
      "outputs": [
        {
          "output_type": "execute_result",
          "data": {
            "text/plain": [
              "(6851, 6851, 762, 762)"
            ]
          },
          "metadata": {},
          "execution_count": 15
        }
      ]
    },
    {
      "cell_type": "code",
      "source": [
        "#check the first 10 samples\n",
        "train_sentences[:10], train_labels[:10]"
      ],
      "metadata": {
        "colab": {
          "base_uri": "https://localhost:8080/"
        },
        "id": "YP69GwmFBC5x",
        "outputId": "e8eb562b-afb2-4c32-8e8d-33abf153f8c1"
      },
      "execution_count": 16,
      "outputs": [
        {
          "output_type": "execute_result",
          "data": {
            "text/plain": [
              "(array(['@mogacola @zamtriossu i screamed after hitting tweet',\n",
              "        'Imagine getting flattened by Kurt Zouma',\n",
              "        '@Gurmeetramrahim #MSGDoing111WelfareWorks Green S welfare force ke appx 65000 members har time disaster victim ki help ke liye tyar hai....',\n",
              "        \"@shakjn @C7 @Magnums im shaking in fear he's gonna hack the planet\",\n",
              "        'Somehow find you and I collide http://t.co/Ee8RpOahPk',\n",
              "        '@EvaHanderek @MarleyKnysh great times until the bus driver held us hostage in the mall parking lot lmfao',\n",
              "        'destroy the free fandom honestly',\n",
              "        'Weapons stolen from National Guard Armory in New Albany still missing #Gunsense http://t.co/lKNU8902JE',\n",
              "        '@wfaaweather Pete when will the heat wave pass? Is it really going to be mid month? Frisco Boy Scouts have a canoe trip in Okla.',\n",
              "        'Patient-reported outcomes in long-term survivors of metastatic colorectal cancer - British Journal of Surgery http://t.co/5Yl4DC1Tqt'],\n",
              "       dtype=object),\n",
              " array([0, 0, 1, 0, 0, 1, 1, 0, 1, 1]))"
            ]
          },
          "metadata": {},
          "execution_count": 16
        }
      ]
    },
    {
      "cell_type": "markdown",
      "source": [
        "### Converting text into numbers\n",
        "When dealing with text problem, one of the first thing you have to do before you can build a model, is to convert your text to numbers.\n",
        "\n",
        "There are several ways to do this, namely:\n",
        "* Tokenization - direct mapping of token ( a token could be a word or a character) to number\n",
        "* Embedding - create a matrix of feature vector for each token (the size of the feature vector can be defined and this embedding can be learned)"
      ],
      "metadata": {
        "id": "KzwRd8bJBRcj"
      }
    },
    {
      "cell_type": "markdown",
      "source": [
        "### Text vectorization (tokenization)"
      ],
      "metadata": {
        "id": "qBU22TrAEj5H"
      }
    },
    {
      "cell_type": "code",
      "source": [
        "train_sentences[:5]"
      ],
      "metadata": {
        "colab": {
          "base_uri": "https://localhost:8080/"
        },
        "id": "E1OpV5YNfhBz",
        "outputId": "5dac23ad-0e4e-4777-c57e-254ac6141bd9"
      },
      "execution_count": 17,
      "outputs": [
        {
          "output_type": "execute_result",
          "data": {
            "text/plain": [
              "array(['@mogacola @zamtriossu i screamed after hitting tweet',\n",
              "       'Imagine getting flattened by Kurt Zouma',\n",
              "       '@Gurmeetramrahim #MSGDoing111WelfareWorks Green S welfare force ke appx 65000 members har time disaster victim ki help ke liye tyar hai....',\n",
              "       \"@shakjn @C7 @Magnums im shaking in fear he's gonna hack the planet\",\n",
              "       'Somehow find you and I collide http://t.co/Ee8RpOahPk'],\n",
              "      dtype=object)"
            ]
          },
          "metadata": {},
          "execution_count": 17
        }
      ]
    },
    {
      "cell_type": "code",
      "source": [],
      "metadata": {
        "id": "NZEOKfe1b7Jo"
      },
      "execution_count": 17,
      "outputs": []
    },
    {
      "cell_type": "code",
      "source": [
        "import tensorflow as tf\n",
        "from tensorflow.keras.layers import TextVectorization\n",
        "\n",
        "\n",
        "#Use the default TextVetorization parameters\n",
        "text_vectorizer = TextVectorization(max_tokens = 10000, #how many words in our vocabulary (automatically add <OOV> (out of vocabulary))\n",
        "                                    standardize = \"lower_and_strip_punctuation\",\n",
        "                                    split = \"whitespace\",\n",
        "                                    ngrams = None, #create groups of n-words?\n",
        "                                    output_mode = \"int\",#how to map tokens to number\n",
        "                                    output_sequence_length = None, #how long do you want your sequences to be\n",
        "                                    pad_to_max_tokens = True)\n"
      ],
      "metadata": {
        "id": "QUBM3hxKfi4c"
      },
      "execution_count": 18,
      "outputs": []
    },
    {
      "cell_type": "code",
      "source": [
        "len(train_sentences[0].split())"
      ],
      "metadata": {
        "colab": {
          "base_uri": "https://localhost:8080/"
        },
        "id": "56PWRt8pj4jU",
        "outputId": "64267b12-d055-44f2-e808-60728b360062"
      },
      "execution_count": 19,
      "outputs": [
        {
          "output_type": "execute_result",
          "data": {
            "text/plain": [
              "7"
            ]
          },
          "metadata": {},
          "execution_count": 19
        }
      ]
    },
    {
      "cell_type": "code",
      "source": [
        "#find the average number of tokens (words) in the training tweets\n",
        "round(sum([len(i.split()) for i in train_sentences])/len(train_sentences))"
      ],
      "metadata": {
        "id": "zNAQSILWftrG",
        "colab": {
          "base_uri": "https://localhost:8080/"
        },
        "outputId": "13bcab87-bddf-4066-8e20-2a3f366e0009"
      },
      "execution_count": 20,
      "outputs": [
        {
          "output_type": "execute_result",
          "data": {
            "text/plain": [
              "15"
            ]
          },
          "metadata": {},
          "execution_count": 20
        }
      ]
    },
    {
      "cell_type": "code",
      "source": [
        "#setup text vectorization variables\n",
        "max_vocab_length = 10000 #max number of words to have in our vocabulary\n",
        "max_length = 15 # max length our sequences will be (e.g. how many owrds from a tweet does a model see?)\n",
        "\n",
        "text_vectorizer = TextVectorization(max_tokens= max_vocab_length,\n",
        "                                       output_mode = \"int\",\n",
        "                                       output_sequence_length = max_length)"
      ],
      "metadata": {
        "id": "V9PfjJtgcllO"
      },
      "execution_count": 21,
      "outputs": []
    },
    {
      "cell_type": "code",
      "source": [
        "#fit the text vectorizer to the training text\n",
        "text_vectorizer.adapt(train_sentences)"
      ],
      "metadata": {
        "id": "yif1IDweknYD"
      },
      "execution_count": 22,
      "outputs": []
    },
    {
      "cell_type": "code",
      "source": [
        "#create a sample sentence and tokenize it \n",
        "sample_sentence = \"there's a flood in my street!\"\n",
        "\n",
        "text_vectorizer([sample_sentence])"
      ],
      "metadata": {
        "colab": {
          "base_uri": "https://localhost:8080/"
        },
        "id": "YQncVh4PBq4P",
        "outputId": "5cb81ea7-87d5-45df-a21e-223a08116d7d"
      },
      "execution_count": 23,
      "outputs": [
        {
          "output_type": "execute_result",
          "data": {
            "text/plain": [
              "<tf.Tensor: shape=(1, 15), dtype=int64, numpy=\n",
              "array([[264,   3, 232,   4,  13, 698,   0,   0,   0,   0,   0,   0,   0,\n",
              "          0,   0]])>"
            ]
          },
          "metadata": {},
          "execution_count": 23
        }
      ]
    },
    {
      "cell_type": "code",
      "source": [
        "#Choose a random sentence from the training  dataset and tokenize it\n",
        "random_sentence = random.choice(train_sentences)\n",
        "print(f\"Original text:\\n {random_sentence}\\\n",
        "        n\\n\\nVectorized version:\")\n",
        "\n",
        "text_vectorizer([random_sentence])"
      ],
      "metadata": {
        "colab": {
          "base_uri": "https://localhost:8080/"
        },
        "id": "YvFgmgFLDtqP",
        "outputId": "dfe5b1ee-b903-4e7e-c3fb-515aef321f77"
      },
      "execution_count": 24,
      "outputs": [
        {
          "output_type": "stream",
          "name": "stdout",
          "text": [
            "Original text:\n",
            " #NowPlaying: Rene Ablaze &amp; Ian Buff - Magnitude http://t.co/Av2JSjfFtc  #EDM        n\n",
            "\n",
            "Vectorized version:\n"
          ]
        },
        {
          "output_type": "execute_result",
          "data": {
            "text/plain": [
              "<tf.Tensor: shape=(1, 15), dtype=int64, numpy=\n",
              "array([[ 619, 9194,  715,   35, 3756,    1,    1,    1, 1685,    0,    0,\n",
              "           0,    0,    0,    0]])>"
            ]
          },
          "metadata": {},
          "execution_count": 24
        }
      ]
    },
    {
      "cell_type": "code",
      "source": [
        "#get the unique words in to vocabulary \n",
        "words_in_vocab = text_vectorizer.get_vocabulary()\n",
        "top_5_words = words_in_vocab[:5] # get the most common words\n",
        "bottom_5_words = words_in_vocab[-5:] #get the least common words\n",
        "print(f\"number of words in vocab: {len(words_in_vocab)}\")\n",
        "print(f\"5 most common words: {top_5_words}\")\n",
        "print(f\"5 least common words: {bottom_5_words}\")"
      ],
      "metadata": {
        "colab": {
          "base_uri": "https://localhost:8080/"
        },
        "id": "gUIuKg0OE8YT",
        "outputId": "faaf963b-2303-4abc-8fdf-75f6832bd4b4"
      },
      "execution_count": 25,
      "outputs": [
        {
          "output_type": "stream",
          "name": "stdout",
          "text": [
            "number of words in vocab: 10000\n",
            "5 most common words: ['', '[UNK]', 'the', 'a', 'in']\n",
            "5 least common words: ['pages', 'paeds', 'pads', 'padres', 'paddytomlinson1']\n"
          ]
        }
      ]
    },
    {
      "cell_type": "markdown",
      "source": [
        "### Creating an Embedding using an Embedding layer\n",
        "\n",
        "To make our embedding, we're going to use TensorFlow's embedding layer:\n",
        "\n",
        "The parameters we care most about for our embedding layer:\n",
        "* `input_dim` - the size of our vocabulary\n",
        "* `output_dim` - the size of the output embedding vector, for example, a value of 100 would mean each token gets represented by a vector 100 long\n",
        "*`input_length` - length of the sequences being passed to the embedding layer\n"
      ],
      "metadata": {
        "id": "vbhbaZUBGLky"
      }
    },
    {
      "cell_type": "code",
      "source": [
        "from tensorflow.keras import layers\n",
        "\n",
        "embedding = layers.Embedding(input_dim = max_vocab_length,#set input shape\n",
        "                             output_dim = 128, #output shape\n",
        "                             embeddings_initializer = \"uniform\",\n",
        "                             input_length = max_length, #how long is each input\n",
        "                             )\n",
        "\n",
        "embedding"
      ],
      "metadata": {
        "colab": {
          "base_uri": "https://localhost:8080/"
        },
        "id": "x9oWvLqbJrWi",
        "outputId": "f087a9a7-b6cb-4589-a6ae-4234de9b912a"
      },
      "execution_count": 26,
      "outputs": [
        {
          "output_type": "execute_result",
          "data": {
            "text/plain": [
              "<keras.layers.embeddings.Embedding at 0x7fa25b073850>"
            ]
          },
          "metadata": {},
          "execution_count": 26
        }
      ]
    },
    {
      "cell_type": "code",
      "source": [
        "#get random sentence from the training set\n",
        "random_sentence = random.choice(train_sentences)\n",
        "print(f\"Original text:\\n {random_sentence}\\\n",
        "n\\n\\nEmbedded version:\")\n",
        "\n",
        "#Embed the random sentence (turn it into dense vectors of fixed size)\n",
        "sample_embed = embedding(text_vectorizer([random_sentence]))\n",
        "sample_embed"
      ],
      "metadata": {
        "colab": {
          "base_uri": "https://localhost:8080/"
        },
        "id": "-f3PgVlVKUjZ",
        "outputId": "e941e95c-6676-442c-9758-e7a813f241b2"
      },
      "execution_count": 27,
      "outputs": [
        {
          "output_type": "stream",
          "name": "stdout",
          "text": [
            "Original text:\n",
            " Read this already in '14 but it was and remains one of my favorite articles ever. ?'LetÛªs Like Demolish Laundry'? http://t.co/6suPThAecen\n",
            "\n",
            "Embedded version:\n"
          ]
        },
        {
          "output_type": "execute_result",
          "data": {
            "text/plain": [
              "<tf.Tensor: shape=(1, 15, 128), dtype=float32, numpy=\n",
              "array([[[-0.03845122, -0.00355594,  0.00572335, ...,  0.03170886,\n",
              "         -0.03150104, -0.04544305],\n",
              "        [-0.00168312,  0.01049798,  0.0039989 , ...,  0.02996281,\n",
              "          0.03589297,  0.020037  ],\n",
              "        [-0.03019117,  0.02163638,  0.0336324 , ...,  0.04122882,\n",
              "          0.0331236 ,  0.04464301],\n",
              "        ...,\n",
              "        [ 0.01031431,  0.01963884, -0.02298168, ...,  0.02059278,\n",
              "          0.0474578 ,  0.02610344],\n",
              "        [-0.01111786,  0.04264536,  0.00262464, ...,  0.04749422,\n",
              "         -0.0012529 , -0.0335984 ],\n",
              "        [ 0.02981189, -0.03757966,  0.04628992, ..., -0.03541394,\n",
              "          0.01678521,  0.00484395]]], dtype=float32)>"
            ]
          },
          "metadata": {},
          "execution_count": 27
        }
      ]
    },
    {
      "cell_type": "code",
      "source": [
        "#checkout a  single token's embedding\n",
        "sample_embed[0][0], sample_embed[0][0].shape, random_sentence"
      ],
      "metadata": {
        "colab": {
          "base_uri": "https://localhost:8080/"
        },
        "id": "yzXGc7UyK7IG",
        "outputId": "67adec2d-b385-4fbf-b660-87237ccf6f4d"
      },
      "execution_count": 28,
      "outputs": [
        {
          "output_type": "execute_result",
          "data": {
            "text/plain": [
              "(<tf.Tensor: shape=(128,), dtype=float32, numpy=\n",
              " array([-0.03845122, -0.00355594,  0.00572335,  0.04781613, -0.0119669 ,\n",
              "         0.04361041,  0.02649801,  0.00286782, -0.04671376, -0.03889444,\n",
              "        -0.02328366,  0.01539352, -0.03208818,  0.04667247, -0.01457121,\n",
              "         0.00547035, -0.00700669, -0.02681923,  0.03086759,  0.00227248,\n",
              "        -0.04551278,  0.00763507, -0.02979583,  0.01893545,  0.04791132,\n",
              "         0.01565591, -0.03086693, -0.04403352, -0.03667455, -0.00190981,\n",
              "         0.04775231,  0.00321341, -0.002163  ,  0.02195938, -0.00900586,\n",
              "        -0.00049802, -0.00644641,  0.04398277,  0.0052228 , -0.04490038,\n",
              "        -0.04338304, -0.048602  ,  0.03825244,  0.04883078,  0.04705664,\n",
              "        -0.01500915, -0.01922139, -0.02741241, -0.04670012,  0.01947763,\n",
              "         0.02204497, -0.04784107, -0.01484529, -0.02433218, -0.01400982,\n",
              "        -0.00077996,  0.01621225, -0.04261761, -0.01231502,  0.02296868,\n",
              "         0.04970378,  0.00489705,  0.04736261,  0.00133768,  0.03247828,\n",
              "         0.0073287 , -0.01624812, -0.00555063, -0.03597256,  0.04868057,\n",
              "        -0.01834814, -0.02130988,  0.0017784 , -0.04562071,  0.00734144,\n",
              "         0.02491428, -0.00706693, -0.01551682,  0.02470013,  0.04624523,\n",
              "        -0.00826306,  0.00487256, -0.04892681,  0.03648068,  0.03464426,\n",
              "        -0.00547697, -0.0162339 ,  0.04539542, -0.0173942 , -0.04552702,\n",
              "        -0.02827933,  0.0318885 , -0.03568605, -0.0235076 ,  0.04302892,\n",
              "         0.01315032,  0.02637431, -0.0079441 ,  0.00323278, -0.00808301,\n",
              "        -0.01123776, -0.01911706,  0.01408397,  0.00827849,  0.0171003 ,\n",
              "        -0.03194042,  0.01831136,  0.01950461, -0.03196093,  0.04131344,\n",
              "         0.02356527, -0.03421324, -0.01861084,  0.01303789,  0.01129315,\n",
              "         0.04284097, -0.03046306, -0.00260251,  0.03828901,  0.00871167,\n",
              "        -0.03416391,  0.02319742,  0.03751043, -0.03050131, -0.02343654,\n",
              "         0.03170886, -0.03150104, -0.04544305], dtype=float32)>,\n",
              " TensorShape([128]),\n",
              " \"Read this already in '14 but it was and remains one of my favorite articles ever. ?'Let\\x89Ûªs Like Demolish Laundry'? http://t.co/6suPThAece\")"
            ]
          },
          "metadata": {},
          "execution_count": 28
        }
      ]
    },
    {
      "cell_type": "markdown",
      "source": [
        "## Modelling a text dataset (running a serie of experiments)\n",
        "\n",
        "Now we've got a way to turn our text sequences into numbers, it's time to start bulding a series of modelling experiments.\n",
        "\n",
        "we'll start with a baseline and move on from there.\n",
        "\n",
        "* Model 0: Naive Bayes (baseline), this is from sklearn ML map\n",
        "* Model 1: Feed-forward neural network (dense model)\n",
        "* Model 2: LSTM model (RNN)\n",
        "* Model 3: GRU model (RNN)\n",
        "* Model 4: Bidirectional-LSTM model (RNN)\n",
        "* Model 5: 1D Convolutional Neural Network (CNN)\n",
        "* Model 6: Tensorflow Hub Pretrained Feature Extractor (using transfer learning for NLP)\n",
        "* Model 7: Same as model 6 with 10% of training data\n",
        "\n",
        "How are we going to approach all of these?\n",
        "\n",
        "Use the standard steps in modelling with tensorflow:\n",
        "\n",
        "* Create a model\n",
        "* Build a model\n",
        "* Fit a model\n",
        "* Evaluate our model"
      ],
      "metadata": {
        "id": "5BaSeymmLkls"
      }
    },
    {
      "cell_type": "markdown",
      "source": [
        "### Model 0: Getting a baseline\n",
        "\n",
        "as with all machine learning modelling experiments, it's important to create a baseline model so you got a benchmark for future experiments to build upon\n",
        "\n",
        "To create our baseline we'll Sklearn's Multinomial Naive Bayes using the TF-IDF formula to convert our words to number\n",
        "\n",
        "> **note:** it's common pratice to use non-DL algorithms as a baseline because of their speed and then later using DL to see if you can improve upon them\n"
      ],
      "metadata": {
        "id": "xi09WbdoT6wF"
      }
    },
    {
      "cell_type": "code",
      "source": [
        "from sklearn.feature_extraction.text import TfidfVectorizer\n",
        "from sklearn.naive_bayes import MultinomialNB\n",
        "from sklearn.pipeline import Pipeline\n",
        "\n",
        "# Create tokenization and modelling Pipeline\n",
        "\n",
        "model_0 = Pipeline([\n",
        "    (\"tfidf\", TfidfVectorizer()), #convert words to numbers using tfidf\n",
        "    (\"clf\", MultinomialNB()) #model the text\n",
        "])\n",
        "\n",
        "#fit the pipeline to the training data\n",
        "model_0.fit(train_sentences, train_labels)"
      ],
      "metadata": {
        "colab": {
          "base_uri": "https://localhost:8080/",
          "height": 125
        },
        "id": "d_sZGiEAVZqh",
        "outputId": "90e6855b-ea3a-45e5-a2d8-00cd5fec4732"
      },
      "execution_count": 29,
      "outputs": [
        {
          "output_type": "execute_result",
          "data": {
            "text/plain": [
              "Pipeline(steps=[('tfidf', TfidfVectorizer()), ('clf', MultinomialNB())])"
            ],
            "text/html": [
              "<style>#sk-container-id-1 {color: black;background-color: white;}#sk-container-id-1 pre{padding: 0;}#sk-container-id-1 div.sk-toggleable {background-color: white;}#sk-container-id-1 label.sk-toggleable__label {cursor: pointer;display: block;width: 100%;margin-bottom: 0;padding: 0.3em;box-sizing: border-box;text-align: center;}#sk-container-id-1 label.sk-toggleable__label-arrow:before {content: \"▸\";float: left;margin-right: 0.25em;color: #696969;}#sk-container-id-1 label.sk-toggleable__label-arrow:hover:before {color: black;}#sk-container-id-1 div.sk-estimator:hover label.sk-toggleable__label-arrow:before {color: black;}#sk-container-id-1 div.sk-toggleable__content {max-height: 0;max-width: 0;overflow: hidden;text-align: left;background-color: #f0f8ff;}#sk-container-id-1 div.sk-toggleable__content pre {margin: 0.2em;color: black;border-radius: 0.25em;background-color: #f0f8ff;}#sk-container-id-1 input.sk-toggleable__control:checked~div.sk-toggleable__content {max-height: 200px;max-width: 100%;overflow: auto;}#sk-container-id-1 input.sk-toggleable__control:checked~label.sk-toggleable__label-arrow:before {content: \"▾\";}#sk-container-id-1 div.sk-estimator input.sk-toggleable__control:checked~label.sk-toggleable__label {background-color: #d4ebff;}#sk-container-id-1 div.sk-label input.sk-toggleable__control:checked~label.sk-toggleable__label {background-color: #d4ebff;}#sk-container-id-1 input.sk-hidden--visually {border: 0;clip: rect(1px 1px 1px 1px);clip: rect(1px, 1px, 1px, 1px);height: 1px;margin: -1px;overflow: hidden;padding: 0;position: absolute;width: 1px;}#sk-container-id-1 div.sk-estimator {font-family: monospace;background-color: #f0f8ff;border: 1px dotted black;border-radius: 0.25em;box-sizing: border-box;margin-bottom: 0.5em;}#sk-container-id-1 div.sk-estimator:hover {background-color: #d4ebff;}#sk-container-id-1 div.sk-parallel-item::after {content: \"\";width: 100%;border-bottom: 1px solid gray;flex-grow: 1;}#sk-container-id-1 div.sk-label:hover label.sk-toggleable__label {background-color: #d4ebff;}#sk-container-id-1 div.sk-serial::before {content: \"\";position: absolute;border-left: 1px solid gray;box-sizing: border-box;top: 0;bottom: 0;left: 50%;z-index: 0;}#sk-container-id-1 div.sk-serial {display: flex;flex-direction: column;align-items: center;background-color: white;padding-right: 0.2em;padding-left: 0.2em;position: relative;}#sk-container-id-1 div.sk-item {position: relative;z-index: 1;}#sk-container-id-1 div.sk-parallel {display: flex;align-items: stretch;justify-content: center;background-color: white;position: relative;}#sk-container-id-1 div.sk-item::before, #sk-container-id-1 div.sk-parallel-item::before {content: \"\";position: absolute;border-left: 1px solid gray;box-sizing: border-box;top: 0;bottom: 0;left: 50%;z-index: -1;}#sk-container-id-1 div.sk-parallel-item {display: flex;flex-direction: column;z-index: 1;position: relative;background-color: white;}#sk-container-id-1 div.sk-parallel-item:first-child::after {align-self: flex-end;width: 50%;}#sk-container-id-1 div.sk-parallel-item:last-child::after {align-self: flex-start;width: 50%;}#sk-container-id-1 div.sk-parallel-item:only-child::after {width: 0;}#sk-container-id-1 div.sk-dashed-wrapped {border: 1px dashed gray;margin: 0 0.4em 0.5em 0.4em;box-sizing: border-box;padding-bottom: 0.4em;background-color: white;}#sk-container-id-1 div.sk-label label {font-family: monospace;font-weight: bold;display: inline-block;line-height: 1.2em;}#sk-container-id-1 div.sk-label-container {text-align: center;}#sk-container-id-1 div.sk-container {/* jupyter's `normalize.less` sets `[hidden] { display: none; }` but bootstrap.min.css set `[hidden] { display: none !important; }` so we also need the `!important` here to be able to override the default hidden behavior on the sphinx rendered scikit-learn.org. See: https://github.com/scikit-learn/scikit-learn/issues/21755 */display: inline-block !important;position: relative;}#sk-container-id-1 div.sk-text-repr-fallback {display: none;}</style><div id=\"sk-container-id-1\" class=\"sk-top-container\"><div class=\"sk-text-repr-fallback\"><pre>Pipeline(steps=[(&#x27;tfidf&#x27;, TfidfVectorizer()), (&#x27;clf&#x27;, MultinomialNB())])</pre><b>In a Jupyter environment, please rerun this cell to show the HTML representation or trust the notebook. <br />On GitHub, the HTML representation is unable to render, please try loading this page with nbviewer.org.</b></div><div class=\"sk-container\" hidden><div class=\"sk-item sk-dashed-wrapped\"><div class=\"sk-label-container\"><div class=\"sk-label sk-toggleable\"><input class=\"sk-toggleable__control sk-hidden--visually\" id=\"sk-estimator-id-1\" type=\"checkbox\" ><label for=\"sk-estimator-id-1\" class=\"sk-toggleable__label sk-toggleable__label-arrow\">Pipeline</label><div class=\"sk-toggleable__content\"><pre>Pipeline(steps=[(&#x27;tfidf&#x27;, TfidfVectorizer()), (&#x27;clf&#x27;, MultinomialNB())])</pre></div></div></div><div class=\"sk-serial\"><div class=\"sk-item\"><div class=\"sk-estimator sk-toggleable\"><input class=\"sk-toggleable__control sk-hidden--visually\" id=\"sk-estimator-id-2\" type=\"checkbox\" ><label for=\"sk-estimator-id-2\" class=\"sk-toggleable__label sk-toggleable__label-arrow\">TfidfVectorizer</label><div class=\"sk-toggleable__content\"><pre>TfidfVectorizer()</pre></div></div></div><div class=\"sk-item\"><div class=\"sk-estimator sk-toggleable\"><input class=\"sk-toggleable__control sk-hidden--visually\" id=\"sk-estimator-id-3\" type=\"checkbox\" ><label for=\"sk-estimator-id-3\" class=\"sk-toggleable__label sk-toggleable__label-arrow\">MultinomialNB</label><div class=\"sk-toggleable__content\"><pre>MultinomialNB()</pre></div></div></div></div></div></div></div>"
            ]
          },
          "metadata": {},
          "execution_count": 29
        }
      ]
    },
    {
      "cell_type": "code",
      "source": [
        "#Evaluate our baseline model\n",
        "\n",
        "baseline_score = model_0.score(val_sentences, val_labels)\n",
        "print(f\"Our baseline model achieves an accuracy of: {baseline_score*100:.2f} \")"
      ],
      "metadata": {
        "colab": {
          "base_uri": "https://localhost:8080/"
        },
        "id": "4oA0lOXnWr3k",
        "outputId": "89de233a-a9c1-442e-eeb4-3e5101f0466e"
      },
      "execution_count": 30,
      "outputs": [
        {
          "output_type": "stream",
          "name": "stdout",
          "text": [
            "Our baseline model achieves an accuracy of: 79.27 \n"
          ]
        }
      ]
    },
    {
      "cell_type": "code",
      "source": [
        "#make predictions\n",
        "baseline_preds = model_0.predict(val_sentences)\n",
        "baseline_preds[:20]"
      ],
      "metadata": {
        "colab": {
          "base_uri": "https://localhost:8080/"
        },
        "id": "9jTXc7CqW-zT",
        "outputId": "588ce592-ff62-4e3a-eea0-b1efdededc87"
      },
      "execution_count": 31,
      "outputs": [
        {
          "output_type": "execute_result",
          "data": {
            "text/plain": [
              "array([1, 1, 1, 0, 0, 1, 1, 1, 1, 0, 0, 1, 0, 0, 0, 0, 0, 0, 0, 1])"
            ]
          },
          "metadata": {},
          "execution_count": 31
        }
      ]
    },
    {
      "cell_type": "markdown",
      "source": [
        "from pandas.core.arrays.timedeltas import precision_from_unit\n",
        "### Creating an evaluation function for our model experiments\n",
        "\n",
        "We could evaluate all of our model's predictions with different metrics every time, however, this will be cumbersome and could easily be fixed with a function\n",
        "\n",
        "Let's create one to compare our model predictions with the truth labels using the following metrics\n",
        "\n",
        "* accuracy\n",
        "* precision\n",
        "* recall\n",
        "* f1-score\n",
        "\n",
        "for a deep overview of many different evaluation methods, see the Sklearn documentation:"
      ],
      "metadata": {
        "id": "dGzSxFF_XAmc"
      }
    },
    {
      "cell_type": "code",
      "source": [
        "# Function to evaluate: accuracy, precision, recall, f1-score\n",
        "\n",
        "from sklearn.metrics import  accuracy_score, precision_recall_fscore_support\n",
        "\n",
        "def calculate_results(y_true, y_pred):\n",
        "  \"\"\"\n",
        "  Calculate model accuracy, precision, recall and f1 score of a binary classification model\n",
        "\n",
        "  \n",
        "  \"\"\"\n",
        "\n",
        "  #calculate model accuracy\n",
        "  model_accuracy = accuracy_score(y_true, y_pred) * 100\n",
        "\n",
        "  #calculate model precision, recall and f1-score using \"weighted\" average\n",
        "  model_precision, model_recall, model_f1, _ = precision_recall_fscore_support(y_true, y_pred, average = \"weighted\")\n",
        "  model_results = {\"accuracy\": model_accuracy,\n",
        "                   \"precision\": model_precision,\n",
        "                   \"recall\": model_recall,\n",
        "                   \"f1\": model_f1}\n",
        "\n",
        "  return model_results"
      ],
      "metadata": {
        "id": "ytG_Z5FJZfIk"
      },
      "execution_count": 32,
      "outputs": []
    },
    {
      "cell_type": "code",
      "source": [
        "#get baseline results\n",
        "baseline_results = calculate_results(y_true = val_labels,\n",
        "                                     y_pred = baseline_preds)\n",
        "\n",
        "baseline_results"
      ],
      "metadata": {
        "colab": {
          "base_uri": "https://localhost:8080/"
        },
        "id": "0eyUPumDch0F",
        "outputId": "eccc2865-1e46-4315-bce8-0ab79a7c691d"
      },
      "execution_count": 33,
      "outputs": [
        {
          "output_type": "execute_result",
          "data": {
            "text/plain": [
              "{'accuracy': 79.26509186351706,\n",
              " 'precision': 0.8111390004213173,\n",
              " 'recall': 0.7926509186351706,\n",
              " 'f1': 0.7862189758049549}"
            ]
          },
          "metadata": {},
          "execution_count": 33
        }
      ]
    },
    {
      "cell_type": "markdown",
      "source": [
        "### Model 1: A simple dense model\n",
        "\n",
        "\n"
      ],
      "metadata": {
        "id": "h3g_04eBcunL"
      }
    },
    {
      "cell_type": "code",
      "source": [
        "# Create a tensorboard callback (need to create a new one for each model)\n",
        "\n",
        "from helper_functions import create_tensorboard_callback\n",
        "\n",
        "#Create a directory to save TensorBoard logs\n",
        "SAVE_DIR = \"model_logs\""
      ],
      "metadata": {
        "id": "tXWPn74OCqmV"
      },
      "execution_count": 34,
      "outputs": []
    },
    {
      "cell_type": "code",
      "source": [
        "#Build model with the Functional API\n",
        "\n",
        "from tensorflow.keras import layers\n",
        "\n",
        "inputs = layers.Input(shape = (1,), dtype = tf.string) # inputs are 1 dimensional strings\n",
        "x = text_vectorizer(inputs) # turn input text into numbers (tokenization)\n",
        "x = embedding(x) #Create an embedding of the numerized  inputs\n",
        "x=layers.GlobalAveragePooling1D()(x) #condense the feature vector for each token to one vector\n",
        "outputs = layers.Dense(1, activation = \"sigmoid\")(x) # Create the output layer, want binary output => sigmoid activation\n",
        "model_1 = tf.keras.Model(inputs, outputs, name = \"model_1_dense\")\n",
        "\n"
      ],
      "metadata": {
        "id": "YSOn4GQbC9Sk"
      },
      "execution_count": 35,
      "outputs": []
    },
    {
      "cell_type": "code",
      "source": [
        "model_1.summary()"
      ],
      "metadata": {
        "colab": {
          "base_uri": "https://localhost:8080/"
        },
        "id": "9yKh4bEeE_7o",
        "outputId": "5bb2da34-27dd-4ef9-bb80-045dbb720eec"
      },
      "execution_count": 36,
      "outputs": [
        {
          "output_type": "stream",
          "name": "stdout",
          "text": [
            "Model: \"model_1_dense\"\n",
            "_________________________________________________________________\n",
            " Layer (type)                Output Shape              Param #   \n",
            "=================================================================\n",
            " input_1 (InputLayer)        [(None, 1)]               0         \n",
            "                                                                 \n",
            " text_vectorization_1 (TextV  (None, 15)               0         \n",
            " ectorization)                                                   \n",
            "                                                                 \n",
            " embedding (Embedding)       (None, 15, 128)           1280000   \n",
            "                                                                 \n",
            " global_average_pooling1d (G  (None, 128)              0         \n",
            " lobalAveragePooling1D)                                          \n",
            "                                                                 \n",
            " dense (Dense)               (None, 1)                 129       \n",
            "                                                                 \n",
            "=================================================================\n",
            "Total params: 1,280,129\n",
            "Trainable params: 1,280,129\n",
            "Non-trainable params: 0\n",
            "_________________________________________________________________\n"
          ]
        }
      ]
    },
    {
      "cell_type": "code",
      "source": [],
      "metadata": {
        "id": "-7lWUn9cNDh7"
      },
      "execution_count": 36,
      "outputs": []
    },
    {
      "cell_type": "code",
      "source": [
        "#compile model\n",
        "model_1.compile(loss = tf.keras.losses.BinaryCrossentropy(),\n",
        "                optimizer = tf.keras.optimizers.Adam(),\n",
        "                metrics = [\"accuracy\"])\n",
        "\n"
      ],
      "metadata": {
        "id": "zHUC19a1FCVN"
      },
      "execution_count": 37,
      "outputs": []
    },
    {
      "cell_type": "code",
      "source": [
        "#fit the model\n",
        "model_1_history = model_1.fit(x=train_sentences, \n",
        "                              y = train_labels,\n",
        "                              epochs = 5,\n",
        "                              validation_data = (val_sentences, val_labels),\n",
        "                              callbacks = [create_tensorboard_callback(SAVE_DIR,\n",
        "                                                                       \"model_1_dense\")])"
      ],
      "metadata": {
        "colab": {
          "base_uri": "https://localhost:8080/"
        },
        "id": "CZIGPaqHFayX",
        "outputId": "de9476ce-53f3-44ed-a014-c5421c724165"
      },
      "execution_count": 38,
      "outputs": [
        {
          "output_type": "stream",
          "name": "stdout",
          "text": [
            "Saving TensorBoard log files to: model_logs/model_1_dense/20230503-131437\n",
            "Epoch 1/5\n",
            "215/215 [==============================] - 6s 22ms/step - loss: 0.6100 - accuracy: 0.6951 - val_loss: 0.5359 - val_accuracy: 0.7559\n",
            "Epoch 2/5\n",
            "215/215 [==============================] - 6s 26ms/step - loss: 0.4395 - accuracy: 0.8203 - val_loss: 0.4708 - val_accuracy: 0.7848\n",
            "Epoch 3/5\n",
            "215/215 [==============================] - 8s 39ms/step - loss: 0.3452 - accuracy: 0.8606 - val_loss: 0.4638 - val_accuracy: 0.7913\n",
            "Epoch 4/5\n",
            "215/215 [==============================] - 7s 34ms/step - loss: 0.2832 - accuracy: 0.8934 - val_loss: 0.4658 - val_accuracy: 0.7900\n",
            "Epoch 5/5\n",
            "215/215 [==============================] - 7s 33ms/step - loss: 0.2359 - accuracy: 0.9121 - val_loss: 0.4797 - val_accuracy: 0.7808\n"
          ]
        }
      ]
    },
    {
      "cell_type": "code",
      "source": [
        "#Check the results\n",
        "model_1.evaluate(val_sentences, val_labels)"
      ],
      "metadata": {
        "colab": {
          "base_uri": "https://localhost:8080/"
        },
        "id": "ppzp2MwYFx-c",
        "outputId": "0f95123c-97b6-4e18-eb4b-bada20254f24"
      },
      "execution_count": 39,
      "outputs": [
        {
          "output_type": "stream",
          "name": "stdout",
          "text": [
            "24/24 [==============================] - 0s 2ms/step - loss: 0.4797 - accuracy: 0.7808\n"
          ]
        },
        {
          "output_type": "execute_result",
          "data": {
            "text/plain": [
              "[0.47969070076942444, 0.7808399200439453]"
            ]
          },
          "metadata": {},
          "execution_count": 39
        }
      ]
    },
    {
      "cell_type": "code",
      "source": [
        "model_1_pred_probs =model_1.predict(val_sentences)\n",
        "model_1_pred_probs.shape"
      ],
      "metadata": {
        "colab": {
          "base_uri": "https://localhost:8080/"
        },
        "id": "-dDDCYQ7Q3wU",
        "outputId": "48b6747f-d09b-4508-e5c3-36150bad2fac"
      },
      "execution_count": 40,
      "outputs": [
        {
          "output_type": "execute_result",
          "data": {
            "text/plain": [
              "(762, 1)"
            ]
          },
          "metadata": {},
          "execution_count": 40
        }
      ]
    },
    {
      "cell_type": "code",
      "source": [
        "#look at a single prediction\n",
        "model_1_pred_probs[0]"
      ],
      "metadata": {
        "colab": {
          "base_uri": "https://localhost:8080/"
        },
        "id": "2oaECGSFRMqO",
        "outputId": "a146119c-7e11-413d-f7d5-5b8a67a70024"
      },
      "execution_count": 41,
      "outputs": [
        {
          "output_type": "execute_result",
          "data": {
            "text/plain": [
              "array([0.3415065], dtype=float32)"
            ]
          },
          "metadata": {},
          "execution_count": 41
        }
      ]
    },
    {
      "cell_type": "code",
      "source": [
        "model_1_pred_probs[10:]"
      ],
      "metadata": {
        "colab": {
          "base_uri": "https://localhost:8080/"
        },
        "id": "cGDQmQPCSyY9",
        "outputId": "19e33a64-a43e-490e-8d31-57a6814df61d"
      },
      "execution_count": 42,
      "outputs": [
        {
          "output_type": "execute_result",
          "data": {
            "text/plain": [
              "array([[1.23144627e-01],\n",
              "       [7.03728974e-01],\n",
              "       [5.30102253e-02],\n",
              "       [1.86033785e-01],\n",
              "       [4.23794985e-03],\n",
              "       [1.32093847e-01],\n",
              "       [3.01121771e-02],\n",
              "       [8.72390866e-02],\n",
              "       [2.25585431e-01],\n",
              "       [5.59158504e-01],\n",
              "       [9.08471227e-01],\n",
              "       [4.58199084e-02],\n",
              "       [4.15126055e-01],\n",
              "       [9.30040181e-02],\n",
              "       [9.58226562e-01],\n",
              "       [9.98853922e-01],\n",
              "       [3.73672247e-02],\n",
              "       [6.37789369e-02],\n",
              "       [2.96528935e-02],\n",
              "       [1.73921049e-01],\n",
              "       [6.07601702e-01],\n",
              "       [2.65092224e-01],\n",
              "       [5.24767458e-01],\n",
              "       [1.59116834e-01],\n",
              "       [5.10441363e-01],\n",
              "       [5.91914654e-02],\n",
              "       [9.94992197e-01],\n",
              "       [1.80335045e-01],\n",
              "       [4.14166451e-02],\n",
              "       [9.98319745e-01],\n",
              "       [2.25599200e-01],\n",
              "       [2.03467309e-02],\n",
              "       [3.26802373e-01],\n",
              "       [5.68358600e-02],\n",
              "       [7.10325360e-01],\n",
              "       [9.84428108e-01],\n",
              "       [3.29552114e-01],\n",
              "       [9.04250085e-01],\n",
              "       [2.31131047e-01],\n",
              "       [6.20514691e-01],\n",
              "       [4.72054183e-02],\n",
              "       [4.97334808e-01],\n",
              "       [4.62734252e-01],\n",
              "       [3.01389694e-02],\n",
              "       [1.20287538e-01],\n",
              "       [3.87811065e-02],\n",
              "       [2.11723089e-01],\n",
              "       [9.52816129e-01],\n",
              "       [1.06026173e-01],\n",
              "       [2.40460038e-03],\n",
              "       [1.63602442e-01],\n",
              "       [9.71768498e-01],\n",
              "       [9.17734385e-01],\n",
              "       [1.53762311e-01],\n",
              "       [9.33270931e-01],\n",
              "       [9.78026509e-01],\n",
              "       [7.47038960e-01],\n",
              "       [3.83747041e-01],\n",
              "       [1.20762855e-01],\n",
              "       [1.67061359e-01],\n",
              "       [7.69186914e-02],\n",
              "       [3.54621410e-02],\n",
              "       [9.44214702e-01],\n",
              "       [1.48828536e-01],\n",
              "       [1.36172920e-01],\n",
              "       [3.99407774e-01],\n",
              "       [4.34614241e-01],\n",
              "       [8.23159456e-01],\n",
              "       [2.90422648e-01],\n",
              "       [6.04437053e-01],\n",
              "       [4.61499244e-01],\n",
              "       [2.77020216e-01],\n",
              "       [9.96674895e-01],\n",
              "       [9.59278941e-02],\n",
              "       [1.90371484e-01],\n",
              "       [1.10657543e-01],\n",
              "       [2.82712579e-02],\n",
              "       [1.02765322e-01],\n",
              "       [6.61794364e-01],\n",
              "       [9.08865809e-01],\n",
              "       [9.93109107e-01],\n",
              "       [8.82208347e-03],\n",
              "       [5.68390310e-01],\n",
              "       [2.26888955e-02],\n",
              "       [9.83109713e-01],\n",
              "       [7.41923988e-01],\n",
              "       [8.66394341e-01],\n",
              "       [9.71329570e-01],\n",
              "       [8.82475257e-01],\n",
              "       [9.68218923e-01],\n",
              "       [9.99425650e-01],\n",
              "       [1.96713716e-01],\n",
              "       [1.32328570e-02],\n",
              "       [9.14789021e-01],\n",
              "       [9.00870442e-01],\n",
              "       [9.03175175e-02],\n",
              "       [8.79436314e-01],\n",
              "       [9.78173256e-01],\n",
              "       [5.34356236e-02],\n",
              "       [4.72099543e-01],\n",
              "       [7.06682384e-01],\n",
              "       [2.99314857e-02],\n",
              "       [2.79233545e-01],\n",
              "       [2.18618840e-01],\n",
              "       [1.54852241e-01],\n",
              "       [4.19841051e-01],\n",
              "       [4.44251806e-01],\n",
              "       [7.02962220e-01],\n",
              "       [7.39671826e-01],\n",
              "       [8.76751840e-02],\n",
              "       [9.99794781e-01],\n",
              "       [9.35226083e-02],\n",
              "       [1.29100651e-01],\n",
              "       [8.20705295e-01],\n",
              "       [4.42368299e-01],\n",
              "       [2.92952299e-01],\n",
              "       [8.54859173e-01],\n",
              "       [1.10417902e-02],\n",
              "       [8.72434378e-02],\n",
              "       [8.22378397e-01],\n",
              "       [1.16179466e-01],\n",
              "       [9.99794781e-01],\n",
              "       [9.99838114e-01],\n",
              "       [9.98853922e-01],\n",
              "       [9.83104348e-01],\n",
              "       [8.30049813e-02],\n",
              "       [9.75395679e-01],\n",
              "       [2.11495101e-01],\n",
              "       [2.87515461e-01],\n",
              "       [9.29733217e-02],\n",
              "       [9.96900201e-01],\n",
              "       [3.42508018e-01],\n",
              "       [1.86033785e-01],\n",
              "       [9.57573116e-01],\n",
              "       [2.97369689e-01],\n",
              "       [6.01301074e-01],\n",
              "       [4.85702753e-02],\n",
              "       [8.38711858e-03],\n",
              "       [2.39753723e-01],\n",
              "       [9.76713538e-01],\n",
              "       [2.51320481e-01],\n",
              "       [8.38037431e-02],\n",
              "       [4.30250376e-01],\n",
              "       [1.75997615e-01],\n",
              "       [2.66233861e-01],\n",
              "       [9.92717981e-01],\n",
              "       [7.67517984e-01],\n",
              "       [4.63158429e-01],\n",
              "       [9.89885092e-01],\n",
              "       [2.03944445e-02],\n",
              "       [9.80747342e-01],\n",
              "       [6.42715693e-02],\n",
              "       [2.87794650e-01],\n",
              "       [9.92459655e-01],\n",
              "       [2.86188543e-01],\n",
              "       [7.53414035e-02],\n",
              "       [9.98782575e-01],\n",
              "       [3.77143681e-01],\n",
              "       [9.78046119e-01],\n",
              "       [2.50048161e-01],\n",
              "       [9.94251490e-01],\n",
              "       [8.45072031e-01],\n",
              "       [8.11069846e-01],\n",
              "       [2.84870565e-02],\n",
              "       [9.98138547e-01],\n",
              "       [7.67629445e-02],\n",
              "       [3.59474957e-01],\n",
              "       [4.29743171e-01],\n",
              "       [7.54216313e-01],\n",
              "       [9.94133830e-01],\n",
              "       [1.38245523e-02],\n",
              "       [8.64360213e-01],\n",
              "       [7.63893723e-01],\n",
              "       [9.71053541e-01],\n",
              "       [9.80840445e-01],\n",
              "       [4.08167720e-01],\n",
              "       [1.06122613e-01],\n",
              "       [9.99577165e-01],\n",
              "       [1.70022547e-02],\n",
              "       [3.38588953e-02],\n",
              "       [1.04596555e-01],\n",
              "       [9.20441449e-01],\n",
              "       [9.37295556e-02],\n",
              "       [2.59599805e-01],\n",
              "       [1.54865384e-02],\n",
              "       [8.32293928e-02],\n",
              "       [5.64335585e-02],\n",
              "       [2.38011897e-01],\n",
              "       [7.76519477e-01],\n",
              "       [7.56447613e-02],\n",
              "       [3.05888116e-01],\n",
              "       [8.95872951e-01],\n",
              "       [9.70246673e-01],\n",
              "       [3.51417512e-01],\n",
              "       [1.11352831e-01],\n",
              "       [9.99815166e-01],\n",
              "       [5.72760165e-01],\n",
              "       [9.29745376e-01],\n",
              "       [6.43371046e-01],\n",
              "       [8.29016984e-01],\n",
              "       [3.45786810e-01],\n",
              "       [9.87396419e-01],\n",
              "       [1.77631676e-02],\n",
              "       [1.97642565e-01],\n",
              "       [6.59182668e-03],\n",
              "       [6.24749064e-03],\n",
              "       [9.54228401e-01],\n",
              "       [8.22493792e-01],\n",
              "       [8.58089328e-01],\n",
              "       [1.65072531e-01],\n",
              "       [6.81395888e-01],\n",
              "       [8.72735977e-02],\n",
              "       [2.48653889e-02],\n",
              "       [1.67567104e-01],\n",
              "       [9.83573556e-01],\n",
              "       [2.09412545e-01],\n",
              "       [5.12512803e-01],\n",
              "       [9.95154083e-01],\n",
              "       [6.58448279e-01],\n",
              "       [6.05823994e-01],\n",
              "       [9.71181691e-02],\n",
              "       [2.00974584e-01],\n",
              "       [8.22273731e-01],\n",
              "       [2.88032740e-01],\n",
              "       [5.60615480e-01],\n",
              "       [1.63780689e-01],\n",
              "       [5.65511405e-01],\n",
              "       [3.20556402e-01],\n",
              "       [1.33567810e-01],\n",
              "       [8.61397386e-02],\n",
              "       [4.35488850e-01],\n",
              "       [2.71611333e-01],\n",
              "       [9.99845386e-01],\n",
              "       [9.86562610e-01],\n",
              "       [7.80479610e-02],\n",
              "       [2.14716494e-02],\n",
              "       [8.72929215e-01],\n",
              "       [1.09562606e-01],\n",
              "       [1.03519738e-01],\n",
              "       [4.08105910e-01],\n",
              "       [5.58254421e-02],\n",
              "       [5.89636266e-01],\n",
              "       [7.52657652e-04],\n",
              "       [4.35291767e-01],\n",
              "       [9.37654257e-01],\n",
              "       [2.55083561e-01],\n",
              "       [9.71943617e-01],\n",
              "       [9.99014020e-01],\n",
              "       [2.70585567e-01],\n",
              "       [1.69064075e-01],\n",
              "       [3.47694308e-01],\n",
              "       [3.23806107e-02],\n",
              "       [4.36326861e-03],\n",
              "       [9.84447181e-01],\n",
              "       [9.66852903e-01],\n",
              "       [6.60683572e-01],\n",
              "       [9.60786104e-01],\n",
              "       [6.87366724e-02],\n",
              "       [1.58385575e-01],\n",
              "       [8.82998109e-03],\n",
              "       [1.72719955e-01],\n",
              "       [4.58042026e-02],\n",
              "       [9.67891693e-01],\n",
              "       [8.81707966e-02],\n",
              "       [8.32024217e-03],\n",
              "       [9.76871133e-01],\n",
              "       [9.01412964e-03],\n",
              "       [9.86039042e-02],\n",
              "       [9.84125376e-01],\n",
              "       [3.66062820e-02],\n",
              "       [9.67157185e-02],\n",
              "       [5.15955687e-03],\n",
              "       [9.71350133e-01],\n",
              "       [6.27487540e-01],\n",
              "       [7.61033535e-01],\n",
              "       [6.93865776e-01],\n",
              "       [5.70634902e-01],\n",
              "       [6.56922162e-02],\n",
              "       [9.31605101e-01],\n",
              "       [3.81906927e-02],\n",
              "       [7.66923904e-01],\n",
              "       [4.30688947e-01],\n",
              "       [3.94852996e-01],\n",
              "       [4.18894649e-01],\n",
              "       [1.75429970e-01],\n",
              "       [6.98161602e-01],\n",
              "       [2.45890439e-01],\n",
              "       [6.34131432e-01],\n",
              "       [1.51552528e-01],\n",
              "       [7.88924694e-01],\n",
              "       [3.93542647e-02],\n",
              "       [8.14649761e-02],\n",
              "       [2.09993362e-01],\n",
              "       [9.85886335e-01],\n",
              "       [1.67044252e-01],\n",
              "       [1.10027403e-01],\n",
              "       [3.35657060e-01],\n",
              "       [2.26833791e-01],\n",
              "       [1.28089994e-01],\n",
              "       [3.29181552e-02],\n",
              "       [3.23826671e-02],\n",
              "       [9.85190272e-01],\n",
              "       [3.89819026e-01],\n",
              "       [2.52852678e-01],\n",
              "       [9.99857664e-01],\n",
              "       [5.98337650e-02],\n",
              "       [6.41815186e-01],\n",
              "       [2.64653981e-01],\n",
              "       [5.29311299e-02],\n",
              "       [1.80019319e-01],\n",
              "       [2.08502710e-01],\n",
              "       [9.49540734e-02],\n",
              "       [9.25762594e-01],\n",
              "       [2.90934622e-01],\n",
              "       [9.87029076e-01],\n",
              "       [1.03772849e-01],\n",
              "       [2.23990977e-02],\n",
              "       [9.95507598e-01],\n",
              "       [2.36977041e-02],\n",
              "       [9.96747971e-01],\n",
              "       [1.63737744e-01],\n",
              "       [4.02218103e-02],\n",
              "       [9.67624664e-01],\n",
              "       [5.76192439e-02],\n",
              "       [3.59241664e-02],\n",
              "       [9.77967858e-01],\n",
              "       [6.05538487e-03],\n",
              "       [2.04351425e-01],\n",
              "       [7.61838794e-01],\n",
              "       [9.23049688e-01],\n",
              "       [4.76115942e-03],\n",
              "       [1.84084773e-01],\n",
              "       [9.84758437e-01],\n",
              "       [9.69472229e-01],\n",
              "       [7.23992229e-01],\n",
              "       [4.47015852e-01],\n",
              "       [5.30948937e-01],\n",
              "       [4.69041049e-01],\n",
              "       [6.76571131e-02],\n",
              "       [9.98353660e-02],\n",
              "       [1.17875665e-01],\n",
              "       [7.11992025e-01],\n",
              "       [3.53934765e-02],\n",
              "       [4.74807829e-01],\n",
              "       [4.16488409e-01],\n",
              "       [1.17621422e-02],\n",
              "       [9.70566034e-01],\n",
              "       [9.98853922e-01],\n",
              "       [9.95067298e-01],\n",
              "       [4.84284461e-02],\n",
              "       [3.13079238e-01],\n",
              "       [1.39787048e-01],\n",
              "       [4.15794253e-01],\n",
              "       [7.87531972e-01],\n",
              "       [2.51606703e-01],\n",
              "       [2.40295231e-02],\n",
              "       [7.22323358e-02],\n",
              "       [4.46237028e-02],\n",
              "       [5.66955686e-01],\n",
              "       [1.14309490e-02],\n",
              "       [2.07092077e-01],\n",
              "       [4.02767360e-02],\n",
              "       [4.06440675e-01],\n",
              "       [3.88669461e-01],\n",
              "       [3.85810792e-01],\n",
              "       [2.03598022e-01],\n",
              "       [6.03125095e-02],\n",
              "       [3.45784307e-01],\n",
              "       [8.96419287e-02],\n",
              "       [9.96780574e-01],\n",
              "       [9.28107738e-01],\n",
              "       [4.62450057e-01],\n",
              "       [6.58453703e-01],\n",
              "       [2.43070424e-02],\n",
              "       [5.27396798e-01],\n",
              "       [9.92986083e-01],\n",
              "       [7.25403249e-01],\n",
              "       [1.86871380e-01],\n",
              "       [9.82798159e-01],\n",
              "       [2.04253912e-01],\n",
              "       [9.43096876e-01],\n",
              "       [3.41793656e-01],\n",
              "       [2.53848433e-02],\n",
              "       [5.51163077e-01],\n",
              "       [4.80995953e-01],\n",
              "       [9.96399224e-01],\n",
              "       [1.44026846e-01],\n",
              "       [3.88069451e-02],\n",
              "       [7.28589892e-02],\n",
              "       [2.51606703e-01],\n",
              "       [9.99029279e-01],\n",
              "       [3.01773548e-02],\n",
              "       [6.97260380e-01],\n",
              "       [9.73684430e-01],\n",
              "       [1.14615828e-01],\n",
              "       [9.99794781e-01],\n",
              "       [3.60381305e-02],\n",
              "       [3.62088382e-01],\n",
              "       [4.75246310e-02],\n",
              "       [7.69493103e-01],\n",
              "       [9.14769173e-01],\n",
              "       [6.43753111e-02],\n",
              "       [1.53365731e-03],\n",
              "       [2.41667271e-01],\n",
              "       [9.90325391e-01],\n",
              "       [8.31790805e-01],\n",
              "       [1.47198737e-01],\n",
              "       [4.59746718e-01],\n",
              "       [7.47696042e-01],\n",
              "       [3.05559039e-02],\n",
              "       [9.93695676e-01],\n",
              "       [5.07038295e-01],\n",
              "       [9.98815119e-01],\n",
              "       [9.23574924e-01],\n",
              "       [1.19444430e-01],\n",
              "       [3.81768465e-01],\n",
              "       [1.11423790e-01],\n",
              "       [9.33480918e-01],\n",
              "       [7.49105692e-01],\n",
              "       [3.96756560e-01],\n",
              "       [4.04454470e-02],\n",
              "       [3.07510257e-01],\n",
              "       [4.00677621e-02],\n",
              "       [7.24072158e-02],\n",
              "       [1.15412384e-01],\n",
              "       [4.20666814e-01],\n",
              "       [5.23784816e-01],\n",
              "       [1.51574701e-01],\n",
              "       [9.99118090e-01],\n",
              "       [9.86443579e-01],\n",
              "       [2.32802659e-01],\n",
              "       [7.52047360e-01],\n",
              "       [2.00742632e-01],\n",
              "       [3.08963656e-02],\n",
              "       [3.48413527e-01],\n",
              "       [6.97797358e-01],\n",
              "       [1.05293602e-01],\n",
              "       [2.28765517e-01],\n",
              "       [1.65431201e-02],\n",
              "       [5.23012280e-01],\n",
              "       [1.72823668e-03],\n",
              "       [9.62123632e-01],\n",
              "       [9.77400303e-01],\n",
              "       [9.94027436e-01],\n",
              "       [9.73113179e-01],\n",
              "       [8.11848640e-01],\n",
              "       [1.45207196e-01],\n",
              "       [5.31656146e-02],\n",
              "       [6.97627902e-01],\n",
              "       [9.00081873e-01],\n",
              "       [9.98605609e-01],\n",
              "       [3.51926684e-03],\n",
              "       [1.42214626e-01],\n",
              "       [1.71489626e-01],\n",
              "       [9.98974919e-01],\n",
              "       [9.99471545e-01],\n",
              "       [2.24425405e-01],\n",
              "       [1.19137764e-01],\n",
              "       [9.96435761e-01],\n",
              "       [6.13354146e-02],\n",
              "       [3.59983325e-01],\n",
              "       [9.87532496e-01],\n",
              "       [1.21095002e-01],\n",
              "       [4.60345745e-02],\n",
              "       [9.43345785e-01],\n",
              "       [3.38082254e-01],\n",
              "       [4.22848463e-01],\n",
              "       [9.71220136e-01],\n",
              "       [1.98984444e-02],\n",
              "       [4.72900569e-02],\n",
              "       [1.17935836e-02],\n",
              "       [1.63722932e-02],\n",
              "       [1.12565964e-01],\n",
              "       [9.73492026e-01],\n",
              "       [2.17018425e-02],\n",
              "       [4.35023516e-01],\n",
              "       [5.09674549e-01],\n",
              "       [6.83037043e-02],\n",
              "       [2.90610611e-01],\n",
              "       [7.44829476e-02],\n",
              "       [3.49259913e-01],\n",
              "       [9.97642517e-01],\n",
              "       [6.26610160e-01],\n",
              "       [1.19927973e-01],\n",
              "       [1.27594054e-01],\n",
              "       [1.45898402e-01],\n",
              "       [6.94994628e-02],\n",
              "       [7.05920577e-01],\n",
              "       [2.15171576e-02],\n",
              "       [9.05696869e-01],\n",
              "       [7.88723409e-01],\n",
              "       [5.36984384e-01],\n",
              "       [6.74184740e-01],\n",
              "       [7.76693702e-01],\n",
              "       [9.41443443e-02],\n",
              "       [3.13693523e-01],\n",
              "       [3.59965473e-01],\n",
              "       [8.93226624e-01],\n",
              "       [2.42253214e-01],\n",
              "       [2.58984566e-01],\n",
              "       [3.94741267e-01],\n",
              "       [1.22245252e-02],\n",
              "       [1.07088476e-01],\n",
              "       [3.60213667e-01],\n",
              "       [7.98172712e-01],\n",
              "       [1.34831011e-01],\n",
              "       [9.90890980e-01],\n",
              "       [9.19261575e-01],\n",
              "       [7.41923988e-01],\n",
              "       [9.84417915e-01],\n",
              "       [1.60978675e-01],\n",
              "       [7.53726661e-02],\n",
              "       [9.07464623e-01],\n",
              "       [1.93907470e-01],\n",
              "       [2.14158893e-02],\n",
              "       [6.04297817e-02],\n",
              "       [9.42720473e-02],\n",
              "       [1.36327744e-03],\n",
              "       [8.42256129e-01],\n",
              "       [8.10158193e-01],\n",
              "       [8.31738710e-01],\n",
              "       [9.42780018e-01],\n",
              "       [9.71483886e-02],\n",
              "       [1.56809062e-01],\n",
              "       [7.09901154e-01],\n",
              "       [1.31391287e-02],\n",
              "       [3.14588100e-01],\n",
              "       [1.33899868e-01],\n",
              "       [6.90082252e-01],\n",
              "       [5.29085159e-01],\n",
              "       [5.65477610e-02],\n",
              "       [6.86838329e-02],\n",
              "       [5.25754452e-01],\n",
              "       [1.36922091e-01],\n",
              "       [1.34601355e-01],\n",
              "       [1.30796015e-01],\n",
              "       [2.30599403e-01],\n",
              "       [9.98905540e-01],\n",
              "       [9.83359694e-01],\n",
              "       [3.55530262e-01],\n",
              "       [8.46382320e-01],\n",
              "       [9.91727173e-01],\n",
              "       [1.14169717e-03],\n",
              "       [9.71326351e-01],\n",
              "       [2.50797689e-01],\n",
              "       [4.70615119e-01],\n",
              "       [2.77381182e-01],\n",
              "       [1.12103343e-01],\n",
              "       [1.25766039e-01],\n",
              "       [2.99588442e-02],\n",
              "       [9.24057662e-02],\n",
              "       [7.01662004e-02],\n",
              "       [7.41523147e-01],\n",
              "       [2.66586006e-01],\n",
              "       [9.93779898e-01],\n",
              "       [5.17924428e-02],\n",
              "       [6.50291443e-01],\n",
              "       [5.61211109e-01],\n",
              "       [1.40906572e-02],\n",
              "       [6.27171695e-02],\n",
              "       [9.67940152e-01],\n",
              "       [7.25095510e-01],\n",
              "       [9.60789084e-01],\n",
              "       [1.56736046e-01],\n",
              "       [8.71524513e-02],\n",
              "       [4.94359672e-01],\n",
              "       [2.88783729e-01],\n",
              "       [3.12802970e-01],\n",
              "       [9.91727173e-01],\n",
              "       [1.19704306e-02],\n",
              "       [4.09731269e-02],\n",
              "       [1.78728670e-01],\n",
              "       [9.97748315e-01],\n",
              "       [2.18480647e-01],\n",
              "       [5.68049252e-02],\n",
              "       [7.83565640e-01],\n",
              "       [5.29073179e-02],\n",
              "       [3.08476388e-02],\n",
              "       [1.60632253e-01],\n",
              "       [2.37348229e-01],\n",
              "       [1.45054311e-01],\n",
              "       [4.03393954e-01],\n",
              "       [3.63635719e-01],\n",
              "       [1.86293155e-01],\n",
              "       [8.49978030e-02],\n",
              "       [3.97467196e-01],\n",
              "       [1.86240077e-02],\n",
              "       [9.45980728e-01],\n",
              "       [8.13353956e-01],\n",
              "       [5.42216897e-01],\n",
              "       [3.12686563e-02],\n",
              "       [2.24448442e-02],\n",
              "       [9.84266937e-01],\n",
              "       [6.58510387e-01],\n",
              "       [9.99570191e-01],\n",
              "       [2.44205028e-01],\n",
              "       [8.76636386e-01],\n",
              "       [1.24884129e-01],\n",
              "       [6.41279757e-01],\n",
              "       [7.11080730e-01],\n",
              "       [2.35482454e-02],\n",
              "       [9.79041278e-01],\n",
              "       [1.15164489e-01],\n",
              "       [5.21237314e-01],\n",
              "       [9.98528123e-01],\n",
              "       [1.38654083e-01],\n",
              "       [2.75601745e-02],\n",
              "       [3.02143037e-01],\n",
              "       [1.00117028e-02],\n",
              "       [4.60217834e-01],\n",
              "       [9.99815166e-01],\n",
              "       [3.42639029e-01],\n",
              "       [9.42592382e-01],\n",
              "       [2.68591702e-01],\n",
              "       [7.94441998e-01],\n",
              "       [2.61361063e-01],\n",
              "       [2.77018130e-01],\n",
              "       [1.98939443e-02],\n",
              "       [6.53376102e-01],\n",
              "       [1.55058503e-02],\n",
              "       [2.47519433e-01],\n",
              "       [9.47633088e-01],\n",
              "       [9.46326613e-01],\n",
              "       [9.95935798e-01],\n",
              "       [7.68267274e-01],\n",
              "       [5.14526367e-02],\n",
              "       [3.42105329e-01],\n",
              "       [1.68991685e-02],\n",
              "       [5.04622042e-01],\n",
              "       [3.70913327e-01],\n",
              "       [9.05175388e-01],\n",
              "       [3.85870039e-02],\n",
              "       [7.95287371e-01],\n",
              "       [8.35373163e-01],\n",
              "       [2.74551123e-01],\n",
              "       [2.24307209e-01],\n",
              "       [2.58984566e-01],\n",
              "       [1.95888281e-01],\n",
              "       [4.19260442e-01],\n",
              "       [7.10326374e-01],\n",
              "       [9.98547435e-01],\n",
              "       [6.80302083e-02],\n",
              "       [7.75700808e-03],\n",
              "       [1.64088309e-02],\n",
              "       [2.57598758e-01],\n",
              "       [2.11371481e-01],\n",
              "       [2.73356736e-02],\n",
              "       [8.38728786e-01],\n",
              "       [9.82164145e-02],\n",
              "       [1.78317249e-01],\n",
              "       [2.28385329e-01],\n",
              "       [2.25467116e-01],\n",
              "       [9.33308423e-01],\n",
              "       [1.58544689e-01],\n",
              "       [5.19080937e-01],\n",
              "       [3.15808594e-01],\n",
              "       [1.22684836e-02],\n",
              "       [1.09420925e-01],\n",
              "       [9.99731421e-01],\n",
              "       [8.05749118e-01],\n",
              "       [4.28551435e-03],\n",
              "       [3.19281459e-01],\n",
              "       [1.72544628e-01],\n",
              "       [6.55476749e-02],\n",
              "       [8.97522330e-01],\n",
              "       [5.48513472e-01],\n",
              "       [6.36605203e-01],\n",
              "       [3.94581676e-01],\n",
              "       [1.96168512e-01],\n",
              "       [6.35420918e-01],\n",
              "       [1.74838483e-01],\n",
              "       [4.84038591e-02],\n",
              "       [9.14919198e-01],\n",
              "       [1.73256129e-01],\n",
              "       [3.94676149e-01],\n",
              "       [9.77736235e-01],\n",
              "       [3.16419691e-01],\n",
              "       [3.99873346e-01],\n",
              "       [1.36327744e-03],\n",
              "       [2.97130466e-01],\n",
              "       [8.36444795e-01],\n",
              "       [9.99794781e-01],\n",
              "       [7.04150319e-01],\n",
              "       [3.74940932e-02],\n",
              "       [9.91965771e-01],\n",
              "       [3.99800062e-01],\n",
              "       [8.77478242e-01],\n",
              "       [3.99800062e-01],\n",
              "       [9.91637170e-01],\n",
              "       [9.27308202e-03],\n",
              "       [4.40550894e-01],\n",
              "       [8.90078545e-02],\n",
              "       [9.78656173e-01],\n",
              "       [2.18688577e-01],\n",
              "       [4.69841689e-01],\n",
              "       [5.47382832e-02],\n",
              "       [3.36103141e-01],\n",
              "       [1.05229259e-01],\n",
              "       [1.98618472e-02],\n",
              "       [2.50957012e-01],\n",
              "       [6.56297207e-02],\n",
              "       [9.98073220e-02],\n",
              "       [8.26570511e-01],\n",
              "       [2.69334912e-02],\n",
              "       [1.20267004e-01],\n",
              "       [3.45485210e-02],\n",
              "       [1.37106180e-02],\n",
              "       [1.11252427e-01],\n",
              "       [6.78028464e-01],\n",
              "       [7.79266357e-02],\n",
              "       [5.78111947e-01],\n",
              "       [1.33532405e-01],\n",
              "       [2.31273144e-01],\n",
              "       [8.88450623e-01],\n",
              "       [1.71382695e-01],\n",
              "       [4.85021472e-02],\n",
              "       [6.46591485e-02],\n",
              "       [6.26346469e-03],\n",
              "       [9.88129139e-01],\n",
              "       [1.37106180e-02],\n",
              "       [3.76182407e-01],\n",
              "       [9.92007554e-01],\n",
              "       [9.94063139e-01],\n",
              "       [9.97822046e-01],\n",
              "       [9.99905884e-01],\n",
              "       [9.99521196e-01],\n",
              "       [1.92290127e-01],\n",
              "       [8.30187201e-02],\n",
              "       [2.92536080e-01],\n",
              "       [5.68096578e-01],\n",
              "       [9.96767700e-01],\n",
              "       [5.25282383e-01],\n",
              "       [2.35545963e-01],\n",
              "       [5.85414886e-01],\n",
              "       [7.11599231e-01],\n",
              "       [2.96019018e-02],\n",
              "       [5.39025664e-03],\n",
              "       [8.63098800e-02],\n",
              "       [3.52935880e-01],\n",
              "       [7.04976916e-03],\n",
              "       [7.79019892e-02],\n",
              "       [4.02205080e-01],\n",
              "       [9.89836156e-01],\n",
              "       [2.23389864e-02],\n",
              "       [9.31297421e-01],\n",
              "       [7.00502634e-01],\n",
              "       [8.03970695e-02],\n",
              "       [3.23825359e-01],\n",
              "       [1.24124855e-01],\n",
              "       [7.66595602e-01],\n",
              "       [4.75253135e-01],\n",
              "       [9.18114185e-03]], dtype=float32)"
            ]
          },
          "metadata": {},
          "execution_count": 42
        }
      ]
    },
    {
      "cell_type": "code",
      "source": [
        "#convert model prediction probabilities to label format\n",
        "model_1_preds = tf.squeeze(tf.round (model_1_pred_probs))\n",
        "model_1_preds[:20]"
      ],
      "metadata": {
        "colab": {
          "base_uri": "https://localhost:8080/"
        },
        "id": "UAjdwywnS3AA",
        "outputId": "10b88a19-93df-419f-9aef-6372681a62ed"
      },
      "execution_count": 43,
      "outputs": [
        {
          "output_type": "execute_result",
          "data": {
            "text/plain": [
              "<tf.Tensor: shape=(20,), dtype=float32, numpy=\n",
              "array([0., 1., 1., 0., 0., 1., 1., 1., 1., 0., 0., 1., 0., 0., 0., 0., 0.,\n",
              "       0., 0., 1.], dtype=float32)>"
            ]
          },
          "metadata": {},
          "execution_count": 43
        }
      ]
    },
    {
      "cell_type": "code",
      "source": [
        "#calculate our model_1 results\n",
        "model_1_results = calculate_results(y_true = val_labels,\n",
        "                                    y_pred = model_1_preds)\n",
        "model_1_results"
      ],
      "metadata": {
        "colab": {
          "base_uri": "https://localhost:8080/"
        },
        "id": "jb6q2AYjTM8h",
        "outputId": "d25a2e75-7796-4ce2-de38-32e4df1e6fc8"
      },
      "execution_count": 44,
      "outputs": [
        {
          "output_type": "execute_result",
          "data": {
            "text/plain": [
              "{'accuracy': 78.08398950131233,\n",
              " 'precision': 0.783783808499639,\n",
              " 'recall': 0.7808398950131233,\n",
              " 'f1': 0.7783998521836788}"
            ]
          },
          "metadata": {},
          "execution_count": 44
        }
      ]
    },
    {
      "cell_type": "code",
      "source": [
        "import numpy as np\n",
        "np.array(list(model_1_results.values())) > np.array(list(baseline_results.values()))"
      ],
      "metadata": {
        "colab": {
          "base_uri": "https://localhost:8080/"
        },
        "id": "2lSH1YOfTf01",
        "outputId": "cdb3ab86-9a3a-47a5-ae21-ec9ebfdd90fa"
      },
      "execution_count": 45,
      "outputs": [
        {
          "output_type": "execute_result",
          "data": {
            "text/plain": [
              "array([False, False, False, False])"
            ]
          },
          "metadata": {},
          "execution_count": 45
        }
      ]
    },
    {
      "cell_type": "markdown",
      "source": [
        "##Visualizing learned embeddings\n"
      ],
      "metadata": {
        "id": "NFv5O7u7T5NC"
      }
    },
    {
      "cell_type": "code",
      "source": [
        "#Get the vocabulary from the text vectorization layer\n",
        "words_in_vocab = text_vectorizer.get_vocabulary()\n",
        "\n",
        "len(words_in_vocab) , words_in_vocab[:10]"
      ],
      "metadata": {
        "colab": {
          "base_uri": "https://localhost:8080/"
        },
        "id": "W23JVngoUubp",
        "outputId": "528552a3-20c7-47b7-9e2a-bd0ad6abc08d"
      },
      "execution_count": 46,
      "outputs": [
        {
          "output_type": "execute_result",
          "data": {
            "text/plain": [
              "(10000, ['', '[UNK]', 'the', 'a', 'in', 'to', 'of', 'and', 'i', 'is'])"
            ]
          },
          "metadata": {},
          "execution_count": 46
        }
      ]
    },
    {
      "cell_type": "code",
      "source": [
        "#model 1 summary\n",
        "model_1.summary()"
      ],
      "metadata": {
        "colab": {
          "base_uri": "https://localhost:8080/"
        },
        "id": "VdYYq2PIVDSW",
        "outputId": "08121161-1da5-459b-d019-f28ff3cc2421"
      },
      "execution_count": 47,
      "outputs": [
        {
          "output_type": "stream",
          "name": "stdout",
          "text": [
            "Model: \"model_1_dense\"\n",
            "_________________________________________________________________\n",
            " Layer (type)                Output Shape              Param #   \n",
            "=================================================================\n",
            " input_1 (InputLayer)        [(None, 1)]               0         \n",
            "                                                                 \n",
            " text_vectorization_1 (TextV  (None, 15)               0         \n",
            " ectorization)                                                   \n",
            "                                                                 \n",
            " embedding (Embedding)       (None, 15, 128)           1280000   \n",
            "                                                                 \n",
            " global_average_pooling1d (G  (None, 128)              0         \n",
            " lobalAveragePooling1D)                                          \n",
            "                                                                 \n",
            " dense (Dense)               (None, 1)                 129       \n",
            "                                                                 \n",
            "=================================================================\n",
            "Total params: 1,280,129\n",
            "Trainable params: 1,280,129\n",
            "Non-trainable params: 0\n",
            "_________________________________________________________________\n"
          ]
        }
      ]
    },
    {
      "cell_type": "code",
      "source": [
        "#Get the weight matrix of embedding layer\n",
        "#(these are the numerical representations of each token in our training data which have been learned for -5 epochs)\n",
        "embed_weights = model_1.get_layer(\"embedding\").get_weights()[0]\n",
        "embed_weights.shape #same size as vocab size and embedding_dim (output_dim of the embedding layer)\n"
      ],
      "metadata": {
        "colab": {
          "base_uri": "https://localhost:8080/"
        },
        "id": "Wbrw97LDVXtB",
        "outputId": "9ee09f56-8c24-455e-d521-cd234ca1c69b"
      },
      "execution_count": 48,
      "outputs": [
        {
          "output_type": "execute_result",
          "data": {
            "text/plain": [
              "(10000, 128)"
            ]
          },
          "metadata": {},
          "execution_count": 48
        }
      ]
    },
    {
      "cell_type": "markdown",
      "source": [
        "Now we've got the embedding matrix our model has learned to represent our tokens, let's see how we can visualize it.\n",
        "\n",
        "To do so, tf has a handy tool called prejector: http://projector.tensorflow.org/\n",
        "\n",
        "And tensorflow also has an incredible guide on word embeddings themselves: https://www.tensorflow.org/text/guide/word_embeddings "
      ],
      "metadata": {
        "id": "2IZNOQjFVvn9"
      }
    },
    {
      "cell_type": "code",
      "source": [
        "#Create embedding files (we got this from TensorFlow's word embeddings documentation)\n",
        "import io\n",
        "out_v = io.open('vectors.tsv', 'w', encoding='utf-8')\n",
        "out_m = io.open('metadata.tsv', 'w', encoding='utf-8')\n",
        "\n",
        "for index, word in enumerate(words_in_vocab):\n",
        "  if index == 0:\n",
        "    continue  # skip 0, it's padding.\n",
        "  vec = embed_weights[index]\n",
        "  out_v.write('\\t'.join([str(x) for x in vec]) + \"\\n\")\n",
        "  out_m.write(word + \"\\n\")\n",
        "out_v.close()\n",
        "out_m.close()"
      ],
      "metadata": {
        "id": "pEmeJCUnYNma"
      },
      "execution_count": 49,
      "outputs": []
    },
    {
      "cell_type": "code",
      "source": [
        "#Download files from colab to upload to projector\n",
        "try: \n",
        "  from google.colab import files\n",
        "  files.download(\"vectors.tsv\")\n",
        "  files.download(\"metadata.tsv\")\n",
        "except Exception:\n",
        "  pass\n"
      ],
      "metadata": {
        "colab": {
          "base_uri": "https://localhost:8080/",
          "height": 17
        },
        "id": "egqESK_AaC94",
        "outputId": "11919069-98a1-493f-9380-243ce9124d41"
      },
      "execution_count": 50,
      "outputs": [
        {
          "output_type": "display_data",
          "data": {
            "text/plain": [
              "<IPython.core.display.Javascript object>"
            ],
            "application/javascript": [
              "\n",
              "    async function download(id, filename, size) {\n",
              "      if (!google.colab.kernel.accessAllowed) {\n",
              "        return;\n",
              "      }\n",
              "      const div = document.createElement('div');\n",
              "      const label = document.createElement('label');\n",
              "      label.textContent = `Downloading \"${filename}\": `;\n",
              "      div.appendChild(label);\n",
              "      const progress = document.createElement('progress');\n",
              "      progress.max = size;\n",
              "      div.appendChild(progress);\n",
              "      document.body.appendChild(div);\n",
              "\n",
              "      const buffers = [];\n",
              "      let downloaded = 0;\n",
              "\n",
              "      const channel = await google.colab.kernel.comms.open(id);\n",
              "      // Send a message to notify the kernel that we're ready.\n",
              "      channel.send({})\n",
              "\n",
              "      for await (const message of channel.messages) {\n",
              "        // Send a message to notify the kernel that we're ready.\n",
              "        channel.send({})\n",
              "        if (message.buffers) {\n",
              "          for (const buffer of message.buffers) {\n",
              "            buffers.push(buffer);\n",
              "            downloaded += buffer.byteLength;\n",
              "            progress.value = downloaded;\n",
              "          }\n",
              "        }\n",
              "      }\n",
              "      const blob = new Blob(buffers, {type: 'application/binary'});\n",
              "      const a = document.createElement('a');\n",
              "      a.href = window.URL.createObjectURL(blob);\n",
              "      a.download = filename;\n",
              "      div.appendChild(a);\n",
              "      a.click();\n",
              "      div.remove();\n",
              "    }\n",
              "  "
            ]
          },
          "metadata": {}
        },
        {
          "output_type": "display_data",
          "data": {
            "text/plain": [
              "<IPython.core.display.Javascript object>"
            ],
            "application/javascript": [
              "download(\"download_ad659af1-84a3-48e2-8a1b-8cdeed2d4395\", \"vectors.tsv\", 15383204)"
            ]
          },
          "metadata": {}
        },
        {
          "output_type": "display_data",
          "data": {
            "text/plain": [
              "<IPython.core.display.Javascript object>"
            ],
            "application/javascript": [
              "\n",
              "    async function download(id, filename, size) {\n",
              "      if (!google.colab.kernel.accessAllowed) {\n",
              "        return;\n",
              "      }\n",
              "      const div = document.createElement('div');\n",
              "      const label = document.createElement('label');\n",
              "      label.textContent = `Downloading \"${filename}\": `;\n",
              "      div.appendChild(label);\n",
              "      const progress = document.createElement('progress');\n",
              "      progress.max = size;\n",
              "      div.appendChild(progress);\n",
              "      document.body.appendChild(div);\n",
              "\n",
              "      const buffers = [];\n",
              "      let downloaded = 0;\n",
              "\n",
              "      const channel = await google.colab.kernel.comms.open(id);\n",
              "      // Send a message to notify the kernel that we're ready.\n",
              "      channel.send({})\n",
              "\n",
              "      for await (const message of channel.messages) {\n",
              "        // Send a message to notify the kernel that we're ready.\n",
              "        channel.send({})\n",
              "        if (message.buffers) {\n",
              "          for (const buffer of message.buffers) {\n",
              "            buffers.push(buffer);\n",
              "            downloaded += buffer.byteLength;\n",
              "            progress.value = downloaded;\n",
              "          }\n",
              "        }\n",
              "      }\n",
              "      const blob = new Blob(buffers, {type: 'application/binary'});\n",
              "      const a = document.createElement('a');\n",
              "      a.href = window.URL.createObjectURL(blob);\n",
              "      a.download = filename;\n",
              "      div.appendChild(a);\n",
              "      a.click();\n",
              "      div.remove();\n",
              "    }\n",
              "  "
            ]
          },
          "metadata": {}
        },
        {
          "output_type": "display_data",
          "data": {
            "text/plain": [
              "<IPython.core.display.Javascript object>"
            ],
            "application/javascript": [
              "download(\"download_3e1c67e9-b02c-4c2b-bb2b-2858f0d4456a\", \"metadata.tsv\", 80388)"
            ]
          },
          "metadata": {}
        }
      ]
    },
    {
      "cell_type": "markdown",
      "source": [
        "## Recurrent Neural Networks (RNN's)\n",
        "\n",
        "RNN's are useful for sequence data\n",
        "\n",
        "the premise of a recurrent neural network is to use the representation of a previous input to aid the representation of a later input\n",
        "\n",
        "if you want an overview of the internals of a recurrent neural network, see the following:\n",
        "- MIT's sequence modelling lecture\n",
        "- Chris Olah's intro to LSTM\n",
        "- Andrej Karpathy's the unreasonable effectiveness of recurrent neural network"
      ],
      "metadata": {
        "id": "wAtRdLvbfab9"
      }
    },
    {
      "cell_type": "markdown",
      "source": [
        "### Model 2: LSTM \n",
        "\n",
        "LSTM = long short term memory (one of the most popular LSTM cells)\n",
        "\n",
        "Our structure of an RNN typically looks like this:\n",
        "\n",
        "```\n",
        "Input (text) => tokenize -> Embedding => layers (RNNs/Dense) => Output label probability\n",
        "\n",
        "```"
      ],
      "metadata": {
        "id": "Y290ymuxJvTI"
      }
    },
    {
      "cell_type": "code",
      "source": [
        "#Create an LSTM model\n",
        "\n",
        "from tensorflow.keras import layers\n",
        "inputs = layers.Input(shape =(1,), dtype = \"string\")\n",
        "x = text_vectorizer(inputs)\n",
        "x = embedding(x)\n",
        "print(x.shape)\n",
        "x = layers.LSTM(units = 64, return_sequences = True)(x) #when you're stacking RNN cells together, you need to set return_sequences = True\n",
        "print(x.shape)\n",
        "x = layers.LSTM(64)(x)\n",
        "print(x.shape)\n",
        "# x = layers.Dense(64, activation = \"relu\")(x)\n",
        "outputs = layers.Dense(1, activation = \"sigmoid\")(x)\n",
        "model_2 = tf.keras.Model(inputs, outputs, name = \"model-2_LSTM\")"
      ],
      "metadata": {
        "colab": {
          "base_uri": "https://localhost:8080/"
        },
        "id": "hA_QkPU8XbtD",
        "outputId": "5415251f-b34f-4d4f-f3c3-38790f95d603"
      },
      "execution_count": 51,
      "outputs": [
        {
          "output_type": "stream",
          "name": "stdout",
          "text": [
            "(None, 15, 128)\n",
            "(None, 15, 64)\n",
            "(None, 64)\n"
          ]
        }
      ]
    },
    {
      "cell_type": "code",
      "source": [
        "#Get a summary\n",
        "model_2.summary(\n",
        "  \n",
        ")"
      ],
      "metadata": {
        "colab": {
          "base_uri": "https://localhost:8080/"
        },
        "id": "PUVPkPCJbcik",
        "outputId": "0a84459c-2f4f-439e-b941-4b50eb23e962"
      },
      "execution_count": 52,
      "outputs": [
        {
          "output_type": "stream",
          "name": "stdout",
          "text": [
            "Model: \"model-2_LSTM\"\n",
            "_________________________________________________________________\n",
            " Layer (type)                Output Shape              Param #   \n",
            "=================================================================\n",
            " input_2 (InputLayer)        [(None, 1)]               0         \n",
            "                                                                 \n",
            " text_vectorization_1 (TextV  (None, 15)               0         \n",
            " ectorization)                                                   \n",
            "                                                                 \n",
            " embedding (Embedding)       (None, 15, 128)           1280000   \n",
            "                                                                 \n",
            " lstm (LSTM)                 (None, 15, 64)            49408     \n",
            "                                                                 \n",
            " lstm_1 (LSTM)               (None, 64)                33024     \n",
            "                                                                 \n",
            " dense_1 (Dense)             (None, 1)                 65        \n",
            "                                                                 \n",
            "=================================================================\n",
            "Total params: 1,362,497\n",
            "Trainable params: 1,362,497\n",
            "Non-trainable params: 0\n",
            "_________________________________________________________________\n"
          ]
        }
      ]
    },
    {
      "cell_type": "code",
      "source": [
        "#compile the model\n",
        "model_2.compile(loss = \"binary_crossentropy\",\n",
        "                optimizer = tf.keras.optimizers.Adam(),\n",
        "                metrics = [\"accuracy\"])"
      ],
      "metadata": {
        "id": "HyiGFildd0wz"
      },
      "execution_count": 53,
      "outputs": []
    },
    {
      "cell_type": "code",
      "source": [
        "#fit the model\n",
        "model_2_history = model_2.fit(train_sentences,\n",
        "                              train_labels,\n",
        "                              epochs = 5,\n",
        "                              validation_data = (val_sentences, val_labels),\n",
        "                              callbacks = [create_tensorboard_callback(SAVE_DIR,\n",
        "                                                                       \"model_2_LSTM\")])"
      ],
      "metadata": {
        "colab": {
          "base_uri": "https://localhost:8080/"
        },
        "id": "ZU7FV2AMeUio",
        "outputId": "d7d8e66e-823f-44fc-e36e-7aa38e779b5e"
      },
      "execution_count": 54,
      "outputs": [
        {
          "output_type": "stream",
          "name": "stdout",
          "text": [
            "Saving TensorBoard log files to: model_logs/model_2_LSTM/20230503-131521\n",
            "Epoch 1/5\n",
            "215/215 [==============================] - 16s 52ms/step - loss: 0.2138 - accuracy: 0.9241 - val_loss: 0.6003 - val_accuracy: 0.7782\n",
            "Epoch 2/5\n",
            "215/215 [==============================] - 11s 52ms/step - loss: 0.1554 - accuracy: 0.9419 - val_loss: 0.6298 - val_accuracy: 0.7730\n",
            "Epoch 3/5\n",
            "215/215 [==============================] - 10s 45ms/step - loss: 0.1318 - accuracy: 0.9504 - val_loss: 0.6687 - val_accuracy: 0.7743\n",
            "Epoch 4/5\n",
            "215/215 [==============================] - 10s 48ms/step - loss: 0.1095 - accuracy: 0.9574 - val_loss: 0.6844 - val_accuracy: 0.7769\n",
            "Epoch 5/5\n",
            "215/215 [==============================] - 12s 56ms/step - loss: 0.0839 - accuracy: 0.9656 - val_loss: 0.9088 - val_accuracy: 0.7769\n"
          ]
        }
      ]
    },
    {
      "cell_type": "code",
      "source": [
        "#make predictions with LSTM model\n",
        "model_2_pred_probs = model_2.predict(val_sentences)\n",
        "model_2_pred_probs[:10]"
      ],
      "metadata": {
        "colab": {
          "base_uri": "https://localhost:8080/"
        },
        "id": "MrO7JVfCfAMO",
        "outputId": "9b8dd47c-b603-4853-db73-e000cf6c317f"
      },
      "execution_count": 55,
      "outputs": [
        {
          "output_type": "execute_result",
          "data": {
            "text/plain": [
              "array([[1.8053085e-02],\n",
              "       [5.1391870e-01],\n",
              "       [9.9989772e-01],\n",
              "       [1.0830569e-01],\n",
              "       [4.6604872e-04],\n",
              "       [9.9980271e-01],\n",
              "       [8.4480989e-01],\n",
              "       [9.9992394e-01],\n",
              "       [9.9989557e-01],\n",
              "       [3.8714448e-01]], dtype=float32)"
            ]
          },
          "metadata": {},
          "execution_count": 55
        }
      ]
    },
    {
      "cell_type": "code",
      "source": [
        "#Convert model 2 pred probs to labels\n",
        "model_2_preds = tf.squeeze(tf.round(model_2_pred_probs))\n",
        "model_2_preds[:10]"
      ],
      "metadata": {
        "colab": {
          "base_uri": "https://localhost:8080/"
        },
        "id": "ZoiBubB_iOfW",
        "outputId": "b3874051-c519-491d-ec61-e5d5b40bdf70"
      },
      "execution_count": 56,
      "outputs": [
        {
          "output_type": "execute_result",
          "data": {
            "text/plain": [
              "<tf.Tensor: shape=(10,), dtype=float32, numpy=array([0., 1., 1., 0., 0., 1., 1., 1., 1., 0.], dtype=float32)>"
            ]
          },
          "metadata": {},
          "execution_count": 56
        }
      ]
    },
    {
      "cell_type": "code",
      "source": [
        "#Calculate model_2 results\n",
        "model_2_results = calculate_results(y_true = val_labels,\n",
        "                                    y_pred = model_2_preds)"
      ],
      "metadata": {
        "id": "TPt3Vi99iiSG"
      },
      "execution_count": 57,
      "outputs": []
    },
    {
      "cell_type": "code",
      "source": [
        "model_2_results"
      ],
      "metadata": {
        "colab": {
          "base_uri": "https://localhost:8080/"
        },
        "id": "m5Lqb40Mi2Zw",
        "outputId": "e3526ac1-73f9-466c-b8c1-461e012a31aa"
      },
      "execution_count": 58,
      "outputs": [
        {
          "output_type": "execute_result",
          "data": {
            "text/plain": [
              "{'accuracy': 77.69028871391076,\n",
              " 'precision': 0.7809693289921038,\n",
              " 'recall': 0.7769028871391076,\n",
              " 'f1': 0.7739165030429329}"
            ]
          },
          "metadata": {},
          "execution_count": 58
        }
      ]
    },
    {
      "cell_type": "markdown",
      "source": [
        "### Model 3: GRU\n",
        "\n",
        "Another popular and effective RNN component is the GRU or gated recurrent unit\n",
        "\n",
        "The GRU has similar features to an LSTM cell but has less parameters"
      ],
      "metadata": {
        "id": "xOuybBUqi6HM"
      }
    },
    {
      "cell_type": "code",
      "source": [
        "# Build an RNN using the GRU cell\n",
        "from tensorflow.keras import layers\n",
        "\n",
        "inputs = layers.Input(shape = (1,), name=\"input_layer\", dtype = \"string\")\n",
        "\n",
        "x = text_vectorizer(inputs)\n",
        "x = embedding(x)\n",
        "# x = layers.GRU(64, return_sequences = True)(x)\n",
        "x = layers.GRU(64)(x)\n",
        "\n",
        "outputs = layers.Dense(1, activation = \"sigmoid\")(x)\n",
        "\n",
        "model_3 = tf.keras.Model(inputs, outputs, name = \"model_3_GRU\")"
      ],
      "metadata": {
        "id": "4z6nY2NXi4rF"
      },
      "execution_count": 59,
      "outputs": []
    },
    {
      "cell_type": "code",
      "source": [
        "model_3.summary(\n",
        "    \n",
        ")"
      ],
      "metadata": {
        "colab": {
          "base_uri": "https://localhost:8080/"
        },
        "id": "dldedBkBiwEk",
        "outputId": "9fed5c37-9bb2-4c8a-ab00-8af656be2d51"
      },
      "execution_count": 60,
      "outputs": [
        {
          "output_type": "stream",
          "name": "stdout",
          "text": [
            "Model: \"model_3_GRU\"\n",
            "_________________________________________________________________\n",
            " Layer (type)                Output Shape              Param #   \n",
            "=================================================================\n",
            " input_layer (InputLayer)    [(None, 1)]               0         \n",
            "                                                                 \n",
            " text_vectorization_1 (TextV  (None, 15)               0         \n",
            " ectorization)                                                   \n",
            "                                                                 \n",
            " embedding (Embedding)       (None, 15, 128)           1280000   \n",
            "                                                                 \n",
            " gru (GRU)                   (None, 64)                37248     \n",
            "                                                                 \n",
            " dense_2 (Dense)             (None, 1)                 65        \n",
            "                                                                 \n",
            "=================================================================\n",
            "Total params: 1,317,313\n",
            "Trainable params: 1,317,313\n",
            "Non-trainable params: 0\n",
            "_________________________________________________________________\n"
          ]
        }
      ]
    },
    {
      "cell_type": "code",
      "source": [
        "#Compile the model\n",
        "model_3.compile(loss = \"binary_crossentropy\",\n",
        "                optimizer = tf.keras.optimizers.Adam(),\n",
        "                metrics = [\"accuracy\"])\n",
        "\n",
        "\n"
      ],
      "metadata": {
        "id": "L8S7a5DB3ewe"
      },
      "execution_count": 61,
      "outputs": []
    },
    {
      "cell_type": "code",
      "source": [
        "model_3_history = model_3.fit(train_sentences,\n",
        "                              train_labels,\n",
        "                              epochs = 5,\n",
        "                              validation_data = (val_sentences, val_labels),\n",
        "                              callbacks = [create_tensorboard_callback(SAVE_DIR,\n",
        "                                                                       \"model_3_GRU\")])"
      ],
      "metadata": {
        "colab": {
          "base_uri": "https://localhost:8080/"
        },
        "id": "4BLXWjNO4NT3",
        "outputId": "9a9594f8-025a-46d0-95f3-dfd834952f57"
      },
      "execution_count": 62,
      "outputs": [
        {
          "output_type": "stream",
          "name": "stdout",
          "text": [
            "Saving TensorBoard log files to: model_logs/model_3_GRU/20230503-131649\n",
            "Epoch 1/5\n",
            "215/215 [==============================] - 11s 42ms/step - loss: 0.1615 - accuracy: 0.9368 - val_loss: 0.6620 - val_accuracy: 0.7782\n",
            "Epoch 2/5\n",
            "215/215 [==============================] - 7s 32ms/step - loss: 0.0848 - accuracy: 0.9702 - val_loss: 0.8233 - val_accuracy: 0.7848\n",
            "Epoch 3/5\n",
            "215/215 [==============================] - 7s 34ms/step - loss: 0.0702 - accuracy: 0.9726 - val_loss: 1.0257 - val_accuracy: 0.7808\n",
            "Epoch 4/5\n",
            "215/215 [==============================] - 7s 34ms/step - loss: 0.0615 - accuracy: 0.9750 - val_loss: 1.0238 - val_accuracy: 0.7717\n",
            "Epoch 5/5\n",
            "215/215 [==============================] - 7s 33ms/step - loss: 0.0531 - accuracy: 0.9761 - val_loss: 1.2064 - val_accuracy: 0.7782\n"
          ]
        }
      ]
    },
    {
      "cell_type": "code",
      "source": [
        "#Make some predictions with our GRU model\n",
        "model_3_pred_probs = model_3.predict(val_sentences)"
      ],
      "metadata": {
        "id": "BIOBezf74vaa"
      },
      "execution_count": 63,
      "outputs": []
    },
    {
      "cell_type": "code",
      "source": [
        "model_3_pred_probs[:10]"
      ],
      "metadata": {
        "colab": {
          "base_uri": "https://localhost:8080/"
        },
        "id": "Lhx1lzj45NDR",
        "outputId": "23e19f6d-9a4d-4765-ab7b-33c2851fcaf6"
      },
      "execution_count": 64,
      "outputs": [
        {
          "output_type": "execute_result",
          "data": {
            "text/plain": [
              "array([[5.5959821e-04],\n",
              "       [6.1566466e-01],\n",
              "       [9.9977994e-01],\n",
              "       [3.6436498e-02],\n",
              "       [6.5409637e-05],\n",
              "       [9.9946034e-01],\n",
              "       [7.5854599e-01],\n",
              "       [9.9991190e-01],\n",
              "       [9.9983376e-01],\n",
              "       [3.5440969e-01]], dtype=float32)"
            ]
          },
          "metadata": {},
          "execution_count": 64
        }
      ]
    },
    {
      "cell_type": "code",
      "source": [
        "#convert model pred probs to labels\n",
        "model_3_preds = tf.squeeze(tf.round(model_3_pred_probs))\n",
        "model_3_preds[:10]"
      ],
      "metadata": {
        "colab": {
          "base_uri": "https://localhost:8080/"
        },
        "id": "QNx3c1pC5P5V",
        "outputId": "7b9b58e8-403d-4de0-d0b1-154127827496"
      },
      "execution_count": 65,
      "outputs": [
        {
          "output_type": "execute_result",
          "data": {
            "text/plain": [
              "<tf.Tensor: shape=(10,), dtype=float32, numpy=array([0., 1., 1., 0., 0., 1., 1., 1., 1., 0.], dtype=float32)>"
            ]
          },
          "metadata": {},
          "execution_count": 65
        }
      ]
    },
    {
      "cell_type": "code",
      "source": [
        "#calculate model_3 results\n",
        "model_3_results = calculate_results(val_labels,\n",
        "                                    model_3_preds)"
      ],
      "metadata": {
        "id": "AVMFHMq65c0i"
      },
      "execution_count": 66,
      "outputs": []
    },
    {
      "cell_type": "code",
      "source": [
        "model_3_results"
      ],
      "metadata": {
        "colab": {
          "base_uri": "https://localhost:8080/"
        },
        "id": "vFDMm0FB5njP",
        "outputId": "8372cea3-de5e-42d8-d200-eb7e03a2ea1e"
      },
      "execution_count": 67,
      "outputs": [
        {
          "output_type": "execute_result",
          "data": {
            "text/plain": [
              "{'accuracy': 77.82152230971128,\n",
              " 'precision': 0.7847866712890745,\n",
              " 'recall': 0.7782152230971129,\n",
              " 'f1': 0.7743757560894433}"
            ]
          },
          "metadata": {},
          "execution_count": 67
        }
      ]
    },
    {
      "cell_type": "markdown",
      "source": [
        "### Model 4: Bidirectional LSTM RNN\n",
        "\n",
        "Normal RNN's sequences go from left to right (basically from inputs to outputs only 1 direction)\n",
        "\n",
        "=> bidirectional RNN's sequences go from both way "
      ],
      "metadata": {
        "id": "TCPEpkTg5pGo"
      }
    },
    {
      "cell_type": "code",
      "source": [
        "#build a bidirectional RNN\n",
        "from tensorflow.keras import layers\n",
        "\n",
        "inputs = layers.Input(shape = (1,), dtype = \"string\")\n",
        "\n",
        "x = text_vectorizer(inputs)\n",
        "x = embedding(x)\n",
        "\n",
        "# x= layers.Bidirectional(layers.LSTM(64, return_sequences = True))(x)\n",
        "x = layers.Bidirectional(layers.LSTM(64))(x)\n",
        "outputs = layers.Dense(1, activation = \"sigmoid\")(x)\n",
        "\n",
        "model_4 = tf.keras.Model(inputs, outputs, name = \"model_4_bidirectional\")"
      ],
      "metadata": {
        "id": "okj1j0hX-Rvh"
      },
      "execution_count": 68,
      "outputs": []
    },
    {
      "cell_type": "code",
      "source": [
        "#Get a summary\n",
        "model_4.summary()"
      ],
      "metadata": {
        "colab": {
          "base_uri": "https://localhost:8080/"
        },
        "id": "qdxUjLsmp_xZ",
        "outputId": "165fcd7b-dcec-4b09-d985-66f8cffbed46"
      },
      "execution_count": 69,
      "outputs": [
        {
          "output_type": "stream",
          "name": "stdout",
          "text": [
            "Model: \"model_4_bidirectional\"\n",
            "_________________________________________________________________\n",
            " Layer (type)                Output Shape              Param #   \n",
            "=================================================================\n",
            " input_3 (InputLayer)        [(None, 1)]               0         \n",
            "                                                                 \n",
            " text_vectorization_1 (TextV  (None, 15)               0         \n",
            " ectorization)                                                   \n",
            "                                                                 \n",
            " embedding (Embedding)       (None, 15, 128)           1280000   \n",
            "                                                                 \n",
            " bidirectional (Bidirectiona  (None, 128)              98816     \n",
            " l)                                                              \n",
            "                                                                 \n",
            " dense_3 (Dense)             (None, 1)                 129       \n",
            "                                                                 \n",
            "=================================================================\n",
            "Total params: 1,378,945\n",
            "Trainable params: 1,378,945\n",
            "Non-trainable params: 0\n",
            "_________________________________________________________________\n"
          ]
        }
      ]
    },
    {
      "cell_type": "code",
      "source": [
        "#Compile model\n",
        "model_4.compile(loss=\"binary_crossentropy\",\n",
        "                optimizer = tf.keras.optimizers.Adam(),\n",
        "                metrics = [\"accuracy\"])\n"
      ],
      "metadata": {
        "id": "D0ZC6ON9uLPs"
      },
      "execution_count": 70,
      "outputs": []
    },
    {
      "cell_type": "code",
      "source": [
        "#fit the model\n",
        "model_4_history = model_4.fit(train_sentences,\n",
        "                              train_labels,\n",
        "                              epochs = 5,\n",
        "                              validation_data = (val_sentences, val_labels),\n",
        "                              callbacks = [create_tensorboard_callback(SAVE_DIR,\n",
        "                                                                       \"model_4_bidirectional\")])"
      ],
      "metadata": {
        "colab": {
          "base_uri": "https://localhost:8080/"
        },
        "id": "rTbQ77CJv-l8",
        "outputId": "9736894a-2a2d-4bfa-dce2-9bd5f802e5c9"
      },
      "execution_count": 71,
      "outputs": [
        {
          "output_type": "stream",
          "name": "stdout",
          "text": [
            "Saving TensorBoard log files to: model_logs/model_4_bidirectional/20230503-131731\n",
            "Epoch 1/5\n",
            "215/215 [==============================] - 17s 58ms/step - loss: 0.1052 - accuracy: 0.9673 - val_loss: 0.9545 - val_accuracy: 0.7664\n",
            "Epoch 2/5\n",
            "215/215 [==============================] - 8s 39ms/step - loss: 0.0526 - accuracy: 0.9768 - val_loss: 1.0844 - val_accuracy: 0.7690\n",
            "Epoch 3/5\n",
            "215/215 [==============================] - 11s 51ms/step - loss: 0.0435 - accuracy: 0.9812 - val_loss: 1.3571 - val_accuracy: 0.7625\n",
            "Epoch 4/5\n",
            "215/215 [==============================] - 10s 45ms/step - loss: 0.0412 - accuracy: 0.9796 - val_loss: 1.3318 - val_accuracy: 0.7677\n",
            "Epoch 5/5\n",
            "215/215 [==============================] - 10s 45ms/step - loss: 0.0436 - accuracy: 0.9796 - val_loss: 1.4443 - val_accuracy: 0.7612\n"
          ]
        }
      ]
    },
    {
      "cell_type": "code",
      "source": [
        "#Make predictions with our bidirectional model\n",
        "model_4_pred_probs = model_4.predict(val_sentences)"
      ],
      "metadata": {
        "id": "ufDhSxg0zWGE"
      },
      "execution_count": 72,
      "outputs": []
    },
    {
      "cell_type": "code",
      "source": [
        "model_4_pred_probs[:10]"
      ],
      "metadata": {
        "colab": {
          "base_uri": "https://localhost:8080/"
        },
        "id": "RYTDsmUUzlSh",
        "outputId": "970ee365-2da1-45a0-be9b-b9a59aedfaa2"
      },
      "execution_count": 73,
      "outputs": [
        {
          "output_type": "execute_result",
          "data": {
            "text/plain": [
              "array([[2.0491812e-01],\n",
              "       [6.8106854e-01],\n",
              "       [9.9994147e-01],\n",
              "       [2.6096699e-01],\n",
              "       [8.3312625e-06],\n",
              "       [9.9956810e-01],\n",
              "       [7.1799242e-01],\n",
              "       [9.9996823e-01],\n",
              "       [9.9995995e-01],\n",
              "       [9.9614584e-01]], dtype=float32)"
            ]
          },
          "metadata": {},
          "execution_count": 73
        }
      ]
    },
    {
      "cell_type": "code",
      "source": [
        "#convert pred probs to pred labels\n",
        "model_4_preds = tf.squeeze(tf.round(model_4_pred_probs))\n",
        "model_4_preds[:20]"
      ],
      "metadata": {
        "colab": {
          "base_uri": "https://localhost:8080/"
        },
        "id": "fKosMqgo2dqc",
        "outputId": "3cfb10f9-b97e-4205-dffc-80ca8928409d"
      },
      "execution_count": 74,
      "outputs": [
        {
          "output_type": "execute_result",
          "data": {
            "text/plain": [
              "<tf.Tensor: shape=(20,), dtype=float32, numpy=\n",
              "array([0., 1., 1., 0., 0., 1., 1., 1., 1., 1., 0., 1., 0., 0., 0., 0., 0.,\n",
              "       0., 0., 1.], dtype=float32)>"
            ]
          },
          "metadata": {},
          "execution_count": 74
        }
      ]
    },
    {
      "cell_type": "code",
      "source": [
        "#Calculate the results of our bidirectional model\n",
        "model_4_results = calculate_results(val_labels,\n",
        "                                    model_4_preds)"
      ],
      "metadata": {
        "id": "em4UVfo22m5h"
      },
      "execution_count": 75,
      "outputs": []
    },
    {
      "cell_type": "code",
      "source": [
        "model_4_results"
      ],
      "metadata": {
        "colab": {
          "base_uri": "https://localhost:8080/"
        },
        "id": "sbF41gSt3Dps",
        "outputId": "e4e2762f-67d7-48a7-fb67-7be7a91b18ec"
      },
      "execution_count": 76,
      "outputs": [
        {
          "output_type": "execute_result",
          "data": {
            "text/plain": [
              "{'accuracy': 76.11548556430446,\n",
              " 'precision': 0.7617086366916097,\n",
              " 'recall': 0.7611548556430446,\n",
              " 'f1': 0.7594983627881854}"
            ]
          },
          "metadata": {},
          "execution_count": 76
        }
      ]
    },
    {
      "cell_type": "markdown",
      "source": [
        "## Convolutional neural networks for text (and other types of sequences)\n",
        "\n",
        "We've used CNNs for images but images are typically 2D ( height and width)... however, our text data is 1D\n",
        "\n",
        "Previously, we've used Conv2D for our image data but now we'll use Conv1D for text data\n",
        "\n",
        "The typical structure of a Conv1D model for sequences (in our case, text):\n",
        "\n",
        "\n",
        "```\n",
        "inputs (text) => Tokenization => Embedding => Layer(s) ( Typically Conv1D + pooling) => Outputs (class probabilities)\n",
        "```"
      ],
      "metadata": {
        "id": "hLrRPfoe3Fo5"
      }
    },
    {
      "cell_type": "markdown",
      "source": [
        "###Model 5: Conv1D\n",
        "\n",
        "For different explaination of parameters see:\n",
        "* CNN explainer\n",
        "* the different between **same** and valid padding is that **valid** drop some of the last data if they are not fit into the kernel size, but **same** will add padding to preserve them"
      ],
      "metadata": {
        "id": "0sZlc3AXOdSa"
      }
    },
    {
      "cell_type": "code",
      "source": [
        "# Test out our embedding layer, Conv1D layer and max pooling\n",
        "embedding_test = embedding(text_vectorizer([\"this is a test sentence\"])) # turn target sequences into embedding\n",
        "\n",
        "conv_1d = layers.Conv1D(filters = 32,\n",
        "                        kernel_size = 5, #this is also referred to as an ngram of 5 (meaning it looks at 5 words at a time)\n",
        "                        activation = \"relu\",\n",
        "                        padding = \"valid\") #default = \"valid\", the output is smaller than the input shape, \"same\" means the output is equal to the input\n",
        "\n",
        "conv_1d_output = conv_1d(embedding_test) #pass test embedding through conv1d layer\n",
        "max_pool = layers.GlobalMaxPooling1D()\n",
        "max_pool_output = max_pool(conv_1d_output) #equivalent to \"get the most important feature\" or \"get the feature with the highest value\"\n",
        "\n",
        "embedding_test.shape, conv_1d_output.shape, max_pool_output.shape"
      ],
      "metadata": {
        "colab": {
          "base_uri": "https://localhost:8080/"
        },
        "id": "tvRqZrSwPWhH",
        "outputId": "74711434-1c36-4b38-fb8c-78037b981034"
      },
      "execution_count": 77,
      "outputs": [
        {
          "output_type": "execute_result",
          "data": {
            "text/plain": [
              "(TensorShape([1, 15, 128]), TensorShape([1, 11, 32]), TensorShape([1, 32]))"
            ]
          },
          "metadata": {},
          "execution_count": 77
        }
      ]
    },
    {
      "cell_type": "code",
      "source": [
        "embedding_test"
      ],
      "metadata": {
        "colab": {
          "base_uri": "https://localhost:8080/"
        },
        "id": "DRJ_pZ4NQ0FI",
        "outputId": "f279b617-ffc2-46ce-fc87-3cb84f27564d"
      },
      "execution_count": 78,
      "outputs": [
        {
          "output_type": "execute_result",
          "data": {
            "text/plain": [
              "<tf.Tensor: shape=(1, 15, 128), dtype=float32, numpy=\n",
              "array([[[ 0.04159058, -0.03227167,  0.01136384, ...,  0.07581166,\n",
              "          0.06491403, -0.02276681],\n",
              "        [-0.03850663, -0.07147297, -0.0093709 , ...,  0.04643766,\n",
              "         -0.04036772,  0.01718364],\n",
              "        [-0.0328684 , -0.0238376 ,  0.0144907 , ..., -0.01446613,\n",
              "         -0.00229081, -0.0036412 ],\n",
              "        ...,\n",
              "        [ 0.01144811, -0.04041034,  0.00632628, ...,  0.01652736,\n",
              "          0.02991068,  0.01112788],\n",
              "        [ 0.01144811, -0.04041034,  0.00632628, ...,  0.01652736,\n",
              "          0.02991068,  0.01112788],\n",
              "        [ 0.01144811, -0.04041034,  0.00632628, ...,  0.01652736,\n",
              "          0.02991068,  0.01112788]]], dtype=float32)>"
            ]
          },
          "metadata": {},
          "execution_count": 78
        }
      ]
    },
    {
      "cell_type": "code",
      "source": [
        "conv_1d_output"
      ],
      "metadata": {
        "colab": {
          "base_uri": "https://localhost:8080/"
        },
        "id": "mx3Zof6sV6lO",
        "outputId": "0a6d3655-80f1-4355-c349-a23752f9cc37"
      },
      "execution_count": 79,
      "outputs": [
        {
          "output_type": "execute_result",
          "data": {
            "text/plain": [
              "<tf.Tensor: shape=(1, 11, 32), dtype=float32, numpy=\n",
              "array([[[0.00814503, 0.07571229, 0.00958369, 0.        , 0.        ,\n",
              "         0.02779819, 0.09127066, 0.05147859, 0.01137056, 0.00310416,\n",
              "         0.02410849, 0.        , 0.        , 0.05461105, 0.06419816,\n",
              "         0.0503869 , 0.01829439, 0.01276797, 0.01445091, 0.01342125,\n",
              "         0.        , 0.        , 0.03480204, 0.        , 0.        ,\n",
              "         0.06238759, 0.05308752, 0.        , 0.        , 0.        ,\n",
              "         0.05025012, 0.        ],\n",
              "        [0.07439844, 0.06433048, 0.        , 0.        , 0.05685486,\n",
              "         0.01176068, 0.        , 0.05235785, 0.016864  , 0.        ,\n",
              "         0.        , 0.        , 0.03770078, 0.02054675, 0.016144  ,\n",
              "         0.        , 0.05554791, 0.01517249, 0.06369238, 0.03204676,\n",
              "         0.0423925 , 0.        , 0.03994127, 0.00662106, 0.05182085,\n",
              "         0.04089259, 0.        , 0.        , 0.        , 0.05433001,\n",
              "         0.04976372, 0.01723464],\n",
              "        [0.08310943, 0.09559221, 0.03219372, 0.        , 0.01240993,\n",
              "         0.06400562, 0.        , 0.05040755, 0.        , 0.        ,\n",
              "         0.05682346, 0.0028027 , 0.03004479, 0.04734969, 0.01131134,\n",
              "         0.09074261, 0.        , 0.        , 0.        , 0.        ,\n",
              "         0.        , 0.        , 0.00480985, 0.01303866, 0.00405641,\n",
              "         0.06694871, 0.        , 0.06353015, 0.03461035, 0.03424909,\n",
              "         0.        , 0.        ],\n",
              "        [0.01931275, 0.08849044, 0.10134576, 0.00838872, 0.02969989,\n",
              "         0.        , 0.03631523, 0.03724729, 0.        , 0.        ,\n",
              "         0.06389433, 0.        , 0.00139355, 0.07612509, 0.02450923,\n",
              "         0.01104045, 0.        , 0.03324074, 0.        , 0.        ,\n",
              "         0.        , 0.00339487, 0.        , 0.        , 0.06791184,\n",
              "         0.037758  , 0.        , 0.06222744, 0.03584827, 0.        ,\n",
              "         0.        , 0.02449209],\n",
              "        [0.        , 0.00975234, 0.03851068, 0.        , 0.02367719,\n",
              "         0.        , 0.        , 0.        , 0.00973945, 0.        ,\n",
              "         0.05234718, 0.        , 0.02537633, 0.03811207, 0.        ,\n",
              "         0.01414345, 0.        , 0.01203246, 0.00515386, 0.        ,\n",
              "         0.        , 0.        , 0.        , 0.03947676, 0.03595644,\n",
              "         0.06246343, 0.        , 0.06723581, 0.04917376, 0.0216104 ,\n",
              "         0.        , 0.05138846],\n",
              "        [0.        , 0.0127841 , 0.02527246, 0.        , 0.        ,\n",
              "         0.        , 0.        , 0.        , 0.00151917, 0.        ,\n",
              "         0.0205538 , 0.        , 0.02000498, 0.05670295, 0.02173595,\n",
              "         0.01243984, 0.        , 0.0257648 , 0.01135592, 0.        ,\n",
              "         0.        , 0.        , 0.        , 0.03015765, 0.03484941,\n",
              "         0.06274559, 0.        , 0.0435007 , 0.04490397, 0.        ,\n",
              "         0.        , 0.04516869],\n",
              "        [0.        , 0.0127841 , 0.02527246, 0.        , 0.        ,\n",
              "         0.        , 0.        , 0.        , 0.00151917, 0.        ,\n",
              "         0.0205538 , 0.        , 0.02000498, 0.05670295, 0.02173595,\n",
              "         0.01243984, 0.        , 0.0257648 , 0.01135592, 0.        ,\n",
              "         0.        , 0.        , 0.        , 0.03015765, 0.03484941,\n",
              "         0.06274559, 0.        , 0.0435007 , 0.04490397, 0.        ,\n",
              "         0.        , 0.04516869],\n",
              "        [0.        , 0.0127841 , 0.02527246, 0.        , 0.        ,\n",
              "         0.        , 0.        , 0.        , 0.00151917, 0.        ,\n",
              "         0.0205538 , 0.        , 0.02000498, 0.05670295, 0.02173595,\n",
              "         0.01243984, 0.        , 0.0257648 , 0.01135592, 0.        ,\n",
              "         0.        , 0.        , 0.        , 0.03015765, 0.03484941,\n",
              "         0.06274559, 0.        , 0.0435007 , 0.04490397, 0.        ,\n",
              "         0.        , 0.04516869],\n",
              "        [0.        , 0.0127841 , 0.02527246, 0.        , 0.        ,\n",
              "         0.        , 0.        , 0.        , 0.00151917, 0.        ,\n",
              "         0.0205538 , 0.        , 0.02000498, 0.05670295, 0.02173595,\n",
              "         0.01243984, 0.        , 0.0257648 , 0.01135592, 0.        ,\n",
              "         0.        , 0.        , 0.        , 0.03015765, 0.03484941,\n",
              "         0.06274559, 0.        , 0.0435007 , 0.04490397, 0.        ,\n",
              "         0.        , 0.04516869],\n",
              "        [0.        , 0.0127841 , 0.02527246, 0.        , 0.        ,\n",
              "         0.        , 0.        , 0.        , 0.00151917, 0.        ,\n",
              "         0.0205538 , 0.        , 0.02000498, 0.05670295, 0.02173595,\n",
              "         0.01243984, 0.        , 0.0257648 , 0.01135592, 0.        ,\n",
              "         0.        , 0.        , 0.        , 0.03015765, 0.03484941,\n",
              "         0.06274559, 0.        , 0.0435007 , 0.04490397, 0.        ,\n",
              "         0.        , 0.04516869],\n",
              "        [0.        , 0.0127841 , 0.02527246, 0.        , 0.        ,\n",
              "         0.        , 0.        , 0.        , 0.00151917, 0.        ,\n",
              "         0.0205538 , 0.        , 0.02000498, 0.05670295, 0.02173595,\n",
              "         0.01243984, 0.        , 0.0257648 , 0.01135592, 0.        ,\n",
              "         0.        , 0.        , 0.        , 0.03015765, 0.03484941,\n",
              "         0.06274559, 0.        , 0.0435007 , 0.04490397, 0.        ,\n",
              "         0.        , 0.04516869]]], dtype=float32)>"
            ]
          },
          "metadata": {},
          "execution_count": 79
        }
      ]
    },
    {
      "cell_type": "code",
      "source": [
        "max_pool_output"
      ],
      "metadata": {
        "colab": {
          "base_uri": "https://localhost:8080/"
        },
        "id": "1pMsjptBV-Z7",
        "outputId": "c96064a2-6392-4e98-9b9b-88c1c24f6af3"
      },
      "execution_count": 80,
      "outputs": [
        {
          "output_type": "execute_result",
          "data": {
            "text/plain": [
              "<tf.Tensor: shape=(1, 32), dtype=float32, numpy=\n",
              "array([[0.08310943, 0.09559221, 0.10134576, 0.00838872, 0.05685486,\n",
              "        0.06400562, 0.09127066, 0.05235785, 0.016864  , 0.00310416,\n",
              "        0.06389433, 0.0028027 , 0.03770078, 0.07612509, 0.06419816,\n",
              "        0.09074261, 0.05554791, 0.03324074, 0.06369238, 0.03204676,\n",
              "        0.0423925 , 0.00339487, 0.03994127, 0.03947676, 0.06791184,\n",
              "        0.06694871, 0.05308752, 0.06723581, 0.04917376, 0.05433001,\n",
              "        0.05025012, 0.05138846]], dtype=float32)>"
            ]
          },
          "metadata": {},
          "execution_count": 80
        }
      ]
    },
    {
      "cell_type": "code",
      "source": [
        "from tensorflow.keras import layers\n",
        "\n",
        "inputs = layers.Input(shape = (1,), dtype = \"string\")\n",
        "\n",
        "x = text_vectorizer(inputs)\n",
        "x = embedding(x)\n",
        "x = layers.Conv1D(filters = 64,\n",
        "                  kernel_size = 5,\n",
        "                  activation = \"relu\",\n",
        "                  padding = \"valid\")(x)\n",
        "\n",
        "x = layers.GlobalMaxPool1D()(x)\n",
        "\n",
        "outputs = layers.Dense(1, activation = \"sigmoid\")(x)\n",
        "\n",
        "model_5 = tf.keras.Model(inputs, outputs, name = \"model_5_conv1d\")\n",
        "\n",
        "\n",
        "#compile Conv1D\n",
        "model_5.compile(loss = \"binary_crossentropy\",\n",
        "                optimizer = tf.keras.optimizers.Adam(),\n",
        "                metrics = [\"accuracy\"])\n",
        "\n",
        "#summary\n",
        "model_5.summary()"
      ],
      "metadata": {
        "colab": {
          "base_uri": "https://localhost:8080/"
        },
        "id": "4fwz98OXeSdB",
        "outputId": "d7cb41e2-0c84-40a6-c2e1-80908a42c977"
      },
      "execution_count": 81,
      "outputs": [
        {
          "output_type": "stream",
          "name": "stdout",
          "text": [
            "Model: \"model_5_conv1d\"\n",
            "_________________________________________________________________\n",
            " Layer (type)                Output Shape              Param #   \n",
            "=================================================================\n",
            " input_4 (InputLayer)        [(None, 1)]               0         \n",
            "                                                                 \n",
            " text_vectorization_1 (TextV  (None, 15)               0         \n",
            " ectorization)                                                   \n",
            "                                                                 \n",
            " embedding (Embedding)       (None, 15, 128)           1280000   \n",
            "                                                                 \n",
            " conv1d_1 (Conv1D)           (None, 11, 64)            41024     \n",
            "                                                                 \n",
            " global_max_pooling1d_1 (Glo  (None, 64)               0         \n",
            " balMaxPooling1D)                                                \n",
            "                                                                 \n",
            " dense_4 (Dense)             (None, 1)                 65        \n",
            "                                                                 \n",
            "=================================================================\n",
            "Total params: 1,321,089\n",
            "Trainable params: 1,321,089\n",
            "Non-trainable params: 0\n",
            "_________________________________________________________________\n"
          ]
        }
      ]
    },
    {
      "cell_type": "code",
      "source": [
        "#fit the model\n",
        "\n",
        "model_5_history = model_5.fit(train_sentences,\n",
        "                              train_labels,\n",
        "                              epochs = 5,\n",
        "                              validation_data = (val_sentences, val_labels),\n",
        "                              callbacks = [create_tensorboard_callback(SAVE_DIR,\n",
        "                                                                       \"model_5_conv1d\")])"
      ],
      "metadata": {
        "colab": {
          "base_uri": "https://localhost:8080/"
        },
        "id": "jwVzYBamhKAe",
        "outputId": "7e953c21-55d1-4c01-b92f-80ac72229aa9"
      },
      "execution_count": 82,
      "outputs": [
        {
          "output_type": "stream",
          "name": "stdout",
          "text": [
            "Saving TensorBoard log files to: model_logs/model_5_conv1d/20230503-131859\n",
            "Epoch 1/5\n",
            "215/215 [==============================] - 7s 28ms/step - loss: 0.1224 - accuracy: 0.9566 - val_loss: 0.9033 - val_accuracy: 0.7690\n",
            "Epoch 2/5\n",
            "215/215 [==============================] - 4s 20ms/step - loss: 0.0736 - accuracy: 0.9752 - val_loss: 1.0429 - val_accuracy: 0.7612\n",
            "Epoch 3/5\n",
            "215/215 [==============================] - 5s 22ms/step - loss: 0.0599 - accuracy: 0.9775 - val_loss: 1.1222 - val_accuracy: 0.7585\n",
            "Epoch 4/5\n",
            "215/215 [==============================] - 6s 29ms/step - loss: 0.0556 - accuracy: 0.9761 - val_loss: 1.1553 - val_accuracy: 0.7533\n",
            "Epoch 5/5\n",
            "215/215 [==============================] - 5s 23ms/step - loss: 0.0502 - accuracy: 0.9781 - val_loss: 1.2546 - val_accuracy: 0.7493\n"
          ]
        }
      ]
    },
    {
      "cell_type": "code",
      "source": [
        "#make some predictions with our conv1d model\n",
        "\n",
        "model_5_pred_probs = model_5.predict(val_sentences)"
      ],
      "metadata": {
        "id": "9WxiJw6To7lF"
      },
      "execution_count": 83,
      "outputs": []
    },
    {
      "cell_type": "code",
      "source": [
        "#convert model 5 pred probs to labels\n",
        "model_5_preds = tf.squeeze(tf.round(model_5_pred_probs))"
      ],
      "metadata": {
        "id": "MzfGSsnJpMLA"
      },
      "execution_count": 84,
      "outputs": []
    },
    {
      "cell_type": "code",
      "source": [
        "model_5_preds[:10]"
      ],
      "metadata": {
        "colab": {
          "base_uri": "https://localhost:8080/"
        },
        "id": "wz73XH5Zpaci",
        "outputId": "162959de-d92f-4bb1-a16b-43d1f99a642f"
      },
      "execution_count": 85,
      "outputs": [
        {
          "output_type": "execute_result",
          "data": {
            "text/plain": [
              "<tf.Tensor: shape=(10,), dtype=float32, numpy=array([0., 1., 1., 0., 0., 1., 1., 1., 1., 1.], dtype=float32)>"
            ]
          },
          "metadata": {},
          "execution_count": 85
        }
      ]
    },
    {
      "cell_type": "code",
      "source": [
        "#evaluate model 5\n",
        "model_5_results = calculate_results(val_labels,\n",
        "                                    model_5_preds)"
      ],
      "metadata": {
        "id": "OTDUbNn-pbt6"
      },
      "execution_count": 86,
      "outputs": []
    },
    {
      "cell_type": "code",
      "source": [
        "model_5_results"
      ],
      "metadata": {
        "colab": {
          "base_uri": "https://localhost:8080/"
        },
        "id": "ZhJfx16Ps5nA",
        "outputId": "92d0ec41-8537-448e-d1a3-4644be5aab36"
      },
      "execution_count": 87,
      "outputs": [
        {
          "output_type": "execute_result",
          "data": {
            "text/plain": [
              "{'accuracy': 74.93438320209974,\n",
              " 'precision': 0.7500996927165142,\n",
              " 'recall': 0.7493438320209974,\n",
              " 'f1': 0.747278252053036}"
            ]
          },
          "metadata": {},
          "execution_count": 87
        }
      ]
    },
    {
      "cell_type": "markdown",
      "source": [
        "## Model 6: Tensorflow Hub Pretrained Sentence Encoder\n",
        "\n",
        "Now we've built a few of our own models, let's try and use transfer learning for NLP, specifically using Tensorflow Hub's Universal Sentence Encoder:https://tfhub.dev/google/universal-sentence-encoder/4\n",
        "\n",
        "See how the USE was created here: http://arxiv.org/abs/1803.11175\n"
      ],
      "metadata": {
        "id": "cwt0SXdPs6s7"
      }
    },
    {
      "cell_type": "code",
      "source": [
        "import tensorflow_hub as hub\n",
        "embed = hub.load(\"https://tfhub.dev/google/universal-sentence-encoder/4\")\n",
        "embed_samples = embed([sample_sentence,\n",
        "                       \"when you call the universal sentence encoder on a sentence it turns it into numbers.\"])\n",
        "\n",
        "print(embed_samples[0].shape)"
      ],
      "metadata": {
        "colab": {
          "base_uri": "https://localhost:8080/"
        },
        "id": "Uoyrq6qP5YEN",
        "outputId": "041349e1-b428-4ed5-8709-d7b9833dbf0f"
      },
      "execution_count": 88,
      "outputs": [
        {
          "output_type": "stream",
          "name": "stdout",
          "text": [
            "(512,)\n"
          ]
        }
      ]
    },
    {
      "cell_type": "code",
      "source": [
        "#Create a Keras layer using the USE pretrained layer from tensorflow hub\n",
        "\n",
        "sentence_encoder_layer = hub.KerasLayer(\"https://tfhub.dev/google/universal-sentence-encoder/4\",\n",
        "                                        input_shape = [],\n",
        "                                        dtype = tf.string,\n",
        "                                        trainable = False,\n",
        "                                        name = \"USE\")"
      ],
      "metadata": {
        "id": "p_2wmULFkz4Y"
      },
      "execution_count": 89,
      "outputs": []
    },
    {
      "cell_type": "code",
      "source": [
        "#Creaet model using the Sequential API\n",
        "model_6 = tf.keras.Sequential([\n",
        "    sentence_encoder_layer,\n",
        "    layers.Dense(64, activation = \"relu\"),\n",
        "    layers.Dense(1, activation = \"sigmoid\")\n",
        "], name = \"model_6_USE\")\n",
        "\n",
        "#compile \n",
        "model_6.compile(loss = \"binary_crossentropy\",\n",
        "                optimizer = tf.keras.optimizers.Adam(),\n",
        "                metrics = [\"accuracy\"])\n",
        "\n",
        "#summary\n",
        "model_6.summary()"
      ],
      "metadata": {
        "colab": {
          "base_uri": "https://localhost:8080/"
        },
        "id": "PLgiF9UGvqHD",
        "outputId": "b156e0e3-4dc5-4310-ef5d-1a8f8f20600a"
      },
      "execution_count": 90,
      "outputs": [
        {
          "output_type": "stream",
          "name": "stdout",
          "text": [
            "Model: \"model_6_USE\"\n",
            "_________________________________________________________________\n",
            " Layer (type)                Output Shape              Param #   \n",
            "=================================================================\n",
            " USE (KerasLayer)            (None, 512)               256797824 \n",
            "                                                                 \n",
            " dense_5 (Dense)             (None, 64)                32832     \n",
            "                                                                 \n",
            " dense_6 (Dense)             (None, 1)                 65        \n",
            "                                                                 \n",
            "=================================================================\n",
            "Total params: 256,830,721\n",
            "Trainable params: 32,897\n",
            "Non-trainable params: 256,797,824\n",
            "_________________________________________________________________\n"
          ]
        }
      ]
    },
    {
      "cell_type": "code",
      "source": [
        "#train a classiier on top of USE pretrained embeddings\n",
        "model_6_history = model_6.fit(train_sentences,\n",
        "                              train_labels,\n",
        "                              epochs = 5,\n",
        "                              validation_data = (val_sentences, val_labels),\n",
        "                              callbacks = [create_tensorboard_callback(SAVE_DIR,\n",
        "                                                                       \"tf_hub_sentence_encoder\")])"
      ],
      "metadata": {
        "colab": {
          "base_uri": "https://localhost:8080/"
        },
        "id": "2F7utZiNwU4T",
        "outputId": "139c41cc-0cb3-4709-c954-a6e659409b2b"
      },
      "execution_count": 91,
      "outputs": [
        {
          "output_type": "stream",
          "name": "stdout",
          "text": [
            "Saving TensorBoard log files to: model_logs/tf_hub_sentence_encoder/20230503-132019\n",
            "Epoch 1/5\n",
            "215/215 [==============================] - 7s 16ms/step - loss: 0.5022 - accuracy: 0.7878 - val_loss: 0.4483 - val_accuracy: 0.8005\n",
            "Epoch 2/5\n",
            "215/215 [==============================] - 3s 12ms/step - loss: 0.4141 - accuracy: 0.8137 - val_loss: 0.4418 - val_accuracy: 0.8110\n",
            "Epoch 3/5\n",
            "215/215 [==============================] - 4s 19ms/step - loss: 0.4010 - accuracy: 0.8222 - val_loss: 0.4334 - val_accuracy: 0.8136\n",
            "Epoch 4/5\n",
            "215/215 [==============================] - 4s 17ms/step - loss: 0.3939 - accuracy: 0.8270 - val_loss: 0.4335 - val_accuracy: 0.8123\n",
            "Epoch 5/5\n",
            "215/215 [==============================] - 3s 12ms/step - loss: 0.3860 - accuracy: 0.8297 - val_loss: 0.4288 - val_accuracy: 0.8150\n"
          ]
        }
      ]
    },
    {
      "cell_type": "code",
      "source": [
        "#make predictions with USE TF Hub model\n",
        "model_6_pred_probs = model_6.predict(val_sentences)\n",
        "model_6_pred_probs[:10]"
      ],
      "metadata": {
        "colab": {
          "base_uri": "https://localhost:8080/"
        },
        "id": "MIFrtwNbwTFM",
        "outputId": "fd8422a0-ec81-4e2f-8c9d-2d3f8d888386"
      },
      "execution_count": 92,
      "outputs": [
        {
          "output_type": "execute_result",
          "data": {
            "text/plain": [
              "array([[0.17544612],\n",
              "       [0.774793  ],\n",
              "       [0.98777103],\n",
              "       [0.21565196],\n",
              "       [0.6971686 ],\n",
              "       [0.7371361 ],\n",
              "       [0.98001885],\n",
              "       [0.9728503 ],\n",
              "       [0.93781435],\n",
              "       [0.09237158]], dtype=float32)"
            ]
          },
          "metadata": {},
          "execution_count": 92
        }
      ]
    },
    {
      "cell_type": "code",
      "source": [
        "#convert prediction probabilities to labels\n",
        "model_6_preds = tf.squeeze(tf.round(model_6_pred_probs))\n",
        "model_6_preds[:10]"
      ],
      "metadata": {
        "colab": {
          "base_uri": "https://localhost:8080/"
        },
        "id": "3g3VDB22xOvf",
        "outputId": "96560780-d6b9-4a50-f0da-4f0e53f30a00"
      },
      "execution_count": 93,
      "outputs": [
        {
          "output_type": "execute_result",
          "data": {
            "text/plain": [
              "<tf.Tensor: shape=(10,), dtype=float32, numpy=array([0., 1., 1., 0., 1., 1., 1., 1., 1., 0.], dtype=float32)>"
            ]
          },
          "metadata": {},
          "execution_count": 93
        }
      ]
    },
    {
      "cell_type": "code",
      "source": [
        "# calculate model 6 results\n",
        "model_6_results = calculate_results(val_labels,\n",
        "                                    model_6_preds)"
      ],
      "metadata": {
        "id": "THMq0BSHxaAd"
      },
      "execution_count": 94,
      "outputs": []
    },
    {
      "cell_type": "code",
      "source": [
        "model_6_results"
      ],
      "metadata": {
        "colab": {
          "base_uri": "https://localhost:8080/"
        },
        "id": "y8hhpaioxlGD",
        "outputId": "25f9f431-5ab6-44c0-ebc4-f3f8b5d1a802"
      },
      "execution_count": 95,
      "outputs": [
        {
          "output_type": "execute_result",
          "data": {
            "text/plain": [
              "{'accuracy': 81.49606299212599,\n",
              " 'precision': 0.8175707797736699,\n",
              " 'recall': 0.8149606299212598,\n",
              " 'f1': 0.8133343159175271}"
            ]
          },
          "metadata": {},
          "execution_count": 95
        }
      ]
    },
    {
      "cell_type": "code",
      "source": [
        "baseline_results"
      ],
      "metadata": {
        "colab": {
          "base_uri": "https://localhost:8080/"
        },
        "id": "uk4BsWqrxmRa",
        "outputId": "00dd39a9-4ea2-4a3f-e56b-d5537033fa2b"
      },
      "execution_count": 96,
      "outputs": [
        {
          "output_type": "execute_result",
          "data": {
            "text/plain": [
              "{'accuracy': 79.26509186351706,\n",
              " 'precision': 0.8111390004213173,\n",
              " 'recall': 0.7926509186351706,\n",
              " 'f1': 0.7862189758049549}"
            ]
          },
          "metadata": {},
          "execution_count": 96
        }
      ]
    },
    {
      "cell_type": "code",
      "source": [
        "len(train_df)"
      ],
      "metadata": {
        "colab": {
          "base_uri": "https://localhost:8080/"
        },
        "id": "LE1G7jktyX2d",
        "outputId": "927169a6-8ede-4177-a5b1-500a17c6cde2"
      },
      "execution_count": 97,
      "outputs": [
        {
          "output_type": "execute_result",
          "data": {
            "text/plain": [
              "7613"
            ]
          },
          "metadata": {},
          "execution_count": 97
        }
      ]
    },
    {
      "cell_type": "markdown",
      "source": [
        "##Model_7: TF Hub Pretrained USE but with 10% of training data\n",
        "\n",
        "Transfer learning really helps when you don't have a large dataset\n",
        "\n",
        "to see how our model performs on a smaller dataset, let's replicate `model_6` except we'll train it on 10% of the training data"
      ],
      "metadata": {
        "id": "PPCK_c7I0GQT"
      }
    },
    {
      "cell_type": "code",
      "source": [
        "## NOTE: Making datas loke below leads to data leakage(model_7 trained on 10% data, outperforms model_6 trained on 100% data)\n",
        "## DO NOT MAKE DATA SPLITS WHICH LEAK DATA FROM VALIDATION/TEST SETS INTO TRAINING SET\n",
        "# Create subset of 10% of the training data\n",
        "# train_10_percent = train_df_shuffled[[\"text\", \"target\"]].sample(frac = 0.1, random_state = 42)\n",
        "# train_sentences_10_percent = train_10_percent[\"text\"].to_list()\n",
        "# train_labels_10_percent = train_10_percent[\"target\"].to_list()\n",
        "\n",
        "\n",
        "# len(train_labels_10_percent), len(train_sentences_10_percent)"
      ],
      "metadata": {
        "id": "r89uZftp8PEl"
      },
      "execution_count": 98,
      "outputs": []
    },
    {
      "cell_type": "markdown",
      "source": [
        ">**Note:** be *very* careful when creating training/val/test split that you don't leak data across datasets, otherwise your model evaluation metrics will be wrong. If somethings looks too good to be true (a model trained on 10% of the data outperforming a same model trained on 100% of data) trust your gut and go back through to find where the error may lie"
      ],
      "metadata": {
        "id": "DApfq_RtUwXW"
      }
    },
    {
      "cell_type": "code",
      "source": [
        "#making a better dataset split (no data leakage)\n",
        "\n",
        "train_10_percent_split = int(0.1* len(train_sentences))\n",
        "train_sentences_10_percent = train_sentences[:train_10_percent_split]\n",
        "train_labels_10_percent = train_labels[:train_10_percent_split]"
      ],
      "metadata": {
        "id": "5X4EndhdRmly"
      },
      "execution_count": 99,
      "outputs": []
    },
    {
      "cell_type": "code",
      "source": [
        "len(train_sentences_10_percent), train_labels_10_percent[:10]"
      ],
      "metadata": {
        "colab": {
          "base_uri": "https://localhost:8080/"
        },
        "id": "9V3ZHSNxSgs1",
        "outputId": "c161b1ab-7f6a-4fee-a2e0-1dd760c0c7a0"
      },
      "execution_count": 101,
      "outputs": [
        {
          "output_type": "execute_result",
          "data": {
            "text/plain": [
              "(685, array([0, 0, 1, 0, 0, 1, 1, 0, 1, 1]))"
            ]
          },
          "metadata": {},
          "execution_count": 101
        }
      ]
    },
    {
      "cell_type": "code",
      "source": [
        "#check number of each label in the updated training labels set\n",
        "pd.Series(np.array(train_labels_10_percent)).value_counts()"
      ],
      "metadata": {
        "colab": {
          "base_uri": "https://localhost:8080/"
        },
        "id": "9EujRqdETP2j",
        "outputId": "4f75f1a5-d345-4e52-8fab-66c9f15dcd1b"
      },
      "execution_count": 102,
      "outputs": [
        {
          "output_type": "execute_result",
          "data": {
            "text/plain": [
              "0    406\n",
              "1    279\n",
              "dtype: int64"
            ]
          },
          "metadata": {},
          "execution_count": 102
        }
      ]
    },
    {
      "cell_type": "code",
      "source": [],
      "metadata": {
        "id": "lwMxRLgvTX9Z"
      },
      "execution_count": 102,
      "outputs": []
    },
    {
      "cell_type": "code",
      "source": [
        "#Check the number of target in our subset of data\n",
        "# train_10_percent[\"target\"].value_counts()"
      ],
      "metadata": {
        "id": "Zpo2_XR0_Zg_"
      },
      "execution_count": 103,
      "outputs": []
    },
    {
      "cell_type": "code",
      "source": [
        "# train_df_shuffled[\"target\"].value_counts()"
      ],
      "metadata": {
        "id": "EgH3-TiOA0Gf"
      },
      "execution_count": 104,
      "outputs": []
    },
    {
      "cell_type": "markdown",
      "source": [
        "To recreate a model the same as a previous model you've created, you can use the `tf.keras.models.clone_model` method"
      ],
      "metadata": {
        "id": "RDo3w1qAEEXT"
      }
    },
    {
      "cell_type": "code",
      "source": [
        "#Let's build a model same as model_6\n",
        "model_7 = tf.keras.models.clone_model(model_6)"
      ],
      "metadata": {
        "id": "QHjZpGxWA_aP"
      },
      "execution_count": 105,
      "outputs": []
    },
    {
      "cell_type": "code",
      "source": [
        "model_7.compile(loss = \"binary_crossentropy\",\n",
        "                optimizer = tf.keras.optimizers.Adam(),\n",
        "                metrics = [\"accuracy\"])\n",
        "\n",
        "model_7.summary()"
      ],
      "metadata": {
        "colab": {
          "base_uri": "https://localhost:8080/"
        },
        "id": "FrqSrGtyC7YJ",
        "outputId": "90ab4ea9-f58c-4740-b939-dec91c329ffd"
      },
      "execution_count": 106,
      "outputs": [
        {
          "output_type": "stream",
          "name": "stdout",
          "text": [
            "Model: \"model_6_USE\"\n",
            "_________________________________________________________________\n",
            " Layer (type)                Output Shape              Param #   \n",
            "=================================================================\n",
            " USE (KerasLayer)            (None, 512)               256797824 \n",
            "                                                                 \n",
            " dense_5 (Dense)             (None, 64)                32832     \n",
            "                                                                 \n",
            " dense_6 (Dense)             (None, 1)                 65        \n",
            "                                                                 \n",
            "=================================================================\n",
            "Total params: 256,830,721\n",
            "Trainable params: 32,897\n",
            "Non-trainable params: 256,797,824\n",
            "_________________________________________________________________\n"
          ]
        }
      ]
    },
    {
      "cell_type": "code",
      "source": [
        "#Fit the model to the 10% training data subsets\n",
        "model_7_history = model_7.fit(train_sentences_10_percent,\n",
        "                              train_labels_10_percent,\n",
        "                              epochs = 5,\n",
        "                              validation_data = (val_sentences, val_labels),\n",
        "                              callbacks = [create_tensorboard_callback(SAVE_DIR,\n",
        "                                                                       \"model_7_10_percent_USE_correct_split\")])"
      ],
      "metadata": {
        "colab": {
          "base_uri": "https://localhost:8080/"
        },
        "id": "AWdR823VFkP-",
        "outputId": "6f59822e-111a-453a-89e7-5ce6a38fcf63"
      },
      "execution_count": 107,
      "outputs": [
        {
          "output_type": "stream",
          "name": "stdout",
          "text": [
            "Saving TensorBoard log files to: model_logs/model_7_10_percent_USE_correct_split/20230503-132205\n",
            "Epoch 1/5\n",
            "22/22 [==============================] - 12s 203ms/step - loss: 0.6750 - accuracy: 0.6190 - val_loss: 0.6514 - val_accuracy: 0.7520\n",
            "Epoch 2/5\n",
            "22/22 [==============================] - 1s 41ms/step - loss: 0.6062 - accuracy: 0.7985 - val_loss: 0.5915 - val_accuracy: 0.7717\n",
            "Epoch 3/5\n",
            "22/22 [==============================] - 1s 40ms/step - loss: 0.5298 - accuracy: 0.8204 - val_loss: 0.5407 - val_accuracy: 0.7743\n",
            "Epoch 4/5\n",
            "22/22 [==============================] - 1s 40ms/step - loss: 0.4684 - accuracy: 0.8204 - val_loss: 0.5045 - val_accuracy: 0.7717\n",
            "Epoch 5/5\n",
            "22/22 [==============================] - 1s 51ms/step - loss: 0.4268 - accuracy: 0.8321 - val_loss: 0.4888 - val_accuracy: 0.7822\n"
          ]
        }
      ]
    },
    {
      "cell_type": "code",
      "source": [
        "#make prediction with the model trained on 10% of the data\n",
        "model_7_pred_probs = model_7.predict(val_sentences)\n",
        "model_7_pred_probs[:10]"
      ],
      "metadata": {
        "colab": {
          "base_uri": "https://localhost:8080/"
        },
        "id": "ezVmWbydHEyk",
        "outputId": "ae4d8cc3-af6b-4ee4-ae73-463306e9c234"
      },
      "execution_count": 108,
      "outputs": [
        {
          "output_type": "execute_result",
          "data": {
            "text/plain": [
              "array([[0.21827602],\n",
              "       [0.57207394],\n",
              "       [0.9189296 ],\n",
              "       [0.40337   ],\n",
              "       [0.5215779 ],\n",
              "       [0.71939933],\n",
              "       [0.89605176],\n",
              "       [0.82761514],\n",
              "       [0.8560419 ],\n",
              "       [0.16964683]], dtype=float32)"
            ]
          },
          "metadata": {},
          "execution_count": 108
        }
      ]
    },
    {
      "cell_type": "code",
      "source": [
        "#turn model 7 pred probs into labels\n",
        "model_7_preds = tf.squeeze(tf.round(model_7_pred_probs))\n",
        "model_7_preds[:10]"
      ],
      "metadata": {
        "colab": {
          "base_uri": "https://localhost:8080/"
        },
        "id": "rPzZVaSUJxzW",
        "outputId": "f39143ea-2251-4ae7-db3a-5eb6ec6dbc34"
      },
      "execution_count": 109,
      "outputs": [
        {
          "output_type": "execute_result",
          "data": {
            "text/plain": [
              "<tf.Tensor: shape=(10,), dtype=float32, numpy=array([0., 1., 1., 0., 1., 1., 1., 1., 1., 0.], dtype=float32)>"
            ]
          },
          "metadata": {},
          "execution_count": 109
        }
      ]
    },
    {
      "cell_type": "code",
      "source": [
        "#evaluate model 7 predictions\n",
        "model_7_results = calculate_results(val_labels,\n",
        "                                    model_7_preds)"
      ],
      "metadata": {
        "id": "Cg8g9KyiJ8ac"
      },
      "execution_count": 110,
      "outputs": []
    },
    {
      "cell_type": "code",
      "source": [
        "model_7_results"
      ],
      "metadata": {
        "colab": {
          "base_uri": "https://localhost:8080/"
        },
        "id": "1wXnD61rKI2I",
        "outputId": "cc1a37fb-0e4a-43dd-f110-1d35350e3128"
      },
      "execution_count": 111,
      "outputs": [
        {
          "output_type": "execute_result",
          "data": {
            "text/plain": [
              "{'accuracy': 78.21522309711287,\n",
              " 'precision': 0.7835553063606987,\n",
              " 'recall': 0.7821522309711286,\n",
              " 'f1': 0.7804155135464126}"
            ]
          },
          "metadata": {},
          "execution_count": 111
        }
      ]
    },
    {
      "cell_type": "markdown",
      "source": [
        "## Comparing the performance of each of our models"
      ],
      "metadata": {
        "id": "a2zeiZuDKRTs"
      }
    },
    {
      "cell_type": "code",
      "source": [
        "# Combine all the results to a panda dataframe\n",
        "\n",
        "all_model_results = pd.DataFrame({\"baseline\": baseline_results,\n",
        "                                  \"1_simple_dense\": model_1_results,\n",
        "                                  \"2_lstm\": model_2_results,\n",
        "                                  \"3_gru\": model_3_results,\n",
        "                                  \"4_bidirectional\": model_4_results,\n",
        "                                  \"5_conv1d\": model_5_results,\n",
        "                                  \"6_tf_hub_use_encoder\": model_6_results,\n",
        "                                  \"7_tf_hub_use_encoder_10_percent\": model_7_results})\n",
        "\n",
        "all_model_results = all_model_results.transpose()"
      ],
      "metadata": {
        "id": "3HJkooxg3T6S"
      },
      "execution_count": 116,
      "outputs": []
    },
    {
      "cell_type": "code",
      "source": [
        "# reduce the accuracy to the same scale as other metrics\n",
        "all_model_results[\"accuracy\"] = all_model_results[\"accuracy\"]/100"
      ],
      "metadata": {
        "id": "nDzQXwsL9Nxv"
      },
      "execution_count": 117,
      "outputs": []
    },
    {
      "cell_type": "code",
      "source": [
        "all_model_results"
      ],
      "metadata": {
        "colab": {
          "base_uri": "https://localhost:8080/",
          "height": 300
        },
        "id": "1_oA19uA-xeU",
        "outputId": "8c94c333-26b8-4de3-9c5f-ab60f8ccc277"
      },
      "execution_count": 118,
      "outputs": [
        {
          "output_type": "execute_result",
          "data": {
            "text/plain": [
              "                                 accuracy  precision    recall        f1\n",
              "baseline                         0.792651   0.811139  0.792651  0.786219\n",
              "1_simple_dense                   0.780840   0.783784  0.780840  0.778400\n",
              "2_lstm                           0.776903   0.780969  0.776903  0.773917\n",
              "3_gru                            0.778215   0.784787  0.778215  0.774376\n",
              "4_bidirectional                  0.761155   0.761709  0.761155  0.759498\n",
              "5_conv1d                         0.749344   0.750100  0.749344  0.747278\n",
              "6_tf_hub_use_encoder             0.814961   0.817571  0.814961  0.813334\n",
              "7_tf_hub_use_encoder_10_percent  0.782152   0.783555  0.782152  0.780416"
            ],
            "text/html": [
              "\n",
              "  <div id=\"df-687afde0-ec8b-4855-816f-d15ce2999967\">\n",
              "    <div class=\"colab-df-container\">\n",
              "      <div>\n",
              "<style scoped>\n",
              "    .dataframe tbody tr th:only-of-type {\n",
              "        vertical-align: middle;\n",
              "    }\n",
              "\n",
              "    .dataframe tbody tr th {\n",
              "        vertical-align: top;\n",
              "    }\n",
              "\n",
              "    .dataframe thead th {\n",
              "        text-align: right;\n",
              "    }\n",
              "</style>\n",
              "<table border=\"1\" class=\"dataframe\">\n",
              "  <thead>\n",
              "    <tr style=\"text-align: right;\">\n",
              "      <th></th>\n",
              "      <th>accuracy</th>\n",
              "      <th>precision</th>\n",
              "      <th>recall</th>\n",
              "      <th>f1</th>\n",
              "    </tr>\n",
              "  </thead>\n",
              "  <tbody>\n",
              "    <tr>\n",
              "      <th>baseline</th>\n",
              "      <td>0.792651</td>\n",
              "      <td>0.811139</td>\n",
              "      <td>0.792651</td>\n",
              "      <td>0.786219</td>\n",
              "    </tr>\n",
              "    <tr>\n",
              "      <th>1_simple_dense</th>\n",
              "      <td>0.780840</td>\n",
              "      <td>0.783784</td>\n",
              "      <td>0.780840</td>\n",
              "      <td>0.778400</td>\n",
              "    </tr>\n",
              "    <tr>\n",
              "      <th>2_lstm</th>\n",
              "      <td>0.776903</td>\n",
              "      <td>0.780969</td>\n",
              "      <td>0.776903</td>\n",
              "      <td>0.773917</td>\n",
              "    </tr>\n",
              "    <tr>\n",
              "      <th>3_gru</th>\n",
              "      <td>0.778215</td>\n",
              "      <td>0.784787</td>\n",
              "      <td>0.778215</td>\n",
              "      <td>0.774376</td>\n",
              "    </tr>\n",
              "    <tr>\n",
              "      <th>4_bidirectional</th>\n",
              "      <td>0.761155</td>\n",
              "      <td>0.761709</td>\n",
              "      <td>0.761155</td>\n",
              "      <td>0.759498</td>\n",
              "    </tr>\n",
              "    <tr>\n",
              "      <th>5_conv1d</th>\n",
              "      <td>0.749344</td>\n",
              "      <td>0.750100</td>\n",
              "      <td>0.749344</td>\n",
              "      <td>0.747278</td>\n",
              "    </tr>\n",
              "    <tr>\n",
              "      <th>6_tf_hub_use_encoder</th>\n",
              "      <td>0.814961</td>\n",
              "      <td>0.817571</td>\n",
              "      <td>0.814961</td>\n",
              "      <td>0.813334</td>\n",
              "    </tr>\n",
              "    <tr>\n",
              "      <th>7_tf_hub_use_encoder_10_percent</th>\n",
              "      <td>0.782152</td>\n",
              "      <td>0.783555</td>\n",
              "      <td>0.782152</td>\n",
              "      <td>0.780416</td>\n",
              "    </tr>\n",
              "  </tbody>\n",
              "</table>\n",
              "</div>\n",
              "      <button class=\"colab-df-convert\" onclick=\"convertToInteractive('df-687afde0-ec8b-4855-816f-d15ce2999967')\"\n",
              "              title=\"Convert this dataframe to an interactive table.\"\n",
              "              style=\"display:none;\">\n",
              "        \n",
              "  <svg xmlns=\"http://www.w3.org/2000/svg\" height=\"24px\"viewBox=\"0 0 24 24\"\n",
              "       width=\"24px\">\n",
              "    <path d=\"M0 0h24v24H0V0z\" fill=\"none\"/>\n",
              "    <path d=\"M18.56 5.44l.94 2.06.94-2.06 2.06-.94-2.06-.94-.94-2.06-.94 2.06-2.06.94zm-11 1L8.5 8.5l.94-2.06 2.06-.94-2.06-.94L8.5 2.5l-.94 2.06-2.06.94zm10 10l.94 2.06.94-2.06 2.06-.94-2.06-.94-.94-2.06-.94 2.06-2.06.94z\"/><path d=\"M17.41 7.96l-1.37-1.37c-.4-.4-.92-.59-1.43-.59-.52 0-1.04.2-1.43.59L10.3 9.45l-7.72 7.72c-.78.78-.78 2.05 0 2.83L4 21.41c.39.39.9.59 1.41.59.51 0 1.02-.2 1.41-.59l7.78-7.78 2.81-2.81c.8-.78.8-2.07 0-2.86zM5.41 20L4 18.59l7.72-7.72 1.47 1.35L5.41 20z\"/>\n",
              "  </svg>\n",
              "      </button>\n",
              "      \n",
              "  <style>\n",
              "    .colab-df-container {\n",
              "      display:flex;\n",
              "      flex-wrap:wrap;\n",
              "      gap: 12px;\n",
              "    }\n",
              "\n",
              "    .colab-df-convert {\n",
              "      background-color: #E8F0FE;\n",
              "      border: none;\n",
              "      border-radius: 50%;\n",
              "      cursor: pointer;\n",
              "      display: none;\n",
              "      fill: #1967D2;\n",
              "      height: 32px;\n",
              "      padding: 0 0 0 0;\n",
              "      width: 32px;\n",
              "    }\n",
              "\n",
              "    .colab-df-convert:hover {\n",
              "      background-color: #E2EBFA;\n",
              "      box-shadow: 0px 1px 2px rgba(60, 64, 67, 0.3), 0px 1px 3px 1px rgba(60, 64, 67, 0.15);\n",
              "      fill: #174EA6;\n",
              "    }\n",
              "\n",
              "    [theme=dark] .colab-df-convert {\n",
              "      background-color: #3B4455;\n",
              "      fill: #D2E3FC;\n",
              "    }\n",
              "\n",
              "    [theme=dark] .colab-df-convert:hover {\n",
              "      background-color: #434B5C;\n",
              "      box-shadow: 0px 1px 3px 1px rgba(0, 0, 0, 0.15);\n",
              "      filter: drop-shadow(0px 1px 2px rgba(0, 0, 0, 0.3));\n",
              "      fill: #FFFFFF;\n",
              "    }\n",
              "  </style>\n",
              "\n",
              "      <script>\n",
              "        const buttonEl =\n",
              "          document.querySelector('#df-687afde0-ec8b-4855-816f-d15ce2999967 button.colab-df-convert');\n",
              "        buttonEl.style.display =\n",
              "          google.colab.kernel.accessAllowed ? 'block' : 'none';\n",
              "\n",
              "        async function convertToInteractive(key) {\n",
              "          const element = document.querySelector('#df-687afde0-ec8b-4855-816f-d15ce2999967');\n",
              "          const dataTable =\n",
              "            await google.colab.kernel.invokeFunction('convertToInteractive',\n",
              "                                                     [key], {});\n",
              "          if (!dataTable) return;\n",
              "\n",
              "          const docLinkHtml = 'Like what you see? Visit the ' +\n",
              "            '<a target=\"_blank\" href=https://colab.research.google.com/notebooks/data_table.ipynb>data table notebook</a>'\n",
              "            + ' to learn more about interactive tables.';\n",
              "          element.innerHTML = '';\n",
              "          dataTable['output_type'] = 'display_data';\n",
              "          await google.colab.output.renderOutput(dataTable, element);\n",
              "          const docLink = document.createElement('div');\n",
              "          docLink.innerHTML = docLinkHtml;\n",
              "          element.appendChild(docLink);\n",
              "        }\n",
              "      </script>\n",
              "    </div>\n",
              "  </div>\n",
              "  "
            ]
          },
          "metadata": {},
          "execution_count": 118
        }
      ]
    },
    {
      "cell_type": "code",
      "source": [
        "#Plot and compare all of the model results\n",
        "all_model_results.plot(kind = \"bar\", figsize = (10, 7)).legend(bbox_to_anchor = (1.0,1.0))"
      ],
      "metadata": {
        "colab": {
          "base_uri": "https://localhost:8080/",
          "height": 586
        },
        "id": "1BYpa9Vp_XZ2",
        "outputId": "3e870f08-88c4-4d73-c10b-0bdb628e8705"
      },
      "execution_count": 120,
      "outputs": [
        {
          "output_type": "execute_result",
          "data": {
            "text/plain": [
              "<matplotlib.legend.Legend at 0x7fa23b16a230>"
            ]
          },
          "metadata": {},
          "execution_count": 120
        },
        {
          "output_type": "display_data",
          "data": {
            "text/plain": [
              "<Figure size 1000x700 with 1 Axes>"
            ],
            "image/png": "[encoded data removed]"
          },
          "metadata": {}
        }
      ]
    },
    {
      "cell_type": "code",
      "source": [
        "#sort model results by f1-score\n",
        "all_model_results.sort_values(\"f1\", ascending = False)[\"f1\"].plot(kind=\"bar\", figsize=(10,7))\n"
      ],
      "metadata": {
        "colab": {
          "base_uri": "https://localhost:8080/",
          "height": 666
        },
        "id": "_-W2_rDNAXxS",
        "outputId": "06cad4cc-d1ea-494d-88a0-7914f7a02da5"
      },
      "execution_count": 126,
      "outputs": [
        {
          "output_type": "execute_result",
          "data": {
            "text/plain": [
              "<Axes: >"
            ]
          },
          "metadata": {},
          "execution_count": 126
        },
        {
          "output_type": "display_data",
          "data": {
            "text/plain": [
              "<Figure size 1000x700 with 1 Axes>"
            ],
            "image/png": "[encoded data removed]"
          },
          "metadata": {}
        }
      ]
    },
    {
      "cell_type": "markdown",
      "source": [
        "## Uploading our model training logs to TensorBoard.dev\n",
        "\n",
        "we can further inspect our model's performance using TensorBoard.dev\n",
        "\n",
        "> **Note:** Tensorboard is great for quickly tracking experiments but for larger scale experiments and a whole bunch more tracking options, check out Weight and Bias:"
      ],
      "metadata": {
        "id": "LwC2DV7n_rW_"
      }
    },
    {
      "cell_type": "code",
      "source": [
        "#view Tensorboard logs of transfer learning modelling experiments (plus all of our other models)\n",
        "\n",
        "#upload tensorboard.dev records\n",
        "!tensorboard dev  upload --logdir /content/model_logs --name \"NLP modelling experiments\" --description \"comparing multipke different type of model architecture on the Kaggle Tweets text classification dataset\" --one_shot"
      ],
      "metadata": {
        "colab": {
          "base_uri": "https://localhost:8080/"
        },
        "id": "JNH4LQnEGJyc",
        "outputId": "18c7c783-6a21-4ff9-a560-4d25e9386708"
      },
      "execution_count": 128,
      "outputs": [
        {
          "output_type": "stream",
          "name": "stdout",
          "text": [
            "2023-05-03 15:05:44.515867: W tensorflow/stream_executor/platform/default/dso_loader.cc:64] Could not load dynamic library 'libcuda.so.1'; dlerror: libcuda.so.1: cannot open shared object file: No such file or directory; LD_LIBRARY_PATH: /usr/local/nvidia/lib:/usr/local/nvidia/lib64\n",
            "2023-05-03 15:05:44.515925: W tensorflow/stream_executor/cuda/cuda_driver.cc:269] failed call to cuInit: UNKNOWN ERROR (303)\n",
            "\n",
            "***** TensorBoard Uploader *****\n",
            "\n",
            "This will upload your TensorBoard logs to https://tensorboard.dev/ from\n",
            "the following directory:\n",
            "\n",
            "/content/model_logs\n",
            "\n",
            "This TensorBoard will be visible to everyone. Do not upload sensitive\n",
            "data.\n",
            "\n",
            "Your use of this service is subject to Google's Terms of Service\n",
            "<https://policies.google.com/terms> and Privacy Policy\n",
            "<https://policies.google.com/privacy>, and TensorBoard.dev's Terms of Service\n",
            "<https://tensorboard.dev/policy/terms/>.\n",
            "\n",
            "This notice will not be shown again while you are logged into the uploader.\n",
            "To log out, run `tensorboard dev auth revoke`.\n",
            "\n",
            "Continue? (yes/NO) yes\n",
            "\n",
            "Please visit this URL to authorize this application: https://accounts.google.com/o/oauth2/auth?response_type=code&client_id=373649185512-8v619h5kft38l4456nm2dj4ubeqsrvh6.apps.googleusercontent.com&redirect_uri=urn%3Aietf%3Awg%3Aoauth%3A2.0%3Aoob&scope=openid+https%3A%2F%2Fwww.googleapis.com%2Fauth%2Fuserinfo.email&state=7PmdaQQgC3xOZOCN39c22f5OqeB1JI&prompt=consent&access_type=offline\n",
            "Enter the authorization code: Traceback (most recent call last):\n",
            "  File \"/usr/local/bin/tensorboard\", line 8, in <module>\n",
            "  File \"/usr/local/lib/python3.10/dist-packages/tensorboard/main.py\", line 46, in run_main\n",
            "    app.run(tensorboard.main, flags_parser=tensorboard.configure)\n",
            "  File \"/usr/local/lib/python3.10/dist-packages/absl/app.py\", line 308, in run\n",
            "    _run_main(main, args)\n",
            "  File \"/usr/local/lib/python3.10/dist-packages/absl/app.py\", line 254, in _run_main\n",
            "    sys.exit(main(argv))\n",
            "  File \"/usr/local/lib/python3.10/dist-packages/tensorboard/program.py\", line 276, in main\n",
            "    return runner(self.flags) or 0\n",
            "  File \"/usr/local/lib/python3.10/dist-packages/tensorboard/uploader/uploader_subcommand.py\", line 692, in run\n",
            "    return _run(flags, self._experiment_url_callback)\n",
            "  File \"/usr/local/lib/python3.10/dist-packages/tensorboard/uploader/uploader_subcommand.py\", line 97, in _run\n",
            "    credentials = flow.run(force_console=flags.auth_force_console)\n",
            "  File \"/usr/local/lib/python3.10/dist-packages/tensorboard/uploader/auth.py\", line 181, in run\n",
            "    return self.run_console()\n",
            "  File \"/usr/local/lib/python3.10/dist-packages/google_auth_oauthlib/flow.py\", line 409, in run_console\n",
            "    code = input(authorization_code_message)\n",
            "KeyboardInterrupt\n",
            "^C\n"
          ]
        }
      ]
    },
    {
      "cell_type": "code",
      "source": [
        "#delete experments from tensorboard:\n",
        "\n",
        "#check current experiment\n",
        "!tensorboard dev list\n",
        "\n",
        "#delete\n",
        "# !tensorboard dev delete --experiment_id [experiment id]"
      ],
      "metadata": {
        "colab": {
          "base_uri": "https://localhost:8080/"
        },
        "id": "g95GzNKhIhcb",
        "outputId": "35cefc47-0cc0-41e4-fc1f-95596cdf68dc"
      },
      "execution_count": 129,
      "outputs": [
        {
          "output_type": "stream",
          "name": "stdout",
          "text": [
            "2023-05-03 15:13:55.584807: W tensorflow/stream_executor/platform/default/dso_loader.cc:64] Could not load dynamic library 'libcuda.so.1'; dlerror: libcuda.so.1: cannot open shared object file: No such file or directory; LD_LIBRARY_PATH: /usr/local/nvidia/lib:/usr/local/nvidia/lib64\n",
            "2023-05-03 15:13:55.584863: W tensorflow/stream_executor/cuda/cuda_driver.cc:269] failed call to cuInit: UNKNOWN ERROR (303)\n",
            "\n",
            "***** TensorBoard Uploader *****\n",
            "\n",
            "This will list all experiments that you've uploaded to\n",
            "https://tensorboard.dev. TensorBoard.dev experiments are visible\n",
            "to everyone. Do not upload sensitive data.\n",
            "\n",
            "Your use of this service is subject to Google's Terms of Service\n",
            "<https://policies.google.com/terms> and Privacy Policy\n",
            "<https://policies.google.com/privacy>, and TensorBoard.dev's Terms of Service\n",
            "<https://tensorboard.dev/policy/terms/>.\n",
            "\n",
            "This notice will not be shown again while you are logged into the uploader.\n",
            "To log out, run `tensorboard dev auth revoke`.\n",
            "\n",
            "Continue? (yes/NO) yes\n",
            "\n",
            "Please visit this URL to authorize this application: https://accounts.google.com/o/oauth2/auth?response_type=code&client_id=373649185512-8v619h5kft38l4456nm2dj4ubeqsrvh6.apps.googleusercontent.com&redirect_uri=urn%3Aietf%3Awg%3Aoauth%3A2.0%3Aoob&scope=openid+https%3A%2F%2Fwww.googleapis.com%2Fauth%2Fuserinfo.email&state=zPT4VKf34YBR66jjgwj1CKSszPNhoq&prompt=consent&access_type=offline\n",
            "Enter the authorization code: Traceback (most recent call last):\n",
            "\n",
            "^C\n"
          ]
        }
      ]
    },
    {
      "cell_type": "markdown",
      "source": [
        "## Saving and loading a trained model\n",
        "\n",
        "there are 2 main formats to save a model to in tf:\n",
        "1. HDF5 format\n",
        "2. `SaveModel` format (this is default in tensorflow)\n"
      ],
      "metadata": {
        "id": "OhA0-3UrLUXt"
      }
    },
    {
      "cell_type": "code",
      "source": [
        "model_6_results"
      ],
      "metadata": {
        "colab": {
          "base_uri": "https://localhost:8080/"
        },
        "id": "jLPftDTPOIbq",
        "outputId": "c312c471-ca07-4a46-a5a9-1b2d19405042"
      },
      "execution_count": 130,
      "outputs": [
        {
          "output_type": "execute_result",
          "data": {
            "text/plain": [
              "{'accuracy': 81.49606299212599,\n",
              " 'precision': 0.8175707797736699,\n",
              " 'recall': 0.8149606299212598,\n",
              " 'f1': 0.8133343159175271}"
            ]
          },
          "metadata": {},
          "execution_count": 130
        }
      ]
    },
    {
      "cell_type": "code",
      "source": [
        "# Save TF Hub Sentence Encoder model to HDF5 format\n",
        "model_6.save(\"model_6.h5\")"
      ],
      "metadata": {
        "id": "hS2kEMqZOXa7"
      },
      "execution_count": 131,
      "outputs": []
    },
    {
      "cell_type": "code",
      "source": [
        "import tensorflow_hub as hub\n",
        "\n",
        "#Load model with custom Hub Layer (required HDF5 format)\n",
        "\n",
        "loaded_model_6 = tf.keras.models.load_model(\"model_6.h5\",\n",
        "                                            custom_objects = {\"KerasLayer\": hub.KerasLayer})"
      ],
      "metadata": {
        "id": "jMbXuO6hOhhI"
      },
      "execution_count": 132,
      "outputs": []
    },
    {
      "cell_type": "code",
      "source": [
        "#How does our loaded model perform?\n",
        "loaded_model_6.evaluate(val_sentences, val_labels)"
      ],
      "metadata": {
        "colab": {
          "base_uri": "https://localhost:8080/"
        },
        "id": "gvh9Gh8zPceF",
        "outputId": "cd28b9ea-d59a-43b5-bdca-875917e8c604"
      },
      "execution_count": 133,
      "outputs": [
        {
          "output_type": "stream",
          "name": "stdout",
          "text": [
            "24/24 [==============================] - 2s 28ms/step - loss: 0.4288 - accuracy: 0.8150\n"
          ]
        },
        {
          "output_type": "execute_result",
          "data": {
            "text/plain": [
              "[0.4288027584552765, 0.8149606585502625]"
            ]
          },
          "metadata": {},
          "execution_count": 133
        }
      ]
    },
    {
      "cell_type": "markdown",
      "source": [
        "now let's save to SaveModel format..."
      ],
      "metadata": {
        "id": "TGkwJ4FSPq0o"
      }
    },
    {
      "cell_type": "code",
      "source": [
        "#save TF Hub Sentence Encoder model to SaveModel format default\n",
        "model_6.save(\"model_6_SaveModel_format\")"
      ],
      "metadata": {
        "colab": {
          "base_uri": "https://localhost:8080/"
        },
        "id": "4abi7YZ1P-f2",
        "outputId": "ed38e212-2551-42d3-8a45-651102be0e43"
      },
      "execution_count": 134,
      "outputs": [
        {
          "output_type": "stream",
          "name": "stderr",
          "text": [
            "WARNING:absl:Function `_wrapped_model` contains input name(s) USE_input with unsupported characters which will be renamed to use_input in the SavedModel.\n"
          ]
        }
      ]
    },
    {
      "cell_type": "code",
      "source": [
        "#load in a model from SaveModel format\n",
        "loaded_model_6_SaveModel_format = tf.keras.models.load_model(\"model_6_SaveModel_format\")"
      ],
      "metadata": {
        "id": "mwFhDNJNQKBP"
      },
      "execution_count": 135,
      "outputs": []
    },
    {
      "cell_type": "code",
      "source": [
        "#Evaluate model in SaveModel format\n",
        "loaded_model_6_SaveModel_format.evaluate(val_sentences, val_labels)"
      ],
      "metadata": {
        "colab": {
          "base_uri": "https://localhost:8080/"
        },
        "id": "Cl-WTyFGR_TB",
        "outputId": "d6b7cc94-4366-449a-923d-b9d40a3e2d48"
      },
      "execution_count": 137,
      "outputs": [
        {
          "output_type": "stream",
          "name": "stdout",
          "text": [
            "24/24 [==============================] - 2s 25ms/step - loss: 0.4288 - accuracy: 0.8150\n"
          ]
        },
        {
          "output_type": "execute_result",
          "data": {
            "text/plain": [
              "[0.4288027584552765, 0.8149606585502625]"
            ]
          },
          "metadata": {},
          "execution_count": 137
        }
      ]
    },
    {
      "cell_type": "markdown",
      "source": [
        "## Finding the most wrong examples\n",
        "\n",
        "* If our best model still isn't perfect, what examples is it getting wrong?\n",
        "* And of these wrong examples which one is it getting *most* wrong (Those will prediction probabilities closest to the opposite class)\n",
        "\n",
        "\n",
        "For example if a sample should have a label of 0 but our model predicts a prediction probability of 0.999 close to 1 and vice versa."
      ],
      "metadata": {
        "id": "eR669_w_SJLG"
      }
    },
    {
      "cell_type": "code",
      "source": [
        "#download a pretrained model from google storage\n",
        "!wget https://storage.googleapis.com/ztm_tf_course/08_model_6_USE_feature_extractor.zip"
      ],
      "metadata": {
        "colab": {
          "base_uri": "https://localhost:8080/"
        },
        "id": "Zt4bxBHDVnnF",
        "outputId": "19215ee1-ed8d-4f40-e6e3-c9b44d8a2a6c"
      },
      "execution_count": 139,
      "outputs": [
        {
          "output_type": "stream",
          "name": "stdout",
          "text": [
            "--2023-05-03 15:59:50--  https://storage.googleapis.com/ztm_tf_course/08_model_6_USE_feature_extractor.zip\n",
            "Resolving storage.googleapis.com (storage.googleapis.com)... 173.194.69.128, 108.177.119.128, 142.251.18.128, ...\n",
            "Connecting to storage.googleapis.com (storage.googleapis.com)|173.194.69.128|:443... connected.\n",
            "HTTP request sent, awaiting response... 200 OK\n",
            "Length: 960779165 (916M) [application/zip]\n",
            "Saving to: ‘08_model_6_USE_feature_extractor.zip’\n",
            "\n",
            "08_model_6_USE_feat 100%[===================>] 916.27M  36.2MB/s    in 26s     \n",
            "\n",
            "2023-05-03 16:00:16 (35.9 MB/s) - ‘08_model_6_USE_feature_extractor.zip’ saved [960779165/960779165]\n",
            "\n"
          ]
        }
      ]
    },
    {
      "cell_type": "code",
      "source": [
        "!unzip 08_model_6_USE_feature_extractor.zip"
      ],
      "metadata": {
        "colab": {
          "base_uri": "https://localhost:8080/"
        },
        "id": "Nt3vG2seV--w",
        "outputId": "932669f0-3e65-4770-ae7b-0096329fa89e"
      },
      "execution_count": 140,
      "outputs": [
        {
          "output_type": "stream",
          "name": "stdout",
          "text": [
            "Archive:  08_model_6_USE_feature_extractor.zip\n",
            "   creating: 08_model_6_USE_feature_extractor/\n",
            "   creating: 08_model_6_USE_feature_extractor/assets/\n",
            "   creating: 08_model_6_USE_feature_extractor/variables/\n",
            "  inflating: 08_model_6_USE_feature_extractor/variables/variables.data-00000-of-00001  \n",
            "  inflating: 08_model_6_USE_feature_extractor/variables/variables.index  \n",
            "  inflating: 08_model_6_USE_feature_extractor/saved_model.pb  \n"
          ]
        }
      ]
    },
    {
      "cell_type": "code",
      "source": [
        "#import previously trained model from google storage\n",
        "model_6_pretrained = tf.keras.models.load_model(\"/content/08_model_6_USE_feature_extractor\")\n",
        "model_6_pretrained.evaluate(val_sentences, val_labels)"
      ],
      "metadata": {
        "colab": {
          "base_uri": "https://localhost:8080/"
        },
        "id": "R7D0RfgaW-Hc",
        "outputId": "90d9d448-f5b3-4d06-e303-d2462b77d676"
      },
      "execution_count": 141,
      "outputs": [
        {
          "output_type": "stream",
          "name": "stderr",
          "text": [
            "WARNING:tensorflow:SavedModel saved prior to TF 2.5 detected when loading Keras model. Please ensure that you are saving the model with model.save() or tf.keras.models.save_model(), *NOT* tf.saved_model.save(). To confirm, there should be a file named \"keras_metadata.pb\" in the SavedModel directory.\n"
          ]
        },
        {
          "output_type": "stream",
          "name": "stdout",
          "text": [
            "24/24 [==============================] - 2s 24ms/step - loss: 0.4272 - accuracy: 0.8163\n"
          ]
        },
        {
          "output_type": "execute_result",
          "data": {
            "text/plain": [
              "[0.42723119258880615, 0.8162729740142822]"
            ]
          },
          "metadata": {},
          "execution_count": 141
        }
      ]
    },
    {
      "cell_type": "code",
      "source": [
        "#make predictions with loaded model from GS\n",
        "model_6_pretrained_pred_probs = model_6_pretrained.predict(val_sentences) \n",
        "model_6_pretrained_preds = tf.squeeze(tf.round(model_6_pretrained_pred_probs))\n",
        "model_6_pretrained_preds[:10]"
      ],
      "metadata": {
        "colab": {
          "base_uri": "https://localhost:8080/"
        },
        "id": "eIId_Hv8XV4_",
        "outputId": "f461c9f5-aaaf-4e61-9287-3c9fe521c136"
      },
      "execution_count": 143,
      "outputs": [
        {
          "output_type": "execute_result",
          "data": {
            "text/plain": [
              "<tf.Tensor: shape=(10,), dtype=float32, numpy=array([0., 1., 1., 0., 1., 1., 1., 1., 1., 0.], dtype=float32)>"
            ]
          },
          "metadata": {},
          "execution_count": 143
        }
      ]
    },
    {
      "cell_type": "code",
      "source": [
        "# Create DataFrame with validation sentences, validation labels and best performing model prediction labels + probabilities\n",
        "val_df = pd.DataFrame({\"text\": val_sentences,\n",
        "                       \"target\": val_labels,\n",
        "                       \"pred\": model_6_pretrained_preds,\n",
        "                       \"pred_prob\": tf.squeeze(model_6_pretrained_pred_probs)})\n",
        "\n",
        "val_df.head()"
      ],
      "metadata": {
        "colab": {
          "base_uri": "https://localhost:8080/",
          "height": 206
        },
        "id": "Ywb1q6quUmvC",
        "outputId": "e8878343-9e95-4c0c-deb0-34d18bec410c"
      },
      "execution_count": 146,
      "outputs": [
        {
          "output_type": "execute_result",
          "data": {
            "text/plain": [
              "                                                text  target  pred  pred_prob\n",
              "0  DFR EP016 Monthly Meltdown - On Dnbheaven 2015...       0   0.0   0.159757\n",
              "1  FedEx no longer to transport bioterror germs i...       0   1.0   0.747162\n",
              "2  Gunmen kill four in El Salvador bus attack: Su...       1   1.0   0.988749\n",
              "3  @camilacabello97 Internally and externally scr...       1   0.0   0.196229\n",
              "4  Radiation emergency #preparedness starts with ...       1   1.0   0.707808"
            ],
            "text/html": [
              "\n",
              "  <div id=\"df-3b0033ee-2c90-4ad3-80c9-fe588752a64c\">\n",
              "    <div class=\"colab-df-container\">\n",
              "      <div>\n",
              "<style scoped>\n",
              "    .dataframe tbody tr th:only-of-type {\n",
              "        vertical-align: middle;\n",
              "    }\n",
              "\n",
              "    .dataframe tbody tr th {\n",
              "        vertical-align: top;\n",
              "    }\n",
              "\n",
              "    .dataframe thead th {\n",
              "        text-align: right;\n",
              "    }\n",
              "</style>\n",
              "<table border=\"1\" class=\"dataframe\">\n",
              "  <thead>\n",
              "    <tr style=\"text-align: right;\">\n",
              "      <th></th>\n",
              "      <th>text</th>\n",
              "      <th>target</th>\n",
              "      <th>pred</th>\n",
              "      <th>pred_prob</th>\n",
              "    </tr>\n",
              "  </thead>\n",
              "  <tbody>\n",
              "    <tr>\n",
              "      <th>0</th>\n",
              "      <td>DFR EP016 Monthly Meltdown - On Dnbheaven 2015...</td>\n",
              "      <td>0</td>\n",
              "      <td>0.0</td>\n",
              "      <td>0.159757</td>\n",
              "    </tr>\n",
              "    <tr>\n",
              "      <th>1</th>\n",
              "      <td>FedEx no longer to transport bioterror germs i...</td>\n",
              "      <td>0</td>\n",
              "      <td>1.0</td>\n",
              "      <td>0.747162</td>\n",
              "    </tr>\n",
              "    <tr>\n",
              "      <th>2</th>\n",
              "      <td>Gunmen kill four in El Salvador bus attack: Su...</td>\n",
              "      <td>1</td>\n",
              "      <td>1.0</td>\n",
              "      <td>0.988749</td>\n",
              "    </tr>\n",
              "    <tr>\n",
              "      <th>3</th>\n",
              "      <td>@camilacabello97 Internally and externally scr...</td>\n",
              "      <td>1</td>\n",
              "      <td>0.0</td>\n",
              "      <td>0.196229</td>\n",
              "    </tr>\n",
              "    <tr>\n",
              "      <th>4</th>\n",
              "      <td>Radiation emergency #preparedness starts with ...</td>\n",
              "      <td>1</td>\n",
              "      <td>1.0</td>\n",
              "      <td>0.707808</td>\n",
              "    </tr>\n",
              "  </tbody>\n",
              "</table>\n",
              "</div>\n",
              "      <button class=\"colab-df-convert\" onclick=\"convertToInteractive('df-3b0033ee-2c90-4ad3-80c9-fe588752a64c')\"\n",
              "              title=\"Convert this dataframe to an interactive table.\"\n",
              "              style=\"display:none;\">\n",
              "        \n",
              "  <svg xmlns=\"http://www.w3.org/2000/svg\" height=\"24px\"viewBox=\"0 0 24 24\"\n",
              "       width=\"24px\">\n",
              "    <path d=\"M0 0h24v24H0V0z\" fill=\"none\"/>\n",
              "    <path d=\"M18.56 5.44l.94 2.06.94-2.06 2.06-.94-2.06-.94-.94-2.06-.94 2.06-2.06.94zm-11 1L8.5 8.5l.94-2.06 2.06-.94-2.06-.94L8.5 2.5l-.94 2.06-2.06.94zm10 10l.94 2.06.94-2.06 2.06-.94-2.06-.94-.94-2.06-.94 2.06-2.06.94z\"/><path d=\"M17.41 7.96l-1.37-1.37c-.4-.4-.92-.59-1.43-.59-.52 0-1.04.2-1.43.59L10.3 9.45l-7.72 7.72c-.78.78-.78 2.05 0 2.83L4 21.41c.39.39.9.59 1.41.59.51 0 1.02-.2 1.41-.59l7.78-7.78 2.81-2.81c.8-.78.8-2.07 0-2.86zM5.41 20L4 18.59l7.72-7.72 1.47 1.35L5.41 20z\"/>\n",
              "  </svg>\n",
              "      </button>\n",
              "      \n",
              "  <style>\n",
              "    .colab-df-container {\n",
              "      display:flex;\n",
              "      flex-wrap:wrap;\n",
              "      gap: 12px;\n",
              "    }\n",
              "\n",
              "    .colab-df-convert {\n",
              "      background-color: #E8F0FE;\n",
              "      border: none;\n",
              "      border-radius: 50%;\n",
              "      cursor: pointer;\n",
              "      display: none;\n",
              "      fill: #1967D2;\n",
              "      height: 32px;\n",
              "      padding: 0 0 0 0;\n",
              "      width: 32px;\n",
              "    }\n",
              "\n",
              "    .colab-df-convert:hover {\n",
              "      background-color: #E2EBFA;\n",
              "      box-shadow: 0px 1px 2px rgba(60, 64, 67, 0.3), 0px 1px 3px 1px rgba(60, 64, 67, 0.15);\n",
              "      fill: #174EA6;\n",
              "    }\n",
              "\n",
              "    [theme=dark] .colab-df-convert {\n",
              "      background-color: #3B4455;\n",
              "      fill: #D2E3FC;\n",
              "    }\n",
              "\n",
              "    [theme=dark] .colab-df-convert:hover {\n",
              "      background-color: #434B5C;\n",
              "      box-shadow: 0px 1px 3px 1px rgba(0, 0, 0, 0.15);\n",
              "      filter: drop-shadow(0px 1px 2px rgba(0, 0, 0, 0.3));\n",
              "      fill: #FFFFFF;\n",
              "    }\n",
              "  </style>\n",
              "\n",
              "      <script>\n",
              "        const buttonEl =\n",
              "          document.querySelector('#df-3b0033ee-2c90-4ad3-80c9-fe588752a64c button.colab-df-convert');\n",
              "        buttonEl.style.display =\n",
              "          google.colab.kernel.accessAllowed ? 'block' : 'none';\n",
              "\n",
              "        async function convertToInteractive(key) {\n",
              "          const element = document.querySelector('#df-3b0033ee-2c90-4ad3-80c9-fe588752a64c');\n",
              "          const dataTable =\n",
              "            await google.colab.kernel.invokeFunction('convertToInteractive',\n",
              "                                                     [key], {});\n",
              "          if (!dataTable) return;\n",
              "\n",
              "          const docLinkHtml = 'Like what you see? Visit the ' +\n",
              "            '<a target=\"_blank\" href=https://colab.research.google.com/notebooks/data_table.ipynb>data table notebook</a>'\n",
              "            + ' to learn more about interactive tables.';\n",
              "          element.innerHTML = '';\n",
              "          dataTable['output_type'] = 'display_data';\n",
              "          await google.colab.output.renderOutput(dataTable, element);\n",
              "          const docLink = document.createElement('div');\n",
              "          docLink.innerHTML = docLinkHtml;\n",
              "          element.appendChild(docLink);\n",
              "        }\n",
              "      </script>\n",
              "    </div>\n",
              "  </div>\n",
              "  "
            ]
          },
          "metadata": {},
          "execution_count": 146
        }
      ]
    },
    {
      "cell_type": "code",
      "source": [
        "#Find the wrong predictions and sort by prediction probabilities\n",
        "most_wrong = val_df[val_df[\"target\"] != val_df[\"pred\"]].sort_values(\"pred_prob\", ascending = False)"
      ],
      "metadata": {
        "id": "jh5B2PdBYkmE"
      },
      "execution_count": 147,
      "outputs": []
    },
    {
      "cell_type": "code",
      "source": [
        "most_wrong[:10] #these are false possitive"
      ],
      "metadata": {
        "colab": {
          "base_uri": "https://localhost:8080/",
          "height": 407
        },
        "id": "N6AmFs86ZYyR",
        "outputId": "ab87a4a4-fa71-43b3-aac5-c2127e6a4376"
      },
      "execution_count": 149,
      "outputs": [
        {
          "output_type": "execute_result",
          "data": {
            "text/plain": [
              "                                                  text  target  pred  \\\n",
              "31   ? High Skies - Burning Buildings ? http://t.co...       0   1.0   \n",
              "759  FedEx will no longer transport bioterror patho...       0   1.0   \n",
              "628  @noah_anyname That's where the concentration c...       0   1.0   \n",
              "209  Ashes 2015: AustraliaÛªs collapse at Trent Br...       0   1.0   \n",
              "251  @AshGhebranious civil rights continued in the ...       0   1.0   \n",
              "393  @SonofLiberty357 all illuminated by the bright...       0   1.0   \n",
              "109  [55436] 1950 LIONEL TRAINS SMOKE LOCOMOTIVES W...       0   1.0   \n",
              "49   @madonnamking RSPCA site multiple 7 story high...       0   1.0   \n",
              "119  @freefromwolves GodsLove &amp; #thankU brother...       0   1.0   \n",
              "344  Air Group is here to the rescue! We have 24/7 ...       0   1.0   \n",
              "\n",
              "     pred_prob  \n",
              "31    0.910196  \n",
              "759   0.876982  \n",
              "628   0.852300  \n",
              "209   0.835455  \n",
              "251   0.827213  \n",
              "393   0.814816  \n",
              "109   0.810840  \n",
              "49    0.803122  \n",
              "119   0.766901  \n",
              "344   0.766625  "
            ],
            "text/html": [
              "\n",
              "  <div id=\"df-e5ee8b38-26c3-42e3-9eed-bcd07ddb6378\">\n",
              "    <div class=\"colab-df-container\">\n",
              "      <div>\n",
              "<style scoped>\n",
              "    .dataframe tbody tr th:only-of-type {\n",
              "        vertical-align: middle;\n",
              "    }\n",
              "\n",
              "    .dataframe tbody tr th {\n",
              "        vertical-align: top;\n",
              "    }\n",
              "\n",
              "    .dataframe thead th {\n",
              "        text-align: right;\n",
              "    }\n",
              "</style>\n",
              "<table border=\"1\" class=\"dataframe\">\n",
              "  <thead>\n",
              "    <tr style=\"text-align: right;\">\n",
              "      <th></th>\n",
              "      <th>text</th>\n",
              "      <th>target</th>\n",
              "      <th>pred</th>\n",
              "      <th>pred_prob</th>\n",
              "    </tr>\n",
              "  </thead>\n",
              "  <tbody>\n",
              "    <tr>\n",
              "      <th>31</th>\n",
              "      <td>? High Skies - Burning Buildings ? http://t.co...</td>\n",
              "      <td>0</td>\n",
              "      <td>1.0</td>\n",
              "      <td>0.910196</td>\n",
              "    </tr>\n",
              "    <tr>\n",
              "      <th>759</th>\n",
              "      <td>FedEx will no longer transport bioterror patho...</td>\n",
              "      <td>0</td>\n",
              "      <td>1.0</td>\n",
              "      <td>0.876982</td>\n",
              "    </tr>\n",
              "    <tr>\n",
              "      <th>628</th>\n",
              "      <td>@noah_anyname That's where the concentration c...</td>\n",
              "      <td>0</td>\n",
              "      <td>1.0</td>\n",
              "      <td>0.852300</td>\n",
              "    </tr>\n",
              "    <tr>\n",
              "      <th>209</th>\n",
              "      <td>Ashes 2015: AustraliaÛªs collapse at Trent Br...</td>\n",
              "      <td>0</td>\n",
              "      <td>1.0</td>\n",
              "      <td>0.835455</td>\n",
              "    </tr>\n",
              "    <tr>\n",
              "      <th>251</th>\n",
              "      <td>@AshGhebranious civil rights continued in the ...</td>\n",
              "      <td>0</td>\n",
              "      <td>1.0</td>\n",
              "      <td>0.827213</td>\n",
              "    </tr>\n",
              "    <tr>\n",
              "      <th>393</th>\n",
              "      <td>@SonofLiberty357 all illuminated by the bright...</td>\n",
              "      <td>0</td>\n",
              "      <td>1.0</td>\n",
              "      <td>0.814816</td>\n",
              "    </tr>\n",
              "    <tr>\n",
              "      <th>109</th>\n",
              "      <td>[55436] 1950 LIONEL TRAINS SMOKE LOCOMOTIVES W...</td>\n",
              "      <td>0</td>\n",
              "      <td>1.0</td>\n",
              "      <td>0.810840</td>\n",
              "    </tr>\n",
              "    <tr>\n",
              "      <th>49</th>\n",
              "      <td>@madonnamking RSPCA site multiple 7 story high...</td>\n",
              "      <td>0</td>\n",
              "      <td>1.0</td>\n",
              "      <td>0.803122</td>\n",
              "    </tr>\n",
              "    <tr>\n",
              "      <th>119</th>\n",
              "      <td>@freefromwolves GodsLove &amp;amp; #thankU brother...</td>\n",
              "      <td>0</td>\n",
              "      <td>1.0</td>\n",
              "      <td>0.766901</td>\n",
              "    </tr>\n",
              "    <tr>\n",
              "      <th>344</th>\n",
              "      <td>Air Group is here to the rescue! We have 24/7 ...</td>\n",
              "      <td>0</td>\n",
              "      <td>1.0</td>\n",
              "      <td>0.766625</td>\n",
              "    </tr>\n",
              "  </tbody>\n",
              "</table>\n",
              "</div>\n",
              "      <button class=\"colab-df-convert\" onclick=\"convertToInteractive('df-e5ee8b38-26c3-42e3-9eed-bcd07ddb6378')\"\n",
              "              title=\"Convert this dataframe to an interactive table.\"\n",
              "              style=\"display:none;\">\n",
              "        \n",
              "  <svg xmlns=\"http://www.w3.org/2000/svg\" height=\"24px\"viewBox=\"0 0 24 24\"\n",
              "       width=\"24px\">\n",
              "    <path d=\"M0 0h24v24H0V0z\" fill=\"none\"/>\n",
              "    <path d=\"M18.56 5.44l.94 2.06.94-2.06 2.06-.94-2.06-.94-.94-2.06-.94 2.06-2.06.94zm-11 1L8.5 8.5l.94-2.06 2.06-.94-2.06-.94L8.5 2.5l-.94 2.06-2.06.94zm10 10l.94 2.06.94-2.06 2.06-.94-2.06-.94-.94-2.06-.94 2.06-2.06.94z\"/><path d=\"M17.41 7.96l-1.37-1.37c-.4-.4-.92-.59-1.43-.59-.52 0-1.04.2-1.43.59L10.3 9.45l-7.72 7.72c-.78.78-.78 2.05 0 2.83L4 21.41c.39.39.9.59 1.41.59.51 0 1.02-.2 1.41-.59l7.78-7.78 2.81-2.81c.8-.78.8-2.07 0-2.86zM5.41 20L4 18.59l7.72-7.72 1.47 1.35L5.41 20z\"/>\n",
              "  </svg>\n",
              "      </button>\n",
              "      \n",
              "  <style>\n",
              "    .colab-df-container {\n",
              "      display:flex;\n",
              "      flex-wrap:wrap;\n",
              "      gap: 12px;\n",
              "    }\n",
              "\n",
              "    .colab-df-convert {\n",
              "      background-color: #E8F0FE;\n",
              "      border: none;\n",
              "      border-radius: 50%;\n",
              "      cursor: pointer;\n",
              "      display: none;\n",
              "      fill: #1967D2;\n",
              "      height: 32px;\n",
              "      padding: 0 0 0 0;\n",
              "      width: 32px;\n",
              "    }\n",
              "\n",
              "    .colab-df-convert:hover {\n",
              "      background-color: #E2EBFA;\n",
              "      box-shadow: 0px 1px 2px rgba(60, 64, 67, 0.3), 0px 1px 3px 1px rgba(60, 64, 67, 0.15);\n",
              "      fill: #174EA6;\n",
              "    }\n",
              "\n",
              "    [theme=dark] .colab-df-convert {\n",
              "      background-color: #3B4455;\n",
              "      fill: #D2E3FC;\n",
              "    }\n",
              "\n",
              "    [theme=dark] .colab-df-convert:hover {\n",
              "      background-color: #434B5C;\n",
              "      box-shadow: 0px 1px 3px 1px rgba(0, 0, 0, 0.15);\n",
              "      filter: drop-shadow(0px 1px 2px rgba(0, 0, 0, 0.3));\n",
              "      fill: #FFFFFF;\n",
              "    }\n",
              "  </style>\n",
              "\n",
              "      <script>\n",
              "        const buttonEl =\n",
              "          document.querySelector('#df-e5ee8b38-26c3-42e3-9eed-bcd07ddb6378 button.colab-df-convert');\n",
              "        buttonEl.style.display =\n",
              "          google.colab.kernel.accessAllowed ? 'block' : 'none';\n",
              "\n",
              "        async function convertToInteractive(key) {\n",
              "          const element = document.querySelector('#df-e5ee8b38-26c3-42e3-9eed-bcd07ddb6378');\n",
              "          const dataTable =\n",
              "            await google.colab.kernel.invokeFunction('convertToInteractive',\n",
              "                                                     [key], {});\n",
              "          if (!dataTable) return;\n",
              "\n",
              "          const docLinkHtml = 'Like what you see? Visit the ' +\n",
              "            '<a target=\"_blank\" href=https://colab.research.google.com/notebooks/data_table.ipynb>data table notebook</a>'\n",
              "            + ' to learn more about interactive tables.';\n",
              "          element.innerHTML = '';\n",
              "          dataTable['output_type'] = 'display_data';\n",
              "          await google.colab.output.renderOutput(dataTable, element);\n",
              "          const docLink = document.createElement('div');\n",
              "          docLink.innerHTML = docLinkHtml;\n",
              "          element.appendChild(docLink);\n",
              "        }\n",
              "      </script>\n",
              "    </div>\n",
              "  </div>\n",
              "  "
            ]
          },
          "metadata": {},
          "execution_count": 149
        }
      ]
    },
    {
      "cell_type": "code",
      "source": [
        "most_wrong.tail() #these are false negative"
      ],
      "metadata": {
        "colab": {
          "base_uri": "https://localhost:8080/",
          "height": 206
        },
        "id": "ED1E0ib9bZ9x",
        "outputId": "47590e92-1617-457b-c6c1-6da189f124d9"
      },
      "execution_count": 150,
      "outputs": [
        {
          "output_type": "execute_result",
          "data": {
            "text/plain": [
              "                                                  text  target  pred  \\\n",
              "411  @SoonerMagic_ I mean I'm a fan but I don't nee...       1   0.0   \n",
              "233                    I get to smoke my shit in peace       1   0.0   \n",
              "38   Why are you deluged with low self-image? Take ...       1   0.0   \n",
              "244  Reddit Will Now QuarantineÛ_ http://t.co/pkUA...       1   0.0   \n",
              "23   Ron &amp; Fez - Dave's High School Crush https...       1   0.0   \n",
              "\n",
              "     pred_prob  \n",
              "411   0.043919  \n",
              "233   0.042087  \n",
              "38    0.038998  \n",
              "244   0.038949  \n",
              "23    0.037186  "
            ],
            "text/html": [
              "\n",
              "  <div id=\"df-81f9206a-2ed5-44ab-b3a0-e7c717b9967a\">\n",
              "    <div class=\"colab-df-container\">\n",
              "      <div>\n",
              "<style scoped>\n",
              "    .dataframe tbody tr th:only-of-type {\n",
              "        vertical-align: middle;\n",
              "    }\n",
              "\n",
              "    .dataframe tbody tr th {\n",
              "        vertical-align: top;\n",
              "    }\n",
              "\n",
              "    .dataframe thead th {\n",
              "        text-align: right;\n",
              "    }\n",
              "</style>\n",
              "<table border=\"1\" class=\"dataframe\">\n",
              "  <thead>\n",
              "    <tr style=\"text-align: right;\">\n",
              "      <th></th>\n",
              "      <th>text</th>\n",
              "      <th>target</th>\n",
              "      <th>pred</th>\n",
              "      <th>pred_prob</th>\n",
              "    </tr>\n",
              "  </thead>\n",
              "  <tbody>\n",
              "    <tr>\n",
              "      <th>411</th>\n",
              "      <td>@SoonerMagic_ I mean I'm a fan but I don't nee...</td>\n",
              "      <td>1</td>\n",
              "      <td>0.0</td>\n",
              "      <td>0.043919</td>\n",
              "    </tr>\n",
              "    <tr>\n",
              "      <th>233</th>\n",
              "      <td>I get to smoke my shit in peace</td>\n",
              "      <td>1</td>\n",
              "      <td>0.0</td>\n",
              "      <td>0.042087</td>\n",
              "    </tr>\n",
              "    <tr>\n",
              "      <th>38</th>\n",
              "      <td>Why are you deluged with low self-image? Take ...</td>\n",
              "      <td>1</td>\n",
              "      <td>0.0</td>\n",
              "      <td>0.038998</td>\n",
              "    </tr>\n",
              "    <tr>\n",
              "      <th>244</th>\n",
              "      <td>Reddit Will Now QuarantineÛ_ http://t.co/pkUA...</td>\n",
              "      <td>1</td>\n",
              "      <td>0.0</td>\n",
              "      <td>0.038949</td>\n",
              "    </tr>\n",
              "    <tr>\n",
              "      <th>23</th>\n",
              "      <td>Ron &amp;amp; Fez - Dave's High School Crush https...</td>\n",
              "      <td>1</td>\n",
              "      <td>0.0</td>\n",
              "      <td>0.037186</td>\n",
              "    </tr>\n",
              "  </tbody>\n",
              "</table>\n",
              "</div>\n",
              "      <button class=\"colab-df-convert\" onclick=\"convertToInteractive('df-81f9206a-2ed5-44ab-b3a0-e7c717b9967a')\"\n",
              "              title=\"Convert this dataframe to an interactive table.\"\n",
              "              style=\"display:none;\">\n",
              "        \n",
              "  <svg xmlns=\"http://www.w3.org/2000/svg\" height=\"24px\"viewBox=\"0 0 24 24\"\n",
              "       width=\"24px\">\n",
              "    <path d=\"M0 0h24v24H0V0z\" fill=\"none\"/>\n",
              "    <path d=\"M18.56 5.44l.94 2.06.94-2.06 2.06-.94-2.06-.94-.94-2.06-.94 2.06-2.06.94zm-11 1L8.5 8.5l.94-2.06 2.06-.94-2.06-.94L8.5 2.5l-.94 2.06-2.06.94zm10 10l.94 2.06.94-2.06 2.06-.94-2.06-.94-.94-2.06-.94 2.06-2.06.94z\"/><path d=\"M17.41 7.96l-1.37-1.37c-.4-.4-.92-.59-1.43-.59-.52 0-1.04.2-1.43.59L10.3 9.45l-7.72 7.72c-.78.78-.78 2.05 0 2.83L4 21.41c.39.39.9.59 1.41.59.51 0 1.02-.2 1.41-.59l7.78-7.78 2.81-2.81c.8-.78.8-2.07 0-2.86zM5.41 20L4 18.59l7.72-7.72 1.47 1.35L5.41 20z\"/>\n",
              "  </svg>\n",
              "      </button>\n",
              "      \n",
              "  <style>\n",
              "    .colab-df-container {\n",
              "      display:flex;\n",
              "      flex-wrap:wrap;\n",
              "      gap: 12px;\n",
              "    }\n",
              "\n",
              "    .colab-df-convert {\n",
              "      background-color: #E8F0FE;\n",
              "      border: none;\n",
              "      border-radius: 50%;\n",
              "      cursor: pointer;\n",
              "      display: none;\n",
              "      fill: #1967D2;\n",
              "      height: 32px;\n",
              "      padding: 0 0 0 0;\n",
              "      width: 32px;\n",
              "    }\n",
              "\n",
              "    .colab-df-convert:hover {\n",
              "      background-color: #E2EBFA;\n",
              "      box-shadow: 0px 1px 2px rgba(60, 64, 67, 0.3), 0px 1px 3px 1px rgba(60, 64, 67, 0.15);\n",
              "      fill: #174EA6;\n",
              "    }\n",
              "\n",
              "    [theme=dark] .colab-df-convert {\n",
              "      background-color: #3B4455;\n",
              "      fill: #D2E3FC;\n",
              "    }\n",
              "\n",
              "    [theme=dark] .colab-df-convert:hover {\n",
              "      background-color: #434B5C;\n",
              "      box-shadow: 0px 1px 3px 1px rgba(0, 0, 0, 0.15);\n",
              "      filter: drop-shadow(0px 1px 2px rgba(0, 0, 0, 0.3));\n",
              "      fill: #FFFFFF;\n",
              "    }\n",
              "  </style>\n",
              "\n",
              "      <script>\n",
              "        const buttonEl =\n",
              "          document.querySelector('#df-81f9206a-2ed5-44ab-b3a0-e7c717b9967a button.colab-df-convert');\n",
              "        buttonEl.style.display =\n",
              "          google.colab.kernel.accessAllowed ? 'block' : 'none';\n",
              "\n",
              "        async function convertToInteractive(key) {\n",
              "          const element = document.querySelector('#df-81f9206a-2ed5-44ab-b3a0-e7c717b9967a');\n",
              "          const dataTable =\n",
              "            await google.colab.kernel.invokeFunction('convertToInteractive',\n",
              "                                                     [key], {});\n",
              "          if (!dataTable) return;\n",
              "\n",
              "          const docLinkHtml = 'Like what you see? Visit the ' +\n",
              "            '<a target=\"_blank\" href=https://colab.research.google.com/notebooks/data_table.ipynb>data table notebook</a>'\n",
              "            + ' to learn more about interactive tables.';\n",
              "          element.innerHTML = '';\n",
              "          dataTable['output_type'] = 'display_data';\n",
              "          await google.colab.output.renderOutput(dataTable, element);\n",
              "          const docLink = document.createElement('div');\n",
              "          docLink.innerHTML = docLinkHtml;\n",
              "          element.appendChild(docLink);\n",
              "        }\n",
              "      </script>\n",
              "    </div>\n",
              "  </div>\n",
              "  "
            ]
          },
          "metadata": {},
          "execution_count": 150
        }
      ]
    },
    {
      "cell_type": "markdown",
      "source": [
        "Let's remind ourselves of the target labels...\n",
        "* 0 = not disaster\n",
        "* 1 = disaster"
      ],
      "metadata": {
        "id": "FtH_MF77ZgKn"
      }
    },
    {
      "cell_type": "code",
      "source": [
        "#check the false negatives (model predicted 1 when should've been 0)\n",
        "\n",
        "for row in most_wrong[-10:].itertuples():\n",
        "  _, text, target, pred, pred_prob = row\n",
        "  print(f\"Target: {target}, Pred: {pred}, Prob: {pred_prob}\")\n",
        "  print(f\"Text: \\n{text}\\n\")\n",
        "  print(\"_______\\n\")"
      ],
      "metadata": {
        "colab": {
          "base_uri": "https://localhost:8080/"
        },
        "id": "UToQZ4OuZcYK",
        "outputId": "ed6f0077-53b6-4276-dabd-572fddef70dc"
      },
      "execution_count": 153,
      "outputs": [
        {
          "output_type": "stream",
          "name": "stdout",
          "text": [
            "Target: 1, Pred: 0.0, Prob: 0.06730341911315918\n",
            "Text: \n",
            "@DavidVonderhaar At least you were sincere ??\n",
            "\n",
            "_______\n",
            "\n",
            "Target: 1, Pred: 0.0, Prob: 0.05507582426071167\n",
            "Text: \n",
            "@willienelson We need help! Horses will die!Please RT &amp; sign petition!Take a stand &amp; be a voice for them! #gilbert23 https://t.co/e8dl1lNCVu\n",
            "\n",
            "_______\n",
            "\n",
            "Target: 1, Pred: 0.0, Prob: 0.054603397846221924\n",
            "Text: \n",
            "Lucas Duda is Ghost Rider. Not the Nic Cage version but an actual 'engulfed in flames' badass. #Mets\n",
            "\n",
            "_______\n",
            "\n",
            "Target: 1, Pred: 0.0, Prob: 0.05459702014923096\n",
            "Text: \n",
            "going to redo my nails and watch behind the scenes of desolation of smaug ayyy\n",
            "\n",
            "_______\n",
            "\n",
            "Target: 1, Pred: 0.0, Prob: 0.04963725805282593\n",
            "Text: \n",
            "You can never escape me. Bullets don't harm me. Nothing harms me. But I know pain. I know pain. Sometimes I share it. With someone like you.\n",
            "\n",
            "_______\n",
            "\n",
            "Target: 1, Pred: 0.0, Prob: 0.04391852021217346\n",
            "Text: \n",
            "@SoonerMagic_ I mean I'm a fan but I don't need a girl sounding off like a damn siren\n",
            "\n",
            "_______\n",
            "\n",
            "Target: 1, Pred: 0.0, Prob: 0.04208686947822571\n",
            "Text: \n",
            "I get to smoke my shit in peace\n",
            "\n",
            "_______\n",
            "\n",
            "Target: 1, Pred: 0.0, Prob: 0.038997918367385864\n",
            "Text: \n",
            "Why are you deluged with low self-image? Take the quiz: http://t.co/XsPqdOrIqj http://t.co/CQYvFR4UCy\n",
            "\n",
            "_______\n",
            "\n",
            "Target: 1, Pred: 0.0, Prob: 0.03894948959350586\n",
            "Text: \n",
            "Reddit Will Now QuarantineÛ_ http://t.co/pkUAMXw6pm #onlinecommunities #reddit #amageddon #freespeech #Business http://t.co/PAWvNJ4sAP\n",
            "\n",
            "_______\n",
            "\n",
            "Target: 1, Pred: 0.0, Prob: 0.03718575835227966\n",
            "Text: \n",
            "Ron &amp; Fez - Dave's High School Crush https://t.co/aN3W16c8F6 via @YouTube\n",
            "\n",
            "_______\n",
            "\n"
          ]
        }
      ]
    },
    {
      "cell_type": "markdown",
      "source": [
        "## making predictions on the test dataset"
      ],
      "metadata": {
        "id": "0Iuc1nwqcLPW"
      }
    },
    {
      "cell_type": "code",
      "source": [
        "#making predictions on the test dataset and visualizing them\n",
        "test_sentences = test_df[\"text\"].to_list()\n",
        "test_samples = random.sample(test_sentences, 10)\n",
        "for test_sample in test_samples:\n",
        "  pred_prob = tf.squeeze(model_6_pretrained.predict([test_sample]))#our model expect a list as input\n",
        "  pred = tf.round(pred_prob)\n",
        "  print(f\"pred: {int(pred)}, prob: {pred_prob}\")\n",
        "  print(f\"text: \\n {test_sample}\\n\")\n",
        "  print(\"________________\\n\")"
      ],
      "metadata": {
        "colab": {
          "base_uri": "https://localhost:8080/"
        },
        "id": "ktGN9u0OgZyy",
        "outputId": "86477c7a-00e3-48bb-8646-78c7cd9084df"
      },
      "execution_count": 156,
      "outputs": [
        {
          "output_type": "stream",
          "name": "stdout",
          "text": [
            "pred: 0, prob: 0.16361933946609497\n",
            "text: \n",
            " AMAZING ANCIENT TEXT RENDERINGS!\n",
            "-------\n",
            "Carl Gallups Dr. Michael Brown and Mark Biltz weigh in on this... http://t.co/sifF4ITJZ0\n",
            "\n",
            "________________\n",
            "\n",
            "pred: 0, prob: 0.09313586354255676\n",
            "text: \n",
            " @BishoyRagheb fair. Bioterrorism is the way to go. Does that mean my BSc isn't irrelevant?\n",
            "\n",
            "________________\n",
            "\n",
            "pred: 0, prob: 0.2123207449913025\n",
            "text: \n",
            " @theCHIVE For the record I held this shirt hostage for nearly a year before sending it last minute to TX #BidTime \n",
            "\n",
            "http://t.co/edbxYatmaq\n",
            "\n",
            "________________\n",
            "\n",
            "pred: 0, prob: 0.07533282041549683\n",
            "text: \n",
            " Free Kindle Book - Aug 3-7 - Thriller - Desolation Run by @jamessnyder22 http://t.co/PfYH4Tzvk9\n",
            "\n",
            "________________\n",
            "\n",
            "pred: 1, prob: 0.9027814269065857\n",
            "text: \n",
            " Port Coquitlam fire burning several businesses http://t.co/Q5FzYLBvTk\n",
            "\n",
            "________________\n",
            "\n",
            "pred: 1, prob: 0.9206011891365051\n",
            "text: \n",
            " Despite past devastation fortunately #forgiveness mutual #respect and #peace emerged.  #Remember #Hiroshima and #Nagasaki\n",
            "\n",
            "________________\n",
            "\n",
            "pred: 1, prob: 0.6532546281814575\n",
            "text: \n",
            " The dust storm chase scene is pretty damn cool. #GhostProtocol\n",
            "\n",
            "________________\n",
            "\n",
            "pred: 0, prob: 0.07134833931922913\n",
            "text: \n",
            " @MarquisDeSpade You can tell yer sins to me. I won't judge you. Take your clothes off and we can sing a hymn. Let's do Abba .@TORNADO_CHICK\n",
            "\n",
            "________________\n",
            "\n",
            "pred: 0, prob: 0.10497146844863892\n",
            "text: \n",
            " @justinbieber @ArianaGrande IMA SCREAMING HSBFUCKJSJ\n",
            "\n",
            "________________\n",
            "\n",
            "pred: 1, prob: 0.9061673283576965\n",
            "text: \n",
            " Remember #Hiroshima destroyed by #Nuclear bomb..an occurrence should never ever happen again yet highly likely recur http://t.co/mB3MJevBb0\n",
            "\n",
            "________________\n",
            "\n"
          ]
        }
      ]
    },
    {
      "cell_type": "markdown",
      "source": [
        "## The speed/core tradeoff"
      ],
      "metadata": {
        "id": "Pv9JbLpIhYoc"
      }
    },
    {
      "cell_type": "code",
      "source": [
        "model_6_results"
      ],
      "metadata": {
        "colab": {
          "base_uri": "https://localhost:8080/"
        },
        "id": "him8EC4WifII",
        "outputId": "30a4c6c1-e55f-4a55-e3e5-feedcde726dd"
      },
      "execution_count": 157,
      "outputs": [
        {
          "output_type": "execute_result",
          "data": {
            "text/plain": [
              "{'accuracy': 81.49606299212599,\n",
              " 'precision': 0.8175707797736699,\n",
              " 'recall': 0.8149606299212598,\n",
              " 'f1': 0.8133343159175271}"
            ]
          },
          "metadata": {},
          "execution_count": 157
        }
      ]
    },
    {
      "cell_type": "code",
      "source": [
        "baseline_results"
      ],
      "metadata": {
        "colab": {
          "base_uri": "https://localhost:8080/"
        },
        "id": "F2B554wkig8p",
        "outputId": "4490de6b-a9ab-474d-f8c9-62355ddbfbed"
      },
      "execution_count": 158,
      "outputs": [
        {
          "output_type": "execute_result",
          "data": {
            "text/plain": [
              "{'accuracy': 79.26509186351706,\n",
              " 'precision': 0.8111390004213173,\n",
              " 'recall': 0.7926509186351706,\n",
              " 'f1': 0.7862189758049549}"
            ]
          },
          "metadata": {},
          "execution_count": 158
        }
      ]
    },
    {
      "cell_type": "code",
      "source": [
        "#let's make a function to measure the time of prediction\n",
        "import time\n",
        "def pred_timer(model, samples):\n",
        "  \"\"\"\n",
        "  Times how long a model takes to make predictions on samples.\n",
        "\n",
        "  \"\"\"\n",
        "\n",
        "  start_time = time.perf_counter() #get start time\n",
        "  model.predict(samples) #prediction\n",
        "  end_time = time.perf_counter() #get end time\n",
        "  total_time = end_time-start_time # calculate how long prediction tooko to make\n",
        "  time_per_pred = total_time/len(samples)\n",
        "  return total_time, time_per_pred"
      ],
      "metadata": {
        "id": "B3ixvBztiiib"
      },
      "execution_count": 160,
      "outputs": []
    },
    {
      "cell_type": "code",
      "source": [
        "#calculate TF Hub Sentence Encoder time per pred\n",
        "model_6_total_pred_time, model_6_time_per_pred = pred_timer(model_6_pretrained,\n",
        "                                                            val_sentences)"
      ],
      "metadata": {
        "id": "IZVwVDmAjO2j"
      },
      "execution_count": 161,
      "outputs": []
    },
    {
      "cell_type": "code",
      "source": [
        "model_6_total_pred_time, model_6_time_per_pred"
      ],
      "metadata": {
        "colab": {
          "base_uri": "https://localhost:8080/"
        },
        "id": "B5Uo48qikBfe",
        "outputId": "aed761d5-2ee2-4cc8-e533-dbe7e7235f62"
      },
      "execution_count": 162,
      "outputs": [
        {
          "output_type": "execute_result",
          "data": {
            "text/plain": [
              "(0.7029192019999755, 0.0009224661443569232)"
            ]
          },
          "metadata": {},
          "execution_count": 162
        }
      ]
    },
    {
      "cell_type": "code",
      "source": [
        "#calculate our baseline model time per pred\n",
        "baseline_total_pred_time, baseline_time_per_pred = pred_timer(model_0, val_sentences)\n",
        "\n",
        "baseline_total_pred_time, baseline_time_per_pred"
      ],
      "metadata": {
        "colab": {
          "base_uri": "https://localhost:8080/"
        },
        "id": "5KTkVf53kGmU",
        "outputId": "761ae802-1176-4223-a2aa-0dcfaf41f90d"
      },
      "execution_count": 164,
      "outputs": [
        {
          "output_type": "execute_result",
          "data": {
            "text/plain": [
              "(0.11268232600014016, 0.00014787706824165376)"
            ]
          },
          "metadata": {},
          "execution_count": 164
        }
      ]
    },
    {
      "cell_type": "code",
      "source": [
        "model_6_pretrained_results = calculate_results(val_labels, model_6_pretrained_preds)\n",
        "\n",
        "model_6_pretrained_results"
      ],
      "metadata": {
        "colab": {
          "base_uri": "https://localhost:8080/"
        },
        "id": "Buyu_hMXkvM5",
        "outputId": "4caa0284-bf91-4614-b3f9-2c4efc34189e"
      },
      "execution_count": 165,
      "outputs": [
        {
          "output_type": "execute_result",
          "data": {
            "text/plain": [
              "{'accuracy': 81.62729658792651,\n",
              " 'precision': 0.818446310697231,\n",
              " 'recall': 0.8162729658792651,\n",
              " 'f1': 0.8148082644367335}"
            ]
          },
          "metadata": {},
          "execution_count": 165
        }
      ]
    },
    {
      "cell_type": "code",
      "source": [
        "import matplotlib.pyplot as plt\n",
        "\n",
        "plt.figure(figsize = (10,7))\n",
        "plt.scatter(baseline_time_per_pred, baseline_results[\"f1\"], label = \"baseline\")\n",
        "plt.scatter(model_6_time_per_pred, model_6_pretrained_results[\"f1\"], label = \"tf hub sentences encoder\")\n",
        "plt.legend()\n",
        "plt.title(\"f1-score versus time per prediction\")\n",
        "plt.xlabel(\"time per prediction\")\n",
        "plt.ylabel(\"f1-score\")"
      ],
      "metadata": {
        "colab": {
          "base_uri": "https://localhost:8080/",
          "height": 501
        },
        "id": "v3Cm90iSkYW_",
        "outputId": "75c0c091-c28b-446c-fbb5-0cb68d12924d"
      },
      "execution_count": 166,
      "outputs": [
        {
          "output_type": "execute_result",
          "data": {
            "text/plain": [
              "Text(0, 0.5, 'f1-score')"
            ]
          },
          "metadata": {},
          "execution_count": 166
        },
        {
          "output_type": "display_data",
          "data": {
            "text/plain": [
              "<Figure size 1000x700 with 1 Axes>"
            ],
            "image/png": "[encoded data removed]"
          },
          "metadata": {}
        }
      ]
    },
    {
      "cell_type": "code",
      "source": [],
      "metadata": {
        "id": "HlDizmS4lsLF"
      },
      "execution_count": null,
      "outputs": []
    }
  ]
}