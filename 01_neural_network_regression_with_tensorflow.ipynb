{
  "nbformat": 4,
  "nbformat_minor": 0,
  "metadata": {
    "colab": {
      "provenance": [],
      "mount_file_id": "1DEGaoRAmLpWx2B3CosmB4gGBiiq05mxr",
      "authorship_tag": "ABX9TyOiAfAP832qDYnmVM/VH70S",
      "include_colab_link": true
    },
    "kernelspec": {
      "name": "python3",
      "display_name": "Python 3"
    },
    "language_info": {
      "name": "python"
    }
  },
  "cells": [
    {
      "cell_type": "markdown",
      "metadata": {
        "id": "view-in-github",
        "colab_type": "text"
      },
      "source": [
        "<a href=\"https://colab.research.google.com/github/endtheme123/ML_note/blob/main/01_neural_network_regression_with_tensorflow.ipynb\" target=\"_parent\"><img src=\"https://colab.research.google.com/assets/colab-badge.svg\" alt=\"Open In Colab\"/></a>"
      ]
    },
    {
      "cell_type": "markdown",
      "source": [
        "#Introduction to Regression with neural network in tensorflow\n",
        "\n",
        "There are many definitions for a regression problem but in our case, we're going to simplify it: predicting a numerical variable based on some other combination of variables, even shorter, predicting a number."
      ],
      "metadata": {
        "id": "cn1-JTsyrXj2"
      }
    },
    {
      "cell_type": "code",
      "source": [
        "#import tensorflow\n",
        "import tensorflow as tf\n",
        "print(tf.__version__)"
      ],
      "metadata": {
        "colab": {
          "base_uri": "https://localhost:8080/"
        },
        "id": "1Ujo_ScT9ibO",
        "outputId": "6da23847-c128-4545-8aa4-2bc6b60c22b4"
      },
      "execution_count": 1,
      "outputs": [
        {
          "output_type": "stream",
          "name": "stdout",
          "text": [
            "2.12.0\n"
          ]
        }
      ]
    },
    {
      "cell_type": "markdown",
      "source": [
        "##Creating data to view and fit"
      ],
      "metadata": {
        "id": "WbpT5a23-AqF"
      }
    },
    {
      "cell_type": "code",
      "source": [
        "import numpy as np\n",
        "import matplotlib.pyplot as plt\n",
        "\n",
        "#create features\n",
        "X = np.array([-7.0,-4.0,-1.0,2.0,5.0,8.0,11.0,14.0])\n",
        "\n",
        "#Create labels\n",
        "y = np.array([3.0,6.0,9.0,12.0,15.0,18.0,21.0,24.0])\n",
        "\n",
        "#Visualize it \n",
        "plt.scatter(X,y)\n"
      ],
      "metadata": {
        "colab": {
          "base_uri": "https://localhost:8080/",
          "height": 452
        },
        "id": "4Z_RonYf-L1_",
        "outputId": "2d18e5e1-3bf4-41ff-bf15-a88c5c87933f"
      },
      "execution_count": 2,
      "outputs": [
        {
          "output_type": "execute_result",
          "data": {
            "text/plain": [
              "<matplotlib.collections.PathCollection at 0x7ff9c9d10430>"
            ]
          },
          "metadata": {},
          "execution_count": 2
        },
        {
          "output_type": "display_data",
          "data": {
            "text/plain": [
              "<Figure size 640x480 with 1 Axes>"
            ],
            "image/png": "[encoded data removed]"
          },
          "metadata": {}
        }
      ]
    },
    {
      "cell_type": "markdown",
      "source": [
        "## Input and Output shapes"
      ],
      "metadata": {
        "id": "QbkNfXcPBXdG"
      }
    },
    {
      "cell_type": "code",
      "source": [
        "#Create a demo tensor for our housing price pridiction problem\n",
        "house_info = tf.constant([\"bedroom\", \"bathroom\", \"garage\"])\n",
        "house_price = tf.constant([939700])\n",
        "house_info , house_price"
      ],
      "metadata": {
        "colab": {
          "base_uri": "https://localhost:8080/"
        },
        "id": "aDQp4s4tByok",
        "outputId": "96406f38-6470-4abf-e115-4fd590629926"
      },
      "execution_count": 3,
      "outputs": [
        {
          "output_type": "execute_result",
          "data": {
            "text/plain": [
              "(<tf.Tensor: shape=(3,), dtype=string, numpy=array([b'bedroom', b'bathroom', b'garage'], dtype=object)>,\n",
              " <tf.Tensor: shape=(1,), dtype=int32, numpy=array([939700], dtype=int32)>)"
            ]
          },
          "metadata": {},
          "execution_count": 3
        }
      ]
    },
    {
      "cell_type": "code",
      "source": [
        "input_shape = X.shape\n",
        "output_shape = y.shape\n",
        "input_shape, output_shape"
      ],
      "metadata": {
        "colab": {
          "base_uri": "https://localhost:8080/"
        },
        "id": "VNMl-kS_CeHM",
        "outputId": "f7865f39-521e-406e-d34d-3d21fa1e4cb4"
      },
      "execution_count": 4,
      "outputs": [
        {
          "output_type": "execute_result",
          "data": {
            "text/plain": [
              "((8,), (8,))"
            ]
          },
          "metadata": {},
          "execution_count": 4
        }
      ]
    },
    {
      "cell_type": "code",
      "source": [
        "X[0], y[0]"
      ],
      "metadata": {
        "colab": {
          "base_uri": "https://localhost:8080/"
        },
        "id": "8fKNfsfuNQVy",
        "outputId": "2ebbdb60-f342-47e7-dc27-8ece00a87e51"
      },
      "execution_count": 5,
      "outputs": [
        {
          "output_type": "execute_result",
          "data": {
            "text/plain": [
              "(-7.0, 3.0)"
            ]
          },
          "metadata": {},
          "execution_count": 5
        }
      ]
    },
    {
      "cell_type": "code",
      "source": [
        "#turn our numpu arrays into tensors\n",
        "X = tf.cast(tf.constant(X), dtype = tf.float32)\n",
        "y = tf.cast(tf.constant(y), dtype= tf.float32)\n",
        "X, y\n",
        "\n"
      ],
      "metadata": {
        "colab": {
          "base_uri": "https://localhost:8080/"
        },
        "id": "yw-Wtz7ENSPR",
        "outputId": "41df8548-9356-4cd0-b108-a2af52abae19"
      },
      "execution_count": 6,
      "outputs": [
        {
          "output_type": "execute_result",
          "data": {
            "text/plain": [
              "(<tf.Tensor: shape=(8,), dtype=float32, numpy=array([-7., -4., -1.,  2.,  5.,  8., 11., 14.], dtype=float32)>,\n",
              " <tf.Tensor: shape=(8,), dtype=float32, numpy=array([ 3.,  6.,  9., 12., 15., 18., 21., 24.], dtype=float32)>)"
            ]
          },
          "metadata": {},
          "execution_count": 6
        }
      ]
    },
    {
      "cell_type": "code",
      "source": [
        "input_shape = X[0].shape\n",
        "output_shape = y[0].shape\n",
        "\n",
        "input_shape, output_shape"
      ],
      "metadata": {
        "colab": {
          "base_uri": "https://localhost:8080/"
        },
        "id": "NemwTdYZ3ZAy",
        "outputId": "e60ff3ea-ff57-401e-b343-7d73599b128b"
      },
      "execution_count": 7,
      "outputs": [
        {
          "output_type": "execute_result",
          "data": {
            "text/plain": [
              "(TensorShape([]), TensorShape([]))"
            ]
          },
          "metadata": {},
          "execution_count": 7
        }
      ]
    },
    {
      "cell_type": "markdown",
      "source": [
        "##Steps in modeling with tf\n",
        "\n",
        "1. **Creating a model** - define the input and output layers, as well as the hidden layers of a deep learning model.\n",
        "\n",
        "2. **Compiiling a model** - define the loss function (in other words, the function which tells our model how wrong it is) and the optimizer ( tell our model how to improve the patterns its learning) and evaluation metrics (what we can use to inpterpret the performance of our model)\n",
        "\n",
        "3. **Fitting a model** - letting the model try to find patterns between X & y (features and labels)\n",
        "\n"
      ],
      "metadata": {
        "id": "XJPi_bSc3uD1"
      }
    },
    {
      "cell_type": "code",
      "source": [
        "# # Optionally, the first layer can receive an `input_shape` argument:\n",
        "# model = tf.keras.Sequential()\n",
        "# model.add(tf.keras.layers.Dense(8, input_shape=(16,)))\n",
        "# # Afterwards, we do automatic shape inference:\n",
        "# model.add(tf.keras.layers.Dense(4))\n",
        "\n",
        "\n",
        "\n",
        "# model = tf.keras.Sequential()\n",
        "# model.add(tf.keras.layers.Dense(8, input_shape=(16,1)))"
      ],
      "metadata": {
        "id": "n2-6SKCiCwGx"
      },
      "execution_count": 8,
      "outputs": []
    },
    {
      "cell_type": "code",
      "source": [
        "#Set random seed\n",
        "tf. random.set_seed(42)\n",
        "\n",
        "#1. Create a model using the sequential API\n",
        "\n",
        "model = tf.keras.Sequential([\n",
        "    tf.keras.layers.Dense(1),\n",
        "    tf.keras.layers.Dense(1)\n",
        "])\n",
        "\n",
        "#2. compile the model\n",
        "\n",
        "model.compile(loss=tf.keras.losses.mae, #mae is short for mean absolute error \n",
        "              optimizer = tf.keras.optimizers.SGD(), #sgd is short for stochastic gradient descent\n",
        "              metrics = [\"mae\"])\n",
        "\n",
        "#3. Fit the model\n",
        "model.fit(tf.expand_dims(X,axis = -1), y, epochs = 5)"
      ],
      "metadata": {
        "colab": {
          "base_uri": "https://localhost:8080/"
        },
        "id": "PAZYw08k33ho",
        "outputId": "ceb9ca40-47da-44a3-8c13-47b564560dea"
      },
      "execution_count": 9,
      "outputs": [
        {
          "output_type": "stream",
          "name": "stdout",
          "text": [
            "Epoch 1/5\n",
            "1/1 [==============================] - 1s 987ms/step - loss: 14.5910 - mae: 14.5910\n",
            "Epoch 2/5\n",
            "1/1 [==============================] - 0s 21ms/step - loss: 14.4681 - mae: 14.4681\n",
            "Epoch 3/5\n",
            "1/1 [==============================] - 0s 18ms/step - loss: 14.3507 - mae: 14.3507\n",
            "Epoch 4/5\n",
            "1/1 [==============================] - 0s 13ms/step - loss: 14.2382 - mae: 14.2382\n",
            "Epoch 5/5\n",
            "1/1 [==============================] - 0s 12ms/step - loss: 14.1301 - mae: 14.1301\n"
          ]
        },
        {
          "output_type": "execute_result",
          "data": {
            "text/plain": [
              "<keras.callbacks.History at 0x7ff9c4251fd0>"
            ]
          },
          "metadata": {},
          "execution_count": 9
        }
      ]
    },
    {
      "cell_type": "code",
      "source": [
        "#check out x and y\n",
        "X,y"
      ],
      "metadata": {
        "colab": {
          "base_uri": "https://localhost:8080/"
        },
        "id": "aEdklRvTDmbN",
        "outputId": "4b483793-b6d4-4ef7-b4d1-e4c0d6a2c281"
      },
      "execution_count": 10,
      "outputs": [
        {
          "output_type": "execute_result",
          "data": {
            "text/plain": [
              "(<tf.Tensor: shape=(8,), dtype=float32, numpy=array([-7., -4., -1.,  2.,  5.,  8., 11., 14.], dtype=float32)>,\n",
              " <tf.Tensor: shape=(8,), dtype=float32, numpy=array([ 3.,  6.,  9., 12., 15., 18., 21., 24.], dtype=float32)>)"
            ]
          },
          "metadata": {},
          "execution_count": 10
        }
      ]
    },
    {
      "cell_type": "code",
      "source": [
        "#try and make a prediction using our model\n",
        "y_pred = model.predict([17.0])\n",
        "y_pred"
      ],
      "metadata": {
        "colab": {
          "base_uri": "https://localhost:8080/"
        },
        "id": "TndFZWB6Fk3y",
        "outputId": "05eb8e15-4d61-46cc-d532-90ec793aa5ea"
      },
      "execution_count": 11,
      "outputs": [
        {
          "output_type": "stream",
          "name": "stdout",
          "text": [
            "1/1 [==============================] - 0s 209ms/step\n"
          ]
        },
        {
          "output_type": "execute_result",
          "data": {
            "text/plain": [
              "array([[-2.877159]], dtype=float32)"
            ]
          },
          "metadata": {},
          "execution_count": 11
        }
      ]
    },
    {
      "cell_type": "markdown",
      "source": [
        "##improving our model\n",
        "\n",
        "We can improve our model by altering the steps we took to create a model:\n",
        "\n",
        "1. **creating a model**: here we might add more layers, increase the number of hidden units(neurons) within each of the hidden layers, change the activation function of each layer.\n",
        "\n",
        "2. **Compiling a model**: here we might change the optimization function or perhaps the **learning rate** of the optimization function.\n",
        "\n",
        "3. **fitting a model**: here we might fit a model for more epochs (leave it train for longer) or on more data (give the model more examples to learn from)\n"
      ],
      "metadata": {
        "id": "CMzRKSniGA6M"
      }
    },
    {
      "cell_type": "code",
      "source": [
        "#lets rebuild our model\n",
        "\n",
        "#1. create the model\n",
        "model = tf.keras.Sequential([\n",
        "    tf.keras.layers.Dense(100, activation=None),\n",
        "    tf.keras.layers.Dense(1)\n",
        "])\n",
        "\n",
        "#2. Compile the model\n",
        "model.compile(loss = \"mae\",\n",
        "              optimizer = tf.keras.optimizers.legacy.Adam(lr = 0.01),\n",
        "              metrics = [\"mae\"])\n",
        "\n",
        "\n",
        "#3. Fit the model (this time we ll train for longer)\n",
        "\n",
        "model.fit(tf.expand_dims(X, axis = -1),y,epochs = 100)"
      ],
      "metadata": {
        "colab": {
          "base_uri": "https://localhost:8080/"
        },
        "id": "KmGZKXETGDSx",
        "outputId": "1a6b93dd-109c-4b53-ead8-73f0bd228121"
      },
      "execution_count": 17,
      "outputs": [
        {
          "output_type": "stream",
          "name": "stderr",
          "text": [
            "/usr/local/lib/python3.9/dist-packages/keras/optimizers/legacy/adam.py:117: UserWarning: The `lr` argument is deprecated, use `learning_rate` instead.\n",
            "  super().__init__(name, **kwargs)\n"
          ]
        },
        {
          "output_type": "stream",
          "name": "stdout",
          "text": [
            "Epoch 1/100\n",
            "1/1 [==============================] - 2s 2s/step - loss: 13.4091 - mae: 13.4091\n",
            "Epoch 2/100\n",
            "1/1 [==============================] - 0s 40ms/step - loss: 12.4355 - mae: 12.4355\n",
            "Epoch 3/100\n",
            "1/1 [==============================] - 0s 22ms/step - loss: 11.4613 - mae: 11.4613\n",
            "Epoch 4/100\n",
            "1/1 [==============================] - 0s 16ms/step - loss: 10.4799 - mae: 10.4799\n",
            "Epoch 5/100\n",
            "1/1 [==============================] - 0s 21ms/step - loss: 9.4856 - mae: 9.4856\n",
            "Epoch 6/100\n",
            "1/1 [==============================] - 0s 13ms/step - loss: 8.4727 - mae: 8.4727\n",
            "Epoch 7/100\n",
            "1/1 [==============================] - 0s 15ms/step - loss: 7.4340 - mae: 7.4340\n",
            "Epoch 8/100\n",
            "1/1 [==============================] - 0s 12ms/step - loss: 6.7962 - mae: 6.7962\n",
            "Epoch 9/100\n",
            "1/1 [==============================] - 0s 13ms/step - loss: 7.2301 - mae: 7.2301\n",
            "Epoch 10/100\n",
            "1/1 [==============================] - 0s 13ms/step - loss: 7.7420 - mae: 7.7420\n",
            "Epoch 11/100\n",
            "1/1 [==============================] - 0s 35ms/step - loss: 7.9674 - mae: 7.9674\n",
            "Epoch 12/100\n",
            "1/1 [==============================] - 0s 28ms/step - loss: 7.8589 - mae: 7.8589\n",
            "Epoch 13/100\n",
            "1/1 [==============================] - 0s 25ms/step - loss: 7.5175 - mae: 7.5175\n",
            "Epoch 14/100\n",
            "1/1 [==============================] - 0s 15ms/step - loss: 7.0251 - mae: 7.0251\n",
            "Epoch 15/100\n",
            "1/1 [==============================] - 0s 29ms/step - loss: 6.6779 - mae: 6.6779\n",
            "Epoch 16/100\n",
            "1/1 [==============================] - 0s 19ms/step - loss: 6.3115 - mae: 6.3115\n",
            "Epoch 17/100\n",
            "1/1 [==============================] - 0s 19ms/step - loss: 6.1074 - mae: 6.1074\n",
            "Epoch 18/100\n",
            "1/1 [==============================] - 0s 17ms/step - loss: 6.0850 - mae: 6.0850\n",
            "Epoch 19/100\n",
            "1/1 [==============================] - 0s 41ms/step - loss: 6.2161 - mae: 6.2161\n",
            "Epoch 20/100\n",
            "1/1 [==============================] - 0s 24ms/step - loss: 6.1992 - mae: 6.1992\n",
            "Epoch 21/100\n",
            "1/1 [==============================] - 0s 17ms/step - loss: 6.0552 - mae: 6.0552\n",
            "Epoch 22/100\n",
            "1/1 [==============================] - 0s 19ms/step - loss: 5.7982 - mae: 5.7982\n",
            "Epoch 23/100\n",
            "1/1 [==============================] - 0s 22ms/step - loss: 5.5357 - mae: 5.5357\n",
            "Epoch 24/100\n",
            "1/1 [==============================] - 0s 16ms/step - loss: 5.3957 - mae: 5.3957\n",
            "Epoch 25/100\n",
            "1/1 [==============================] - 0s 16ms/step - loss: 5.2969 - mae: 5.2969\n",
            "Epoch 26/100\n",
            "1/1 [==============================] - 0s 15ms/step - loss: 5.2710 - mae: 5.2710\n",
            "Epoch 27/100\n",
            "1/1 [==============================] - 0s 16ms/step - loss: 5.1880 - mae: 5.1880\n",
            "Epoch 28/100\n",
            "1/1 [==============================] - 0s 19ms/step - loss: 5.0520 - mae: 5.0520\n",
            "Epoch 29/100\n",
            "1/1 [==============================] - 0s 15ms/step - loss: 4.8669 - mae: 4.8669\n",
            "Epoch 30/100\n",
            "1/1 [==============================] - 0s 17ms/step - loss: 4.6367 - mae: 4.6367\n",
            "Epoch 31/100\n",
            "1/1 [==============================] - 0s 26ms/step - loss: 4.4696 - mae: 4.4696\n",
            "Epoch 32/100\n",
            "1/1 [==============================] - 0s 13ms/step - loss: 4.3355 - mae: 4.3355\n",
            "Epoch 33/100\n",
            "1/1 [==============================] - 0s 13ms/step - loss: 4.2306 - mae: 4.2306\n",
            "Epoch 34/100\n",
            "1/1 [==============================] - 0s 26ms/step - loss: 4.0581 - mae: 4.0581\n",
            "Epoch 35/100\n",
            "1/1 [==============================] - 0s 17ms/step - loss: 3.8098 - mae: 3.8098\n",
            "Epoch 36/100\n",
            "1/1 [==============================] - 0s 16ms/step - loss: 3.5941 - mae: 3.5941\n",
            "Epoch 37/100\n",
            "1/1 [==============================] - 0s 16ms/step - loss: 3.4051 - mae: 3.4051\n",
            "Epoch 38/100\n",
            "1/1 [==============================] - 0s 32ms/step - loss: 3.2310 - mae: 3.2310\n",
            "Epoch 39/100\n",
            "1/1 [==============================] - 0s 35ms/step - loss: 2.9854 - mae: 2.9854\n",
            "Epoch 40/100\n",
            "1/1 [==============================] - 0s 40ms/step - loss: 2.6852 - mae: 2.6852\n",
            "Epoch 41/100\n",
            "1/1 [==============================] - 0s 27ms/step - loss: 2.4398 - mae: 2.4398\n",
            "Epoch 42/100\n",
            "1/1 [==============================] - 0s 43ms/step - loss: 2.1749 - mae: 2.1749\n",
            "Epoch 43/100\n",
            "1/1 [==============================] - 0s 45ms/step - loss: 1.9258 - mae: 1.9258\n",
            "Epoch 44/100\n",
            "1/1 [==============================] - 0s 24ms/step - loss: 1.5683 - mae: 1.5683\n",
            "Epoch 45/100\n",
            "1/1 [==============================] - 0s 24ms/step - loss: 1.3126 - mae: 1.3126\n",
            "Epoch 46/100\n",
            "1/1 [==============================] - 0s 33ms/step - loss: 0.9982 - mae: 0.9982\n",
            "Epoch 47/100\n",
            "1/1 [==============================] - 0s 25ms/step - loss: 0.5566 - mae: 0.5566\n",
            "Epoch 48/100\n",
            "1/1 [==============================] - 0s 27ms/step - loss: 0.3791 - mae: 0.3791\n",
            "Epoch 49/100\n",
            "1/1 [==============================] - 0s 26ms/step - loss: 0.3405 - mae: 0.3405\n",
            "Epoch 50/100\n",
            "1/1 [==============================] - 0s 29ms/step - loss: 0.7674 - mae: 0.7674\n",
            "Epoch 51/100\n",
            "1/1 [==============================] - 0s 31ms/step - loss: 1.1126 - mae: 1.1126\n",
            "Epoch 52/100\n",
            "1/1 [==============================] - 0s 38ms/step - loss: 1.1272 - mae: 1.1272\n",
            "Epoch 53/100\n",
            "1/1 [==============================] - 0s 54ms/step - loss: 1.0061 - mae: 1.0061\n",
            "Epoch 54/100\n",
            "1/1 [==============================] - 0s 34ms/step - loss: 1.1459 - mae: 1.1459\n",
            "Epoch 55/100\n",
            "1/1 [==============================] - 0s 45ms/step - loss: 1.0408 - mae: 1.0408\n",
            "Epoch 56/100\n",
            "1/1 [==============================] - 0s 24ms/step - loss: 0.8927 - mae: 0.8927\n",
            "Epoch 57/100\n",
            "1/1 [==============================] - 0s 24ms/step - loss: 0.9052 - mae: 0.9052\n",
            "Epoch 58/100\n",
            "1/1 [==============================] - 0s 18ms/step - loss: 0.6693 - mae: 0.6693\n",
            "Epoch 59/100\n",
            "1/1 [==============================] - 0s 19ms/step - loss: 0.5479 - mae: 0.5479\n",
            "Epoch 60/100\n",
            "1/1 [==============================] - 0s 19ms/step - loss: 0.4392 - mae: 0.4392\n",
            "Epoch 61/100\n",
            "1/1 [==============================] - 0s 19ms/step - loss: 0.0230 - mae: 0.0230\n",
            "Epoch 62/100\n",
            "1/1 [==============================] - 0s 20ms/step - loss: 0.2452 - mae: 0.2452\n",
            "Epoch 63/100\n",
            "1/1 [==============================] - 0s 21ms/step - loss: 0.2927 - mae: 0.2927\n",
            "Epoch 64/100\n",
            "1/1 [==============================] - 0s 18ms/step - loss: 0.3463 - mae: 0.3463\n",
            "Epoch 65/100\n",
            "1/1 [==============================] - 0s 17ms/step - loss: 0.4195 - mae: 0.4195\n",
            "Epoch 66/100\n",
            "1/1 [==============================] - 0s 30ms/step - loss: 0.3286 - mae: 0.3286\n",
            "Epoch 67/100\n",
            "1/1 [==============================] - 0s 19ms/step - loss: 0.3453 - mae: 0.3453\n",
            "Epoch 68/100\n",
            "1/1 [==============================] - 0s 19ms/step - loss: 0.1763 - mae: 0.1763\n",
            "Epoch 69/100\n",
            "1/1 [==============================] - 0s 24ms/step - loss: 0.2200 - mae: 0.2200\n",
            "Epoch 70/100\n",
            "1/1 [==============================] - 0s 30ms/step - loss: 0.0959 - mae: 0.0959\n",
            "Epoch 71/100\n",
            "1/1 [==============================] - 0s 22ms/step - loss: 0.4180 - mae: 0.4180\n",
            "Epoch 72/100\n",
            "1/1 [==============================] - 0s 20ms/step - loss: 0.4610 - mae: 0.4610\n",
            "Epoch 73/100\n",
            "1/1 [==============================] - 0s 20ms/step - loss: 0.2921 - mae: 0.2921\n",
            "Epoch 74/100\n",
            "1/1 [==============================] - 0s 21ms/step - loss: 0.3625 - mae: 0.3625\n",
            "Epoch 75/100\n",
            "1/1 [==============================] - 0s 26ms/step - loss: 0.4067 - mae: 0.4067\n",
            "Epoch 76/100\n",
            "1/1 [==============================] - 0s 34ms/step - loss: 0.0640 - mae: 0.0640\n",
            "Epoch 77/100\n",
            "1/1 [==============================] - 0s 36ms/step - loss: 0.5809 - mae: 0.5809\n",
            "Epoch 78/100\n",
            "1/1 [==============================] - 0s 15ms/step - loss: 0.7635 - mae: 0.7635\n",
            "Epoch 79/100\n",
            "1/1 [==============================] - 0s 23ms/step - loss: 0.5507 - mae: 0.5507\n",
            "Epoch 80/100\n",
            "1/1 [==============================] - 0s 19ms/step - loss: 0.1533 - mae: 0.1533\n",
            "Epoch 81/100\n",
            "1/1 [==============================] - 0s 20ms/step - loss: 0.3101 - mae: 0.3101\n",
            "Epoch 82/100\n",
            "1/1 [==============================] - 0s 20ms/step - loss: 0.2244 - mae: 0.2244\n",
            "Epoch 83/100\n",
            "1/1 [==============================] - 0s 19ms/step - loss: 0.1982 - mae: 0.1982\n",
            "Epoch 84/100\n",
            "1/1 [==============================] - 0s 19ms/step - loss: 0.2267 - mae: 0.2267\n",
            "Epoch 85/100\n",
            "1/1 [==============================] - 0s 20ms/step - loss: 0.1392 - mae: 0.1392\n",
            "Epoch 86/100\n",
            "1/1 [==============================] - 0s 29ms/step - loss: 0.1283 - mae: 0.1283\n",
            "Epoch 87/100\n",
            "1/1 [==============================] - 0s 23ms/step - loss: 0.1760 - mae: 0.1760\n",
            "Epoch 88/100\n",
            "1/1 [==============================] - 0s 20ms/step - loss: 0.0826 - mae: 0.0826\n",
            "Epoch 89/100\n",
            "1/1 [==============================] - 0s 23ms/step - loss: 0.3242 - mae: 0.3242\n",
            "Epoch 90/100\n",
            "1/1 [==============================] - 0s 23ms/step - loss: 0.3599 - mae: 0.3599\n",
            "Epoch 91/100\n",
            "1/1 [==============================] - 0s 22ms/step - loss: 0.1439 - mae: 0.1439\n",
            "Epoch 92/100\n",
            "1/1 [==============================] - 0s 24ms/step - loss: 0.4369 - mae: 0.4369\n",
            "Epoch 93/100\n",
            "1/1 [==============================] - 0s 23ms/step - loss: 0.5341 - mae: 0.5341\n",
            "Epoch 94/100\n",
            "1/1 [==============================] - 0s 23ms/step - loss: 0.2971 - mae: 0.2971\n",
            "Epoch 95/100\n",
            "1/1 [==============================] - 0s 24ms/step - loss: 0.2339 - mae: 0.2339\n",
            "Epoch 96/100\n",
            "1/1 [==============================] - 0s 26ms/step - loss: 0.3915 - mae: 0.3915\n",
            "Epoch 97/100\n",
            "1/1 [==============================] - 0s 18ms/step - loss: 0.2193 - mae: 0.2193\n",
            "Epoch 98/100\n",
            "1/1 [==============================] - 0s 20ms/step - loss: 0.2563 - mae: 0.2563\n",
            "Epoch 99/100\n",
            "1/1 [==============================] - 0s 20ms/step - loss: 0.3631 - mae: 0.3631\n",
            "Epoch 100/100\n",
            "1/1 [==============================] - 0s 19ms/step - loss: 0.1523 - mae: 0.1523\n"
          ]
        },
        {
          "output_type": "execute_result",
          "data": {
            "text/plain": [
              "<keras.callbacks.History at 0x7ff9b3f71430>"
            ]
          },
          "metadata": {},
          "execution_count": 17
        }
      ]
    },
    {
      "cell_type": "code",
      "source": [
        "#remind ourselves of the data\n",
        "X,y\n"
      ],
      "metadata": {
        "colab": {
          "base_uri": "https://localhost:8080/"
        },
        "id": "fetyPA_OKr2p",
        "outputId": "81ba847b-e4a9-4850-8710-ef6a6fd40c76"
      },
      "execution_count": 13,
      "outputs": [
        {
          "output_type": "execute_result",
          "data": {
            "text/plain": [
              "(<tf.Tensor: shape=(8,), dtype=float32, numpy=array([-7., -4., -1.,  2.,  5.,  8., 11., 14.], dtype=float32)>,\n",
              " <tf.Tensor: shape=(8,), dtype=float32, numpy=array([ 3.,  6.,  9., 12., 15., 18., 21., 24.], dtype=float32)>)"
            ]
          },
          "metadata": {},
          "execution_count": 13
        }
      ]
    },
    {
      "cell_type": "code",
      "source": [
        "#lets see if our model prediction has improved?\n",
        "model.predict([17.0])"
      ],
      "metadata": {
        "colab": {
          "base_uri": "https://localhost:8080/"
        },
        "id": "NA9oSHrVLGlh",
        "outputId": "639c69ed-f1ba-4f19-9651-9f006a0b30a7"
      },
      "execution_count": 18,
      "outputs": [
        {
          "output_type": "stream",
          "name": "stdout",
          "text": [
            "1/1 [==============================] - 0s 85ms/step\n"
          ]
        },
        {
          "output_type": "execute_result",
          "data": {
            "text/plain": [
              "array([[26.10789]], dtype=float32)"
            ]
          },
          "metadata": {},
          "execution_count": 18
        }
      ]
    },
    {
      "cell_type": "markdown",
      "source": [
        "## Evaluate a model\n",
        "\n",
        "In practice, a typical workflow you go through when building neural network is:\n",
        "\n",
        "```\n",
        "Build a model -> fit it -> evaluate it -> tweak a model -> fit it -> tweak a model -> fit it -> evaluate it ....\n",
        "```"
      ],
      "metadata": {
        "id": "hQSLHUoHLMYc"
      }
    },
    {
      "cell_type": "markdown",
      "source": [
        "When it comes to evaluation, there are 3 words you should memorize:\n",
        "\n",
        "```\"visualize, visualize, visualize\"```\n",
        "\n",
        "it's a good idea to visualize:\n",
        "* the data - what data are we working with? what does it look like?\n",
        "* the model itself - what does our model look like?\n",
        "* the training of a model - how does a model perform while it learns?\n",
        "* the prediction of the model - how do the predictions of model line up against the ground truth(the original lables)? "
      ],
      "metadata": {
        "id": "6Hmzjp8JcWEp"
      }
    },
    {
      "cell_type": "code",
      "source": [
        "#make a bigger dataset\n",
        "X = tf.range(-100,100,4)\n",
        "X"
      ],
      "metadata": {
        "colab": {
          "base_uri": "https://localhost:8080/"
        },
        "id": "KDeLNyw-1gUQ",
        "outputId": "33194c10-8a3f-450a-9ce8-5149a0e5a171"
      },
      "execution_count": 19,
      "outputs": [
        {
          "output_type": "execute_result",
          "data": {
            "text/plain": [
              "<tf.Tensor: shape=(50,), dtype=int32, numpy=\n",
              "array([-100,  -96,  -92,  -88,  -84,  -80,  -76,  -72,  -68,  -64,  -60,\n",
              "        -56,  -52,  -48,  -44,  -40,  -36,  -32,  -28,  -24,  -20,  -16,\n",
              "        -12,   -8,   -4,    0,    4,    8,   12,   16,   20,   24,   28,\n",
              "         32,   36,   40,   44,   48,   52,   56,   60,   64,   68,   72,\n",
              "         76,   80,   84,   88,   92,   96], dtype=int32)>"
            ]
          },
          "metadata": {},
          "execution_count": 19
        }
      ]
    },
    {
      "cell_type": "code",
      "source": [
        "#make labels for the dataset\n",
        "y = X+10\n",
        "y"
      ],
      "metadata": {
        "colab": {
          "base_uri": "https://localhost:8080/"
        },
        "id": "jQipXQmd1tlw",
        "outputId": "d00b2fee-28b9-4e98-e84a-fbc90c64c771"
      },
      "execution_count": 21,
      "outputs": [
        {
          "output_type": "execute_result",
          "data": {
            "text/plain": [
              "<tf.Tensor: shape=(50,), dtype=int32, numpy=\n",
              "array([-90, -86, -82, -78, -74, -70, -66, -62, -58, -54, -50, -46, -42,\n",
              "       -38, -34, -30, -26, -22, -18, -14, -10,  -6,  -2,   2,   6,  10,\n",
              "        14,  18,  22,  26,  30,  34,  38,  42,  46,  50,  54,  58,  62,\n",
              "        66,  70,  74,  78,  82,  86,  90,  94,  98, 102, 106], dtype=int32)>"
            ]
          },
          "metadata": {},
          "execution_count": 21
        }
      ]
    },
    {
      "cell_type": "code",
      "source": [
        "#visualize the data\n",
        "import matplotlib.pyplot as plt\n",
        "plt.scatter(X,y)"
      ],
      "metadata": {
        "colab": {
          "base_uri": "https://localhost:8080/",
          "height": 447
        },
        "id": "Exq54lov11VH",
        "outputId": "a94421d1-d1d6-4e4c-c5b8-866b42c487a6"
      },
      "execution_count": 22,
      "outputs": [
        {
          "output_type": "execute_result",
          "data": {
            "text/plain": [
              "<matplotlib.collections.PathCollection at 0x7ff9b06e9fd0>"
            ]
          },
          "metadata": {},
          "execution_count": 22
        },
        {
          "output_type": "display_data",
          "data": {
            "text/plain": [
              "<Figure size 640x480 with 1 Axes>"
            ],
            "image/png": "[encoded data removed]"
          },
          "metadata": {}
        }
      ]
    },
    {
      "cell_type": "markdown",
      "source": [
        "### The 3 sets...\n",
        "\n",
        "* **Training set** -  the model learns from this data, which is typically 70-80% of the total data you have available.\n",
        "* **Validation set** - the model get tuned on this data, which is typically 10-15% of the data available.\n",
        "* **Test set** - the model gets evaluated on this data to test what it has learned, this set is typically 10-15% of the total data available."
      ],
      "metadata": {
        "id": "w9DDeuBD2ABR"
      }
    },
    {
      "cell_type": "code",
      "source": [
        "#check the length of how many sample we have\n",
        "len(X)"
      ],
      "metadata": {
        "colab": {
          "base_uri": "https://localhost:8080/"
        },
        "id": "Wni22EC43L_F",
        "outputId": "119d2b11-694f-4772-f24d-d3a6cebf680f"
      },
      "execution_count": 23,
      "outputs": [
        {
          "output_type": "execute_result",
          "data": {
            "text/plain": [
              "50"
            ]
          },
          "metadata": {},
          "execution_count": 23
        }
      ]
    },
    {
      "cell_type": "code",
      "source": [
        "#Split the data into train and test sets\n",
        "\n",
        "X_train = X[:40] #first 40 are training samples(80% of the data) \n",
        "y_train = y[:40] \n",
        "\n",
        "X_test = X[40:] # last 10 are testing samples (20% of the data)\n",
        "y_test = y[40:] \n",
        "\n",
        "len(X_train), len(X_test), len(y_train), len(y_test)\n"
      ],
      "metadata": {
        "colab": {
          "base_uri": "https://localhost:8080/"
        },
        "id": "vpqqp5hb3w1z",
        "outputId": "f640465d-dbf3-4479-c378-c5b5dacf254c"
      },
      "execution_count": 24,
      "outputs": [
        {
          "output_type": "execute_result",
          "data": {
            "text/plain": [
              "(40, 10, 40, 10)"
            ]
          },
          "metadata": {},
          "execution_count": 24
        }
      ]
    },
    {
      "cell_type": "markdown",
      "source": [
        "### Visualizing the data\n",
        "\n",
        "Now we've got our data in training and test sets... let's visualize it again!"
      ],
      "metadata": {
        "id": "Dxlh4n_C4jpH"
      }
    },
    {
      "cell_type": "code",
      "source": [
        "plt.figure(figsize = (10,7))\n",
        "\n",
        "#plot training data in blue\n",
        "plt.scatter(X_train, y_train, c = \"b\", label = \"training data\")\n",
        "\n",
        "#plot testing data in green\n",
        "plt.scatter(X_test, y_test, c=\"r\", label = \"testing data\")\n",
        "\n",
        "#Show a legend\n",
        "plt.legend();"
      ],
      "metadata": {
        "colab": {
          "base_uri": "https://localhost:8080/",
          "height": 463
        },
        "id": "R9cUdTat41Ho",
        "outputId": "0626fcf5-5f98-4561-de37-e54a98f5484d"
      },
      "execution_count": 29,
      "outputs": [
        {
          "output_type": "display_data",
          "data": {
            "text/plain": [
              "<Figure size 1000x700 with 1 Axes>"
            ],
            "image/png": "[encoded data removed]"
          },
          "metadata": {}
        }
      ]
    },
    {
      "cell_type": "code",
      "source": [
        "#Let's have a look at how to build a neural network for our data\n",
        "\n",
        "#1. create a model\n",
        "model = tf.keras.Sequential([\n",
        "    tf.keras.layers.Dense(1)\n",
        "])\n",
        "\n",
        "#2. compile the model\n",
        "model.compile(loss = tf.keras.losses.mae,\n",
        "              optimizer = tf.keras.optimizers.SGD(),\n",
        "              metrics = [\"mae\"])\n",
        "\n",
        "#3. fit the model\n",
        "model.fit(tf.expand_dims(X_train, axis = -1), y_train, epochs = 100)"
      ],
      "metadata": {
        "colab": {
          "base_uri": "https://localhost:8080/"
        },
        "id": "vrox_5Ib5Uq9",
        "outputId": "0d296454-2437-46c6-c372-b4b468c95801"
      },
      "execution_count": 33,
      "outputs": [
        {
          "output_type": "stream",
          "name": "stdout",
          "text": [
            "Epoch 1/100\n",
            "2/2 [==============================] - 1s 14ms/step - loss: 98.9384 - mae: 98.9384\n",
            "Epoch 2/100\n",
            "2/2 [==============================] - 0s 16ms/step - loss: 63.4830 - mae: 63.4830\n",
            "Epoch 3/100\n",
            "2/2 [==============================] - 0s 17ms/step - loss: 26.3388 - mae: 26.3388\n",
            "Epoch 4/100\n",
            "2/2 [==============================] - 0s 16ms/step - loss: 11.3553 - mae: 11.3553\n",
            "Epoch 5/100\n",
            "2/2 [==============================] - 0s 12ms/step - loss: 12.6115 - mae: 12.6115\n",
            "Epoch 6/100\n",
            "2/2 [==============================] - 0s 9ms/step - loss: 9.7603 - mae: 9.7603\n",
            "Epoch 7/100\n",
            "2/2 [==============================] - 0s 9ms/step - loss: 8.8502 - mae: 8.8502\n",
            "Epoch 8/100\n",
            "2/2 [==============================] - 0s 8ms/step - loss: 9.0951 - mae: 9.0951\n",
            "Epoch 9/100\n",
            "2/2 [==============================] - 0s 9ms/step - loss: 19.3985 - mae: 19.3985\n",
            "Epoch 10/100\n",
            "2/2 [==============================] - 0s 9ms/step - loss: 10.4944 - mae: 10.4944\n",
            "Epoch 11/100\n",
            "2/2 [==============================] - 0s 9ms/step - loss: 8.5634 - mae: 8.5634\n",
            "Epoch 12/100\n",
            "2/2 [==============================] - 0s 14ms/step - loss: 10.9886 - mae: 10.9886\n",
            "Epoch 13/100\n",
            "2/2 [==============================] - 0s 15ms/step - loss: 7.5974 - mae: 7.5974\n",
            "Epoch 14/100\n",
            "2/2 [==============================] - 0s 10ms/step - loss: 15.9978 - mae: 15.9978\n",
            "Epoch 15/100\n",
            "2/2 [==============================] - 0s 13ms/step - loss: 13.0781 - mae: 13.0781\n",
            "Epoch 16/100\n",
            "2/2 [==============================] - 0s 11ms/step - loss: 7.9627 - mae: 7.9627\n",
            "Epoch 17/100\n",
            "2/2 [==============================] - 0s 8ms/step - loss: 11.2793 - mae: 11.2793\n",
            "Epoch 18/100\n",
            "2/2 [==============================] - 0s 13ms/step - loss: 10.2905 - mae: 10.2905\n",
            "Epoch 19/100\n",
            "2/2 [==============================] - 0s 8ms/step - loss: 19.5226 - mae: 19.5226\n",
            "Epoch 20/100\n",
            "2/2 [==============================] - 0s 9ms/step - loss: 16.1773 - mae: 16.1773\n",
            "Epoch 21/100\n",
            "2/2 [==============================] - 0s 10ms/step - loss: 12.0794 - mae: 12.0794\n",
            "Epoch 22/100\n",
            "2/2 [==============================] - 0s 9ms/step - loss: 8.6825 - mae: 8.6825\n",
            "Epoch 23/100\n",
            "2/2 [==============================] - 0s 11ms/step - loss: 9.6949 - mae: 9.6949\n",
            "Epoch 24/100\n",
            "2/2 [==============================] - 0s 9ms/step - loss: 8.6034 - mae: 8.6034\n",
            "Epoch 25/100\n",
            "2/2 [==============================] - 0s 9ms/step - loss: 11.5895 - mae: 11.5895\n",
            "Epoch 26/100\n",
            "2/2 [==============================] - 0s 10ms/step - loss: 15.1913 - mae: 15.1913\n",
            "Epoch 27/100\n",
            "2/2 [==============================] - 0s 9ms/step - loss: 12.0788 - mae: 12.0788\n",
            "Epoch 28/100\n",
            "2/2 [==============================] - 0s 10ms/step - loss: 13.3745 - mae: 13.3745\n",
            "Epoch 29/100\n",
            "2/2 [==============================] - 0s 9ms/step - loss: 9.6273 - mae: 9.6273\n",
            "Epoch 30/100\n",
            "2/2 [==============================] - 0s 12ms/step - loss: 17.1570 - mae: 17.1570\n",
            "Epoch 31/100\n",
            "2/2 [==============================] - 0s 9ms/step - loss: 22.9216 - mae: 22.9216\n",
            "Epoch 32/100\n",
            "2/2 [==============================] - 0s 10ms/step - loss: 7.9419 - mae: 7.9419\n",
            "Epoch 33/100\n",
            "2/2 [==============================] - 0s 14ms/step - loss: 14.1260 - mae: 14.1260\n",
            "Epoch 34/100\n",
            "2/2 [==============================] - 0s 9ms/step - loss: 12.3671 - mae: 12.3671\n",
            "Epoch 35/100\n",
            "2/2 [==============================] - 0s 9ms/step - loss: 8.2950 - mae: 8.2950\n",
            "Epoch 36/100\n",
            "2/2 [==============================] - 0s 9ms/step - loss: 10.5231 - mae: 10.5231\n",
            "Epoch 37/100\n",
            "2/2 [==============================] - 0s 9ms/step - loss: 10.1646 - mae: 10.1646\n",
            "Epoch 38/100\n",
            "2/2 [==============================] - 0s 9ms/step - loss: 11.3699 - mae: 11.3699\n",
            "Epoch 39/100\n",
            "2/2 [==============================] - 0s 8ms/step - loss: 14.7503 - mae: 14.7503\n",
            "Epoch 40/100\n",
            "2/2 [==============================] - 0s 8ms/step - loss: 12.8807 - mae: 12.8807\n",
            "Epoch 41/100\n",
            "2/2 [==============================] - 0s 12ms/step - loss: 9.2686 - mae: 9.2686\n",
            "Epoch 42/100\n",
            "2/2 [==============================] - 0s 11ms/step - loss: 11.0467 - mae: 11.0467\n",
            "Epoch 43/100\n",
            "2/2 [==============================] - 0s 8ms/step - loss: 8.3614 - mae: 8.3614\n",
            "Epoch 44/100\n",
            "2/2 [==============================] - 0s 9ms/step - loss: 13.0951 - mae: 13.0951\n",
            "Epoch 45/100\n",
            "2/2 [==============================] - 0s 9ms/step - loss: 13.6674 - mae: 13.6674\n",
            "Epoch 46/100\n",
            "2/2 [==============================] - 0s 13ms/step - loss: 8.2951 - mae: 8.2951\n",
            "Epoch 47/100\n",
            "2/2 [==============================] - 0s 11ms/step - loss: 8.7610 - mae: 8.7610\n",
            "Epoch 48/100\n",
            "2/2 [==============================] - 0s 10ms/step - loss: 10.0653 - mae: 10.0653\n",
            "Epoch 49/100\n",
            "2/2 [==============================] - 0s 13ms/step - loss: 8.5462 - mae: 8.5462\n",
            "Epoch 50/100\n",
            "2/2 [==============================] - 0s 11ms/step - loss: 9.0531 - mae: 9.0531\n",
            "Epoch 51/100\n",
            "2/2 [==============================] - 0s 10ms/step - loss: 9.4043 - mae: 9.4043\n",
            "Epoch 52/100\n",
            "2/2 [==============================] - 0s 10ms/step - loss: 14.2159 - mae: 14.2159\n",
            "Epoch 53/100\n",
            "2/2 [==============================] - 0s 10ms/step - loss: 14.8837 - mae: 14.8837\n",
            "Epoch 54/100\n",
            "2/2 [==============================] - 0s 10ms/step - loss: 14.8191 - mae: 14.8191\n",
            "Epoch 55/100\n",
            "2/2 [==============================] - 0s 14ms/step - loss: 12.6014 - mae: 12.6014\n",
            "Epoch 56/100\n",
            "2/2 [==============================] - 0s 11ms/step - loss: 7.6062 - mae: 7.6062\n",
            "Epoch 57/100\n",
            "2/2 [==============================] - 0s 8ms/step - loss: 8.8296 - mae: 8.8296\n",
            "Epoch 58/100\n",
            "2/2 [==============================] - 0s 10ms/step - loss: 8.4133 - mae: 8.4133\n",
            "Epoch 59/100\n",
            "2/2 [==============================] - 0s 13ms/step - loss: 9.2126 - mae: 9.2126\n",
            "Epoch 60/100\n",
            "2/2 [==============================] - 0s 10ms/step - loss: 9.1523 - mae: 9.1523\n",
            "Epoch 61/100\n",
            "2/2 [==============================] - 0s 11ms/step - loss: 10.6990 - mae: 10.6990\n",
            "Epoch 62/100\n",
            "2/2 [==============================] - 0s 10ms/step - loss: 7.4577 - mae: 7.4577\n",
            "Epoch 63/100\n",
            "2/2 [==============================] - 0s 9ms/step - loss: 10.5375 - mae: 10.5375\n",
            "Epoch 64/100\n",
            "2/2 [==============================] - 0s 11ms/step - loss: 12.1345 - mae: 12.1345\n",
            "Epoch 65/100\n",
            "2/2 [==============================] - 0s 11ms/step - loss: 9.4698 - mae: 9.4698\n",
            "Epoch 66/100\n",
            "2/2 [==============================] - 0s 17ms/step - loss: 11.5377 - mae: 11.5377\n",
            "Epoch 67/100\n",
            "2/2 [==============================] - 0s 10ms/step - loss: 8.0578 - mae: 8.0578\n",
            "Epoch 68/100\n",
            "2/2 [==============================] - 0s 10ms/step - loss: 8.5874 - mae: 8.5874\n",
            "Epoch 69/100\n",
            "2/2 [==============================] - 0s 8ms/step - loss: 12.2683 - mae: 12.2683\n",
            "Epoch 70/100\n",
            "2/2 [==============================] - 0s 9ms/step - loss: 8.9777 - mae: 8.9777\n",
            "Epoch 71/100\n",
            "2/2 [==============================] - 0s 11ms/step - loss: 9.9520 - mae: 9.9520\n",
            "Epoch 72/100\n",
            "2/2 [==============================] - 0s 10ms/step - loss: 9.9914 - mae: 9.9914\n",
            "Epoch 73/100\n",
            "2/2 [==============================] - 0s 10ms/step - loss: 12.4546 - mae: 12.4546\n",
            "Epoch 74/100\n",
            "2/2 [==============================] - 0s 8ms/step - loss: 10.5989 - mae: 10.5989\n",
            "Epoch 75/100\n",
            "2/2 [==============================] - 0s 9ms/step - loss: 9.6493 - mae: 9.6493\n",
            "Epoch 76/100\n",
            "2/2 [==============================] - 0s 9ms/step - loss: 11.1153 - mae: 11.1153\n",
            "Epoch 77/100\n",
            "2/2 [==============================] - 0s 8ms/step - loss: 8.2969 - mae: 8.2969\n",
            "Epoch 78/100\n",
            "2/2 [==============================] - 0s 10ms/step - loss: 8.9875 - mae: 8.9875\n",
            "Epoch 79/100\n",
            "2/2 [==============================] - 0s 9ms/step - loss: 19.8077 - mae: 19.8077\n",
            "Epoch 80/100\n",
            "2/2 [==============================] - 0s 9ms/step - loss: 17.8232 - mae: 17.8232\n",
            "Epoch 81/100\n",
            "2/2 [==============================] - 0s 10ms/step - loss: 7.1043 - mae: 7.1043\n",
            "Epoch 82/100\n",
            "2/2 [==============================] - 0s 13ms/step - loss: 10.4270 - mae: 10.4270\n",
            "Epoch 83/100\n",
            "2/2 [==============================] - 0s 9ms/step - loss: 9.8499 - mae: 9.8499\n",
            "Epoch 84/100\n",
            "2/2 [==============================] - 0s 13ms/step - loss: 7.9600 - mae: 7.9600\n",
            "Epoch 85/100\n",
            "2/2 [==============================] - 0s 9ms/step - loss: 9.4693 - mae: 9.4693\n",
            "Epoch 86/100\n",
            "2/2 [==============================] - 0s 14ms/step - loss: 9.5127 - mae: 9.5127\n",
            "Epoch 87/100\n",
            "2/2 [==============================] - 0s 12ms/step - loss: 11.4550 - mae: 11.4550\n",
            "Epoch 88/100\n",
            "2/2 [==============================] - 0s 14ms/step - loss: 9.9563 - mae: 9.9563\n",
            "Epoch 89/100\n",
            "2/2 [==============================] - 0s 10ms/step - loss: 7.2749 - mae: 7.2749\n",
            "Epoch 90/100\n",
            "2/2 [==============================] - 0s 14ms/step - loss: 12.7154 - mae: 12.7154\n",
            "Epoch 91/100\n",
            "2/2 [==============================] - 0s 14ms/step - loss: 7.3348 - mae: 7.3348\n",
            "Epoch 92/100\n",
            "2/2 [==============================] - 0s 12ms/step - loss: 7.6991 - mae: 7.6991\n",
            "Epoch 93/100\n",
            "2/2 [==============================] - 0s 12ms/step - loss: 7.1412 - mae: 7.1412\n",
            "Epoch 94/100\n",
            "2/2 [==============================] - 0s 9ms/step - loss: 12.5634 - mae: 12.5634\n",
            "Epoch 95/100\n",
            "2/2 [==============================] - 0s 10ms/step - loss: 9.9419 - mae: 9.9419\n",
            "Epoch 96/100\n",
            "2/2 [==============================] - 0s 9ms/step - loss: 9.1623 - mae: 9.1623\n",
            "Epoch 97/100\n",
            "2/2 [==============================] - 0s 12ms/step - loss: 12.1047 - mae: 12.1047\n",
            "Epoch 98/100\n",
            "2/2 [==============================] - 0s 11ms/step - loss: 9.0865 - mae: 9.0865\n",
            "Epoch 99/100\n",
            "2/2 [==============================] - 0s 8ms/step - loss: 8.5184 - mae: 8.5184\n",
            "Epoch 100/100\n",
            "2/2 [==============================] - 0s 8ms/step - loss: 14.4712 - mae: 14.4712\n"
          ]
        },
        {
          "output_type": "execute_result",
          "data": {
            "text/plain": [
              "<keras.callbacks.History at 0x7ff9af42b640>"
            ]
          },
          "metadata": {},
          "execution_count": 33
        }
      ]
    },
    {
      "cell_type": "markdown",
      "source": [
        "###visualizing the model\n"
      ],
      "metadata": {
        "id": "D2objq816gQt"
      }
    },
    {
      "cell_type": "code",
      "source": [
        "model.summary()"
      ],
      "metadata": {
        "colab": {
          "base_uri": "https://localhost:8080/"
        },
        "id": "crmuQmKA8T-i",
        "outputId": "064b5c41-bbc8-4d05-81cc-293cee4ca8e6"
      },
      "execution_count": 34,
      "outputs": [
        {
          "output_type": "stream",
          "name": "stdout",
          "text": [
            "Model: \"sequential_7\"\n",
            "_________________________________________________________________\n",
            " Layer (type)                Output Shape              Param #   \n",
            "=================================================================\n",
            " dense_12 (Dense)            (None, 1)                 2         \n",
            "                                                                 \n",
            "=================================================================\n",
            "Total params: 2\n",
            "Trainable params: 2\n",
            "Non-trainable params: 0\n",
            "_________________________________________________________________\n"
          ]
        }
      ]
    },
    {
      "cell_type": "code",
      "source": [
        "X[0]"
      ],
      "metadata": {
        "colab": {
          "base_uri": "https://localhost:8080/"
        },
        "id": "uckYf5mU9HMg",
        "outputId": "16d9b709-422d-4399-83c5-381ba0e9a287"
      },
      "execution_count": 36,
      "outputs": [
        {
          "output_type": "execute_result",
          "data": {
            "text/plain": [
              "<tf.Tensor: shape=(), dtype=int32, numpy=-100>"
            ]
          },
          "metadata": {},
          "execution_count": 36
        }
      ]
    },
    {
      "cell_type": "code",
      "source": [
        "# model.build()\n",
        "\n",
        "#let's create a model that builds automatically by defining the input shape argument in the first layer\n",
        "tf.random.set_seed(42)\n",
        "\n",
        "#1. create a model (same as above)\n",
        "model = tf.keras.Sequential([\n",
        "    tf.keras.layers.Dense(10, input_shape = [1], name = \"input_layer\"),\n",
        "    tf.keras.layers.Dense(1, name = \"output_layer\")\n",
        "], name = \"one_of_the_many_model_we_are_going_to_build\")\n",
        "\n",
        "#2. compile the model (same as above)\n",
        "model.compile(loss = tf.keras.losses.mae,\n",
        "              optimizer = tf.keras.optimizers.SGD(),\n",
        "              metrics = [\"mae\"])"
      ],
      "metadata": {
        "id": "eN_gCtG58WrR"
      },
      "execution_count": 58,
      "outputs": []
    },
    {
      "cell_type": "code",
      "source": [
        "model.summary()"
      ],
      "metadata": {
        "colab": {
          "base_uri": "https://localhost:8080/"
        },
        "id": "hJCIKBYu9v_L",
        "outputId": "560e5834-a2d9-4751-c60f-b0dd14d0a5cb"
      },
      "execution_count": 59,
      "outputs": [
        {
          "output_type": "stream",
          "name": "stdout",
          "text": [
            "Model: \"one_of_the_many_model_we_are_going_to_build\"\n",
            "_________________________________________________________________\n",
            " Layer (type)                Output Shape              Param #   \n",
            "=================================================================\n",
            " input_layer (Dense)         (None, 10)                20        \n",
            "                                                                 \n",
            " output_layer (Dense)        (None, 1)                 11        \n",
            "                                                                 \n",
            "=================================================================\n",
            "Total params: 31\n",
            "Trainable params: 31\n",
            "Non-trainable params: 0\n",
            "_________________________________________________________________\n"
          ]
        }
      ]
    },
    {
      "cell_type": "markdown",
      "source": [
        "* Total params = total number of parameters in the model.\n",
        "\n",
        "* Trainable parameters = these are the parameters (patterns) the model can update as it trains\n",
        "* Non-trainable parameters - these parameters arent updated during training( this is typical when you bring in already learn patterns or parameters from other models during **transfer learning**)."
      ],
      "metadata": {
        "id": "yMRxdj3q-BsX"
      }
    },
    {
      "cell_type": "code",
      "source": [
        "#Let's fit our model to the training data\n",
        "model.fit(X_train, y_train, epochs = 100, verbose=0)"
      ],
      "metadata": {
        "colab": {
          "base_uri": "https://localhost:8080/"
        },
        "id": "wyJ_rvBA9xaa",
        "outputId": "cd782eb4-1531-49da-edd0-aeb574919d44"
      },
      "execution_count": 60,
      "outputs": [
        {
          "output_type": "execute_result",
          "data": {
            "text/plain": [
              "<keras.callbacks.History at 0x7ff9af5ef7c0>"
            ]
          },
          "metadata": {},
          "execution_count": 60
        }
      ]
    },
    {
      "cell_type": "code",
      "source": [
        "#Get a summary of our model\n",
        "model.summary()"
      ],
      "metadata": {
        "colab": {
          "base_uri": "https://localhost:8080/"
        },
        "id": "Vv_Mx50hAIg_",
        "outputId": "9b3fca26-a35d-407e-8862-2036b12a02b6"
      },
      "execution_count": 44,
      "outputs": [
        {
          "output_type": "stream",
          "name": "stdout",
          "text": [
            "Model: \"sequential_9\"\n",
            "_________________________________________________________________\n",
            " Layer (type)                Output Shape              Param #   \n",
            "=================================================================\n",
            " dense_14 (Dense)            (None, 1)                 2         \n",
            "                                                                 \n",
            "=================================================================\n",
            "Total params: 2\n",
            "Trainable params: 2\n",
            "Non-trainable params: 0\n",
            "_________________________________________________________________\n"
          ]
        }
      ]
    },
    {
      "cell_type": "code",
      "source": [
        "from tensorflow.keras.utils import plot_model\n",
        "\n",
        "plot_model(model = model, show_shapes = True)"
      ],
      "metadata": {
        "colab": {
          "base_uri": "https://localhost:8080/",
          "height": 312
        },
        "id": "NDWgjpTbA3FX",
        "outputId": "8457a850-3313-45a7-e865-cb166e90ff7f"
      },
      "execution_count": 61,
      "outputs": [
        {
          "output_type": "execute_result",
          "data": {
            "image/png": "[encoded data removed]",
            "text/plain": [
              "<IPython.core.display.Image object>"
            ]
          },
          "metadata": {},
          "execution_count": 61
        }
      ]
    },
    {
      "cell_type": "markdown",
      "source": [
        "### Visualizing our model's predictions\n",
        "\n",
        "To visualize prediction, it is a good idea to plot them against the group truth labels.\n",
        "\n",
        "Often you'll see this in the form of `y_test` or `y_true` versus `y_pred` (ground truth vs model's prediction"
      ],
      "metadata": {
        "id": "5cvD9yE4EsDg"
      }
    },
    {
      "cell_type": "code",
      "source": [
        "#make some predictions\n",
        "y_pred = model.predict(X_test)\n",
        "y_pred"
      ],
      "metadata": {
        "colab": {
          "base_uri": "https://localhost:8080/"
        },
        "id": "Xk_63ZVBIalu",
        "outputId": "0297c4aa-8756-4654-c126-744d8ae305eb"
      },
      "execution_count": 62,
      "outputs": [
        {
          "output_type": "stream",
          "name": "stdout",
          "text": [
            "1/1 [==============================] - 0s 118ms/step\n"
          ]
        },
        {
          "output_type": "execute_result",
          "data": {
            "text/plain": [
              "array([[ 69.559586],\n",
              "       [ 74.08015 ],\n",
              "       [ 78.60071 ],\n",
              "       [ 83.12126 ],\n",
              "       [ 87.641815],\n",
              "       [ 92.16238 ],\n",
              "       [ 96.68293 ],\n",
              "       [101.20349 ],\n",
              "       [105.724045],\n",
              "       [110.24461 ]], dtype=float32)"
            ]
          },
          "metadata": {},
          "execution_count": 62
        }
      ]
    },
    {
      "cell_type": "code",
      "source": [
        "y_test\n"
      ],
      "metadata": {
        "colab": {
          "base_uri": "https://localhost:8080/"
        },
        "id": "b7MHeiiZJTtk",
        "outputId": "470c4f7c-483d-4934-b77c-50c8d607ada7"
      },
      "execution_count": 63,
      "outputs": [
        {
          "output_type": "execute_result",
          "data": {
            "text/plain": [
              "<tf.Tensor: shape=(10,), dtype=int32, numpy=array([ 70,  74,  78,  82,  86,  90,  94,  98, 102, 106], dtype=int32)>"
            ]
          },
          "metadata": {},
          "execution_count": 63
        }
      ]
    },
    {
      "cell_type": "markdown",
      "source": [
        "**Note:** if you feel like you are going to reuse some kind of funcionality, in the future, it is a good idea to turn it into a function"
      ],
      "metadata": {
        "id": "7CHTmIxUKHWT"
      }
    },
    {
      "cell_type": "code",
      "source": [
        "# let's create a plotting function\n",
        "def plot_prediction (train_data = X_train,\n",
        "                     train_labels = y_train,\n",
        "                     test_data = X_test,\n",
        "                     test_labels = y_test,\n",
        "                     prediction = y_pred\n",
        "                     ):\n",
        "  \"\"\"\n",
        "  Plots training data, test data and compares predictions to ground truth labels.\n",
        "  \"\"\"\n",
        "  plt.figure(figsize = (10,7))\n",
        "  #plot training data in blue\n",
        "  plt.scatter(train_data, train_labels, c = \"b\", label = \"Training data\")\n",
        "\n",
        "  #plot testing data in green\n",
        "  plt.scatter(test_data, test_labels, c=\"g\", label = \"testing data\")\n",
        "\n",
        "  #plot predicting data in red\n",
        "  plt.scatter(test_data, prediction, c=\"r\", label = \"prediction\")\n",
        "\n",
        "\n",
        "  #show legend\n",
        "  plt.legend()"
      ],
      "metadata": {
        "id": "6sVx3NjoJX89"
      },
      "execution_count": 64,
      "outputs": []
    },
    {
      "cell_type": "code",
      "source": [
        "plot_prediction(train_data = X_train, train_labels = y_train, test_data = X_test, test_labels = y_test, prediction = y_pred)"
      ],
      "metadata": {
        "colab": {
          "base_uri": "https://localhost:8080/",
          "height": 458
        },
        "id": "hvD-iPWHLqTd",
        "outputId": "05f369b0-6931-4017-817b-0ec1649fbb83"
      },
      "execution_count": 66,
      "outputs": [
        {
          "output_type": "display_data",
          "data": {
            "text/plain": [
              "<Figure size 1000x700 with 1 Axes>"
            ],
            "image/png": "[encoded data removed]"
          },
          "metadata": {}
        }
      ]
    },
    {
      "cell_type": "markdown",
      "source": [
        "### Evaluating our model's prediction with regression evaluation metrics\n",
        "\n",
        "Depending on the problem you are working on, there will be different evaluation metrics to evaluate your model's performance.\n",
        "\n",
        "Since we are working on a regression, 2 of the main metrics:\n",
        "* **MAE**: mean absolute error, \"on average, how wrong is each of my model's predictions\"\n",
        "\n",
        "* **MSE**: mean square error, \"square the average errors\""
      ],
      "metadata": {
        "id": "GQJGaUByLtUG"
      }
    },
    {
      "cell_type": "code",
      "source": [
        "#Evaluate the model on the test set\n",
        "model.evaluate(X_test, y_test)"
      ],
      "metadata": {
        "colab": {
          "base_uri": "https://localhost:8080/"
        },
        "id": "G5kQET3BMUaa",
        "outputId": "e9ca5544-540d-4dff-e6f8-68f89e988e36"
      },
      "execution_count": 68,
      "outputs": [
        {
          "output_type": "stream",
          "name": "stdout",
          "text": [
            "1/1 [==============================] - 0s 311ms/step - loss: 1.9902 - mae: 1.9902\n"
          ]
        },
        {
          "output_type": "execute_result",
          "data": {
            "text/plain": [
              "[1.990179419517517, 1.990179419517517]"
            ]
          },
          "metadata": {},
          "execution_count": 68
        }
      ]
    },
    {
      "cell_type": "code",
      "source": [
        "#Calculate the mean absolute error\n",
        "mae = tf.metrics.mean_absolute_error(y_true =  tf.cast(y_test, dtype = tf.float32), \n",
        "                                     y_pred = tf.squeeze(tf.constant(y_pred)))\n",
        "mae"
      ],
      "metadata": {
        "colab": {
          "base_uri": "https://localhost:8080/"
        },
        "id": "36ZwK6t0Og-3",
        "outputId": "3080bce2-f044-4bc4-fad0-461798e64a80"
      },
      "execution_count": 80,
      "outputs": [
        {
          "output_type": "execute_result",
          "data": {
            "text/plain": [
              "<tf.Tensor: shape=(), dtype=float32, numpy=1.9901803>"
            ]
          },
          "metadata": {},
          "execution_count": 80
        }
      ]
    },
    {
      "cell_type": "code",
      "source": [
        "y_pred = tf.squeeze(tf.constant(y_pred))\n",
        "y_pred"
      ],
      "metadata": {
        "colab": {
          "base_uri": "https://localhost:8080/"
        },
        "id": "CZRHAEPwOQNL",
        "outputId": "9774c8b7-aa83-4f29-e5b3-ff50d4daa1be"
      },
      "execution_count": 83,
      "outputs": [
        {
          "output_type": "execute_result",
          "data": {
            "text/plain": [
              "<tf.Tensor: shape=(10,), dtype=float32, numpy=\n",
              "array([ 69.559586,  74.08015 ,  78.60071 ,  83.12126 ,  87.641815,\n",
              "        92.16238 ,  96.68293 , 101.20349 , 105.724045, 110.24461 ],\n",
              "      dtype=float32)>"
            ]
          },
          "metadata": {},
          "execution_count": 83
        }
      ]
    },
    {
      "cell_type": "code",
      "source": [
        "y_test = tf.cast(y_test, dtype = tf.float32)\n",
        "y_test"
      ],
      "metadata": {
        "colab": {
          "base_uri": "https://localhost:8080/"
        },
        "id": "7o4WhmEFOcXi",
        "outputId": "a2a6b672-9a95-496b-96c0-fbb9578f504a"
      },
      "execution_count": 84,
      "outputs": [
        {
          "output_type": "execute_result",
          "data": {
            "text/plain": [
              "<tf.Tensor: shape=(10,), dtype=float32, numpy=\n",
              "array([ 70.,  74.,  78.,  82.,  86.,  90.,  94.,  98., 102., 106.],\n",
              "      dtype=float32)>"
            ]
          },
          "metadata": {},
          "execution_count": 84
        }
      ]
    },
    {
      "cell_type": "code",
      "source": [
        "mae = tf.metrics.mean_absolute_error(y_true = y_test,\n",
        "                                     y_pred = y_pred)\n",
        "mae"
      ],
      "metadata": {
        "colab": {
          "base_uri": "https://localhost:8080/"
        },
        "id": "WlQMZ3WjOdYC",
        "outputId": "be3c3224-a8e3-427c-f02c-edd7b7fbf254"
      },
      "execution_count": 85,
      "outputs": [
        {
          "output_type": "execute_result",
          "data": {
            "text/plain": [
              "<tf.Tensor: shape=(), dtype=float32, numpy=1.9901803>"
            ]
          },
          "metadata": {},
          "execution_count": 85
        }
      ]
    },
    {
      "cell_type": "code",
      "source": [
        "#Calculate the mean square error\n",
        "mse = tf.keras.losses.MSE(y_true = y_test,\n",
        "                          y_pred = y_pred)\n",
        "mse\n"
      ],
      "metadata": {
        "colab": {
          "base_uri": "https://localhost:8080/"
        },
        "id": "0PYjxY7tRmTC",
        "outputId": "400ef663-9af0-46f2-d6f9-4354dc4e2a61"
      },
      "execution_count": 95,
      "outputs": [
        {
          "output_type": "execute_result",
          "data": {
            "text/plain": [
              "<tf.Tensor: shape=(), dtype=float32, numpy=5.8535624>"
            ]
          },
          "metadata": {},
          "execution_count": 95
        }
      ]
    },
    {
      "cell_type": "code",
      "source": [
        "#Make some functions to reuse MAE and MSE:\n",
        "def mae(y_true, y_pred):\n",
        "  return tf.metrics.mean_absolute_error(y_true = tf.cast(y_true, dtype = tf.float32),\n",
        "                                        y_pred = tf.squeeze(tf.constant(y_pred)))\n",
        "\n",
        "\n",
        "def mse(y_true, y_pred):\n",
        "  return tf.metrics.mean_squared_error(y_true = tf.cast(y_true, dtype = tf.float32),\n",
        "                                        y_pred = tf.squeeze(tf.constant(y_pred)))"
      ],
      "metadata": {
        "id": "IFZPtW-YSxnt"
      },
      "execution_count": 107,
      "outputs": []
    },
    {
      "cell_type": "markdown",
      "source": [
        "### Runing experiments to improve our model\n",
        "\n",
        "``` \n",
        "Build a model -> fit it -> evaluate it -> tweak it -> fit it -> evaluate it -> tweak it -> fit it -> evaluate it...\n",
        "```\n",
        "\n",
        "1. get more data -> get more examples for your model to train on (more oportunities to learn patterns or relationships between features and labels.)\n",
        "\n",
        "2. Make your model larger (using a more complex model) - this might come in the form of more layers or more hidden units in each layer.\n",
        "\n",
        "3. Train for longer - give your model more of a chance to find patterns int the data\n",
        "\n",
        "let's do 3 modeling experiments:\n",
        "1. `model_1`: same as the original model, 1 layer but trained for 100 epochs.\n",
        "\n",
        "2. `model_2`: 2 layers, trained for 100 epochs\n",
        "\n",
        "3. `model_3`: 2 layers, trained for 500 epochs\n",
        "\n",
        "**build model 1**"
      ],
      "metadata": {
        "id": "sDdHqN-sUNr5"
      }
    },
    {
      "cell_type": "code",
      "source": [
        "#set random seed\n",
        "tf.random.set_seed(42)\n",
        "\n",
        "#1. create the model\n",
        "model_1 = tf.keras.Sequential([\n",
        "    tf.keras.layers.Dense(1)\n",
        "])\n",
        "\n",
        "#2. compile the model\n",
        "model_1.compile(loss = tf.keras.losses.mae,\n",
        "                optimizer = tf.keras.optimizers.SGD(),\n",
        "                metrics = [\"mae\"])\n",
        "\n",
        "#3. fit the model\n",
        "model_1.fit(tf.expand_dims(X_train,axis = -1), y_train, epochs = 100)\n",
        "\n"
      ],
      "metadata": {
        "colab": {
          "base_uri": "https://localhost:8080/"
        },
        "id": "k-xqhFA3U-GY",
        "outputId": "415ddd38-77eb-41a0-c686-f32794dd1375"
      },
      "execution_count": 99,
      "outputs": [
        {
          "output_type": "stream",
          "name": "stdout",
          "text": [
            "Epoch 1/100\n",
            "2/2 [==============================] - 1s 22ms/step - loss: 52.2200 - mae: 52.2200\n",
            "Epoch 2/100\n",
            "2/2 [==============================] - 0s 16ms/step - loss: 18.8285 - mae: 18.8285\n",
            "Epoch 3/100\n",
            "2/2 [==============================] - 0s 22ms/step - loss: 10.5395 - mae: 10.5395\n",
            "Epoch 4/100\n",
            "2/2 [==============================] - 0s 17ms/step - loss: 9.6614 - mae: 9.6614\n",
            "Epoch 5/100\n",
            "2/2 [==============================] - 0s 15ms/step - loss: 10.5831 - mae: 10.5831\n",
            "Epoch 6/100\n",
            "2/2 [==============================] - 0s 16ms/step - loss: 9.7975 - mae: 9.7975\n",
            "Epoch 7/100\n",
            "2/2 [==============================] - 0s 13ms/step - loss: 8.8789 - mae: 8.8789\n",
            "Epoch 8/100\n",
            "2/2 [==============================] - 0s 14ms/step - loss: 9.0809 - mae: 9.0809\n",
            "Epoch 9/100\n",
            "2/2 [==============================] - 0s 16ms/step - loss: 19.5030 - mae: 19.5030\n",
            "Epoch 10/100\n",
            "2/2 [==============================] - 0s 18ms/step - loss: 10.5401 - mae: 10.5401\n",
            "Epoch 11/100\n",
            "2/2 [==============================] - 0s 27ms/step - loss: 8.5706 - mae: 8.5706\n",
            "Epoch 12/100\n",
            "2/2 [==============================] - 0s 27ms/step - loss: 11.0368 - mae: 11.0368\n",
            "Epoch 13/100\n",
            "2/2 [==============================] - 0s 16ms/step - loss: 7.5949 - mae: 7.5949\n",
            "Epoch 14/100\n",
            "2/2 [==============================] - 0s 35ms/step - loss: 15.8892 - mae: 15.8892\n",
            "Epoch 15/100\n",
            "2/2 [==============================] - 0s 24ms/step - loss: 12.9618 - mae: 12.9618\n",
            "Epoch 16/100\n",
            "2/2 [==============================] - 0s 15ms/step - loss: 7.9404 - mae: 7.9404\n",
            "Epoch 17/100\n",
            "2/2 [==============================] - 0s 12ms/step - loss: 11.1557 - mae: 11.1557\n",
            "Epoch 18/100\n",
            "2/2 [==============================] - 0s 14ms/step - loss: 10.3552 - mae: 10.3552\n",
            "Epoch 19/100\n",
            "2/2 [==============================] - 0s 15ms/step - loss: 19.4071 - mae: 19.4071\n",
            "Epoch 20/100\n",
            "2/2 [==============================] - 0s 17ms/step - loss: 16.0654 - mae: 16.0654\n",
            "Epoch 21/100\n",
            "2/2 [==============================] - 0s 33ms/step - loss: 11.9765 - mae: 11.9765\n",
            "Epoch 22/100\n",
            "2/2 [==============================] - 0s 12ms/step - loss: 8.5811 - mae: 8.5811\n",
            "Epoch 23/100\n",
            "2/2 [==============================] - 0s 12ms/step - loss: 9.7380 - mae: 9.7380\n",
            "Epoch 24/100\n",
            "2/2 [==============================] - 0s 13ms/step - loss: 10.9413 - mae: 10.9413\n",
            "Epoch 25/100\n",
            "2/2 [==============================] - 0s 18ms/step - loss: 9.1599 - mae: 9.1599\n",
            "Epoch 26/100\n",
            "2/2 [==============================] - 0s 12ms/step - loss: 13.1772 - mae: 13.1772\n",
            "Epoch 27/100\n",
            "2/2 [==============================] - 0s 27ms/step - loss: 10.6572 - mae: 10.6572\n",
            "Epoch 28/100\n",
            "2/2 [==============================] - 0s 12ms/step - loss: 12.8684 - mae: 12.8684\n",
            "Epoch 29/100\n",
            "2/2 [==============================] - 0s 12ms/step - loss: 9.5132 - mae: 9.5132\n",
            "Epoch 30/100\n",
            "2/2 [==============================] - 0s 13ms/step - loss: 16.3770 - mae: 16.3770\n",
            "Epoch 31/100\n",
            "2/2 [==============================] - 0s 12ms/step - loss: 23.6165 - mae: 23.6165\n",
            "Epoch 32/100\n",
            "2/2 [==============================] - 0s 11ms/step - loss: 7.6235 - mae: 7.6235\n",
            "Epoch 33/100\n",
            "2/2 [==============================] - 0s 15ms/step - loss: 9.3223 - mae: 9.3223\n",
            "Epoch 34/100\n",
            "2/2 [==============================] - 0s 9ms/step - loss: 13.7149 - mae: 13.7149\n",
            "Epoch 35/100\n",
            "2/2 [==============================] - 0s 14ms/step - loss: 11.1466 - mae: 11.1466\n",
            "Epoch 36/100\n",
            "2/2 [==============================] - 0s 11ms/step - loss: 13.3520 - mae: 13.3520\n",
            "Epoch 37/100\n",
            "2/2 [==============================] - 0s 11ms/step - loss: 9.4730 - mae: 9.4730\n",
            "Epoch 38/100\n",
            "2/2 [==============================] - 0s 19ms/step - loss: 10.1310 - mae: 10.1310\n",
            "Epoch 39/100\n",
            "2/2 [==============================] - 0s 16ms/step - loss: 10.1985 - mae: 10.1985\n",
            "Epoch 40/100\n",
            "2/2 [==============================] - 0s 20ms/step - loss: 10.9367 - mae: 10.9367\n",
            "Epoch 41/100\n",
            "2/2 [==============================] - 0s 26ms/step - loss: 7.9265 - mae: 7.9265\n",
            "Epoch 42/100\n",
            "2/2 [==============================] - 0s 17ms/step - loss: 10.0863 - mae: 10.0863\n",
            "Epoch 43/100\n",
            "2/2 [==============================] - 0s 12ms/step - loss: 8.7024 - mae: 8.7024\n",
            "Epoch 44/100\n",
            "2/2 [==============================] - 0s 12ms/step - loss: 12.1881 - mae: 12.1881\n",
            "Epoch 45/100\n",
            "2/2 [==============================] - 0s 15ms/step - loss: 13.8236 - mae: 13.8236\n",
            "Epoch 46/100\n",
            "2/2 [==============================] - 0s 11ms/step - loss: 8.4898 - mae: 8.4898\n",
            "Epoch 47/100\n",
            "2/2 [==============================] - 0s 17ms/step - loss: 9.1294 - mae: 9.1294\n",
            "Epoch 48/100\n",
            "2/2 [==============================] - 0s 12ms/step - loss: 10.6107 - mae: 10.6107\n",
            "Epoch 49/100\n",
            "2/2 [==============================] - 0s 11ms/step - loss: 7.7477 - mae: 7.7477\n",
            "Epoch 50/100\n",
            "2/2 [==============================] - 0s 11ms/step - loss: 9.5334 - mae: 9.5334\n",
            "Epoch 51/100\n",
            "2/2 [==============================] - 0s 10ms/step - loss: 9.1618 - mae: 9.1618\n",
            "Epoch 52/100\n",
            "2/2 [==============================] - 0s 10ms/step - loss: 16.3354 - mae: 16.3354\n",
            "Epoch 53/100\n",
            "2/2 [==============================] - 0s 11ms/step - loss: 14.1477 - mae: 14.1477\n",
            "Epoch 54/100\n",
            "2/2 [==============================] - 0s 9ms/step - loss: 21.1610 - mae: 21.1610\n",
            "Epoch 55/100\n",
            "2/2 [==============================] - 0s 9ms/step - loss: 16.3726 - mae: 16.3726\n",
            "Epoch 56/100\n",
            "2/2 [==============================] - 0s 13ms/step - loss: 10.0066 - mae: 10.0066\n",
            "Epoch 57/100\n",
            "2/2 [==============================] - 0s 12ms/step - loss: 9.9548 - mae: 9.9548\n",
            "Epoch 58/100\n",
            "2/2 [==============================] - 0s 11ms/step - loss: 9.2170 - mae: 9.2170\n",
            "Epoch 59/100\n",
            "2/2 [==============================] - 0s 11ms/step - loss: 8.4192 - mae: 8.4192\n",
            "Epoch 60/100\n",
            "2/2 [==============================] - 0s 14ms/step - loss: 9.4853 - mae: 9.4853\n",
            "Epoch 61/100\n",
            "2/2 [==============================] - 0s 18ms/step - loss: 11.4246 - mae: 11.4246\n",
            "Epoch 62/100\n",
            "2/2 [==============================] - 0s 11ms/step - loss: 11.7149 - mae: 11.7149\n",
            "Epoch 63/100\n",
            "2/2 [==============================] - 0s 12ms/step - loss: 7.0845 - mae: 7.0845\n",
            "Epoch 64/100\n",
            "2/2 [==============================] - 0s 16ms/step - loss: 16.9936 - mae: 16.9936\n",
            "Epoch 65/100\n",
            "2/2 [==============================] - 0s 12ms/step - loss: 12.4813 - mae: 12.4813\n",
            "Epoch 66/100\n",
            "2/2 [==============================] - 0s 13ms/step - loss: 13.0446 - mae: 13.0446\n",
            "Epoch 67/100\n",
            "2/2 [==============================] - 0s 14ms/step - loss: 8.0745 - mae: 8.0745\n",
            "Epoch 68/100\n",
            "2/2 [==============================] - 0s 12ms/step - loss: 10.2077 - mae: 10.2077\n",
            "Epoch 69/100\n",
            "2/2 [==============================] - 0s 20ms/step - loss: 12.3912 - mae: 12.3912\n",
            "Epoch 70/100\n",
            "2/2 [==============================] - 0s 18ms/step - loss: 9.0481 - mae: 9.0481\n",
            "Epoch 71/100\n",
            "2/2 [==============================] - 0s 9ms/step - loss: 10.0329 - mae: 10.0329\n",
            "Epoch 72/100\n",
            "2/2 [==============================] - 0s 18ms/step - loss: 10.0494 - mae: 10.0494\n",
            "Epoch 73/100\n",
            "2/2 [==============================] - 0s 13ms/step - loss: 12.6015 - mae: 12.6015\n",
            "Epoch 74/100\n",
            "2/2 [==============================] - 0s 10ms/step - loss: 10.4097 - mae: 10.4097\n",
            "Epoch 75/100\n",
            "2/2 [==============================] - 0s 17ms/step - loss: 9.7191 - mae: 9.7191\n",
            "Epoch 76/100\n",
            "2/2 [==============================] - 0s 10ms/step - loss: 11.2177 - mae: 11.2177\n",
            "Epoch 77/100\n",
            "2/2 [==============================] - 0s 9ms/step - loss: 8.3609 - mae: 8.3609\n",
            "Epoch 78/100\n",
            "2/2 [==============================] - 0s 17ms/step - loss: 9.1166 - mae: 9.1166\n",
            "Epoch 79/100\n",
            "2/2 [==============================] - 0s 14ms/step - loss: 19.5388 - mae: 19.5388\n",
            "Epoch 80/100\n",
            "2/2 [==============================] - 0s 10ms/step - loss: 14.8737 - mae: 14.8737\n",
            "Epoch 81/100\n",
            "2/2 [==============================] - 0s 12ms/step - loss: 9.0341 - mae: 9.0341\n",
            "Epoch 82/100\n",
            "2/2 [==============================] - 0s 10ms/step - loss: 13.0046 - mae: 13.0046\n",
            "Epoch 83/100\n",
            "2/2 [==============================] - 0s 9ms/step - loss: 7.9228 - mae: 7.9228\n",
            "Epoch 84/100\n",
            "2/2 [==============================] - 0s 10ms/step - loss: 7.7003 - mae: 7.7003\n",
            "Epoch 85/100\n",
            "2/2 [==============================] - 0s 8ms/step - loss: 10.0538 - mae: 10.0538\n",
            "Epoch 86/100\n",
            "2/2 [==============================] - 0s 9ms/step - loss: 9.2593 - mae: 9.2593\n",
            "Epoch 87/100\n",
            "2/2 [==============================] - 0s 10ms/step - loss: 12.0434 - mae: 12.0434\n",
            "Epoch 88/100\n",
            "2/2 [==============================] - 0s 9ms/step - loss: 10.6629 - mae: 10.6629\n",
            "Epoch 89/100\n",
            "2/2 [==============================] - 0s 9ms/step - loss: 7.2751 - mae: 7.2751\n",
            "Epoch 90/100\n",
            "2/2 [==============================] - 0s 10ms/step - loss: 12.8047 - mae: 12.8047\n",
            "Epoch 91/100\n",
            "2/2 [==============================] - 0s 11ms/step - loss: 7.4847 - mae: 7.4847\n",
            "Epoch 92/100\n",
            "2/2 [==============================] - 0s 7ms/step - loss: 6.7603 - mae: 6.7603\n",
            "Epoch 93/100\n",
            "2/2 [==============================] - 0s 8ms/step - loss: 11.9550 - mae: 11.9550\n",
            "Epoch 94/100\n",
            "2/2 [==============================] - 0s 9ms/step - loss: 8.8876 - mae: 8.8876\n",
            "Epoch 95/100\n",
            "2/2 [==============================] - 0s 9ms/step - loss: 7.7277 - mae: 7.7277\n",
            "Epoch 96/100\n",
            "2/2 [==============================] - 0s 9ms/step - loss: 6.7578 - mae: 6.7578\n",
            "Epoch 97/100\n",
            "2/2 [==============================] - 0s 9ms/step - loss: 8.6389 - mae: 8.6389\n",
            "Epoch 98/100\n",
            "2/2 [==============================] - 0s 9ms/step - loss: 9.4006 - mae: 9.4006\n",
            "Epoch 99/100\n",
            "2/2 [==============================] - 0s 9ms/step - loss: 9.1362 - mae: 9.1362\n",
            "Epoch 100/100\n",
            "2/2 [==============================] - 0s 9ms/step - loss: 10.4933 - mae: 10.4933\n"
          ]
        },
        {
          "output_type": "execute_result",
          "data": {
            "text/plain": [
              "<keras.callbacks.History at 0x7ff9b30e71c0>"
            ]
          },
          "metadata": {},
          "execution_count": 99
        }
      ]
    },
    {
      "cell_type": "code",
      "source": [
        "#visualize the results => make a plot prediction for model 1:\n",
        "y_preds_1 = model_1.predict(X_test)\n",
        "plot_prediction(prediction = y_preds_1)"
      ],
      "metadata": {
        "colab": {
          "base_uri": "https://localhost:8080/",
          "height": 480
        },
        "id": "MxBvTXxbVgq3",
        "outputId": "1600f58e-b1e5-480b-c58a-672b195fd229"
      },
      "execution_count": 101,
      "outputs": [
        {
          "output_type": "stream",
          "name": "stdout",
          "text": [
            "1/1 [==============================] - 0s 39ms/step\n"
          ]
        },
        {
          "output_type": "display_data",
          "data": {
            "text/plain": [
              "<Figure size 1000x700 with 1 Axes>"
            ],
            "image/png": "[encoded data removed]"
          },
          "metadata": {}
        }
      ]
    },
    {
      "cell_type": "code",
      "source": [
        "#calculate model_1 evaluation metrics\n",
        "mae_1 = mae(y_test, y_preds_1)\n",
        "mse_1 = mse(y_test, y_preds_1)\n",
        "mae_1, mse_1"
      ],
      "metadata": {
        "colab": {
          "base_uri": "https://localhost:8080/"
        },
        "id": "2w9gZRKbXdM1",
        "outputId": "92c487b7-5967-4767-800a-e009f4402740"
      },
      "execution_count": 108,
      "outputs": [
        {
          "output_type": "execute_result",
          "data": {
            "text/plain": [
              "(<tf.Tensor: shape=(), dtype=float32, numpy=14.919748>,\n",
              " <tf.Tensor: shape=(), dtype=float32, numpy=223.43481>)"
            ]
          },
          "metadata": {},
          "execution_count": 108
        }
      ]
    },
    {
      "cell_type": "markdown",
      "source": [
        "**Build model 2**\n",
        "\n",
        "* 2 dense layers, trained for 100 epochs"
      ],
      "metadata": {
        "id": "cv6tW6SXXv70"
      }
    },
    {
      "cell_type": "code",
      "source": [
        "#set seed\n",
        "tf.random.set_seed(42)\n",
        "\n",
        "#1. create model 2:\n",
        "model_2 = tf.keras.Sequential([\n",
        "    tf.keras.layers.Dense(10),\n",
        "    tf.keras.layers.Dense(1)\n",
        "])\n",
        "\n",
        "#2. compile the model:\n",
        "model_2.compile(loss = tf.keras.losses.mae,\n",
        "                optimizer = tf.keras.optimizers.SGD(),\n",
        "                metrics = [\"mse\"])\n",
        "\n",
        "\n",
        "\n",
        "#3. fit the model\n",
        "model_2.fit(tf.expand_dims(X_train, axis = -1), y_train, epochs = 100)"
      ],
      "metadata": {
        "colab": {
          "base_uri": "https://localhost:8080/"
        },
        "id": "_ZO9Ya6jZM9S",
        "outputId": "1553ae7f-fbbc-4a01-9f45-4b0eba954d5f"
      },
      "execution_count": 127,
      "outputs": [
        {
          "output_type": "stream",
          "name": "stdout",
          "text": [
            "Epoch 1/100\n",
            "2/2 [==============================] - 1s 15ms/step - loss: 36.5145 - mse: 1916.0883\n",
            "Epoch 2/100\n",
            "2/2 [==============================] - 0s 8ms/step - loss: 26.3726 - mse: 912.1829\n",
            "Epoch 3/100\n",
            "2/2 [==============================] - 0s 12ms/step - loss: 32.2955 - mse: 1536.4524\n",
            "Epoch 4/100\n",
            "2/2 [==============================] - 0s 8ms/step - loss: 24.0509 - mse: 834.8914\n",
            "Epoch 5/100\n",
            "2/2 [==============================] - 0s 11ms/step - loss: 14.3035 - mse: 251.4383\n",
            "Epoch 6/100\n",
            "2/2 [==============================] - 0s 8ms/step - loss: 11.4237 - mse: 148.3972\n",
            "Epoch 7/100\n",
            "2/2 [==============================] - 0s 8ms/step - loss: 12.4542 - mse: 203.6693\n",
            "Epoch 8/100\n",
            "2/2 [==============================] - 0s 9ms/step - loss: 10.9636 - mse: 144.0286\n",
            "Epoch 9/100\n",
            "2/2 [==============================] - 0s 11ms/step - loss: 38.9498 - mse: 2364.6475\n",
            "Epoch 10/100\n",
            "2/2 [==============================] - 0s 9ms/step - loss: 26.5405 - mse: 990.1827\n",
            "Epoch 11/100\n",
            "2/2 [==============================] - 0s 8ms/step - loss: 11.7958 - mse: 217.8456\n",
            "Epoch 12/100\n",
            "2/2 [==============================] - 0s 8ms/step - loss: 23.5828 - mse: 788.0062\n",
            "Epoch 13/100\n",
            "2/2 [==============================] - 0s 8ms/step - loss: 21.1605 - mse: 638.4739\n",
            "Epoch 14/100\n",
            "2/2 [==============================] - 0s 8ms/step - loss: 23.6192 - mse: 855.3623\n",
            "Epoch 15/100\n",
            "2/2 [==============================] - 0s 10ms/step - loss: 15.7126 - mse: 335.9307\n",
            "Epoch 16/100\n",
            "2/2 [==============================] - 0s 10ms/step - loss: 10.4146 - mse: 124.6165\n",
            "Epoch 17/100\n",
            "2/2 [==============================] - 0s 10ms/step - loss: 19.6336 - mse: 524.1794\n",
            "Epoch 18/100\n",
            "2/2 [==============================] - 0s 10ms/step - loss: 13.2780 - mse: 275.6148\n",
            "Epoch 19/100\n",
            "2/2 [==============================] - 0s 14ms/step - loss: 16.0487 - mse: 411.5764\n",
            "Epoch 20/100\n",
            "2/2 [==============================] - 0s 10ms/step - loss: 10.1961 - mse: 153.9437\n",
            "Epoch 21/100\n",
            "2/2 [==============================] - 0s 8ms/step - loss: 13.7445 - mse: 249.2685\n",
            "Epoch 22/100\n",
            "2/2 [==============================] - 0s 11ms/step - loss: 21.9704 - mse: 684.6862\n",
            "Epoch 23/100\n",
            "2/2 [==============================] - 0s 8ms/step - loss: 10.4471 - mse: 166.6586\n",
            "Epoch 24/100\n",
            "2/2 [==============================] - 0s 13ms/step - loss: 15.7367 - mse: 332.5537\n",
            "Epoch 25/100\n",
            "2/2 [==============================] - 0s 11ms/step - loss: 14.8903 - mse: 292.0615\n",
            "Epoch 26/100\n",
            "2/2 [==============================] - 0s 10ms/step - loss: 19.5065 - mse: 576.9516\n",
            "Epoch 27/100\n",
            "2/2 [==============================] - 0s 11ms/step - loss: 20.5650 - mse: 639.4642\n",
            "Epoch 28/100\n",
            "2/2 [==============================] - 0s 8ms/step - loss: 14.9300 - mse: 343.7719\n",
            "Epoch 29/100\n",
            "2/2 [==============================] - 0s 8ms/step - loss: 9.2604 - mse: 93.2029\n",
            "Epoch 30/100\n",
            "2/2 [==============================] - 0s 7ms/step - loss: 30.3192 - mse: 1679.8121\n",
            "Epoch 31/100\n",
            "2/2 [==============================] - 0s 8ms/step - loss: 55.0876 - mse: 5441.8823\n",
            "Epoch 32/100\n",
            "2/2 [==============================] - 0s 8ms/step - loss: 9.6903 - mse: 102.7330\n",
            "Epoch 33/100\n",
            "2/2 [==============================] - 0s 12ms/step - loss: 12.3004 - mse: 190.5387\n",
            "Epoch 34/100\n",
            "2/2 [==============================] - 0s 10ms/step - loss: 24.4549 - mse: 908.4894\n",
            "Epoch 35/100\n",
            "2/2 [==============================] - 0s 10ms/step - loss: 11.9568 - mse: 210.4460\n",
            "Epoch 36/100\n",
            "2/2 [==============================] - 0s 9ms/step - loss: 22.1974 - mse: 700.8870\n",
            "Epoch 37/100\n",
            "2/2 [==============================] - 0s 12ms/step - loss: 17.4064 - mse: 431.5619\n",
            "Epoch 38/100\n",
            "2/2 [==============================] - 0s 12ms/step - loss: 10.6789 - mse: 131.2640\n",
            "Epoch 39/100\n",
            "2/2 [==============================] - 0s 9ms/step - loss: 11.1957 - mse: 162.8579\n",
            "Epoch 40/100\n",
            "2/2 [==============================] - 0s 11ms/step - loss: 18.0326 - mse: 470.2773\n",
            "Epoch 41/100\n",
            "2/2 [==============================] - 0s 11ms/step - loss: 10.4219 - mse: 182.9171\n",
            "Epoch 42/100\n",
            "2/2 [==============================] - 0s 10ms/step - loss: 7.2657 - mse: 75.3106\n",
            "Epoch 43/100\n",
            "2/2 [==============================] - 0s 8ms/step - loss: 18.9962 - mse: 535.0326\n",
            "Epoch 44/100\n",
            "2/2 [==============================] - 0s 11ms/step - loss: 20.1628 - mse: 628.8958\n",
            "Epoch 45/100\n",
            "2/2 [==============================] - 0s 8ms/step - loss: 10.1374 - mse: 127.7107\n",
            "Epoch 46/100\n",
            "2/2 [==============================] - 0s 8ms/step - loss: 11.4090 - mse: 161.7609\n",
            "Epoch 47/100\n",
            "2/2 [==============================] - 0s 8ms/step - loss: 9.8049 - mse: 152.8245\n",
            "Epoch 48/100\n",
            "2/2 [==============================] - 0s 8ms/step - loss: 17.5789 - mse: 420.0692\n",
            "Epoch 49/100\n",
            "2/2 [==============================] - 0s 8ms/step - loss: 9.3507 - mse: 95.7899\n",
            "Epoch 50/100\n",
            "2/2 [==============================] - 0s 9ms/step - loss: 13.4158 - mse: 238.1328\n",
            "Epoch 51/100\n",
            "2/2 [==============================] - 0s 13ms/step - loss: 11.4472 - mse: 149.0726\n",
            "Epoch 52/100\n",
            "2/2 [==============================] - 0s 11ms/step - loss: 29.5131 - mse: 1494.9724\n",
            "Epoch 53/100\n",
            "2/2 [==============================] - 0s 10ms/step - loss: 16.8136 - mse: 418.7664\n",
            "Epoch 54/100\n",
            "2/2 [==============================] - 0s 9ms/step - loss: 21.8097 - mse: 701.9702\n",
            "Epoch 55/100\n",
            "2/2 [==============================] - 0s 7ms/step - loss: 22.4317 - mse: 750.7753\n",
            "Epoch 56/100\n",
            "2/2 [==============================] - 0s 8ms/step - loss: 10.6525 - mse: 172.6422\n",
            "Epoch 57/100\n",
            "2/2 [==============================] - 0s 9ms/step - loss: 12.4251 - mse: 186.8039\n",
            "Epoch 58/100\n",
            "2/2 [==============================] - 0s 9ms/step - loss: 9.4251 - mse: 100.9924\n",
            "Epoch 59/100\n",
            "2/2 [==============================] - 0s 15ms/step - loss: 12.2206 - mse: 198.2850\n",
            "Epoch 60/100\n",
            "2/2 [==============================] - 0s 11ms/step - loss: 11.6946 - mse: 178.9455\n",
            "Epoch 61/100\n",
            "2/2 [==============================] - 0s 14ms/step - loss: 16.1737 - mse: 365.2844\n",
            "Epoch 62/100\n",
            "2/2 [==============================] - 0s 11ms/step - loss: 11.2061 - mse: 159.4695\n",
            "Epoch 63/100\n",
            "2/2 [==============================] - 0s 12ms/step - loss: 12.4831 - mse: 221.6816\n",
            "Epoch 64/100\n",
            "2/2 [==============================] - 0s 12ms/step - loss: 15.8723 - mse: 360.7665\n",
            "Epoch 65/100\n",
            "2/2 [==============================] - 0s 9ms/step - loss: 10.6499 - mse: 140.6759\n",
            "Epoch 66/100\n",
            "2/2 [==============================] - 0s 9ms/step - loss: 21.6456 - mse: 694.5339\n",
            "Epoch 67/100\n",
            "2/2 [==============================] - 0s 13ms/step - loss: 10.6754 - mse: 134.4257\n",
            "Epoch 68/100\n",
            "2/2 [==============================] - 0s 9ms/step - loss: 10.6136 - mse: 146.6715\n",
            "Epoch 69/100\n",
            "2/2 [==============================] - 0s 9ms/step - loss: 22.5286 - mse: 731.0662\n",
            "Epoch 70/100\n",
            "2/2 [==============================] - 0s 9ms/step - loss: 9.3679 - mse: 165.4388\n",
            "Epoch 71/100\n",
            "2/2 [==============================] - 0s 13ms/step - loss: 15.4932 - mse: 325.4684\n",
            "Epoch 72/100\n",
            "2/2 [==============================] - 0s 9ms/step - loss: 7.0249 - mse: 67.8690\n",
            "Epoch 73/100\n",
            "2/2 [==============================] - 0s 9ms/step - loss: 12.2417 - mse: 216.7589\n",
            "Epoch 74/100\n",
            "2/2 [==============================] - 0s 10ms/step - loss: 17.3976 - mse: 410.0107\n",
            "Epoch 75/100\n",
            "2/2 [==============================] - 0s 10ms/step - loss: 7.2359 - mse: 71.6151\n",
            "Epoch 76/100\n",
            "2/2 [==============================] - 0s 10ms/step - loss: 9.9875 - mse: 171.1913\n",
            "Epoch 77/100\n",
            "2/2 [==============================] - 0s 16ms/step - loss: 21.4545 - mse: 693.9855\n",
            "Epoch 78/100\n",
            "2/2 [==============================] - 0s 9ms/step - loss: 18.8705 - mse: 541.5455\n",
            "Epoch 79/100\n",
            "2/2 [==============================] - 0s 9ms/step - loss: 16.1271 - mse: 382.1371\n",
            "Epoch 80/100\n",
            "2/2 [==============================] - 0s 9ms/step - loss: 23.8755 - mse: 865.2883\n",
            "Epoch 81/100\n",
            "2/2 [==============================] - 0s 9ms/step - loss: 11.1231 - mse: 148.2828\n",
            "Epoch 82/100\n",
            "2/2 [==============================] - 0s 10ms/step - loss: 12.6370 - mse: 230.0176\n",
            "Epoch 83/100\n",
            "2/2 [==============================] - 0s 9ms/step - loss: 17.3713 - mse: 393.0025\n",
            "Epoch 84/100\n",
            "2/2 [==============================] - 0s 9ms/step - loss: 7.2774 - mse: 73.6462\n",
            "Epoch 85/100\n",
            "2/2 [==============================] - 0s 9ms/step - loss: 14.9341 - mse: 311.5840\n",
            "Epoch 86/100\n",
            "2/2 [==============================] - 0s 9ms/step - loss: 15.2646 - mse: 315.0095\n",
            "Epoch 87/100\n",
            "2/2 [==============================] - 0s 9ms/step - loss: 19.0535 - mse: 518.7054\n",
            "Epoch 88/100\n",
            "2/2 [==============================] - 0s 9ms/step - loss: 29.9753 - mse: 1301.3392\n",
            "Epoch 89/100\n",
            "2/2 [==============================] - 0s 9ms/step - loss: 10.2216 - mse: 124.7037\n",
            "Epoch 90/100\n",
            "2/2 [==============================] - 0s 9ms/step - loss: 21.6407 - mse: 671.3950\n",
            "Epoch 91/100\n",
            "2/2 [==============================] - 0s 9ms/step - loss: 10.6227 - mse: 161.8435\n",
            "Epoch 92/100\n",
            "2/2 [==============================] - 0s 9ms/step - loss: 18.4981 - mse: 469.4507\n",
            "Epoch 93/100\n",
            "2/2 [==============================] - 0s 9ms/step - loss: 7.4436 - mse: 81.7945\n",
            "Epoch 94/100\n",
            "2/2 [==============================] - 0s 8ms/step - loss: 17.8219 - mse: 450.0917\n",
            "Epoch 95/100\n",
            "2/2 [==============================] - 0s 10ms/step - loss: 11.1659 - mse: 166.3623\n",
            "Epoch 96/100\n",
            "2/2 [==============================] - 0s 13ms/step - loss: 19.5176 - mse: 514.7470\n",
            "Epoch 97/100\n",
            "2/2 [==============================] - 0s 16ms/step - loss: 12.5443 - mse: 226.0027\n",
            "Epoch 98/100\n",
            "2/2 [==============================] - 0s 9ms/step - loss: 10.3291 - mse: 137.7765\n",
            "Epoch 99/100\n",
            "2/2 [==============================] - 0s 12ms/step - loss: 13.8654 - mse: 264.3317\n",
            "Epoch 100/100\n",
            "2/2 [==============================] - 0s 8ms/step - loss: 20.1710 - mse: 605.2155\n"
          ]
        },
        {
          "output_type": "execute_result",
          "data": {
            "text/plain": [
              "<keras.callbacks.History at 0x7ffa64fc3eb0>"
            ]
          },
          "metadata": {},
          "execution_count": 127
        }
      ]
    },
    {
      "cell_type": "code",
      "source": [
        "#Visualize the results -> plot prediction:\n",
        "y_preds_2 = model_2.predict(X_test)\n",
        "# y_preds_2\n",
        "plot_prediction(prediction = y_preds_2)"
      ],
      "metadata": {
        "colab": {
          "base_uri": "https://localhost:8080/",
          "height": 475
        },
        "id": "9fWcB7Q2aMsy",
        "outputId": "8f77887b-af2c-46bc-994d-7b37c99803ce"
      },
      "execution_count": 128,
      "outputs": [
        {
          "output_type": "stream",
          "name": "stdout",
          "text": [
            "1/1 [==============================] - 0s 72ms/step\n"
          ]
        },
        {
          "output_type": "display_data",
          "data": {
            "text/plain": [
              "<Figure size 1000x700 with 1 Axes>"
            ],
            "image/png": "[encoded data removed]"
          },
          "metadata": {}
        }
      ]
    },
    {
      "cell_type": "code",
      "source": [
        "#evaluating the model:\n",
        "mae_2 = mae(y_test, y_pred)\n",
        "mse_2 = mse(y_test,y_pred)\n",
        "mae_2, mse_2"
      ],
      "metadata": {
        "colab": {
          "base_uri": "https://localhost:8080/"
        },
        "id": "pBrhwkKnasqG",
        "outputId": "7ddb8840-9a92-46bc-b7a2-b4fbafe657d2"
      },
      "execution_count": 116,
      "outputs": [
        {
          "output_type": "execute_result",
          "data": {
            "text/plain": [
              "(<tf.Tensor: shape=(), dtype=float32, numpy=1.9901803>,\n",
              " <tf.Tensor: shape=(), dtype=float32, numpy=5.8535624>)"
            ]
          },
          "metadata": {},
          "execution_count": 116
        }
      ]
    },
    {
      "cell_type": "markdown",
      "source": [
        "**Build model 3**\n",
        "* 2 dense layers, trained for 500 epochs"
      ],
      "metadata": {
        "id": "StUxkOCIcnBa"
      }
    },
    {
      "cell_type": "code",
      "source": [
        "#set random seed\n",
        "tf.random.set_seed(42)\n",
        "\n",
        "#1. create the model\n",
        "model_3 = tf.keras.Sequential([\n",
        "    tf.keras.layers.Dense(100),\n",
        "    tf.keras.layers.Dense(1)\n",
        "])\n",
        "\n",
        "#2. compile the model\n",
        "model_3.compile(loss = tf.keras.losses.mae,\n",
        "                optimizer = tf.keras.optimizers.legacy.SGD(),\n",
        "                metrics = [\"mse\"])\n",
        "\n",
        "#3. fit the model\n",
        "model_3.fit(tf.expand_dims(X_train, axis = -1), y_train, epochs = 500)"
      ],
      "metadata": {
        "colab": {
          "base_uri": "https://localhost:8080/"
        },
        "id": "AVER7iCvdx-r",
        "outputId": "8a8d7ffa-ae84-4948-a694-64b7075059bf"
      },
      "execution_count": 143,
      "outputs": [
        {
          "output_type": "stream",
          "name": "stdout",
          "text": [
            "Epoch 1/500\n",
            "2/2 [==============================] - 0s 12ms/step - loss: 45.2802 - mse: 2983.1475\n",
            "Epoch 2/500\n",
            "2/2 [==============================] - 0s 11ms/step - loss: 30.2821 - mse: 1204.5486\n",
            "Epoch 3/500\n",
            "2/2 [==============================] - 0s 8ms/step - loss: 34.9342 - mse: 1849.3689\n",
            "Epoch 4/500\n",
            "2/2 [==============================] - 0s 9ms/step - loss: 29.2776 - mse: 1269.3761\n",
            "Epoch 5/500\n",
            "2/2 [==============================] - 0s 10ms/step - loss: 15.8440 - mse: 329.4248\n",
            "Epoch 6/500\n",
            "2/2 [==============================] - 0s 8ms/step - loss: 12.5523 - mse: 205.1873\n",
            "Epoch 7/500\n",
            "2/2 [==============================] - 0s 11ms/step - loss: 11.8089 - mse: 172.7667\n",
            "Epoch 8/500\n",
            "2/2 [==============================] - 0s 10ms/step - loss: 12.8563 - mse: 224.9410\n",
            "Epoch 9/500\n",
            "2/2 [==============================] - 0s 8ms/step - loss: 33.7525 - mse: 1703.1149\n",
            "Epoch 10/500\n",
            "2/2 [==============================] - 0s 9ms/step - loss: 23.0826 - mse: 744.7629\n",
            "Epoch 11/500\n",
            "2/2 [==============================] - 0s 9ms/step - loss: 10.2491 - mse: 148.3437\n",
            "Epoch 12/500\n",
            "2/2 [==============================] - 0s 8ms/step - loss: 25.2883 - mse: 891.3104\n",
            "Epoch 13/500\n",
            "2/2 [==============================] - 0s 10ms/step - loss: 17.0429 - mse: 403.1436\n",
            "Epoch 14/500\n",
            "2/2 [==============================] - 0s 9ms/step - loss: 26.0239 - mse: 1058.8278\n",
            "Epoch 15/500\n",
            "2/2 [==============================] - 0s 10ms/step - loss: 18.0774 - mse: 454.3829\n",
            "Epoch 16/500\n",
            "2/2 [==============================] - 0s 9ms/step - loss: 7.8566 - mse: 89.8432\n",
            "Epoch 17/500\n",
            "2/2 [==============================] - 0s 11ms/step - loss: 22.1923 - mse: 682.2462\n",
            "Epoch 18/500\n",
            "2/2 [==============================] - 0s 9ms/step - loss: 10.8147 - mse: 171.0212\n",
            "Epoch 19/500\n",
            "2/2 [==============================] - 0s 8ms/step - loss: 10.7029 - mse: 138.7588\n",
            "Epoch 20/500\n",
            "2/2 [==============================] - 0s 13ms/step - loss: 12.0258 - mse: 164.8086\n",
            "Epoch 21/500\n",
            "2/2 [==============================] - 0s 10ms/step - loss: 20.1167 - mse: 587.3518\n",
            "Epoch 22/500\n",
            "2/2 [==============================] - 0s 9ms/step - loss: 13.7662 - mse: 242.1997\n",
            "Epoch 23/500\n",
            "2/2 [==============================] - 0s 8ms/step - loss: 9.5241 - mse: 94.7017\n",
            "Epoch 24/500\n",
            "2/2 [==============================] - 0s 8ms/step - loss: 11.8800 - mse: 163.5175\n",
            "Epoch 25/500\n",
            "2/2 [==============================] - 0s 10ms/step - loss: 16.1830 - mse: 383.5881\n",
            "Epoch 26/500\n",
            "2/2 [==============================] - 0s 8ms/step - loss: 16.3752 - mse: 373.1779\n",
            "Epoch 27/500\n",
            "2/2 [==============================] - 0s 8ms/step - loss: 11.5759 - mse: 180.7125\n",
            "Epoch 28/500\n",
            "2/2 [==============================] - 0s 7ms/step - loss: 29.9433 - mse: 1461.6560\n",
            "Epoch 29/500\n",
            "2/2 [==============================] - 0s 8ms/step - loss: 9.2479 - mse: 92.5485\n",
            "Epoch 30/500\n",
            "2/2 [==============================] - 0s 9ms/step - loss: 30.5012 - mse: 1705.2068\n",
            "Epoch 31/500\n",
            "2/2 [==============================] - 0s 8ms/step - loss: 55.4416 - mse: 5513.9321\n",
            "Epoch 32/500\n",
            "2/2 [==============================] - 0s 9ms/step - loss: 9.7179 - mse: 103.1485\n",
            "Epoch 33/500\n",
            "2/2 [==============================] - 0s 8ms/step - loss: 12.3355 - mse: 193.9836\n",
            "Epoch 34/500\n",
            "2/2 [==============================] - 0s 9ms/step - loss: 24.6698 - mse: 925.4178\n",
            "Epoch 35/500\n",
            "2/2 [==============================] - 0s 9ms/step - loss: 11.9192 - mse: 211.2105\n",
            "Epoch 36/500\n",
            "2/2 [==============================] - 0s 10ms/step - loss: 22.1107 - mse: 696.2158\n",
            "Epoch 37/500\n",
            "2/2 [==============================] - 0s 8ms/step - loss: 17.5434 - mse: 439.7379\n",
            "Epoch 38/500\n",
            "2/2 [==============================] - 0s 8ms/step - loss: 10.7198 - mse: 133.3055\n",
            "Epoch 39/500\n",
            "2/2 [==============================] - 0s 8ms/step - loss: 11.2378 - mse: 166.5328\n",
            "Epoch 40/500\n",
            "2/2 [==============================] - 0s 9ms/step - loss: 18.2127 - mse: 479.0641\n",
            "Epoch 41/500\n",
            "2/2 [==============================] - 0s 8ms/step - loss: 10.4873 - mse: 181.7967\n",
            "Epoch 42/500\n",
            "2/2 [==============================] - 0s 8ms/step - loss: 7.8382 - mse: 83.2889\n",
            "Epoch 43/500\n",
            "2/2 [==============================] - 0s 10ms/step - loss: 14.2084 - mse: 291.0397\n",
            "Epoch 44/500\n",
            "2/2 [==============================] - 0s 9ms/step - loss: 24.9717 - mse: 989.5589\n",
            "Epoch 45/500\n",
            "2/2 [==============================] - 0s 9ms/step - loss: 10.9528 - mse: 137.9525\n",
            "Epoch 46/500\n",
            "2/2 [==============================] - 0s 9ms/step - loss: 13.0562 - mse: 244.1744\n",
            "Epoch 47/500\n",
            "2/2 [==============================] - 0s 9ms/step - loss: 10.4294 - mse: 171.9732\n",
            "Epoch 48/500\n",
            "2/2 [==============================] - 0s 8ms/step - loss: 17.1423 - mse: 398.4381\n",
            "Epoch 49/500\n",
            "2/2 [==============================] - 0s 8ms/step - loss: 9.6292 - mse: 101.1585\n",
            "Epoch 50/500\n",
            "2/2 [==============================] - 0s 8ms/step - loss: 13.9222 - mse: 266.5523\n",
            "Epoch 51/500\n",
            "2/2 [==============================] - 0s 8ms/step - loss: 11.6332 - mse: 156.5828\n",
            "Epoch 52/500\n",
            "2/2 [==============================] - 0s 8ms/step - loss: 30.8322 - mse: 1645.5160\n",
            "Epoch 53/500\n",
            "2/2 [==============================] - 0s 7ms/step - loss: 14.4740 - mse: 308.4196\n",
            "Epoch 54/500\n",
            "2/2 [==============================] - 0s 8ms/step - loss: 24.1856 - mse: 876.4719\n",
            "Epoch 55/500\n",
            "2/2 [==============================] - 0s 8ms/step - loss: 23.4267 - mse: 822.8417\n",
            "Epoch 56/500\n",
            "2/2 [==============================] - 0s 9ms/step - loss: 10.9549 - mse: 170.7040\n",
            "Epoch 57/500\n",
            "2/2 [==============================] - 0s 8ms/step - loss: 12.8440 - mse: 202.7419\n",
            "Epoch 58/500\n",
            "2/2 [==============================] - 0s 10ms/step - loss: 9.6547 - mse: 103.3698\n",
            "Epoch 59/500\n",
            "2/2 [==============================] - 0s 8ms/step - loss: 13.0131 - mse: 233.6879\n",
            "Epoch 60/500\n",
            "2/2 [==============================] - 0s 9ms/step - loss: 10.6935 - mse: 133.5341\n",
            "Epoch 61/500\n",
            "2/2 [==============================] - 0s 10ms/step - loss: 13.2283 - mse: 228.7548\n",
            "Epoch 62/500\n",
            "2/2 [==============================] - 0s 9ms/step - loss: 17.0587 - mse: 443.0914\n",
            "Epoch 63/500\n",
            "2/2 [==============================] - 0s 9ms/step - loss: 9.0486 - mse: 87.3679\n",
            "Epoch 64/500\n",
            "2/2 [==============================] - 0s 9ms/step - loss: 17.7065 - mse: 454.3309\n",
            "Epoch 65/500\n",
            "2/2 [==============================] - 0s 8ms/step - loss: 10.5211 - mse: 133.6302\n",
            "Epoch 66/500\n",
            "2/2 [==============================] - 0s 7ms/step - loss: 21.1928 - mse: 662.4787\n",
            "Epoch 67/500\n",
            "2/2 [==============================] - 0s 8ms/step - loss: 10.5179 - mse: 128.9366\n",
            "Epoch 68/500\n",
            "2/2 [==============================] - 0s 10ms/step - loss: 14.3627 - mse: 311.0666\n",
            "Epoch 69/500\n",
            "2/2 [==============================] - 0s 10ms/step - loss: 10.6090 - mse: 129.0978\n",
            "Epoch 70/500\n",
            "2/2 [==============================] - 0s 10ms/step - loss: 12.6938 - mse: 204.8990\n",
            "Epoch 71/500\n",
            "2/2 [==============================] - 0s 8ms/step - loss: 13.1242 - mse: 232.2713\n",
            "Epoch 72/500\n",
            "2/2 [==============================] - 0s 10ms/step - loss: 19.6279 - mse: 547.0917\n",
            "Epoch 73/500\n",
            "2/2 [==============================] - 0s 10ms/step - loss: 11.1928 - mse: 191.2118\n",
            "Epoch 74/500\n",
            "2/2 [==============================] - 0s 11ms/step - loss: 21.9162 - mse: 747.6071\n",
            "Epoch 75/500\n",
            "2/2 [==============================] - 0s 9ms/step - loss: 7.1906 - mse: 71.3976\n",
            "Epoch 76/500\n",
            "2/2 [==============================] - 0s 9ms/step - loss: 9.4164 - mse: 149.7752\n",
            "Epoch 77/500\n",
            "2/2 [==============================] - 0s 9ms/step - loss: 22.0436 - mse: 726.4860\n",
            "Epoch 78/500\n",
            "2/2 [==============================] - 0s 9ms/step - loss: 17.7082 - mse: 476.2921\n",
            "Epoch 79/500\n",
            "2/2 [==============================] - 0s 11ms/step - loss: 14.8668 - mse: 323.6329\n",
            "Epoch 80/500\n",
            "2/2 [==============================] - 0s 11ms/step - loss: 25.1952 - mse: 968.9266\n",
            "Epoch 81/500\n",
            "2/2 [==============================] - 0s 10ms/step - loss: 10.9339 - mse: 141.6682\n",
            "Epoch 82/500\n",
            "2/2 [==============================] - 0s 10ms/step - loss: 12.7360 - mse: 231.9311\n",
            "Epoch 83/500\n",
            "2/2 [==============================] - 0s 8ms/step - loss: 17.5030 - mse: 399.4070\n",
            "Epoch 84/500\n",
            "2/2 [==============================] - 0s 8ms/step - loss: 7.2822 - mse: 73.1361\n",
            "Epoch 85/500\n",
            "2/2 [==============================] - 0s 8ms/step - loss: 15.0267 - mse: 315.2332\n",
            "Epoch 86/500\n",
            "2/2 [==============================] - 0s 8ms/step - loss: 15.3357 - mse: 316.6494\n",
            "Epoch 87/500\n",
            "2/2 [==============================] - 0s 9ms/step - loss: 19.2061 - mse: 525.6979\n",
            "Epoch 88/500\n",
            "2/2 [==============================] - 0s 8ms/step - loss: 29.5678 - mse: 1263.7163\n",
            "Epoch 89/500\n",
            "2/2 [==============================] - 0s 8ms/step - loss: 10.1413 - mse: 124.1330\n",
            "Epoch 90/500\n",
            "2/2 [==============================] - 0s 9ms/step - loss: 21.3152 - mse: 650.7382\n",
            "Epoch 91/500\n",
            "2/2 [==============================] - 0s 8ms/step - loss: 10.5255 - mse: 162.6897\n",
            "Epoch 92/500\n",
            "2/2 [==============================] - 0s 9ms/step - loss: 18.2110 - mse: 454.2296\n",
            "Epoch 93/500\n",
            "2/2 [==============================] - 0s 9ms/step - loss: 6.8125 - mse: 67.3176\n",
            "Epoch 94/500\n",
            "2/2 [==============================] - 0s 9ms/step - loss: 13.0116 - mse: 230.1813\n",
            "Epoch 95/500\n",
            "2/2 [==============================] - 0s 9ms/step - loss: 18.4018 - mse: 499.4545\n",
            "Epoch 96/500\n",
            "2/2 [==============================] - 0s 9ms/step - loss: 10.3509 - mse: 178.4846\n",
            "Epoch 97/500\n",
            "2/2 [==============================] - 0s 9ms/step - loss: 14.4197 - mse: 314.2535\n",
            "Epoch 98/500\n",
            "2/2 [==============================] - 0s 9ms/step - loss: 6.5760 - mse: 60.5363\n",
            "Epoch 99/500\n",
            "2/2 [==============================] - 0s 8ms/step - loss: 12.5970 - mse: 229.3880\n",
            "Epoch 100/500\n",
            "2/2 [==============================] - 0s 8ms/step - loss: 19.4126 - mse: 553.4589\n",
            "Epoch 101/500\n",
            "2/2 [==============================] - 0s 10ms/step - loss: 16.0580 - mse: 386.0627\n",
            "Epoch 102/500\n",
            "2/2 [==============================] - 0s 9ms/step - loss: 11.1765 - mse: 163.7740\n",
            "Epoch 103/500\n",
            "2/2 [==============================] - 0s 12ms/step - loss: 9.3148 - mse: 95.9816\n",
            "Epoch 104/500\n",
            "2/2 [==============================] - 0s 9ms/step - loss: 24.9474 - mse: 935.9760\n",
            "Epoch 105/500\n",
            "2/2 [==============================] - 0s 8ms/step - loss: 11.9727 - mse: 211.7732\n",
            "Epoch 106/500\n",
            "2/2 [==============================] - 0s 9ms/step - loss: 10.0758 - mse: 122.6597\n",
            "Epoch 107/500\n",
            "2/2 [==============================] - 0s 8ms/step - loss: 22.5132 - mse: 760.5009\n",
            "Epoch 108/500\n",
            "2/2 [==============================] - 0s 9ms/step - loss: 8.1210 - mse: 90.5602\n",
            "Epoch 109/500\n",
            "2/2 [==============================] - 0s 8ms/step - loss: 13.3295 - mse: 249.0505\n",
            "Epoch 110/500\n",
            "2/2 [==============================] - 0s 9ms/step - loss: 7.9831 - mse: 114.8958\n",
            "Epoch 111/500\n",
            "2/2 [==============================] - 0s 10ms/step - loss: 15.7543 - mse: 348.7619\n",
            "Epoch 112/500\n",
            "2/2 [==============================] - 0s 8ms/step - loss: 8.7455 - mse: 92.1042\n",
            "Epoch 113/500\n",
            "2/2 [==============================] - 0s 9ms/step - loss: 22.6764 - mse: 745.9369\n",
            "Epoch 114/500\n",
            "2/2 [==============================] - 0s 9ms/step - loss: 19.0254 - mse: 546.4927\n",
            "Epoch 115/500\n",
            "2/2 [==============================] - 0s 9ms/step - loss: 11.0866 - mse: 152.9455\n",
            "Epoch 116/500\n",
            "2/2 [==============================] - 0s 9ms/step - loss: 23.1250 - mse: 778.6261\n",
            "Epoch 117/500\n",
            "2/2 [==============================] - 0s 8ms/step - loss: 9.5705 - mse: 126.6707\n",
            "Epoch 118/500\n",
            "2/2 [==============================] - 0s 9ms/step - loss: 10.6339 - mse: 138.6972\n",
            "Epoch 119/500\n",
            "2/2 [==============================] - 0s 10ms/step - loss: 8.0404 - mse: 77.2067\n",
            "Epoch 120/500\n",
            "2/2 [==============================] - 0s 9ms/step - loss: 29.4365 - mse: 1292.3130\n",
            "Epoch 121/500\n",
            "2/2 [==============================] - 0s 9ms/step - loss: 8.0771 - mse: 70.5440\n",
            "Epoch 122/500\n",
            "2/2 [==============================] - 0s 10ms/step - loss: 28.0983 - mse: 1211.8740\n",
            "Epoch 123/500\n",
            "2/2 [==============================] - 0s 9ms/step - loss: 32.6405 - mse: 1564.6967\n",
            "Epoch 124/500\n",
            "2/2 [==============================] - 0s 9ms/step - loss: 19.4372 - mse: 560.2811\n",
            "Epoch 125/500\n",
            "2/2 [==============================] - 0s 9ms/step - loss: 9.5487 - mse: 151.9177\n",
            "Epoch 126/500\n",
            "2/2 [==============================] - 0s 9ms/step - loss: 9.6178 - mse: 113.1925\n",
            "Epoch 127/500\n",
            "2/2 [==============================] - 0s 9ms/step - loss: 12.7708 - mse: 255.0552\n",
            "Epoch 128/500\n",
            "2/2 [==============================] - 0s 9ms/step - loss: 13.3159 - mse: 247.9686\n",
            "Epoch 129/500\n",
            "2/2 [==============================] - 0s 11ms/step - loss: 10.1769 - mse: 153.8466\n",
            "Epoch 130/500\n",
            "2/2 [==============================] - 0s 9ms/step - loss: 17.4583 - mse: 427.8608\n",
            "Epoch 131/500\n",
            "2/2 [==============================] - 0s 10ms/step - loss: 9.4985 - mse: 115.9579\n",
            "Epoch 132/500\n",
            "2/2 [==============================] - 0s 10ms/step - loss: 17.3514 - mse: 449.5531\n",
            "Epoch 133/500\n",
            "2/2 [==============================] - 0s 14ms/step - loss: 7.0990 - mse: 66.0052\n",
            "Epoch 134/500\n",
            "2/2 [==============================] - 0s 8ms/step - loss: 23.8584 - mse: 813.4004\n",
            "Epoch 135/500\n",
            "2/2 [==============================] - 0s 8ms/step - loss: 16.6179 - mse: 387.4915\n",
            "Epoch 136/500\n",
            "2/2 [==============================] - 0s 15ms/step - loss: 14.8399 - mse: 308.1615\n",
            "Epoch 137/500\n",
            "2/2 [==============================] - 0s 8ms/step - loss: 23.0944 - mse: 719.4240\n",
            "Epoch 138/500\n",
            "2/2 [==============================] - 0s 8ms/step - loss: 9.1135 - mse: 139.8248\n",
            "Epoch 139/500\n",
            "2/2 [==============================] - 0s 8ms/step - loss: 8.9057 - mse: 145.2633\n",
            "Epoch 140/500\n",
            "2/2 [==============================] - 0s 8ms/step - loss: 16.4180 - mse: 386.7896\n",
            "Epoch 141/500\n",
            "2/2 [==============================] - 0s 8ms/step - loss: 8.4243 - mse: 90.9906\n",
            "Epoch 142/500\n",
            "2/2 [==============================] - 0s 8ms/step - loss: 36.8370 - mse: 2388.3140\n",
            "Epoch 143/500\n",
            "2/2 [==============================] - 0s 8ms/step - loss: 25.4911 - mse: 920.0999\n",
            "Epoch 144/500\n",
            "2/2 [==============================] - 0s 8ms/step - loss: 9.5481 - mse: 143.7917\n",
            "Epoch 145/500\n",
            "2/2 [==============================] - 0s 8ms/step - loss: 26.6344 - mse: 959.1089\n",
            "Epoch 146/500\n",
            "2/2 [==============================] - 0s 8ms/step - loss: 8.6909 - mse: 108.9905\n",
            "Epoch 147/500\n",
            "2/2 [==============================] - 0s 10ms/step - loss: 15.6461 - mse: 311.7774\n",
            "Epoch 148/500\n",
            "2/2 [==============================] - 0s 7ms/step - loss: 18.3443 - mse: 466.7807\n",
            "Epoch 149/500\n",
            "2/2 [==============================] - 0s 9ms/step - loss: 8.1748 - mse: 106.8689\n",
            "Epoch 150/500\n",
            "2/2 [==============================] - 0s 8ms/step - loss: 7.4912 - mse: 66.7512\n",
            "Epoch 151/500\n",
            "2/2 [==============================] - 0s 8ms/step - loss: 18.2570 - mse: 481.4254\n",
            "Epoch 152/500\n",
            "2/2 [==============================] - 0s 8ms/step - loss: 10.2748 - mse: 129.9192\n",
            "Epoch 153/500\n",
            "2/2 [==============================] - 0s 9ms/step - loss: 29.5130 - mse: 1256.1497\n",
            "Epoch 154/500\n",
            "2/2 [==============================] - 0s 8ms/step - loss: 10.5841 - mse: 200.7487\n",
            "Epoch 155/500\n",
            "2/2 [==============================] - 0s 8ms/step - loss: 15.4797 - mse: 348.9140\n",
            "Epoch 156/500\n",
            "2/2 [==============================] - 0s 8ms/step - loss: 17.0730 - mse: 440.9221\n",
            "Epoch 157/500\n",
            "2/2 [==============================] - 0s 8ms/step - loss: 32.6777 - mse: 1728.3914\n",
            "Epoch 158/500\n",
            "2/2 [==============================] - 0s 8ms/step - loss: 10.6679 - mse: 149.9738\n",
            "Epoch 159/500\n",
            "2/2 [==============================] - 0s 9ms/step - loss: 8.8918 - mse: 97.7265\n",
            "Epoch 160/500\n",
            "2/2 [==============================] - 0s 9ms/step - loss: 22.0260 - mse: 702.0837\n",
            "Epoch 161/500\n",
            "2/2 [==============================] - 0s 8ms/step - loss: 11.6744 - mse: 201.5409\n",
            "Epoch 162/500\n",
            "2/2 [==============================] - 0s 9ms/step - loss: 21.4733 - mse: 663.7064\n",
            "Epoch 163/500\n",
            "2/2 [==============================] - 0s 11ms/step - loss: 19.1542 - mse: 528.1354\n",
            "Epoch 164/500\n",
            "2/2 [==============================] - 0s 8ms/step - loss: 10.9608 - mse: 175.3997\n",
            "Epoch 165/500\n",
            "2/2 [==============================] - 0s 8ms/step - loss: 9.6392 - mse: 178.8731\n",
            "Epoch 166/500\n",
            "2/2 [==============================] - 0s 8ms/step - loss: 21.6439 - mse: 684.6713\n",
            "Epoch 167/500\n",
            "2/2 [==============================] - 0s 8ms/step - loss: 26.1515 - mse: 1037.6393\n",
            "Epoch 168/500\n",
            "2/2 [==============================] - 0s 8ms/step - loss: 9.8337 - mse: 118.0719\n",
            "Epoch 169/500\n",
            "2/2 [==============================] - 0s 8ms/step - loss: 22.4258 - mse: 777.3581\n",
            "Epoch 170/500\n",
            "2/2 [==============================] - 0s 8ms/step - loss: 10.1756 - mse: 195.1072\n",
            "Epoch 171/500\n",
            "2/2 [==============================] - 0s 8ms/step - loss: 18.1069 - mse: 506.1419\n",
            "Epoch 172/500\n",
            "2/2 [==============================] - 0s 8ms/step - loss: 28.6925 - mse: 1291.4490\n",
            "Epoch 173/500\n",
            "2/2 [==============================] - 0s 8ms/step - loss: 16.4153 - mse: 426.9214\n",
            "Epoch 174/500\n",
            "2/2 [==============================] - 0s 8ms/step - loss: 11.7333 - mse: 226.2115\n",
            "Epoch 175/500\n",
            "2/2 [==============================] - 0s 8ms/step - loss: 27.1742 - mse: 1068.6007\n",
            "Epoch 176/500\n",
            "2/2 [==============================] - 0s 8ms/step - loss: 8.7470 - mse: 89.3117\n",
            "Epoch 177/500\n",
            "2/2 [==============================] - 0s 8ms/step - loss: 8.7650 - mse: 104.7656\n",
            "Epoch 178/500\n",
            "2/2 [==============================] - 0s 8ms/step - loss: 16.1980 - mse: 377.6485\n",
            "Epoch 179/500\n",
            "2/2 [==============================] - 0s 8ms/step - loss: 10.4006 - mse: 143.4029\n",
            "Epoch 180/500\n",
            "2/2 [==============================] - 0s 8ms/step - loss: 7.9859 - mse: 98.0787\n",
            "Epoch 181/500\n",
            "2/2 [==============================] - 0s 8ms/step - loss: 17.7759 - mse: 456.7605\n",
            "Epoch 182/500\n",
            "2/2 [==============================] - 0s 10ms/step - loss: 11.1881 - mse: 162.1323\n",
            "Epoch 183/500\n",
            "2/2 [==============================] - 0s 15ms/step - loss: 12.4016 - mse: 232.3270\n",
            "Epoch 184/500\n",
            "2/2 [==============================] - 0s 9ms/step - loss: 27.3932 - mse: 1114.2589\n",
            "Epoch 185/500\n",
            "2/2 [==============================] - 0s 8ms/step - loss: 7.5526 - mse: 99.5318\n",
            "Epoch 186/500\n",
            "2/2 [==============================] - 0s 11ms/step - loss: 15.9358 - mse: 366.8505\n",
            "Epoch 187/500\n",
            "2/2 [==============================] - 0s 9ms/step - loss: 8.5877 - mse: 85.6090\n",
            "Epoch 188/500\n",
            "2/2 [==============================] - 0s 9ms/step - loss: 28.9059 - mse: 1190.8308\n",
            "Epoch 189/500\n",
            "2/2 [==============================] - 0s 9ms/step - loss: 13.1377 - mse: 271.9667\n",
            "Epoch 190/500\n",
            "2/2 [==============================] - 0s 8ms/step - loss: 18.2761 - mse: 509.8908\n",
            "Epoch 191/500\n",
            "2/2 [==============================] - 0s 7ms/step - loss: 13.6980 - mse: 263.4971\n",
            "Epoch 192/500\n",
            "2/2 [==============================] - 0s 8ms/step - loss: 13.6991 - mse: 261.6176\n",
            "Epoch 193/500\n",
            "2/2 [==============================] - 0s 7ms/step - loss: 28.5505 - mse: 1132.5627\n",
            "Epoch 194/500\n",
            "2/2 [==============================] - 0s 8ms/step - loss: 7.1182 - mse: 78.6344\n",
            "Epoch 195/500\n",
            "2/2 [==============================] - 0s 7ms/step - loss: 7.0623 - mse: 75.3652\n",
            "Epoch 196/500\n",
            "2/2 [==============================] - 0s 7ms/step - loss: 21.9623 - mse: 706.8387\n",
            "Epoch 197/500\n",
            "2/2 [==============================] - 0s 8ms/step - loss: 20.9383 - mse: 649.7750\n",
            "Epoch 198/500\n",
            "2/2 [==============================] - 0s 8ms/step - loss: 12.5293 - mse: 238.4090\n",
            "Epoch 199/500\n",
            "2/2 [==============================] - 0s 7ms/step - loss: 17.9902 - mse: 464.3373\n",
            "Epoch 200/500\n",
            "2/2 [==============================] - 0s 7ms/step - loss: 13.8245 - mse: 285.4015\n",
            "Epoch 201/500\n",
            "2/2 [==============================] - 0s 8ms/step - loss: 6.0417 - mse: 51.3804\n",
            "Epoch 202/500\n",
            "2/2 [==============================] - 0s 8ms/step - loss: 22.8289 - mse: 743.2990\n",
            "Epoch 203/500\n",
            "2/2 [==============================] - 0s 7ms/step - loss: 8.9517 - mse: 153.6815\n",
            "Epoch 204/500\n",
            "2/2 [==============================] - 0s 7ms/step - loss: 18.8086 - mse: 530.5891\n",
            "Epoch 205/500\n",
            "2/2 [==============================] - 0s 8ms/step - loss: 9.3527 - mse: 127.1829\n",
            "Epoch 206/500\n",
            "2/2 [==============================] - 0s 8ms/step - loss: 10.4220 - mse: 143.1033\n",
            "Epoch 207/500\n",
            "2/2 [==============================] - 0s 8ms/step - loss: 21.0817 - mse: 675.5168\n",
            "Epoch 208/500\n",
            "2/2 [==============================] - 0s 8ms/step - loss: 16.4554 - mse: 389.8632\n",
            "Epoch 209/500\n",
            "2/2 [==============================] - 0s 8ms/step - loss: 14.3562 - mse: 317.9105\n",
            "Epoch 210/500\n",
            "2/2 [==============================] - 0s 8ms/step - loss: 19.3604 - mse: 546.1562\n",
            "Epoch 211/500\n",
            "2/2 [==============================] - 0s 9ms/step - loss: 10.3040 - mse: 146.8137\n",
            "Epoch 212/500\n",
            "2/2 [==============================] - 0s 9ms/step - loss: 20.1371 - mse: 608.5448\n",
            "Epoch 213/500\n",
            "2/2 [==============================] - 0s 8ms/step - loss: 15.0757 - mse: 308.8039\n",
            "Epoch 214/500\n",
            "2/2 [==============================] - 0s 15ms/step - loss: 14.6133 - mse: 294.8263\n",
            "Epoch 215/500\n",
            "2/2 [==============================] - 0s 9ms/step - loss: 23.3452 - mse: 801.9193\n",
            "Epoch 216/500\n",
            "2/2 [==============================] - 0s 11ms/step - loss: 13.2946 - mse: 275.8568\n",
            "Epoch 217/500\n",
            "2/2 [==============================] - 0s 12ms/step - loss: 9.8140 - mse: 134.6143\n",
            "Epoch 218/500\n",
            "2/2 [==============================] - 0s 14ms/step - loss: 12.6041 - mse: 208.1902\n",
            "Epoch 219/500\n",
            "2/2 [==============================] - 0s 16ms/step - loss: 5.3456 - mse: 39.5133\n",
            "Epoch 220/500\n",
            "2/2 [==============================] - 0s 10ms/step - loss: 14.7004 - mse: 284.1291\n",
            "Epoch 221/500\n",
            "2/2 [==============================] - 0s 10ms/step - loss: 33.5442 - mse: 1537.3171\n",
            "Epoch 222/500\n",
            "2/2 [==============================] - 0s 12ms/step - loss: 13.8996 - mse: 238.1570\n",
            "Epoch 223/500\n",
            "2/2 [==============================] - 0s 11ms/step - loss: 10.9985 - mse: 179.7960\n",
            "Epoch 224/500\n",
            "2/2 [==============================] - 0s 14ms/step - loss: 14.9529 - mse: 334.2036\n",
            "Epoch 225/500\n",
            "2/2 [==============================] - 0s 10ms/step - loss: 17.0012 - mse: 374.9373\n",
            "Epoch 226/500\n",
            "2/2 [==============================] - 0s 10ms/step - loss: 16.1898 - mse: 385.9120\n",
            "Epoch 227/500\n",
            "2/2 [==============================] - 0s 12ms/step - loss: 16.5093 - mse: 385.7394\n",
            "Epoch 228/500\n",
            "2/2 [==============================] - 0s 11ms/step - loss: 9.9480 - mse: 185.2121\n",
            "Epoch 229/500\n",
            "2/2 [==============================] - 0s 12ms/step - loss: 17.8467 - mse: 444.1925\n",
            "Epoch 230/500\n",
            "2/2 [==============================] - 0s 9ms/step - loss: 15.4663 - mse: 310.8458\n",
            "Epoch 231/500\n",
            "2/2 [==============================] - 0s 9ms/step - loss: 20.8967 - mse: 655.3693\n",
            "Epoch 232/500\n",
            "2/2 [==============================] - 0s 11ms/step - loss: 25.9775 - mse: 968.6992\n",
            "Epoch 233/500\n",
            "2/2 [==============================] - 0s 13ms/step - loss: 17.0489 - mse: 423.0924\n",
            "Epoch 234/500\n",
            "2/2 [==============================] - 0s 10ms/step - loss: 7.0439 - mse: 65.7226\n",
            "Epoch 235/500\n",
            "2/2 [==============================] - 0s 13ms/step - loss: 16.0152 - mse: 359.7055\n",
            "Epoch 236/500\n",
            "2/2 [==============================] - 0s 13ms/step - loss: 6.7934 - mse: 70.5368\n",
            "Epoch 237/500\n",
            "2/2 [==============================] - 0s 10ms/step - loss: 8.7438 - mse: 114.8317\n",
            "Epoch 238/500\n",
            "2/2 [==============================] - 0s 11ms/step - loss: 7.8461 - mse: 87.3496\n",
            "Epoch 239/500\n",
            "2/2 [==============================] - 0s 10ms/step - loss: 15.9159 - mse: 384.3579\n",
            "Epoch 240/500\n",
            "2/2 [==============================] - 0s 9ms/step - loss: 9.1255 - mse: 110.5336\n",
            "Epoch 241/500\n",
            "2/2 [==============================] - 0s 9ms/step - loss: 13.6323 - mse: 285.3815\n",
            "Epoch 242/500\n",
            "2/2 [==============================] - 0s 10ms/step - loss: 8.9854 - mse: 110.1983\n",
            "Epoch 243/500\n",
            "2/2 [==============================] - 0s 10ms/step - loss: 19.6423 - mse: 588.5370\n",
            "Epoch 244/500\n",
            "2/2 [==============================] - 0s 10ms/step - loss: 13.7917 - mse: 269.5870\n",
            "Epoch 245/500\n",
            "2/2 [==============================] - 0s 10ms/step - loss: 14.4592 - mse: 279.2758\n",
            "Epoch 246/500\n",
            "2/2 [==============================] - 0s 10ms/step - loss: 18.1058 - mse: 526.6794\n",
            "Epoch 247/500\n",
            "2/2 [==============================] - 0s 10ms/step - loss: 37.2537 - mse: 2170.1467\n",
            "Epoch 248/500\n",
            "2/2 [==============================] - 0s 9ms/step - loss: 6.7800 - mse: 76.8696\n",
            "Epoch 249/500\n",
            "2/2 [==============================] - 0s 13ms/step - loss: 8.0081 - mse: 81.7744\n",
            "Epoch 250/500\n",
            "2/2 [==============================] - 0s 13ms/step - loss: 24.9747 - mse: 957.0544\n",
            "Epoch 251/500\n",
            "2/2 [==============================] - 0s 9ms/step - loss: 10.4336 - mse: 214.7969\n",
            "Epoch 252/500\n",
            "2/2 [==============================] - 0s 11ms/step - loss: 30.8281 - mse: 1323.4944\n",
            "Epoch 253/500\n",
            "2/2 [==============================] - 0s 10ms/step - loss: 8.1435 - mse: 153.4418\n",
            "Epoch 254/500\n",
            "2/2 [==============================] - 0s 9ms/step - loss: 16.2971 - mse: 409.5588\n",
            "Epoch 255/500\n",
            "2/2 [==============================] - 0s 8ms/step - loss: 22.0406 - mse: 736.6810\n",
            "Epoch 256/500\n",
            "2/2 [==============================] - 0s 9ms/step - loss: 26.8307 - mse: 1021.6331\n",
            "Epoch 257/500\n",
            "2/2 [==============================] - 0s 9ms/step - loss: 11.8898 - mse: 217.1337\n",
            "Epoch 258/500\n",
            "2/2 [==============================] - 0s 8ms/step - loss: 8.5097 - mse: 93.3898\n",
            "Epoch 259/500\n",
            "2/2 [==============================] - 0s 15ms/step - loss: 22.8282 - mse: 778.6208\n",
            "Epoch 260/500\n",
            "2/2 [==============================] - 0s 9ms/step - loss: 31.3009 - mse: 1495.2440\n",
            "Epoch 261/500\n",
            "2/2 [==============================] - 0s 9ms/step - loss: 11.1013 - mse: 175.6606\n",
            "Epoch 262/500\n",
            "2/2 [==============================] - 0s 10ms/step - loss: 9.9681 - mse: 137.8991\n",
            "Epoch 263/500\n",
            "2/2 [==============================] - 0s 9ms/step - loss: 8.9161 - mse: 102.8700\n",
            "Epoch 264/500\n",
            "2/2 [==============================] - 0s 10ms/step - loss: 21.2405 - mse: 633.5836\n",
            "Epoch 265/500\n",
            "2/2 [==============================] - 0s 10ms/step - loss: 11.5424 - mse: 199.7399\n",
            "Epoch 266/500\n",
            "2/2 [==============================] - 0s 9ms/step - loss: 13.3944 - mse: 257.3250\n",
            "Epoch 267/500\n",
            "2/2 [==============================] - 0s 8ms/step - loss: 11.1422 - mse: 230.7830\n",
            "Epoch 268/500\n",
            "2/2 [==============================] - 0s 9ms/step - loss: 19.2872 - mse: 555.7640\n",
            "Epoch 269/500\n",
            "2/2 [==============================] - 0s 12ms/step - loss: 40.3102 - mse: 2516.3794\n",
            "Epoch 270/500\n",
            "2/2 [==============================] - 0s 9ms/step - loss: 12.7248 - mse: 249.8862\n",
            "Epoch 271/500\n",
            "2/2 [==============================] - 0s 8ms/step - loss: 14.8084 - mse: 280.6519\n",
            "Epoch 272/500\n",
            "2/2 [==============================] - 0s 7ms/step - loss: 28.5858 - mse: 1121.4174\n",
            "Epoch 273/500\n",
            "2/2 [==============================] - 0s 8ms/step - loss: 7.3062 - mse: 84.3565\n",
            "Epoch 274/500\n",
            "2/2 [==============================] - 0s 9ms/step - loss: 6.3734 - mse: 46.4677\n",
            "Epoch 275/500\n",
            "2/2 [==============================] - 0s 9ms/step - loss: 36.5072 - mse: 2038.3743\n",
            "Epoch 276/500\n",
            "2/2 [==============================] - 0s 9ms/step - loss: 8.2701 - mse: 111.5185\n",
            "Epoch 277/500\n",
            "2/2 [==============================] - 0s 10ms/step - loss: 27.3892 - mse: 1024.9056\n",
            "Epoch 278/500\n",
            "2/2 [==============================] - 0s 9ms/step - loss: 10.7540 - mse: 210.4764\n",
            "Epoch 279/500\n",
            "2/2 [==============================] - 0s 8ms/step - loss: 16.1706 - mse: 394.6957\n",
            "Epoch 280/500\n",
            "2/2 [==============================] - 0s 13ms/step - loss: 21.3615 - mse: 687.9525\n",
            "Epoch 281/500\n",
            "2/2 [==============================] - 0s 9ms/step - loss: 23.4922 - mse: 842.5568\n",
            "Epoch 282/500\n",
            "2/2 [==============================] - 0s 13ms/step - loss: 8.1933 - mse: 95.4288\n",
            "Epoch 283/500\n",
            "2/2 [==============================] - 0s 11ms/step - loss: 8.4118 - mse: 96.5143\n",
            "Epoch 284/500\n",
            "2/2 [==============================] - 0s 7ms/step - loss: 26.2183 - mse: 1044.3794\n",
            "Epoch 285/500\n",
            "2/2 [==============================] - 0s 8ms/step - loss: 14.8447 - mse: 349.0316\n",
            "Epoch 286/500\n",
            "2/2 [==============================] - 0s 7ms/step - loss: 8.6674 - mse: 152.6211\n",
            "Epoch 287/500\n",
            "2/2 [==============================] - 0s 7ms/step - loss: 22.4669 - mse: 739.2057\n",
            "Epoch 288/500\n",
            "2/2 [==============================] - 0s 8ms/step - loss: 22.9388 - mse: 786.4447\n",
            "Epoch 289/500\n",
            "2/2 [==============================] - 0s 8ms/step - loss: 12.1771 - mse: 242.2996\n",
            "Epoch 290/500\n",
            "2/2 [==============================] - 0s 8ms/step - loss: 16.7373 - mse: 378.1253\n",
            "Epoch 291/500\n",
            "2/2 [==============================] - 0s 8ms/step - loss: 17.0649 - mse: 428.5528\n",
            "Epoch 292/500\n",
            "2/2 [==============================] - 0s 9ms/step - loss: 10.2275 - mse: 248.5110\n",
            "Epoch 293/500\n",
            "2/2 [==============================] - 0s 9ms/step - loss: 15.0013 - mse: 304.3478\n",
            "Epoch 294/500\n",
            "2/2 [==============================] - 0s 9ms/step - loss: 22.1531 - mse: 748.0788\n",
            "Epoch 295/500\n",
            "2/2 [==============================] - 0s 8ms/step - loss: 19.1895 - mse: 527.9608\n",
            "Epoch 296/500\n",
            "2/2 [==============================] - 0s 9ms/step - loss: 6.7130 - mse: 60.4891\n",
            "Epoch 297/500\n",
            "2/2 [==============================] - 0s 10ms/step - loss: 9.7224 - mse: 203.0813\n",
            "Epoch 298/500\n",
            "2/2 [==============================] - 0s 8ms/step - loss: 23.8563 - mse: 828.2000\n",
            "Epoch 299/500\n",
            "2/2 [==============================] - 0s 9ms/step - loss: 18.7744 - mse: 526.1841\n",
            "Epoch 300/500\n",
            "2/2 [==============================] - 0s 9ms/step - loss: 8.3067 - mse: 101.7299\n",
            "Epoch 301/500\n",
            "2/2 [==============================] - 0s 8ms/step - loss: 18.8807 - mse: 496.5684\n",
            "Epoch 302/500\n",
            "2/2 [==============================] - 0s 9ms/step - loss: 6.7990 - mse: 79.2531\n",
            "Epoch 303/500\n",
            "2/2 [==============================] - 0s 9ms/step - loss: 15.8032 - mse: 369.4013\n",
            "Epoch 304/500\n",
            "2/2 [==============================] - 0s 12ms/step - loss: 10.7357 - mse: 168.0151\n",
            "Epoch 305/500\n",
            "2/2 [==============================] - 0s 8ms/step - loss: 12.4637 - mse: 260.5850\n",
            "Epoch 306/500\n",
            "2/2 [==============================] - 0s 8ms/step - loss: 8.2034 - mse: 90.2949\n",
            "Epoch 307/500\n",
            "2/2 [==============================] - 0s 10ms/step - loss: 12.9125 - mse: 251.3310\n",
            "Epoch 308/500\n",
            "2/2 [==============================] - 0s 9ms/step - loss: 8.0631 - mse: 88.5731\n",
            "Epoch 309/500\n",
            "2/2 [==============================] - 0s 9ms/step - loss: 11.5508 - mse: 218.5002\n",
            "Epoch 310/500\n",
            "2/2 [==============================] - 0s 9ms/step - loss: 6.2633 - mse: 73.0727\n",
            "Epoch 311/500\n",
            "2/2 [==============================] - 0s 9ms/step - loss: 5.9249 - mse: 49.7839\n",
            "Epoch 312/500\n",
            "2/2 [==============================] - 0s 9ms/step - loss: 28.2763 - mse: 1111.7511\n",
            "Epoch 313/500\n",
            "2/2 [==============================] - 0s 9ms/step - loss: 11.8325 - mse: 211.1922\n",
            "Epoch 314/500\n",
            "2/2 [==============================] - 0s 9ms/step - loss: 12.5974 - mse: 268.7660\n",
            "Epoch 315/500\n",
            "2/2 [==============================] - 0s 9ms/step - loss: 24.3373 - mse: 855.8089\n",
            "Epoch 316/500\n",
            "2/2 [==============================] - 0s 9ms/step - loss: 15.1053 - mse: 349.8284\n",
            "Epoch 317/500\n",
            "2/2 [==============================] - 0s 10ms/step - loss: 21.0441 - mse: 604.9018\n",
            "Epoch 318/500\n",
            "2/2 [==============================] - 0s 9ms/step - loss: 7.9533 - mse: 81.2841\n",
            "Epoch 319/500\n",
            "2/2 [==============================] - 0s 10ms/step - loss: 17.9319 - mse: 477.7653\n",
            "Epoch 320/500\n",
            "2/2 [==============================] - 0s 9ms/step - loss: 10.2267 - mse: 173.6163\n",
            "Epoch 321/500\n",
            "2/2 [==============================] - 0s 10ms/step - loss: 8.3360 - mse: 111.0219\n",
            "Epoch 322/500\n",
            "2/2 [==============================] - 0s 8ms/step - loss: 4.3741 - mse: 27.4839\n",
            "Epoch 323/500\n",
            "2/2 [==============================] - 0s 8ms/step - loss: 23.7835 - mse: 822.3510\n",
            "Epoch 324/500\n",
            "2/2 [==============================] - 0s 8ms/step - loss: 6.9117 - mse: 59.2763\n",
            "Epoch 325/500\n",
            "2/2 [==============================] - 0s 8ms/step - loss: 16.5884 - mse: 392.9221\n",
            "Epoch 326/500\n",
            "2/2 [==============================] - 0s 8ms/step - loss: 7.5814 - mse: 80.1592\n",
            "Epoch 327/500\n",
            "2/2 [==============================] - 0s 8ms/step - loss: 20.3066 - mse: 582.7103\n",
            "Epoch 328/500\n",
            "2/2 [==============================] - 0s 8ms/step - loss: 13.7130 - mse: 264.1295\n",
            "Epoch 329/500\n",
            "2/2 [==============================] - 0s 9ms/step - loss: 16.7590 - mse: 426.7767\n",
            "Epoch 330/500\n",
            "2/2 [==============================] - 0s 8ms/step - loss: 7.1102 - mse: 81.6064\n",
            "Epoch 331/500\n",
            "2/2 [==============================] - 0s 8ms/step - loss: 21.6617 - mse: 716.9877\n",
            "Epoch 332/500\n",
            "2/2 [==============================] - 0s 8ms/step - loss: 12.7379 - mse: 258.5751\n",
            "Epoch 333/500\n",
            "2/2 [==============================] - 0s 9ms/step - loss: 9.0109 - mse: 123.3061\n",
            "Epoch 334/500\n",
            "2/2 [==============================] - 0s 9ms/step - loss: 9.7646 - mse: 151.4869\n",
            "Epoch 335/500\n",
            "2/2 [==============================] - 0s 11ms/step - loss: 5.9686 - mse: 52.9619\n",
            "Epoch 336/500\n",
            "2/2 [==============================] - 0s 9ms/step - loss: 31.7680 - mse: 1377.9823\n",
            "Epoch 337/500\n",
            "2/2 [==============================] - 0s 9ms/step - loss: 9.1671 - mse: 158.2606\n",
            "Epoch 338/500\n",
            "2/2 [==============================] - 0s 9ms/step - loss: 19.5550 - mse: 567.6830\n",
            "Epoch 339/500\n",
            "2/2 [==============================] - 0s 9ms/step - loss: 35.4624 - mse: 1894.0393\n",
            "Epoch 340/500\n",
            "2/2 [==============================] - 0s 10ms/step - loss: 10.5585 - mse: 183.9476\n",
            "Epoch 341/500\n",
            "2/2 [==============================] - 0s 8ms/step - loss: 10.1481 - mse: 171.3900\n",
            "Epoch 342/500\n",
            "2/2 [==============================] - 0s 9ms/step - loss: 13.2766 - mse: 232.1571\n",
            "Epoch 343/500\n",
            "2/2 [==============================] - 0s 9ms/step - loss: 11.0253 - mse: 168.0403\n",
            "Epoch 344/500\n",
            "2/2 [==============================] - 0s 9ms/step - loss: 9.9164 - mse: 209.3220\n",
            "Epoch 345/500\n",
            "2/2 [==============================] - 0s 9ms/step - loss: 30.9924 - mse: 1350.9967\n",
            "Epoch 346/500\n",
            "2/2 [==============================] - 0s 9ms/step - loss: 10.6735 - mse: 254.7522\n",
            "Epoch 347/500\n",
            "2/2 [==============================] - 0s 8ms/step - loss: 25.6711 - mse: 922.9310\n",
            "Epoch 348/500\n",
            "2/2 [==============================] - 0s 8ms/step - loss: 13.0164 - mse: 264.5327\n",
            "Epoch 349/500\n",
            "2/2 [==============================] - 0s 9ms/step - loss: 13.1050 - mse: 249.1197\n",
            "Epoch 350/500\n",
            "2/2 [==============================] - 0s 8ms/step - loss: 15.4145 - mse: 330.5501\n",
            "Epoch 351/500\n",
            "2/2 [==============================] - 0s 9ms/step - loss: 32.9287 - mse: 1521.9343\n",
            "Epoch 352/500\n",
            "2/2 [==============================] - 0s 10ms/step - loss: 14.1476 - mse: 281.2893\n",
            "Epoch 353/500\n",
            "2/2 [==============================] - 0s 9ms/step - loss: 15.8751 - mse: 370.7213\n",
            "Epoch 354/500\n",
            "2/2 [==============================] - 0s 9ms/step - loss: 18.9940 - mse: 530.6779\n",
            "Epoch 355/500\n",
            "2/2 [==============================] - 0s 9ms/step - loss: 34.3812 - mse: 1812.8539\n",
            "Epoch 356/500\n",
            "2/2 [==============================] - 0s 9ms/step - loss: 8.2962 - mse: 110.3553\n",
            "Epoch 357/500\n",
            "2/2 [==============================] - 0s 9ms/step - loss: 21.8874 - mse: 718.5578\n",
            "Epoch 358/500\n",
            "2/2 [==============================] - 0s 9ms/step - loss: 20.0240 - mse: 578.3002\n",
            "Epoch 359/500\n",
            "2/2 [==============================] - 0s 9ms/step - loss: 11.0351 - mse: 292.0239\n",
            "Epoch 360/500\n",
            "2/2 [==============================] - 0s 8ms/step - loss: 20.2644 - mse: 617.8237\n",
            "Epoch 361/500\n",
            "2/2 [==============================] - 0s 8ms/step - loss: 11.0144 - mse: 221.0769\n",
            "Epoch 362/500\n",
            "2/2 [==============================] - 0s 9ms/step - loss: 6.8011 - mse: 76.1839\n",
            "Epoch 363/500\n",
            "2/2 [==============================] - 0s 9ms/step - loss: 24.0203 - mse: 840.5806\n",
            "Epoch 364/500\n",
            "2/2 [==============================] - 0s 9ms/step - loss: 29.7893 - mse: 1289.0529\n",
            "Epoch 365/500\n",
            "2/2 [==============================] - 0s 10ms/step - loss: 8.3429 - mse: 108.2120\n",
            "Epoch 366/500\n",
            "2/2 [==============================] - 0s 9ms/step - loss: 6.0743 - mse: 48.2016\n",
            "Epoch 367/500\n",
            "2/2 [==============================] - 0s 11ms/step - loss: 34.9748 - mse: 1857.5237\n",
            "Epoch 368/500\n",
            "2/2 [==============================] - 0s 8ms/step - loss: 7.4008 - mse: 100.4889\n",
            "Epoch 369/500\n",
            "2/2 [==============================] - 0s 8ms/step - loss: 9.2335 - mse: 129.6442\n",
            "Epoch 370/500\n",
            "2/2 [==============================] - 0s 8ms/step - loss: 10.9525 - mse: 207.1444\n",
            "Epoch 371/500\n",
            "2/2 [==============================] - 0s 9ms/step - loss: 9.0149 - mse: 142.1963\n",
            "Epoch 372/500\n",
            "2/2 [==============================] - 0s 7ms/step - loss: 7.6779 - mse: 144.1186\n",
            "Epoch 373/500\n",
            "2/2 [==============================] - 0s 8ms/step - loss: 25.0234 - mse: 917.3065\n",
            "Epoch 374/500\n",
            "2/2 [==============================] - 0s 8ms/step - loss: 13.2971 - mse: 285.5748\n",
            "Epoch 375/500\n",
            "2/2 [==============================] - 0s 9ms/step - loss: 11.8176 - mse: 213.3546\n",
            "Epoch 376/500\n",
            "2/2 [==============================] - 0s 7ms/step - loss: 14.0997 - mse: 283.6160\n",
            "Epoch 377/500\n",
            "2/2 [==============================] - 0s 8ms/step - loss: 15.6827 - mse: 317.9703\n",
            "Epoch 378/500\n",
            "2/2 [==============================] - 0s 8ms/step - loss: 16.9879 - mse: 462.4762\n",
            "Epoch 379/500\n",
            "2/2 [==============================] - 0s 8ms/step - loss: 19.4937 - mse: 541.3810\n",
            "Epoch 380/500\n",
            "2/2 [==============================] - 0s 8ms/step - loss: 15.8565 - mse: 391.1055\n",
            "Epoch 381/500\n",
            "2/2 [==============================] - 0s 8ms/step - loss: 11.4205 - mse: 217.6528\n",
            "Epoch 382/500\n",
            "2/2 [==============================] - 0s 7ms/step - loss: 16.3049 - mse: 354.6948\n",
            "Epoch 383/500\n",
            "2/2 [==============================] - 0s 8ms/step - loss: 22.0449 - mse: 749.6078\n",
            "Epoch 384/500\n",
            "2/2 [==============================] - 0s 8ms/step - loss: 7.7907 - mse: 84.1766\n",
            "Epoch 385/500\n",
            "2/2 [==============================] - 0s 8ms/step - loss: 10.5733 - mse: 276.4220\n",
            "Epoch 386/500\n",
            "2/2 [==============================] - 0s 9ms/step - loss: 19.0226 - mse: 567.3053\n",
            "Epoch 387/500\n",
            "2/2 [==============================] - 0s 9ms/step - loss: 15.4058 - mse: 366.7972\n",
            "Epoch 388/500\n",
            "2/2 [==============================] - 0s 11ms/step - loss: 5.8784 - mse: 73.4281\n",
            "Epoch 389/500\n",
            "2/2 [==============================] - 0s 11ms/step - loss: 18.0373 - mse: 511.3073\n",
            "Epoch 390/500\n",
            "2/2 [==============================] - 0s 9ms/step - loss: 24.7864 - mse: 909.6576\n",
            "Epoch 391/500\n",
            "2/2 [==============================] - 0s 8ms/step - loss: 16.4605 - mse: 410.5143\n",
            "Epoch 392/500\n",
            "2/2 [==============================] - 0s 9ms/step - loss: 8.3716 - mse: 172.0005\n",
            "Epoch 393/500\n",
            "2/2 [==============================] - 0s 9ms/step - loss: 18.1485 - mse: 513.7916\n",
            "Epoch 394/500\n",
            "2/2 [==============================] - 0s 9ms/step - loss: 14.1966 - mse: 277.9617\n",
            "Epoch 395/500\n",
            "2/2 [==============================] - 0s 9ms/step - loss: 28.6807 - mse: 1141.3204\n",
            "Epoch 396/500\n",
            "2/2 [==============================] - 0s 8ms/step - loss: 8.1599 - mse: 108.6804\n",
            "Epoch 397/500\n",
            "2/2 [==============================] - 0s 8ms/step - loss: 10.4887 - mse: 204.9946\n",
            "Epoch 398/500\n",
            "2/2 [==============================] - 0s 8ms/step - loss: 7.3455 - mse: 81.0014\n",
            "Epoch 399/500\n",
            "2/2 [==============================] - 0s 9ms/step - loss: 15.6065 - mse: 368.9453\n",
            "Epoch 400/500\n",
            "2/2 [==============================] - 0s 9ms/step - loss: 6.6987 - mse: 61.0198\n",
            "Epoch 401/500\n",
            "2/2 [==============================] - 0s 9ms/step - loss: 7.9966 - mse: 114.9350\n",
            "Epoch 402/500\n",
            "2/2 [==============================] - 0s 10ms/step - loss: 16.4538 - mse: 390.8485\n",
            "Epoch 403/500\n",
            "2/2 [==============================] - 0s 9ms/step - loss: 12.3336 - mse: 295.2546\n",
            "Epoch 404/500\n",
            "2/2 [==============================] - 0s 14ms/step - loss: 22.9138 - mse: 737.6503\n",
            "Epoch 405/500\n",
            "2/2 [==============================] - 0s 11ms/step - loss: 18.1414 - mse: 502.8734\n",
            "Epoch 406/500\n",
            "2/2 [==============================] - 0s 10ms/step - loss: 7.0389 - mse: 76.0313\n",
            "Epoch 407/500\n",
            "2/2 [==============================] - 0s 11ms/step - loss: 12.6706 - mse: 270.7987\n",
            "Epoch 408/500\n",
            "2/2 [==============================] - 0s 7ms/step - loss: 5.6421 - mse: 41.4871\n",
            "Epoch 409/500\n",
            "2/2 [==============================] - 0s 8ms/step - loss: 31.3144 - mse: 1518.9255\n",
            "Epoch 410/500\n",
            "2/2 [==============================] - 0s 10ms/step - loss: 9.2195 - mse: 220.5473\n",
            "Epoch 411/500\n",
            "2/2 [==============================] - 0s 9ms/step - loss: 14.8481 - mse: 285.6172\n",
            "Epoch 412/500\n",
            "2/2 [==============================] - 0s 9ms/step - loss: 21.7177 - mse: 721.7634\n",
            "Epoch 413/500\n",
            "2/2 [==============================] - 0s 9ms/step - loss: 12.6441 - mse: 248.5391\n",
            "Epoch 414/500\n",
            "2/2 [==============================] - 0s 9ms/step - loss: 6.0220 - mse: 87.8019\n",
            "Epoch 415/500\n",
            "2/2 [==============================] - 0s 8ms/step - loss: 13.2177 - mse: 239.8370\n",
            "Epoch 416/500\n",
            "2/2 [==============================] - 0s 14ms/step - loss: 27.4202 - mse: 1038.2065\n",
            "Epoch 417/500\n",
            "2/2 [==============================] - 0s 9ms/step - loss: 10.6527 - mse: 207.7295\n",
            "Epoch 418/500\n",
            "2/2 [==============================] - 0s 8ms/step - loss: 12.8047 - mse: 236.2208\n",
            "Epoch 419/500\n",
            "2/2 [==============================] - 0s 8ms/step - loss: 15.8583 - mse: 373.5758\n",
            "Epoch 420/500\n",
            "2/2 [==============================] - 0s 13ms/step - loss: 24.7276 - mse: 848.5601\n",
            "Epoch 421/500\n",
            "2/2 [==============================] - 0s 11ms/step - loss: 17.5352 - mse: 453.0229\n",
            "Epoch 422/500\n",
            "2/2 [==============================] - 0s 9ms/step - loss: 8.6864 - mse: 188.3797\n",
            "Epoch 423/500\n",
            "2/2 [==============================] - 0s 9ms/step - loss: 24.9133 - mse: 878.0845\n",
            "Epoch 424/500\n",
            "2/2 [==============================] - 0s 8ms/step - loss: 16.2526 - mse: 414.5914\n",
            "Epoch 425/500\n",
            "2/2 [==============================] - 0s 8ms/step - loss: 7.1157 - mse: 74.8623\n",
            "Epoch 426/500\n",
            "2/2 [==============================] - 0s 7ms/step - loss: 20.3611 - mse: 573.6547\n",
            "Epoch 427/500\n",
            "2/2 [==============================] - 0s 7ms/step - loss: 6.2890 - mse: 84.1247\n",
            "Epoch 428/500\n",
            "2/2 [==============================] - 0s 8ms/step - loss: 13.0355 - mse: 289.2498\n",
            "Epoch 429/500\n",
            "2/2 [==============================] - 0s 9ms/step - loss: 10.8191 - mse: 193.5762\n",
            "Epoch 430/500\n",
            "2/2 [==============================] - 0s 8ms/step - loss: 11.6809 - mse: 266.0519\n",
            "Epoch 431/500\n",
            "2/2 [==============================] - 0s 9ms/step - loss: 7.8647 - mse: 111.5876\n",
            "Epoch 432/500\n",
            "2/2 [==============================] - 0s 9ms/step - loss: 22.0847 - mse: 672.0395\n",
            "Epoch 433/500\n",
            "2/2 [==============================] - 0s 9ms/step - loss: 6.9712 - mse: 107.2685\n",
            "Epoch 434/500\n",
            "2/2 [==============================] - 0s 9ms/step - loss: 32.0164 - mse: 1430.5137\n",
            "Epoch 435/500\n",
            "2/2 [==============================] - 0s 11ms/step - loss: 13.0381 - mse: 282.4214\n",
            "Epoch 436/500\n",
            "2/2 [==============================] - 0s 9ms/step - loss: 28.1923 - mse: 1165.8600\n",
            "Epoch 437/500\n",
            "2/2 [==============================] - 0s 8ms/step - loss: 3.8340 - mse: 21.9382\n",
            "Epoch 438/500\n",
            "2/2 [==============================] - 0s 8ms/step - loss: 15.0719 - mse: 373.6061\n",
            "Epoch 439/500\n",
            "2/2 [==============================] - 0s 8ms/step - loss: 45.7286 - mse: 3626.2324\n",
            "Epoch 440/500\n",
            "2/2 [==============================] - 0s 9ms/step - loss: 25.9883 - mse: 1043.8406\n",
            "Epoch 441/500\n",
            "2/2 [==============================] - 0s 7ms/step - loss: 5.8805 - mse: 49.1533\n",
            "Epoch 442/500\n",
            "2/2 [==============================] - 0s 10ms/step - loss: 23.1750 - mse: 758.8737\n",
            "Epoch 443/500\n",
            "2/2 [==============================] - 0s 10ms/step - loss: 6.8794 - mse: 75.6770\n",
            "Epoch 444/500\n",
            "2/2 [==============================] - 0s 12ms/step - loss: 20.7862 - mse: 629.0717\n",
            "Epoch 445/500\n",
            "2/2 [==============================] - 0s 9ms/step - loss: 13.7700 - mse: 266.3029\n",
            "Epoch 446/500\n",
            "2/2 [==============================] - 0s 10ms/step - loss: 16.3346 - mse: 422.5316\n",
            "Epoch 447/500\n",
            "2/2 [==============================] - 0s 9ms/step - loss: 8.0377 - mse: 102.4371\n",
            "Epoch 448/500\n",
            "2/2 [==============================] - 0s 12ms/step - loss: 13.2439 - mse: 249.6981\n",
            "Epoch 449/500\n",
            "2/2 [==============================] - 0s 12ms/step - loss: 15.9929 - mse: 365.4247\n",
            "Epoch 450/500\n",
            "2/2 [==============================] - 0s 13ms/step - loss: 16.9580 - mse: 438.1689\n",
            "Epoch 451/500\n",
            "2/2 [==============================] - 0s 10ms/step - loss: 14.3569 - mse: 311.8237\n",
            "Epoch 452/500\n",
            "2/2 [==============================] - 0s 15ms/step - loss: 30.7822 - mse: 1342.9928\n",
            "Epoch 453/500\n",
            "2/2 [==============================] - 0s 11ms/step - loss: 9.0910 - mse: 242.3166\n",
            "Epoch 454/500\n",
            "2/2 [==============================] - 0s 10ms/step - loss: 27.1322 - mse: 1031.5663\n",
            "Epoch 455/500\n",
            "2/2 [==============================] - 0s 8ms/step - loss: 11.5672 - mse: 236.5220\n",
            "Epoch 456/500\n",
            "2/2 [==============================] - 0s 7ms/step - loss: 15.5931 - mse: 328.9953\n",
            "Epoch 457/500\n",
            "2/2 [==============================] - 0s 10ms/step - loss: 19.2038 - mse: 550.4393\n",
            "Epoch 458/500\n",
            "2/2 [==============================] - 0s 8ms/step - loss: 23.1842 - mse: 793.3022\n",
            "Epoch 459/500\n",
            "2/2 [==============================] - 0s 8ms/step - loss: 16.6188 - mse: 393.9838\n",
            "Epoch 460/500\n",
            "2/2 [==============================] - 0s 9ms/step - loss: 7.3932 - mse: 167.9871\n",
            "Epoch 461/500\n",
            "2/2 [==============================] - 0s 9ms/step - loss: 15.5638 - mse: 325.8652\n",
            "Epoch 462/500\n",
            "2/2 [==============================] - 0s 10ms/step - loss: 15.2385 - mse: 363.0240\n",
            "Epoch 463/500\n",
            "2/2 [==============================] - 0s 9ms/step - loss: 16.9010 - mse: 432.6713\n",
            "Epoch 464/500\n",
            "2/2 [==============================] - 0s 8ms/step - loss: 11.2796 - mse: 226.8673\n",
            "Epoch 465/500\n",
            "2/2 [==============================] - 0s 8ms/step - loss: 21.6616 - mse: 707.3182\n",
            "Epoch 466/500\n",
            "2/2 [==============================] - 0s 7ms/step - loss: 24.7349 - mse: 878.3252\n",
            "Epoch 467/500\n",
            "2/2 [==============================] - 0s 8ms/step - loss: 14.6118 - mse: 322.1378\n",
            "Epoch 468/500\n",
            "2/2 [==============================] - 0s 8ms/step - loss: 10.8255 - mse: 294.8011\n",
            "Epoch 469/500\n",
            "2/2 [==============================] - 0s 16ms/step - loss: 27.0996 - mse: 1032.5647\n",
            "Epoch 470/500\n",
            "2/2 [==============================] - 0s 10ms/step - loss: 13.1958 - mse: 293.6673\n",
            "Epoch 471/500\n",
            "2/2 [==============================] - 0s 8ms/step - loss: 11.1055 - mse: 225.4449\n",
            "Epoch 472/500\n",
            "2/2 [==============================] - 0s 9ms/step - loss: 15.7756 - mse: 358.6911\n",
            "Epoch 473/500\n",
            "2/2 [==============================] - 0s 8ms/step - loss: 16.0008 - mse: 431.5873\n",
            "Epoch 474/500\n",
            "2/2 [==============================] - 0s 7ms/step - loss: 29.5227 - mse: 1290.3357\n",
            "Epoch 475/500\n",
            "2/2 [==============================] - 0s 8ms/step - loss: 9.1356 - mse: 153.3149\n",
            "Epoch 476/500\n",
            "2/2 [==============================] - 0s 8ms/step - loss: 13.0097 - mse: 244.3119\n",
            "Epoch 477/500\n",
            "2/2 [==============================] - 0s 8ms/step - loss: 28.8904 - mse: 1169.8130\n",
            "Epoch 478/500\n",
            "2/2 [==============================] - 0s 8ms/step - loss: 6.3085 - mse: 73.7119\n",
            "Epoch 479/500\n",
            "2/2 [==============================] - 0s 9ms/step - loss: 2.9962 - mse: 13.0757\n",
            "Epoch 480/500\n",
            "2/2 [==============================] - 0s 11ms/step - loss: 23.4778 - mse: 799.3702\n",
            "Epoch 481/500\n",
            "2/2 [==============================] - 0s 13ms/step - loss: 6.4393 - mse: 107.6451\n",
            "Epoch 482/500\n",
            "2/2 [==============================] - 0s 9ms/step - loss: 22.1737 - mse: 747.8242\n",
            "Epoch 483/500\n",
            "2/2 [==============================] - 0s 10ms/step - loss: 23.7255 - mse: 818.3176\n",
            "Epoch 484/500\n",
            "2/2 [==============================] - 0s 11ms/step - loss: 22.1976 - mse: 689.4550\n",
            "Epoch 485/500\n",
            "2/2 [==============================] - 0s 10ms/step - loss: 5.4408 - mse: 55.9081\n",
            "Epoch 486/500\n",
            "2/2 [==============================] - 0s 10ms/step - loss: 18.1276 - mse: 462.0138\n",
            "Epoch 487/500\n",
            "2/2 [==============================] - 0s 6ms/step - loss: 14.1243 - mse: 293.2505\n",
            "Epoch 488/500\n",
            "2/2 [==============================] - 0s 9ms/step - loss: 30.7697 - mse: 1347.9122\n",
            "Epoch 489/500\n",
            "2/2 [==============================] - 0s 11ms/step - loss: 12.1727 - mse: 237.1094\n",
            "Epoch 490/500\n",
            "2/2 [==============================] - 0s 8ms/step - loss: 12.8531 - mse: 250.1275\n",
            "Epoch 491/500\n",
            "2/2 [==============================] - 0s 9ms/step - loss: 23.8584 - mse: 852.4440\n",
            "Epoch 492/500\n",
            "2/2 [==============================] - 0s 7ms/step - loss: 19.9346 - mse: 559.1763\n",
            "Epoch 493/500\n",
            "2/2 [==============================] - 0s 8ms/step - loss: 4.8445 - mse: 49.3844\n",
            "Epoch 494/500\n",
            "2/2 [==============================] - 0s 8ms/step - loss: 12.2876 - mse: 232.8780\n",
            "Epoch 495/500\n",
            "2/2 [==============================] - 0s 12ms/step - loss: 13.5828 - mse: 247.4578\n",
            "Epoch 496/500\n",
            "2/2 [==============================] - 0s 10ms/step - loss: 12.8163 - mse: 241.9910\n",
            "Epoch 497/500\n",
            "2/2 [==============================] - 0s 10ms/step - loss: 17.8746 - mse: 527.5516\n",
            "Epoch 498/500\n",
            "2/2 [==============================] - 0s 9ms/step - loss: 22.9793 - mse: 772.6006\n",
            "Epoch 499/500\n",
            "2/2 [==============================] - 0s 9ms/step - loss: 8.8062 - mse: 121.5124\n",
            "Epoch 500/500\n",
            "2/2 [==============================] - 0s 18ms/step - loss: 14.4161 - mse: 276.3074\n"
          ]
        },
        {
          "output_type": "execute_result",
          "data": {
            "text/plain": [
              "<keras.callbacks.History at 0x7ffa64c64970>"
            ]
          },
          "metadata": {},
          "execution_count": 143
        }
      ]
    },
    {
      "cell_type": "code",
      "source": [
        "#visulization -> plot prediction\n",
        "\n",
        "y_preds_3 = model_3.predict(X_test)\n",
        "plot_prediction(prediction = y_preds_3)"
      ],
      "metadata": {
        "colab": {
          "base_uri": "https://localhost:8080/",
          "height": 480
        },
        "id": "8_Hdd8gTevBv",
        "outputId": "2804bd88-94e3-4fc4-d33c-1198d328181c"
      },
      "execution_count": 144,
      "outputs": [
        {
          "output_type": "stream",
          "name": "stdout",
          "text": [
            "1/1 [==============================] - 0s 69ms/step\n"
          ]
        },
        {
          "output_type": "display_data",
          "data": {
            "text/plain": [
              "<Figure size 1000x700 with 1 Axes>"
            ],
            "image/png": "[encoded data removed]"
          },
          "metadata": {}
        }
      ]
    },
    {
      "cell_type": "code",
      "source": [
        "#evaluate the model:\n",
        "mae_3 = mae(y_test, y_preds_3)\n",
        "mse_3 = mse(y_test, y_preds_3)\n",
        "mae_3, mse_3\n",
        "\n",
        "\n"
      ],
      "metadata": {
        "colab": {
          "base_uri": "https://localhost:8080/"
        },
        "id": "diQ6YuXzfHnR",
        "outputId": "ff40c118-45cd-4980-8138-efe061527c9f"
      },
      "execution_count": 145,
      "outputs": [
        {
          "output_type": "execute_result",
          "data": {
            "text/plain": [
              "(<tf.Tensor: shape=(), dtype=float32, numpy=68.00726>,\n",
              " <tf.Tensor: shape=(), dtype=float32, numpy=4709.6963>)"
            ]
          },
          "metadata": {},
          "execution_count": 145
        }
      ]
    },
    {
      "cell_type": "markdown",
      "source": [
        "**Note:** you want to start with small experiments (small models) and make sure they work and then increase their scale if necessary."
      ],
      "metadata": {
        "id": "Q7qx3qIXkvSw"
      }
    },
    {
      "cell_type": "markdown",
      "source": [
        "##Comparing the results of our experiments\n",
        "\n",
        "We've run a few experiments, let's compare the results."
      ],
      "metadata": {
        "id": "32iYk0cWgIqz"
      }
    },
    {
      "cell_type": "code",
      "source": [
        "#Let's compare our model's results using a pandas DataFrame\n",
        "import pandas as pd\n",
        "\n",
        "model_results = [[\"model_1\", mae_1.numpy(), mse_1.numpy()],\n",
        "                 [\"model_2\", mae_2.numpy(), mse_2.numpy()],\n",
        "                 [\"model_3\", mae_3.numpy(), mse_3.numpy()]]\n",
        "\n",
        "all_results = pd.DataFrame(model_results, columns = [\"model\",\"mae\",\"mse\"])\n",
        "\n",
        "all_results\n"
      ],
      "metadata": {
        "colab": {
          "base_uri": "https://localhost:8080/",
          "height": 143
        },
        "id": "eervhj8hjcBs",
        "outputId": "103cb8b1-62b5-43a3-a4d3-4423d5b7ab73"
      },
      "execution_count": 150,
      "outputs": [
        {
          "output_type": "execute_result",
          "data": {
            "text/plain": [
              "     model        mae          mse\n",
              "0  model_1  14.919748   223.434814\n",
              "1  model_2   1.990180     5.853562\n",
              "2  model_3  68.007263  4709.696289"
            ],
            "text/html": [
              "\n",
              "  <div id=\"df-7ff49038-bcd6-4242-94ec-80c52538bdde\">\n",
              "    <div class=\"colab-df-container\">\n",
              "      <div>\n",
              "<style scoped>\n",
              "    .dataframe tbody tr th:only-of-type {\n",
              "        vertical-align: middle;\n",
              "    }\n",
              "\n",
              "    .dataframe tbody tr th {\n",
              "        vertical-align: top;\n",
              "    }\n",
              "\n",
              "    .dataframe thead th {\n",
              "        text-align: right;\n",
              "    }\n",
              "</style>\n",
              "<table border=\"1\" class=\"dataframe\">\n",
              "  <thead>\n",
              "    <tr style=\"text-align: right;\">\n",
              "      <th></th>\n",
              "      <th>model</th>\n",
              "      <th>mae</th>\n",
              "      <th>mse</th>\n",
              "    </tr>\n",
              "  </thead>\n",
              "  <tbody>\n",
              "    <tr>\n",
              "      <th>0</th>\n",
              "      <td>model_1</td>\n",
              "      <td>14.919748</td>\n",
              "      <td>223.434814</td>\n",
              "    </tr>\n",
              "    <tr>\n",
              "      <th>1</th>\n",
              "      <td>model_2</td>\n",
              "      <td>1.990180</td>\n",
              "      <td>5.853562</td>\n",
              "    </tr>\n",
              "    <tr>\n",
              "      <th>2</th>\n",
              "      <td>model_3</td>\n",
              "      <td>68.007263</td>\n",
              "      <td>4709.696289</td>\n",
              "    </tr>\n",
              "  </tbody>\n",
              "</table>\n",
              "</div>\n",
              "      <button class=\"colab-df-convert\" onclick=\"convertToInteractive('df-7ff49038-bcd6-4242-94ec-80c52538bdde')\"\n",
              "              title=\"Convert this dataframe to an interactive table.\"\n",
              "              style=\"display:none;\">\n",
              "        \n",
              "  <svg xmlns=\"http://www.w3.org/2000/svg\" height=\"24px\"viewBox=\"0 0 24 24\"\n",
              "       width=\"24px\">\n",
              "    <path d=\"M0 0h24v24H0V0z\" fill=\"none\"/>\n",
              "    <path d=\"M18.56 5.44l.94 2.06.94-2.06 2.06-.94-2.06-.94-.94-2.06-.94 2.06-2.06.94zm-11 1L8.5 8.5l.94-2.06 2.06-.94-2.06-.94L8.5 2.5l-.94 2.06-2.06.94zm10 10l.94 2.06.94-2.06 2.06-.94-2.06-.94-.94-2.06-.94 2.06-2.06.94z\"/><path d=\"M17.41 7.96l-1.37-1.37c-.4-.4-.92-.59-1.43-.59-.52 0-1.04.2-1.43.59L10.3 9.45l-7.72 7.72c-.78.78-.78 2.05 0 2.83L4 21.41c.39.39.9.59 1.41.59.51 0 1.02-.2 1.41-.59l7.78-7.78 2.81-2.81c.8-.78.8-2.07 0-2.86zM5.41 20L4 18.59l7.72-7.72 1.47 1.35L5.41 20z\"/>\n",
              "  </svg>\n",
              "      </button>\n",
              "      \n",
              "  <style>\n",
              "    .colab-df-container {\n",
              "      display:flex;\n",
              "      flex-wrap:wrap;\n",
              "      gap: 12px;\n",
              "    }\n",
              "\n",
              "    .colab-df-convert {\n",
              "      background-color: #E8F0FE;\n",
              "      border: none;\n",
              "      border-radius: 50%;\n",
              "      cursor: pointer;\n",
              "      display: none;\n",
              "      fill: #1967D2;\n",
              "      height: 32px;\n",
              "      padding: 0 0 0 0;\n",
              "      width: 32px;\n",
              "    }\n",
              "\n",
              "    .colab-df-convert:hover {\n",
              "      background-color: #E2EBFA;\n",
              "      box-shadow: 0px 1px 2px rgba(60, 64, 67, 0.3), 0px 1px 3px 1px rgba(60, 64, 67, 0.15);\n",
              "      fill: #174EA6;\n",
              "    }\n",
              "\n",
              "    [theme=dark] .colab-df-convert {\n",
              "      background-color: #3B4455;\n",
              "      fill: #D2E3FC;\n",
              "    }\n",
              "\n",
              "    [theme=dark] .colab-df-convert:hover {\n",
              "      background-color: #434B5C;\n",
              "      box-shadow: 0px 1px 3px 1px rgba(0, 0, 0, 0.15);\n",
              "      filter: drop-shadow(0px 1px 2px rgba(0, 0, 0, 0.3));\n",
              "      fill: #FFFFFF;\n",
              "    }\n",
              "  </style>\n",
              "\n",
              "      <script>\n",
              "        const buttonEl =\n",
              "          document.querySelector('#df-7ff49038-bcd6-4242-94ec-80c52538bdde button.colab-df-convert');\n",
              "        buttonEl.style.display =\n",
              "          google.colab.kernel.accessAllowed ? 'block' : 'none';\n",
              "\n",
              "        async function convertToInteractive(key) {\n",
              "          const element = document.querySelector('#df-7ff49038-bcd6-4242-94ec-80c52538bdde');\n",
              "          const dataTable =\n",
              "            await google.colab.kernel.invokeFunction('convertToInteractive',\n",
              "                                                     [key], {});\n",
              "          if (!dataTable) return;\n",
              "\n",
              "          const docLinkHtml = 'Like what you see? Visit the ' +\n",
              "            '<a target=\"_blank\" href=https://colab.research.google.com/notebooks/data_table.ipynb>data table notebook</a>'\n",
              "            + ' to learn more about interactive tables.';\n",
              "          element.innerHTML = '';\n",
              "          dataTable['output_type'] = 'display_data';\n",
              "          await google.colab.output.renderOutput(dataTable, element);\n",
              "          const docLink = document.createElement('div');\n",
              "          docLink.innerHTML = docLinkHtml;\n",
              "          element.appendChild(docLink);\n",
              "        }\n",
              "      </script>\n",
              "    </div>\n",
              "  </div>\n",
              "  "
            ]
          },
          "metadata": {},
          "execution_count": 150
        }
      ]
    },
    {
      "cell_type": "markdown",
      "source": [
        "Looks like model_2 perform best"
      ],
      "metadata": {
        "id": "03vyN-fkmLNE"
      }
    },
    {
      "cell_type": "code",
      "source": [
        "model_2.summary()"
      ],
      "metadata": {
        "colab": {
          "base_uri": "https://localhost:8080/"
        },
        "id": "E6Zgzcpil0UD",
        "outputId": "626fbf44-23bc-4a84-e891-8a18763de638"
      },
      "execution_count": 151,
      "outputs": [
        {
          "output_type": "stream",
          "name": "stdout",
          "text": [
            "Model: \"sequential_21\"\n",
            "_________________________________________________________________\n",
            " Layer (type)                Output Shape              Param #   \n",
            "=================================================================\n",
            " dense_35 (Dense)            (None, 10)                20        \n",
            "                                                                 \n",
            " dense_36 (Dense)            (None, 1)                 11        \n",
            "                                                                 \n",
            "=================================================================\n",
            "Total params: 31\n",
            "Trainable params: 31\n",
            "Non-trainable params: 0\n",
            "_________________________________________________________________\n"
          ]
        }
      ]
    },
    {
      "cell_type": "markdown",
      "source": [
        "> **note:** one of your main goals should be to minimize the time between your experiments. The more experiments you do, the more things you'll figure out which dont work and in turn, get closer to figuring our what does work. Remember the machine learning practioner's motto: \"experiment, experiment, experiment\"."
      ],
      "metadata": {
        "id": "8JnWLKCBmPpe"
      }
    },
    {
      "cell_type": "markdown",
      "source": [
        "## tracking your experiments\n",
        "\n",
        "one really good habit in machine learning modeling is to track the results of your experiments.\n",
        "\n",
        "and when doing so, it can be tedious if you're running lots of experiments.\n",
        "\n",
        "luckily, there are tools to help us!\n",
        "\n",
        "**resource:** As you build more models, you'll want to look into using:\n",
        "* TensorBoard - a component of the TensorFlow library to help track modelling experiments (we'll see this one later)\n",
        "* Weights & biases -  a tool for tracking all kinds of machine learning experiments (plugs straight into TensorBoard\n",
        "\n"
      ],
      "metadata": {
        "id": "lHdBwKusmuXx"
      }
    },
    {
      "cell_type": "markdown",
      "source": [
        "##Saving our models"
      ],
      "metadata": {
        "id": "hftY5lfDo1tJ"
      }
    },
    {
      "cell_type": "markdown",
      "source": [
        "Saving our models allows us to use them outside of google colab (or whenever they were trained) such as in a web application or a mobile app\n",
        "\n",
        "There are 2 main formats we can save our model to:\n",
        "1. The SavedModel format\n",
        "2. The HDF5 format"
      ],
      "metadata": {
        "id": "kdBphVOQo6hb"
      }
    },
    {
      "cell_type": "code",
      "source": [
        "# Save model using the SaveModel format\n",
        "\n",
        "model_2.save(\"Best_model_SavedModel_format\")"
      ],
      "metadata": {
        "colab": {
          "base_uri": "https://localhost:8080/"
        },
        "id": "rkd-4cs1pmWN",
        "outputId": "71a2c7c0-256e-4b03-b126-525d781aea06"
      },
      "execution_count": 154,
      "outputs": [
        {
          "output_type": "stream",
          "name": "stderr",
          "text": [
            "WARNING:absl:Found untraced functions such as _update_step_xla while saving (showing 1 of 1). These functions will not be directly callable after loading.\n"
          ]
        }
      ]
    },
    {
      "cell_type": "code",
      "source": [
        "#save model using the HDF5 format\n",
        "\n",
        "model_2.save(\"best_model_HDF5_format.h5\")"
      ],
      "metadata": {
        "id": "-WXAdc5Iq_xi"
      },
      "execution_count": 155,
      "outputs": []
    },
    {
      "cell_type": "markdown",
      "source": [
        "##Loading in a saved model\n"
      ],
      "metadata": {
        "id": "t9IrvKdKrcUn"
      }
    },
    {
      "cell_type": "code",
      "source": [
        "# load in the SavedModel format model\n",
        "\n",
        "loaded_SavedModel_format = tf.keras.models.load_model(\"/content/Best_model_SavedModel_format\")\n",
        "loaded_SavedModel_format.summary()\n"
      ],
      "metadata": {
        "colab": {
          "base_uri": "https://localhost:8080/"
        },
        "id": "eSzgVU_9sQU6",
        "outputId": "d5759bc6-7b02-4cd0-98ba-75dc1eccf8f9"
      },
      "execution_count": 158,
      "outputs": [
        {
          "output_type": "stream",
          "name": "stdout",
          "text": [
            "Model: \"sequential_21\"\n",
            "_________________________________________________________________\n",
            " Layer (type)                Output Shape              Param #   \n",
            "=================================================================\n",
            " dense_35 (Dense)            (None, 10)                20        \n",
            "                                                                 \n",
            " dense_36 (Dense)            (None, 1)                 11        \n",
            "                                                                 \n",
            "=================================================================\n",
            "Total params: 31\n",
            "Trainable params: 31\n",
            "Non-trainable params: 0\n",
            "_________________________________________________________________\n"
          ]
        }
      ]
    },
    {
      "cell_type": "code",
      "source": [
        "model_2.summary()"
      ],
      "metadata": {
        "colab": {
          "base_uri": "https://localhost:8080/"
        },
        "id": "E9K84gj8tBRN",
        "outputId": "366f16e4-6fd8-4457-8697-059c429d39e3"
      },
      "execution_count": 159,
      "outputs": [
        {
          "output_type": "stream",
          "name": "stdout",
          "text": [
            "Model: \"sequential_21\"\n",
            "_________________________________________________________________\n",
            " Layer (type)                Output Shape              Param #   \n",
            "=================================================================\n",
            " dense_35 (Dense)            (None, 10)                20        \n",
            "                                                                 \n",
            " dense_36 (Dense)            (None, 1)                 11        \n",
            "                                                                 \n",
            "=================================================================\n",
            "Total params: 31\n",
            "Trainable params: 31\n",
            "Non-trainable params: 0\n",
            "_________________________________________________________________\n"
          ]
        }
      ]
    },
    {
      "cell_type": "code",
      "source": [
        "#compare model_2 predictions with SavedModel format model predictions\n",
        "\n",
        "model_2_preds = model_2.predict(X_test)\n",
        "loaded_SavedModel_format_preds = loaded_SavedModel_format.predict(X_test)\n",
        "model_2_preds == loaded_SavedModel_format_preds"
      ],
      "metadata": {
        "colab": {
          "base_uri": "https://localhost:8080/"
        },
        "id": "qpohwG4rtEYk",
        "outputId": "58251717-89c5-44ef-ff34-bb3e2fde3cb9"
      },
      "execution_count": 161,
      "outputs": [
        {
          "output_type": "stream",
          "name": "stdout",
          "text": [
            "1/1 [==============================] - 0s 41ms/step\n",
            "1/1 [==============================] - 0s 49ms/step\n"
          ]
        },
        {
          "output_type": "execute_result",
          "data": {
            "text/plain": [
              "array([[ True],\n",
              "       [ True],\n",
              "       [ True],\n",
              "       [ True],\n",
              "       [ True],\n",
              "       [ True],\n",
              "       [ True],\n",
              "       [ True],\n",
              "       [ True],\n",
              "       [ True]])"
            ]
          },
          "metadata": {},
          "execution_count": 161
        }
      ]
    },
    {
      "cell_type": "code",
      "source": [
        "#compare the MAE of model_2 preds and loaded_SaveModel_preds\n",
        "mae(y_true = y_test, y_pred = model_2_preds) == mae(y_true = y_test, y_pred = loaded_SavedModel_format_preds)\n"
      ],
      "metadata": {
        "colab": {
          "base_uri": "https://localhost:8080/"
        },
        "id": "8Il3-u5Btpnl",
        "outputId": "b7fd0aaf-12d8-43b0-c90c-6e0d8c6d6abc"
      },
      "execution_count": 163,
      "outputs": [
        {
          "output_type": "execute_result",
          "data": {
            "text/plain": [
              "<tf.Tensor: shape=(), dtype=bool, numpy=True>"
            ]
          },
          "metadata": {},
          "execution_count": 163
        }
      ]
    },
    {
      "cell_type": "code",
      "source": [
        "#load in a model using the .h5 format\n",
        "loaded_h5_model = tf.keras.models.load_model(\"/content/best_model_HDF5_format.h5\")\n",
        "loaded_h5_model.summary()"
      ],
      "metadata": {
        "colab": {
          "base_uri": "https://localhost:8080/"
        },
        "id": "D0TAVbvkuiXt",
        "outputId": "e180489b-c68f-4bfc-c821-dfbbc64299fe"
      },
      "execution_count": 164,
      "outputs": [
        {
          "output_type": "stream",
          "name": "stdout",
          "text": [
            "Model: \"sequential_21\"\n",
            "_________________________________________________________________\n",
            " Layer (type)                Output Shape              Param #   \n",
            "=================================================================\n",
            " dense_35 (Dense)            (None, 10)                20        \n",
            "                                                                 \n",
            " dense_36 (Dense)            (None, 1)                 11        \n",
            "                                                                 \n",
            "=================================================================\n",
            "Total params: 31\n",
            "Trainable params: 31\n",
            "Non-trainable params: 0\n",
            "_________________________________________________________________\n"
          ]
        }
      ]
    },
    {
      "cell_type": "code",
      "source": [
        "model_2.summary()"
      ],
      "metadata": {
        "colab": {
          "base_uri": "https://localhost:8080/"
        },
        "id": "L5l0SeU9u_vS",
        "outputId": "8c6c3053-ed74-4e75-d8d2-2ba201abafb0"
      },
      "execution_count": 165,
      "outputs": [
        {
          "output_type": "stream",
          "name": "stdout",
          "text": [
            "Model: \"sequential_21\"\n",
            "_________________________________________________________________\n",
            " Layer (type)                Output Shape              Param #   \n",
            "=================================================================\n",
            " dense_35 (Dense)            (None, 10)                20        \n",
            "                                                                 \n",
            " dense_36 (Dense)            (None, 1)                 11        \n",
            "                                                                 \n",
            "=================================================================\n",
            "Total params: 31\n",
            "Trainable params: 31\n",
            "Non-trainable params: 0\n",
            "_________________________________________________________________\n"
          ]
        }
      ]
    },
    {
      "cell_type": "code",
      "source": [
        "#check to see if loaded .h5 model predictions match model_2\n",
        "model_2_preds = model_2.predict(X_test)\n",
        "loaded_h5_model_preds = loaded_h5_model.predict(X_test)\n",
        "model_2_preds == loaded_h5_model_preds"
      ],
      "metadata": {
        "colab": {
          "base_uri": "https://localhost:8080/"
        },
        "id": "bjeQ7IqYvIFt",
        "outputId": "5437e74d-9826-4301-db4b-fb52108bc1a1"
      },
      "execution_count": 166,
      "outputs": [
        {
          "output_type": "stream",
          "name": "stdout",
          "text": [
            "1/1 [==============================] - 0s 28ms/step\n",
            "1/1 [==============================] - 0s 60ms/step\n"
          ]
        },
        {
          "output_type": "execute_result",
          "data": {
            "text/plain": [
              "array([[ True],\n",
              "       [ True],\n",
              "       [ True],\n",
              "       [ True],\n",
              "       [ True],\n",
              "       [ True],\n",
              "       [ True],\n",
              "       [ True],\n",
              "       [ True],\n",
              "       [ True]])"
            ]
          },
          "metadata": {},
          "execution_count": 166
        }
      ]
    },
    {
      "cell_type": "markdown",
      "source": [
        "##Download a model or any other files from google colab\n",
        "\n",
        "If you want download your files from Google colab:\n",
        "1. you can go to the \"files\" tabs and right click on the file you're after and click \"download\"\n",
        "\n",
        "2. Use code (see the cell below).\n",
        "\n",
        "3. Save it to google drive by connecting google drive and copying it there ( see 2nd cell below)"
      ],
      "metadata": {
        "id": "r47K1iO900Uh"
      }
    },
    {
      "cell_type": "code",
      "source": [
        "#download a file from google colab\n",
        "from google.colab import files\n",
        "# files.download(\"/content/best_model_HDF5_format.h5\")"
      ],
      "metadata": {
        "colab": {
          "base_uri": "https://localhost:8080/",
          "height": 17
        },
        "id": "krIZWTg71cRs",
        "outputId": "95ff780a-4678-4d60-dbd8-e6093fda8fcb"
      },
      "execution_count": 167,
      "outputs": [
        {
          "output_type": "display_data",
          "data": {
            "text/plain": [
              "<IPython.core.display.Javascript object>"
            ],
            "application/javascript": [
              "\n",
              "    async function download(id, filename, size) {\n",
              "      if (!google.colab.kernel.accessAllowed) {\n",
              "        return;\n",
              "      }\n",
              "      const div = document.createElement('div');\n",
              "      const label = document.createElement('label');\n",
              "      label.textContent = `Downloading \"${filename}\": `;\n",
              "      div.appendChild(label);\n",
              "      const progress = document.createElement('progress');\n",
              "      progress.max = size;\n",
              "      div.appendChild(progress);\n",
              "      document.body.appendChild(div);\n",
              "\n",
              "      const buffers = [];\n",
              "      let downloaded = 0;\n",
              "\n",
              "      const channel = await google.colab.kernel.comms.open(id);\n",
              "      // Send a message to notify the kernel that we're ready.\n",
              "      channel.send({})\n",
              "\n",
              "      for await (const message of channel.messages) {\n",
              "        // Send a message to notify the kernel that we're ready.\n",
              "        channel.send({})\n",
              "        if (message.buffers) {\n",
              "          for (const buffer of message.buffers) {\n",
              "            buffers.push(buffer);\n",
              "            downloaded += buffer.byteLength;\n",
              "            progress.value = downloaded;\n",
              "          }\n",
              "        }\n",
              "      }\n",
              "      const blob = new Blob(buffers, {type: 'application/binary'});\n",
              "      const a = document.createElement('a');\n",
              "      a.href = window.URL.createObjectURL(blob);\n",
              "      a.download = filename;\n",
              "      div.appendChild(a);\n",
              "      a.click();\n",
              "      div.remove();\n",
              "    }\n",
              "  "
            ]
          },
          "metadata": {}
        },
        {
          "output_type": "display_data",
          "data": {
            "text/plain": [
              "<IPython.core.display.Javascript object>"
            ],
            "application/javascript": [
              "download(\"download_6729f80a-0cbb-485e-a4c8-e63b2a229915\", \"best_model_HDF5_format.h5\", 21952)"
            ]
          },
          "metadata": {}
        }
      ]
    },
    {
      "cell_type": "code",
      "source": [
        "#save a file from google colab to google drive (requires mounting google drive)\n",
        "!cp /content/best_model_HDF5_format.h5 /content/drive/MyDrive/Tensorflow_course"
      ],
      "metadata": {
        "id": "r21sz4vu1s62"
      },
      "execution_count": 168,
      "outputs": []
    },
    {
      "cell_type": "code",
      "source": [
        "!ls /content/drive/MyDrive/Tensorflow_course"
      ],
      "metadata": {
        "colab": {
          "base_uri": "https://localhost:8080/"
        },
        "id": "juk9tydh22W9",
        "outputId": "ebe34af7-9703-47bf-f4d2-2ebfa94d6939"
      },
      "execution_count": 169,
      "outputs": [
        {
          "output_type": "stream",
          "name": "stdout",
          "text": [
            "best_model_HDF5_format.h5\n"
          ]
        }
      ]
    },
    {
      "cell_type": "markdown",
      "source": [
        "## **Larger Example**"
      ],
      "metadata": {
        "id": "z7Hhl_s53jcx"
      }
    },
    {
      "cell_type": "code",
      "source": [
        "X_train, y_train"
      ],
      "metadata": {
        "colab": {
          "base_uri": "https://localhost:8080/"
        },
        "id": "t5VIGGhJ3oA_",
        "outputId": "8252f520-74de-4891-e8fc-2e8d220e86ec"
      },
      "execution_count": 170,
      "outputs": [
        {
          "output_type": "execute_result",
          "data": {
            "text/plain": [
              "(<tf.Tensor: shape=(40,), dtype=int32, numpy=\n",
              " array([-100,  -96,  -92,  -88,  -84,  -80,  -76,  -72,  -68,  -64,  -60,\n",
              "         -56,  -52,  -48,  -44,  -40,  -36,  -32,  -28,  -24,  -20,  -16,\n",
              "         -12,   -8,   -4,    0,    4,    8,   12,   16,   20,   24,   28,\n",
              "          32,   36,   40,   44,   48,   52,   56], dtype=int32)>,\n",
              " <tf.Tensor: shape=(40,), dtype=int32, numpy=\n",
              " array([-90, -86, -82, -78, -74, -70, -66, -62, -58, -54, -50, -46, -42,\n",
              "        -38, -34, -30, -26, -22, -18, -14, -10,  -6,  -2,   2,   6,  10,\n",
              "         14,  18,  22,  26,  30,  34,  38,  42,  46,  50,  54,  58,  62,\n",
              "         66], dtype=int32)>)"
            ]
          },
          "metadata": {},
          "execution_count": 170
        }
      ]
    },
    {
      "cell_type": "code",
      "source": [
        "#import required libraries\n",
        "import tensorflow as tf\n",
        "import pandas as pd\n",
        "import matplotlib.pyplot as plt\n"
      ],
      "metadata": {
        "id": "-zKcElQ634to"
      },
      "execution_count": 172,
      "outputs": []
    },
    {
      "cell_type": "code",
      "source": [
        "#read in the insurance dataset\n",
        "insurance = pd.read_csv(\"https://raw.githubusercontent.com/stedy/Machine-Learning-with-R-datasets/master/insurance.csv\")\n",
        "insurance\n"
      ],
      "metadata": {
        "colab": {
          "base_uri": "https://localhost:8080/",
          "height": 423
        },
        "id": "266Y_GXE5VOV",
        "outputId": "c7ae2a99-2712-4da7-8fbd-afd1f1f4eef3"
      },
      "execution_count": 174,
      "outputs": [
        {
          "output_type": "execute_result",
          "data": {
            "text/plain": [
              "      age     sex     bmi  children smoker     region      charges\n",
              "0      19  female  27.900         0    yes  southwest  16884.92400\n",
              "1      18    male  33.770         1     no  southeast   1725.55230\n",
              "2      28    male  33.000         3     no  southeast   4449.46200\n",
              "3      33    male  22.705         0     no  northwest  21984.47061\n",
              "4      32    male  28.880         0     no  northwest   3866.85520\n",
              "...   ...     ...     ...       ...    ...        ...          ...\n",
              "1333   50    male  30.970         3     no  northwest  10600.54830\n",
              "1334   18  female  31.920         0     no  northeast   2205.98080\n",
              "1335   18  female  36.850         0     no  southeast   1629.83350\n",
              "1336   21  female  25.800         0     no  southwest   2007.94500\n",
              "1337   61  female  29.070         0    yes  northwest  29141.36030\n",
              "\n",
              "[1338 rows x 7 columns]"
            ],
            "text/html": [
              "\n",
              "  <div id=\"df-0829ae72-933b-47bf-93aa-d0097295f533\">\n",
              "    <div class=\"colab-df-container\">\n",
              "      <div>\n",
              "<style scoped>\n",
              "    .dataframe tbody tr th:only-of-type {\n",
              "        vertical-align: middle;\n",
              "    }\n",
              "\n",
              "    .dataframe tbody tr th {\n",
              "        vertical-align: top;\n",
              "    }\n",
              "\n",
              "    .dataframe thead th {\n",
              "        text-align: right;\n",
              "    }\n",
              "</style>\n",
              "<table border=\"1\" class=\"dataframe\">\n",
              "  <thead>\n",
              "    <tr style=\"text-align: right;\">\n",
              "      <th></th>\n",
              "      <th>age</th>\n",
              "      <th>sex</th>\n",
              "      <th>bmi</th>\n",
              "      <th>children</th>\n",
              "      <th>smoker</th>\n",
              "      <th>region</th>\n",
              "      <th>charges</th>\n",
              "    </tr>\n",
              "  </thead>\n",
              "  <tbody>\n",
              "    <tr>\n",
              "      <th>0</th>\n",
              "      <td>19</td>\n",
              "      <td>female</td>\n",
              "      <td>27.900</td>\n",
              "      <td>0</td>\n",
              "      <td>yes</td>\n",
              "      <td>southwest</td>\n",
              "      <td>16884.92400</td>\n",
              "    </tr>\n",
              "    <tr>\n",
              "      <th>1</th>\n",
              "      <td>18</td>\n",
              "      <td>male</td>\n",
              "      <td>33.770</td>\n",
              "      <td>1</td>\n",
              "      <td>no</td>\n",
              "      <td>southeast</td>\n",
              "      <td>1725.55230</td>\n",
              "    </tr>\n",
              "    <tr>\n",
              "      <th>2</th>\n",
              "      <td>28</td>\n",
              "      <td>male</td>\n",
              "      <td>33.000</td>\n",
              "      <td>3</td>\n",
              "      <td>no</td>\n",
              "      <td>southeast</td>\n",
              "      <td>4449.46200</td>\n",
              "    </tr>\n",
              "    <tr>\n",
              "      <th>3</th>\n",
              "      <td>33</td>\n",
              "      <td>male</td>\n",
              "      <td>22.705</td>\n",
              "      <td>0</td>\n",
              "      <td>no</td>\n",
              "      <td>northwest</td>\n",
              "      <td>21984.47061</td>\n",
              "    </tr>\n",
              "    <tr>\n",
              "      <th>4</th>\n",
              "      <td>32</td>\n",
              "      <td>male</td>\n",
              "      <td>28.880</td>\n",
              "      <td>0</td>\n",
              "      <td>no</td>\n",
              "      <td>northwest</td>\n",
              "      <td>3866.85520</td>\n",
              "    </tr>\n",
              "    <tr>\n",
              "      <th>...</th>\n",
              "      <td>...</td>\n",
              "      <td>...</td>\n",
              "      <td>...</td>\n",
              "      <td>...</td>\n",
              "      <td>...</td>\n",
              "      <td>...</td>\n",
              "      <td>...</td>\n",
              "    </tr>\n",
              "    <tr>\n",
              "      <th>1333</th>\n",
              "      <td>50</td>\n",
              "      <td>male</td>\n",
              "      <td>30.970</td>\n",
              "      <td>3</td>\n",
              "      <td>no</td>\n",
              "      <td>northwest</td>\n",
              "      <td>10600.54830</td>\n",
              "    </tr>\n",
              "    <tr>\n",
              "      <th>1334</th>\n",
              "      <td>18</td>\n",
              "      <td>female</td>\n",
              "      <td>31.920</td>\n",
              "      <td>0</td>\n",
              "      <td>no</td>\n",
              "      <td>northeast</td>\n",
              "      <td>2205.98080</td>\n",
              "    </tr>\n",
              "    <tr>\n",
              "      <th>1335</th>\n",
              "      <td>18</td>\n",
              "      <td>female</td>\n",
              "      <td>36.850</td>\n",
              "      <td>0</td>\n",
              "      <td>no</td>\n",
              "      <td>southeast</td>\n",
              "      <td>1629.83350</td>\n",
              "    </tr>\n",
              "    <tr>\n",
              "      <th>1336</th>\n",
              "      <td>21</td>\n",
              "      <td>female</td>\n",
              "      <td>25.800</td>\n",
              "      <td>0</td>\n",
              "      <td>no</td>\n",
              "      <td>southwest</td>\n",
              "      <td>2007.94500</td>\n",
              "    </tr>\n",
              "    <tr>\n",
              "      <th>1337</th>\n",
              "      <td>61</td>\n",
              "      <td>female</td>\n",
              "      <td>29.070</td>\n",
              "      <td>0</td>\n",
              "      <td>yes</td>\n",
              "      <td>northwest</td>\n",
              "      <td>29141.36030</td>\n",
              "    </tr>\n",
              "  </tbody>\n",
              "</table>\n",
              "<p>1338 rows × 7 columns</p>\n",
              "</div>\n",
              "      <button class=\"colab-df-convert\" onclick=\"convertToInteractive('df-0829ae72-933b-47bf-93aa-d0097295f533')\"\n",
              "              title=\"Convert this dataframe to an interactive table.\"\n",
              "              style=\"display:none;\">\n",
              "        \n",
              "  <svg xmlns=\"http://www.w3.org/2000/svg\" height=\"24px\"viewBox=\"0 0 24 24\"\n",
              "       width=\"24px\">\n",
              "    <path d=\"M0 0h24v24H0V0z\" fill=\"none\"/>\n",
              "    <path d=\"M18.56 5.44l.94 2.06.94-2.06 2.06-.94-2.06-.94-.94-2.06-.94 2.06-2.06.94zm-11 1L8.5 8.5l.94-2.06 2.06-.94-2.06-.94L8.5 2.5l-.94 2.06-2.06.94zm10 10l.94 2.06.94-2.06 2.06-.94-2.06-.94-.94-2.06-.94 2.06-2.06.94z\"/><path d=\"M17.41 7.96l-1.37-1.37c-.4-.4-.92-.59-1.43-.59-.52 0-1.04.2-1.43.59L10.3 9.45l-7.72 7.72c-.78.78-.78 2.05 0 2.83L4 21.41c.39.39.9.59 1.41.59.51 0 1.02-.2 1.41-.59l7.78-7.78 2.81-2.81c.8-.78.8-2.07 0-2.86zM5.41 20L4 18.59l7.72-7.72 1.47 1.35L5.41 20z\"/>\n",
              "  </svg>\n",
              "      </button>\n",
              "      \n",
              "  <style>\n",
              "    .colab-df-container {\n",
              "      display:flex;\n",
              "      flex-wrap:wrap;\n",
              "      gap: 12px;\n",
              "    }\n",
              "\n",
              "    .colab-df-convert {\n",
              "      background-color: #E8F0FE;\n",
              "      border: none;\n",
              "      border-radius: 50%;\n",
              "      cursor: pointer;\n",
              "      display: none;\n",
              "      fill: #1967D2;\n",
              "      height: 32px;\n",
              "      padding: 0 0 0 0;\n",
              "      width: 32px;\n",
              "    }\n",
              "\n",
              "    .colab-df-convert:hover {\n",
              "      background-color: #E2EBFA;\n",
              "      box-shadow: 0px 1px 2px rgba(60, 64, 67, 0.3), 0px 1px 3px 1px rgba(60, 64, 67, 0.15);\n",
              "      fill: #174EA6;\n",
              "    }\n",
              "\n",
              "    [theme=dark] .colab-df-convert {\n",
              "      background-color: #3B4455;\n",
              "      fill: #D2E3FC;\n",
              "    }\n",
              "\n",
              "    [theme=dark] .colab-df-convert:hover {\n",
              "      background-color: #434B5C;\n",
              "      box-shadow: 0px 1px 3px 1px rgba(0, 0, 0, 0.15);\n",
              "      filter: drop-shadow(0px 1px 2px rgba(0, 0, 0, 0.3));\n",
              "      fill: #FFFFFF;\n",
              "    }\n",
              "  </style>\n",
              "\n",
              "      <script>\n",
              "        const buttonEl =\n",
              "          document.querySelector('#df-0829ae72-933b-47bf-93aa-d0097295f533 button.colab-df-convert');\n",
              "        buttonEl.style.display =\n",
              "          google.colab.kernel.accessAllowed ? 'block' : 'none';\n",
              "\n",
              "        async function convertToInteractive(key) {\n",
              "          const element = document.querySelector('#df-0829ae72-933b-47bf-93aa-d0097295f533');\n",
              "          const dataTable =\n",
              "            await google.colab.kernel.invokeFunction('convertToInteractive',\n",
              "                                                     [key], {});\n",
              "          if (!dataTable) return;\n",
              "\n",
              "          const docLinkHtml = 'Like what you see? Visit the ' +\n",
              "            '<a target=\"_blank\" href=https://colab.research.google.com/notebooks/data_table.ipynb>data table notebook</a>'\n",
              "            + ' to learn more about interactive tables.';\n",
              "          element.innerHTML = '';\n",
              "          dataTable['output_type'] = 'display_data';\n",
              "          await google.colab.output.renderOutput(dataTable, element);\n",
              "          const docLink = document.createElement('div');\n",
              "          docLink.innerHTML = docLinkHtml;\n",
              "          element.appendChild(docLink);\n",
              "        }\n",
              "      </script>\n",
              "    </div>\n",
              "  </div>\n",
              "  "
            ]
          },
          "metadata": {},
          "execution_count": 174
        }
      ]
    },
    {
      "cell_type": "code",
      "source": [
        "insurance[\"age\"]"
      ],
      "metadata": {
        "colab": {
          "base_uri": "https://localhost:8080/"
        },
        "id": "R6qUUCE56u11",
        "outputId": "a4cc8a7e-e731-4f04-e865-2d477cc96a78"
      },
      "execution_count": 177,
      "outputs": [
        {
          "output_type": "execute_result",
          "data": {
            "text/plain": [
              "0       19\n",
              "1       18\n",
              "2       28\n",
              "3       33\n",
              "4       32\n",
              "        ..\n",
              "1333    50\n",
              "1334    18\n",
              "1335    18\n",
              "1336    21\n",
              "1337    61\n",
              "Name: age, Length: 1338, dtype: int64"
            ]
          },
          "metadata": {},
          "execution_count": 177
        }
      ]
    },
    {
      "cell_type": "code",
      "source": [
        "#let's try 1 hot encode our data frame so it's all numbers\n",
        "\n",
        "insurance_one_hot = pd.get_dummies(insurance)\n",
        "insurance_one_hot.head()"
      ],
      "metadata": {
        "colab": {
          "base_uri": "https://localhost:8080/",
          "height": 270
        },
        "id": "XMIiiro476Az",
        "outputId": "d25e6102-b58b-4b9a-bf65-d139ee5217eb"
      },
      "execution_count": 182,
      "outputs": [
        {
          "output_type": "execute_result",
          "data": {
            "text/plain": [
              "   age     bmi  children      charges  sex_female  sex_male  smoker_no  \\\n",
              "0   19  27.900         0  16884.92400           1         0          0   \n",
              "1   18  33.770         1   1725.55230           0         1          1   \n",
              "2   28  33.000         3   4449.46200           0         1          1   \n",
              "3   33  22.705         0  21984.47061           0         1          1   \n",
              "4   32  28.880         0   3866.85520           0         1          1   \n",
              "\n",
              "   smoker_yes  region_northeast  region_northwest  region_southeast  \\\n",
              "0           1                 0                 0                 0   \n",
              "1           0                 0                 0                 1   \n",
              "2           0                 0                 0                 1   \n",
              "3           0                 0                 1                 0   \n",
              "4           0                 0                 1                 0   \n",
              "\n",
              "   region_southwest  \n",
              "0                 1  \n",
              "1                 0  \n",
              "2                 0  \n",
              "3                 0  \n",
              "4                 0  "
            ],
            "text/html": [
              "\n",
              "  <div id=\"df-6f5694dd-6bf0-47a0-a936-93cb607cf5ee\">\n",
              "    <div class=\"colab-df-container\">\n",
              "      <div>\n",
              "<style scoped>\n",
              "    .dataframe tbody tr th:only-of-type {\n",
              "        vertical-align: middle;\n",
              "    }\n",
              "\n",
              "    .dataframe tbody tr th {\n",
              "        vertical-align: top;\n",
              "    }\n",
              "\n",
              "    .dataframe thead th {\n",
              "        text-align: right;\n",
              "    }\n",
              "</style>\n",
              "<table border=\"1\" class=\"dataframe\">\n",
              "  <thead>\n",
              "    <tr style=\"text-align: right;\">\n",
              "      <th></th>\n",
              "      <th>age</th>\n",
              "      <th>bmi</th>\n",
              "      <th>children</th>\n",
              "      <th>charges</th>\n",
              "      <th>sex_female</th>\n",
              "      <th>sex_male</th>\n",
              "      <th>smoker_no</th>\n",
              "      <th>smoker_yes</th>\n",
              "      <th>region_northeast</th>\n",
              "      <th>region_northwest</th>\n",
              "      <th>region_southeast</th>\n",
              "      <th>region_southwest</th>\n",
              "    </tr>\n",
              "  </thead>\n",
              "  <tbody>\n",
              "    <tr>\n",
              "      <th>0</th>\n",
              "      <td>19</td>\n",
              "      <td>27.900</td>\n",
              "      <td>0</td>\n",
              "      <td>16884.92400</td>\n",
              "      <td>1</td>\n",
              "      <td>0</td>\n",
              "      <td>0</td>\n",
              "      <td>1</td>\n",
              "      <td>0</td>\n",
              "      <td>0</td>\n",
              "      <td>0</td>\n",
              "      <td>1</td>\n",
              "    </tr>\n",
              "    <tr>\n",
              "      <th>1</th>\n",
              "      <td>18</td>\n",
              "      <td>33.770</td>\n",
              "      <td>1</td>\n",
              "      <td>1725.55230</td>\n",
              "      <td>0</td>\n",
              "      <td>1</td>\n",
              "      <td>1</td>\n",
              "      <td>0</td>\n",
              "      <td>0</td>\n",
              "      <td>0</td>\n",
              "      <td>1</td>\n",
              "      <td>0</td>\n",
              "    </tr>\n",
              "    <tr>\n",
              "      <th>2</th>\n",
              "      <td>28</td>\n",
              "      <td>33.000</td>\n",
              "      <td>3</td>\n",
              "      <td>4449.46200</td>\n",
              "      <td>0</td>\n",
              "      <td>1</td>\n",
              "      <td>1</td>\n",
              "      <td>0</td>\n",
              "      <td>0</td>\n",
              "      <td>0</td>\n",
              "      <td>1</td>\n",
              "      <td>0</td>\n",
              "    </tr>\n",
              "    <tr>\n",
              "      <th>3</th>\n",
              "      <td>33</td>\n",
              "      <td>22.705</td>\n",
              "      <td>0</td>\n",
              "      <td>21984.47061</td>\n",
              "      <td>0</td>\n",
              "      <td>1</td>\n",
              "      <td>1</td>\n",
              "      <td>0</td>\n",
              "      <td>0</td>\n",
              "      <td>1</td>\n",
              "      <td>0</td>\n",
              "      <td>0</td>\n",
              "    </tr>\n",
              "    <tr>\n",
              "      <th>4</th>\n",
              "      <td>32</td>\n",
              "      <td>28.880</td>\n",
              "      <td>0</td>\n",
              "      <td>3866.85520</td>\n",
              "      <td>0</td>\n",
              "      <td>1</td>\n",
              "      <td>1</td>\n",
              "      <td>0</td>\n",
              "      <td>0</td>\n",
              "      <td>1</td>\n",
              "      <td>0</td>\n",
              "      <td>0</td>\n",
              "    </tr>\n",
              "  </tbody>\n",
              "</table>\n",
              "</div>\n",
              "      <button class=\"colab-df-convert\" onclick=\"convertToInteractive('df-6f5694dd-6bf0-47a0-a936-93cb607cf5ee')\"\n",
              "              title=\"Convert this dataframe to an interactive table.\"\n",
              "              style=\"display:none;\">\n",
              "        \n",
              "  <svg xmlns=\"http://www.w3.org/2000/svg\" height=\"24px\"viewBox=\"0 0 24 24\"\n",
              "       width=\"24px\">\n",
              "    <path d=\"M0 0h24v24H0V0z\" fill=\"none\"/>\n",
              "    <path d=\"M18.56 5.44l.94 2.06.94-2.06 2.06-.94-2.06-.94-.94-2.06-.94 2.06-2.06.94zm-11 1L8.5 8.5l.94-2.06 2.06-.94-2.06-.94L8.5 2.5l-.94 2.06-2.06.94zm10 10l.94 2.06.94-2.06 2.06-.94-2.06-.94-.94-2.06-.94 2.06-2.06.94z\"/><path d=\"M17.41 7.96l-1.37-1.37c-.4-.4-.92-.59-1.43-.59-.52 0-1.04.2-1.43.59L10.3 9.45l-7.72 7.72c-.78.78-.78 2.05 0 2.83L4 21.41c.39.39.9.59 1.41.59.51 0 1.02-.2 1.41-.59l7.78-7.78 2.81-2.81c.8-.78.8-2.07 0-2.86zM5.41 20L4 18.59l7.72-7.72 1.47 1.35L5.41 20z\"/>\n",
              "  </svg>\n",
              "      </button>\n",
              "      \n",
              "  <style>\n",
              "    .colab-df-container {\n",
              "      display:flex;\n",
              "      flex-wrap:wrap;\n",
              "      gap: 12px;\n",
              "    }\n",
              "\n",
              "    .colab-df-convert {\n",
              "      background-color: #E8F0FE;\n",
              "      border: none;\n",
              "      border-radius: 50%;\n",
              "      cursor: pointer;\n",
              "      display: none;\n",
              "      fill: #1967D2;\n",
              "      height: 32px;\n",
              "      padding: 0 0 0 0;\n",
              "      width: 32px;\n",
              "    }\n",
              "\n",
              "    .colab-df-convert:hover {\n",
              "      background-color: #E2EBFA;\n",
              "      box-shadow: 0px 1px 2px rgba(60, 64, 67, 0.3), 0px 1px 3px 1px rgba(60, 64, 67, 0.15);\n",
              "      fill: #174EA6;\n",
              "    }\n",
              "\n",
              "    [theme=dark] .colab-df-convert {\n",
              "      background-color: #3B4455;\n",
              "      fill: #D2E3FC;\n",
              "    }\n",
              "\n",
              "    [theme=dark] .colab-df-convert:hover {\n",
              "      background-color: #434B5C;\n",
              "      box-shadow: 0px 1px 3px 1px rgba(0, 0, 0, 0.15);\n",
              "      filter: drop-shadow(0px 1px 2px rgba(0, 0, 0, 0.3));\n",
              "      fill: #FFFFFF;\n",
              "    }\n",
              "  </style>\n",
              "\n",
              "      <script>\n",
              "        const buttonEl =\n",
              "          document.querySelector('#df-6f5694dd-6bf0-47a0-a936-93cb607cf5ee button.colab-df-convert');\n",
              "        buttonEl.style.display =\n",
              "          google.colab.kernel.accessAllowed ? 'block' : 'none';\n",
              "\n",
              "        async function convertToInteractive(key) {\n",
              "          const element = document.querySelector('#df-6f5694dd-6bf0-47a0-a936-93cb607cf5ee');\n",
              "          const dataTable =\n",
              "            await google.colab.kernel.invokeFunction('convertToInteractive',\n",
              "                                                     [key], {});\n",
              "          if (!dataTable) return;\n",
              "\n",
              "          const docLinkHtml = 'Like what you see? Visit the ' +\n",
              "            '<a target=\"_blank\" href=https://colab.research.google.com/notebooks/data_table.ipynb>data table notebook</a>'\n",
              "            + ' to learn more about interactive tables.';\n",
              "          element.innerHTML = '';\n",
              "          dataTable['output_type'] = 'display_data';\n",
              "          await google.colab.output.renderOutput(dataTable, element);\n",
              "          const docLink = document.createElement('div');\n",
              "          docLink.innerHTML = docLinkHtml;\n",
              "          element.appendChild(docLink);\n",
              "        }\n",
              "      </script>\n",
              "    </div>\n",
              "  </div>\n",
              "  "
            ]
          },
          "metadata": {},
          "execution_count": 182
        }
      ]
    },
    {
      "cell_type": "code",
      "source": [
        "#Create X and y values (features and labels)\n",
        "X = insurance_one_hot.drop(\"charges\", axis = 1)\n",
        "y = insurance_one_hot[\"charges\"]"
      ],
      "metadata": {
        "id": "dpoR29HT84G1"
      },
      "execution_count": 183,
      "outputs": []
    },
    {
      "cell_type": "code",
      "source": [
        "#view X\n",
        "X.head()"
      ],
      "metadata": {
        "colab": {
          "base_uri": "https://localhost:8080/",
          "height": 270
        },
        "id": "VTOoTINA-cBx",
        "outputId": "1154da96-e73f-4515-cd98-ae410e9e8ebe"
      },
      "execution_count": 195,
      "outputs": [
        {
          "output_type": "execute_result",
          "data": {
            "text/plain": [
              "   age     bmi  children  sex_female  sex_male  smoker_no  smoker_yes  \\\n",
              "0   19  27.900         0           1         0          0           1   \n",
              "1   18  33.770         1           0         1          1           0   \n",
              "2   28  33.000         3           0         1          1           0   \n",
              "3   33  22.705         0           0         1          1           0   \n",
              "4   32  28.880         0           0         1          1           0   \n",
              "\n",
              "   region_northeast  region_northwest  region_southeast  region_southwest  \n",
              "0                 0                 0                 0                 1  \n",
              "1                 0                 0                 1                 0  \n",
              "2                 0                 0                 1                 0  \n",
              "3                 0                 1                 0                 0  \n",
              "4                 0                 1                 0                 0  "
            ],
            "text/html": [
              "\n",
              "  <div id=\"df-c9f52395-d24d-4462-a650-0b9dc96f913e\">\n",
              "    <div class=\"colab-df-container\">\n",
              "      <div>\n",
              "<style scoped>\n",
              "    .dataframe tbody tr th:only-of-type {\n",
              "        vertical-align: middle;\n",
              "    }\n",
              "\n",
              "    .dataframe tbody tr th {\n",
              "        vertical-align: top;\n",
              "    }\n",
              "\n",
              "    .dataframe thead th {\n",
              "        text-align: right;\n",
              "    }\n",
              "</style>\n",
              "<table border=\"1\" class=\"dataframe\">\n",
              "  <thead>\n",
              "    <tr style=\"text-align: right;\">\n",
              "      <th></th>\n",
              "      <th>age</th>\n",
              "      <th>bmi</th>\n",
              "      <th>children</th>\n",
              "      <th>sex_female</th>\n",
              "      <th>sex_male</th>\n",
              "      <th>smoker_no</th>\n",
              "      <th>smoker_yes</th>\n",
              "      <th>region_northeast</th>\n",
              "      <th>region_northwest</th>\n",
              "      <th>region_southeast</th>\n",
              "      <th>region_southwest</th>\n",
              "    </tr>\n",
              "  </thead>\n",
              "  <tbody>\n",
              "    <tr>\n",
              "      <th>0</th>\n",
              "      <td>19</td>\n",
              "      <td>27.900</td>\n",
              "      <td>0</td>\n",
              "      <td>1</td>\n",
              "      <td>0</td>\n",
              "      <td>0</td>\n",
              "      <td>1</td>\n",
              "      <td>0</td>\n",
              "      <td>0</td>\n",
              "      <td>0</td>\n",
              "      <td>1</td>\n",
              "    </tr>\n",
              "    <tr>\n",
              "      <th>1</th>\n",
              "      <td>18</td>\n",
              "      <td>33.770</td>\n",
              "      <td>1</td>\n",
              "      <td>0</td>\n",
              "      <td>1</td>\n",
              "      <td>1</td>\n",
              "      <td>0</td>\n",
              "      <td>0</td>\n",
              "      <td>0</td>\n",
              "      <td>1</td>\n",
              "      <td>0</td>\n",
              "    </tr>\n",
              "    <tr>\n",
              "      <th>2</th>\n",
              "      <td>28</td>\n",
              "      <td>33.000</td>\n",
              "      <td>3</td>\n",
              "      <td>0</td>\n",
              "      <td>1</td>\n",
              "      <td>1</td>\n",
              "      <td>0</td>\n",
              "      <td>0</td>\n",
              "      <td>0</td>\n",
              "      <td>1</td>\n",
              "      <td>0</td>\n",
              "    </tr>\n",
              "    <tr>\n",
              "      <th>3</th>\n",
              "      <td>33</td>\n",
              "      <td>22.705</td>\n",
              "      <td>0</td>\n",
              "      <td>0</td>\n",
              "      <td>1</td>\n",
              "      <td>1</td>\n",
              "      <td>0</td>\n",
              "      <td>0</td>\n",
              "      <td>1</td>\n",
              "      <td>0</td>\n",
              "      <td>0</td>\n",
              "    </tr>\n",
              "    <tr>\n",
              "      <th>4</th>\n",
              "      <td>32</td>\n",
              "      <td>28.880</td>\n",
              "      <td>0</td>\n",
              "      <td>0</td>\n",
              "      <td>1</td>\n",
              "      <td>1</td>\n",
              "      <td>0</td>\n",
              "      <td>0</td>\n",
              "      <td>1</td>\n",
              "      <td>0</td>\n",
              "      <td>0</td>\n",
              "    </tr>\n",
              "  </tbody>\n",
              "</table>\n",
              "</div>\n",
              "      <button class=\"colab-df-convert\" onclick=\"convertToInteractive('df-c9f52395-d24d-4462-a650-0b9dc96f913e')\"\n",
              "              title=\"Convert this dataframe to an interactive table.\"\n",
              "              style=\"display:none;\">\n",
              "        \n",
              "  <svg xmlns=\"http://www.w3.org/2000/svg\" height=\"24px\"viewBox=\"0 0 24 24\"\n",
              "       width=\"24px\">\n",
              "    <path d=\"M0 0h24v24H0V0z\" fill=\"none\"/>\n",
              "    <path d=\"M18.56 5.44l.94 2.06.94-2.06 2.06-.94-2.06-.94-.94-2.06-.94 2.06-2.06.94zm-11 1L8.5 8.5l.94-2.06 2.06-.94-2.06-.94L8.5 2.5l-.94 2.06-2.06.94zm10 10l.94 2.06.94-2.06 2.06-.94-2.06-.94-.94-2.06-.94 2.06-2.06.94z\"/><path d=\"M17.41 7.96l-1.37-1.37c-.4-.4-.92-.59-1.43-.59-.52 0-1.04.2-1.43.59L10.3 9.45l-7.72 7.72c-.78.78-.78 2.05 0 2.83L4 21.41c.39.39.9.59 1.41.59.51 0 1.02-.2 1.41-.59l7.78-7.78 2.81-2.81c.8-.78.8-2.07 0-2.86zM5.41 20L4 18.59l7.72-7.72 1.47 1.35L5.41 20z\"/>\n",
              "  </svg>\n",
              "      </button>\n",
              "      \n",
              "  <style>\n",
              "    .colab-df-container {\n",
              "      display:flex;\n",
              "      flex-wrap:wrap;\n",
              "      gap: 12px;\n",
              "    }\n",
              "\n",
              "    .colab-df-convert {\n",
              "      background-color: #E8F0FE;\n",
              "      border: none;\n",
              "      border-radius: 50%;\n",
              "      cursor: pointer;\n",
              "      display: none;\n",
              "      fill: #1967D2;\n",
              "      height: 32px;\n",
              "      padding: 0 0 0 0;\n",
              "      width: 32px;\n",
              "    }\n",
              "\n",
              "    .colab-df-convert:hover {\n",
              "      background-color: #E2EBFA;\n",
              "      box-shadow: 0px 1px 2px rgba(60, 64, 67, 0.3), 0px 1px 3px 1px rgba(60, 64, 67, 0.15);\n",
              "      fill: #174EA6;\n",
              "    }\n",
              "\n",
              "    [theme=dark] .colab-df-convert {\n",
              "      background-color: #3B4455;\n",
              "      fill: #D2E3FC;\n",
              "    }\n",
              "\n",
              "    [theme=dark] .colab-df-convert:hover {\n",
              "      background-color: #434B5C;\n",
              "      box-shadow: 0px 1px 3px 1px rgba(0, 0, 0, 0.15);\n",
              "      filter: drop-shadow(0px 1px 2px rgba(0, 0, 0, 0.3));\n",
              "      fill: #FFFFFF;\n",
              "    }\n",
              "  </style>\n",
              "\n",
              "      <script>\n",
              "        const buttonEl =\n",
              "          document.querySelector('#df-c9f52395-d24d-4462-a650-0b9dc96f913e button.colab-df-convert');\n",
              "        buttonEl.style.display =\n",
              "          google.colab.kernel.accessAllowed ? 'block' : 'none';\n",
              "\n",
              "        async function convertToInteractive(key) {\n",
              "          const element = document.querySelector('#df-c9f52395-d24d-4462-a650-0b9dc96f913e');\n",
              "          const dataTable =\n",
              "            await google.colab.kernel.invokeFunction('convertToInteractive',\n",
              "                                                     [key], {});\n",
              "          if (!dataTable) return;\n",
              "\n",
              "          const docLinkHtml = 'Like what you see? Visit the ' +\n",
              "            '<a target=\"_blank\" href=https://colab.research.google.com/notebooks/data_table.ipynb>data table notebook</a>'\n",
              "            + ' to learn more about interactive tables.';\n",
              "          element.innerHTML = '';\n",
              "          dataTable['output_type'] = 'display_data';\n",
              "          await google.colab.output.renderOutput(dataTable, element);\n",
              "          const docLink = document.createElement('div');\n",
              "          docLink.innerHTML = docLinkHtml;\n",
              "          element.appendChild(docLink);\n",
              "        }\n",
              "      </script>\n",
              "    </div>\n",
              "  </div>\n",
              "  "
            ]
          },
          "metadata": {},
          "execution_count": 195
        }
      ]
    },
    {
      "cell_type": "code",
      "source": [
        "#view y\n",
        "y.head()"
      ],
      "metadata": {
        "colab": {
          "base_uri": "https://localhost:8080/"
        },
        "id": "hvnZ7sci_CFV",
        "outputId": "e383ec15-6fed-4002-c142-17372366e6d3"
      },
      "execution_count": 185,
      "outputs": [
        {
          "output_type": "execute_result",
          "data": {
            "text/plain": [
              "0    16884.92400\n",
              "1     1725.55230\n",
              "2     4449.46200\n",
              "3    21984.47061\n",
              "4     3866.85520\n",
              "Name: charges, dtype: float64"
            ]
          },
          "metadata": {},
          "execution_count": 185
        }
      ]
    },
    {
      "cell_type": "code",
      "source": [
        "#Create training and test sets\n",
        "from sklearn.model_selection import train_test_split\n",
        "X_train, X_test, y_train, y_test = train_test_split(X, y, test_size = 0.2, random_state = 42)\n",
        "len(X), len(X_train), len(X_test), len(y), len(y_train), len(y_test)"
      ],
      "metadata": {
        "colab": {
          "base_uri": "https://localhost:8080/"
        },
        "id": "SeugPX5q-gIO",
        "outputId": "5a0bcbe6-509b-4270-c503-91cd5d6617c9"
      },
      "execution_count": 187,
      "outputs": [
        {
          "output_type": "execute_result",
          "data": {
            "text/plain": [
              "(1338, 1070, 268, 1338, 1070, 268)"
            ]
          },
          "metadata": {},
          "execution_count": 187
        }
      ]
    },
    {
      "cell_type": "code",
      "source": [
        "#Build a neural network (sort of like model_2 above)\n",
        "\n",
        "tf.random.set_seed(42)\n",
        "\n",
        "#1. create a model\n",
        "insurance_model = tf.keras.Sequential ([\n",
        "    tf.keras.layers.Dense(10),\n",
        "    \n",
        "    tf.keras.layers.Dense(1)\n",
        "])\n",
        "\n",
        "#2. compile the model\n",
        "\n",
        "insurance_model.compile(loss=tf.keras.losses.mae,\n",
        "                        optimizer = tf.keras.optimizers.SGD(),\n",
        "                        metrics = [\"mae\"])\n",
        "\n",
        "#3. fit the model\n",
        "insurance_model.fit(X_train, y_train, epochs = 100)\n"
      ],
      "metadata": {
        "colab": {
          "base_uri": "https://localhost:8080/"
        },
        "id": "lVYaJyJ_AXtN",
        "outputId": "469257d1-db48-4b8a-c09d-c9b88d3ecc8b"
      },
      "execution_count": 190,
      "outputs": [
        {
          "output_type": "stream",
          "name": "stdout",
          "text": [
            "Epoch 1/100\n",
            "34/34 [==============================] - 1s 5ms/step - loss: 8718.2881 - mae: 8718.2881\n",
            "Epoch 2/100\n",
            "34/34 [==============================] - 0s 2ms/step - loss: 7870.3589 - mae: 7870.3589\n",
            "Epoch 3/100\n",
            "34/34 [==============================] - 0s 2ms/step - loss: 7598.5474 - mae: 7598.5474\n",
            "Epoch 4/100\n",
            "34/34 [==============================] - 0s 2ms/step - loss: 7686.4185 - mae: 7686.4185\n",
            "Epoch 5/100\n",
            "34/34 [==============================] - 0s 2ms/step - loss: 7689.8940 - mae: 7689.8940\n",
            "Epoch 6/100\n",
            "34/34 [==============================] - 0s 2ms/step - loss: 7644.7061 - mae: 7644.7061\n",
            "Epoch 7/100\n",
            "34/34 [==============================] - 0s 3ms/step - loss: 7526.2646 - mae: 7526.2646\n",
            "Epoch 8/100\n",
            "34/34 [==============================] - 0s 2ms/step - loss: 7748.1743 - mae: 7748.1743\n",
            "Epoch 9/100\n",
            "34/34 [==============================] - 0s 2ms/step - loss: 7489.1587 - mae: 7489.1587\n",
            "Epoch 10/100\n",
            "34/34 [==============================] - 0s 2ms/step - loss: 7682.4824 - mae: 7682.4824\n",
            "Epoch 11/100\n",
            "34/34 [==============================] - 0s 2ms/step - loss: 7519.9565 - mae: 7519.9565\n",
            "Epoch 12/100\n",
            "34/34 [==============================] - 0s 2ms/step - loss: 7471.4849 - mae: 7471.4849\n",
            "Epoch 13/100\n",
            "34/34 [==============================] - 0s 2ms/step - loss: 7682.6147 - mae: 7682.6147\n",
            "Epoch 14/100\n",
            "34/34 [==============================] - 0s 2ms/step - loss: 7845.6758 - mae: 7845.6758\n",
            "Epoch 15/100\n",
            "34/34 [==============================] - 0s 2ms/step - loss: 7657.3096 - mae: 7657.3096\n",
            "Epoch 16/100\n",
            "34/34 [==============================] - 0s 2ms/step - loss: 7736.7402 - mae: 7736.7402\n",
            "Epoch 17/100\n",
            "34/34 [==============================] - 0s 3ms/step - loss: 7615.0278 - mae: 7615.0278\n",
            "Epoch 18/100\n",
            "34/34 [==============================] - 0s 2ms/step - loss: 7850.0000 - mae: 7850.0000\n",
            "Epoch 19/100\n",
            "34/34 [==============================] - 0s 2ms/step - loss: 7688.8262 - mae: 7688.8262\n",
            "Epoch 20/100\n",
            "34/34 [==============================] - 0s 2ms/step - loss: 7959.3530 - mae: 7959.3530\n",
            "Epoch 21/100\n",
            "34/34 [==============================] - 0s 2ms/step - loss: 7536.3345 - mae: 7536.3345\n",
            "Epoch 22/100\n",
            "34/34 [==============================] - 0s 2ms/step - loss: 7929.5234 - mae: 7929.5234\n",
            "Epoch 23/100\n",
            "34/34 [==============================] - 0s 2ms/step - loss: 7733.8135 - mae: 7733.8135\n",
            "Epoch 24/100\n",
            "34/34 [==============================] - 0s 2ms/step - loss: 7567.6929 - mae: 7567.6929\n",
            "Epoch 25/100\n",
            "34/34 [==============================] - 0s 2ms/step - loss: 7688.5049 - mae: 7688.5049\n",
            "Epoch 26/100\n",
            "34/34 [==============================] - 0s 2ms/step - loss: 7617.6758 - mae: 7617.6758\n",
            "Epoch 27/100\n",
            "34/34 [==============================] - 0s 2ms/step - loss: 7488.8633 - mae: 7488.8633\n",
            "Epoch 28/100\n",
            "34/34 [==============================] - 0s 2ms/step - loss: 7492.6055 - mae: 7492.6055\n",
            "Epoch 29/100\n",
            "34/34 [==============================] - 0s 2ms/step - loss: 7653.7285 - mae: 7653.7285\n",
            "Epoch 30/100\n",
            "34/34 [==============================] - 0s 2ms/step - loss: 7623.5708 - mae: 7623.5708\n",
            "Epoch 31/100\n",
            "34/34 [==============================] - 0s 2ms/step - loss: 7574.7759 - mae: 7574.7759\n",
            "Epoch 32/100\n",
            "34/34 [==============================] - 0s 2ms/step - loss: 7641.6753 - mae: 7641.6753\n",
            "Epoch 33/100\n",
            "34/34 [==============================] - 0s 2ms/step - loss: 7369.4902 - mae: 7369.4902\n",
            "Epoch 34/100\n",
            "34/34 [==============================] - 0s 2ms/step - loss: 7492.6685 - mae: 7492.6685\n",
            "Epoch 35/100\n",
            "34/34 [==============================] - 0s 2ms/step - loss: 7404.1680 - mae: 7404.1680\n",
            "Epoch 36/100\n",
            "34/34 [==============================] - 0s 2ms/step - loss: 7670.0625 - mae: 7670.0625\n",
            "Epoch 37/100\n",
            "34/34 [==============================] - 0s 2ms/step - loss: 7565.7285 - mae: 7565.7285\n",
            "Epoch 38/100\n",
            "34/34 [==============================] - 0s 2ms/step - loss: 7520.1948 - mae: 7520.1948\n",
            "Epoch 39/100\n",
            "34/34 [==============================] - 0s 2ms/step - loss: 7536.0122 - mae: 7536.0122\n",
            "Epoch 40/100\n",
            "34/34 [==============================] - 0s 2ms/step - loss: 7215.2261 - mae: 7215.2261\n",
            "Epoch 41/100\n",
            "34/34 [==============================] - 0s 2ms/step - loss: 7763.0381 - mae: 7763.0381\n",
            "Epoch 42/100\n",
            "34/34 [==============================] - 0s 2ms/step - loss: 7707.1680 - mae: 7707.1680\n",
            "Epoch 43/100\n",
            "34/34 [==============================] - 0s 2ms/step - loss: 7753.3701 - mae: 7753.3701\n",
            "Epoch 44/100\n",
            "34/34 [==============================] - 0s 2ms/step - loss: 7504.6006 - mae: 7504.6006\n",
            "Epoch 45/100\n",
            "34/34 [==============================] - 0s 2ms/step - loss: 7489.7656 - mae: 7489.7656\n",
            "Epoch 46/100\n",
            "34/34 [==============================] - 0s 2ms/step - loss: 7458.2378 - mae: 7458.2378\n",
            "Epoch 47/100\n",
            "34/34 [==============================] - 0s 2ms/step - loss: 7440.9102 - mae: 7440.9102\n",
            "Epoch 48/100\n",
            "34/34 [==============================] - 0s 2ms/step - loss: 7532.9082 - mae: 7532.9082\n",
            "Epoch 49/100\n",
            "34/34 [==============================] - 0s 2ms/step - loss: 7540.5376 - mae: 7540.5376\n",
            "Epoch 50/100\n",
            "34/34 [==============================] - 0s 2ms/step - loss: 7485.9116 - mae: 7485.9116\n",
            "Epoch 51/100\n",
            "34/34 [==============================] - 0s 2ms/step - loss: 7392.4468 - mae: 7392.4468\n",
            "Epoch 52/100\n",
            "34/34 [==============================] - 0s 2ms/step - loss: 7541.0078 - mae: 7541.0078\n",
            "Epoch 53/100\n",
            "34/34 [==============================] - 0s 2ms/step - loss: 7620.9248 - mae: 7620.9248\n",
            "Epoch 54/100\n",
            "34/34 [==============================] - 0s 2ms/step - loss: 7354.0601 - mae: 7354.0601\n",
            "Epoch 55/100\n",
            "34/34 [==============================] - 0s 2ms/step - loss: 7201.2617 - mae: 7201.2617\n",
            "Epoch 56/100\n",
            "34/34 [==============================] - 0s 2ms/step - loss: 7408.9482 - mae: 7408.9482\n",
            "Epoch 57/100\n",
            "34/34 [==============================] - 0s 2ms/step - loss: 7532.2314 - mae: 7532.2314\n",
            "Epoch 58/100\n",
            "34/34 [==============================] - 0s 2ms/step - loss: 7536.2100 - mae: 7536.2100\n",
            "Epoch 59/100\n",
            "34/34 [==============================] - 0s 2ms/step - loss: 7628.5503 - mae: 7628.5503\n",
            "Epoch 60/100\n",
            "34/34 [==============================] - 0s 2ms/step - loss: 7412.1895 - mae: 7412.1895\n",
            "Epoch 61/100\n",
            "34/34 [==============================] - 0s 2ms/step - loss: 7580.0356 - mae: 7580.0356\n",
            "Epoch 62/100\n",
            "34/34 [==============================] - 0s 2ms/step - loss: 7123.6084 - mae: 7123.6084\n",
            "Epoch 63/100\n",
            "34/34 [==============================] - 0s 2ms/step - loss: 7311.5991 - mae: 7311.5991\n",
            "Epoch 64/100\n",
            "34/34 [==============================] - 0s 2ms/step - loss: 7469.7969 - mae: 7469.7969\n",
            "Epoch 65/100\n",
            "34/34 [==============================] - 0s 2ms/step - loss: 7598.0273 - mae: 7598.0273\n",
            "Epoch 66/100\n",
            "34/34 [==============================] - 0s 2ms/step - loss: 7311.5742 - mae: 7311.5742\n",
            "Epoch 67/100\n",
            "34/34 [==============================] - 0s 2ms/step - loss: 7308.5205 - mae: 7308.5205\n",
            "Epoch 68/100\n",
            "34/34 [==============================] - 0s 2ms/step - loss: 7524.5801 - mae: 7524.5801\n",
            "Epoch 69/100\n",
            "34/34 [==============================] - 0s 2ms/step - loss: 7523.9727 - mae: 7523.9727\n",
            "Epoch 70/100\n",
            "34/34 [==============================] - 0s 2ms/step - loss: 7509.8296 - mae: 7509.8296\n",
            "Epoch 71/100\n",
            "34/34 [==============================] - 0s 2ms/step - loss: 7271.2036 - mae: 7271.2036\n",
            "Epoch 72/100\n",
            "34/34 [==============================] - 0s 2ms/step - loss: 7343.1265 - mae: 7343.1265\n",
            "Epoch 73/100\n",
            "34/34 [==============================] - 0s 2ms/step - loss: 7354.8252 - mae: 7354.8252\n",
            "Epoch 74/100\n",
            "34/34 [==============================] - 0s 2ms/step - loss: 7511.6177 - mae: 7511.6177\n",
            "Epoch 75/100\n",
            "34/34 [==============================] - 0s 2ms/step - loss: 7223.2847 - mae: 7223.2847\n",
            "Epoch 76/100\n",
            "34/34 [==============================] - 0s 2ms/step - loss: 7177.4951 - mae: 7177.4951\n",
            "Epoch 77/100\n",
            "34/34 [==============================] - 0s 2ms/step - loss: 7257.0596 - mae: 7257.0596\n",
            "Epoch 78/100\n",
            "34/34 [==============================] - 0s 2ms/step - loss: 7330.6143 - mae: 7330.6143\n",
            "Epoch 79/100\n",
            "34/34 [==============================] - 0s 2ms/step - loss: 7471.0000 - mae: 7471.0000\n",
            "Epoch 80/100\n",
            "34/34 [==============================] - 0s 2ms/step - loss: 7373.0522 - mae: 7373.0522\n",
            "Epoch 81/100\n",
            "34/34 [==============================] - 0s 2ms/step - loss: 7155.6743 - mae: 7155.6743\n",
            "Epoch 82/100\n",
            "34/34 [==============================] - 0s 2ms/step - loss: 7173.8633 - mae: 7173.8633\n",
            "Epoch 83/100\n",
            "34/34 [==============================] - 0s 2ms/step - loss: 7482.7671 - mae: 7482.7671\n",
            "Epoch 84/100\n",
            "34/34 [==============================] - 0s 2ms/step - loss: 7423.3770 - mae: 7423.3770\n",
            "Epoch 85/100\n",
            "34/34 [==============================] - 0s 2ms/step - loss: 7544.9014 - mae: 7544.9014\n",
            "Epoch 86/100\n",
            "34/34 [==============================] - 0s 2ms/step - loss: 7399.0820 - mae: 7399.0820\n",
            "Epoch 87/100\n",
            "34/34 [==============================] - 0s 2ms/step - loss: 7277.7637 - mae: 7277.7637\n",
            "Epoch 88/100\n",
            "34/34 [==============================] - 0s 2ms/step - loss: 7229.4253 - mae: 7229.4253\n",
            "Epoch 89/100\n",
            "34/34 [==============================] - 0s 2ms/step - loss: 7304.3296 - mae: 7304.3296\n",
            "Epoch 90/100\n",
            "34/34 [==============================] - 0s 2ms/step - loss: 6985.2944 - mae: 6985.2944\n",
            "Epoch 91/100\n",
            "34/34 [==============================] - 0s 2ms/step - loss: 7228.2300 - mae: 7228.2300\n",
            "Epoch 92/100\n",
            "34/34 [==============================] - 0s 2ms/step - loss: 7229.3491 - mae: 7229.3491\n",
            "Epoch 93/100\n",
            "34/34 [==============================] - 0s 2ms/step - loss: 7459.3477 - mae: 7459.3477\n",
            "Epoch 94/100\n",
            "34/34 [==============================] - 0s 2ms/step - loss: 7191.8018 - mae: 7191.8018\n",
            "Epoch 95/100\n",
            "34/34 [==============================] - 0s 2ms/step - loss: 7168.6162 - mae: 7168.6162\n",
            "Epoch 96/100\n",
            "34/34 [==============================] - 0s 2ms/step - loss: 7148.6807 - mae: 7148.6807\n",
            "Epoch 97/100\n",
            "34/34 [==============================] - 0s 2ms/step - loss: 7104.8818 - mae: 7104.8818\n",
            "Epoch 98/100\n",
            "34/34 [==============================] - 0s 2ms/step - loss: 7326.3906 - mae: 7326.3906\n",
            "Epoch 99/100\n",
            "34/34 [==============================] - 0s 2ms/step - loss: 7402.5352 - mae: 7402.5352\n",
            "Epoch 100/100\n",
            "34/34 [==============================] - 0s 2ms/step - loss: 7216.0708 - mae: 7216.0708\n"
          ]
        },
        {
          "output_type": "execute_result",
          "data": {
            "text/plain": [
              "<keras.callbacks.History at 0x7ff9ad183640>"
            ]
          },
          "metadata": {},
          "execution_count": 190
        }
      ]
    },
    {
      "cell_type": "code",
      "source": [
        "#check the results of the insurance model on the test data\n",
        "insurance_model.evaluate(X_test, y_test)"
      ],
      "metadata": {
        "colab": {
          "base_uri": "https://localhost:8080/"
        },
        "id": "xFVjsrZTBkZe",
        "outputId": "9f809ab5-ee44-4ec0-bed6-7405801dd741"
      },
      "execution_count": 191,
      "outputs": [
        {
          "output_type": "stream",
          "name": "stdout",
          "text": [
            "9/9 [==============================] - 0s 2ms/step - loss: 7431.8447 - mae: 7431.8447\n"
          ]
        },
        {
          "output_type": "execute_result",
          "data": {
            "text/plain": [
              "[7431.8447265625, 7431.8447265625]"
            ]
          },
          "metadata": {},
          "execution_count": 191
        }
      ]
    },
    {
      "cell_type": "code",
      "source": [
        "y_train.median(), y_train.mean()"
      ],
      "metadata": {
        "colab": {
          "base_uri": "https://localhost:8080/"
        },
        "id": "UUbjWu8pCHDr",
        "outputId": "0b3fb262-8367-471a-8874-fd3c40f8ebb3"
      },
      "execution_count": 194,
      "outputs": [
        {
          "output_type": "execute_result",
          "data": {
            "text/plain": [
              "(9575.4421, 13346.089736364485)"
            ]
          },
          "metadata": {},
          "execution_count": 194
        }
      ]
    },
    {
      "cell_type": "markdown",
      "source": [
        "right now it looks like our model isnt performing too well => improve it\n",
        "\n",
        "To (try) improve our model, we'll run 2 experiments:\n",
        "1. add an extra layer with more hidden units and use the Adam optimizer\n",
        "2. same as above but train for longer 200 epochs\n",
        "3. insert your own experments here"
      ],
      "metadata": {
        "id": "wchMXvzDCQQm"
      }
    },
    {
      "cell_type": "code",
      "source": [
        "#set random seed\n",
        "tf.random.set_seed(42)\n",
        "\n",
        "#1. create the model\n",
        "insurance_model_2 = tf.keras.Sequential ([\n",
        "    tf.keras.layers.Dense(100),\n",
        "    tf.keras.layers.Dense(10),\n",
        "    tf.keras.layers.Dense(1)\n",
        "])\n",
        "\n",
        "\n",
        "#2. compile our model\n",
        "insurance_model_2.compile(loss = tf.keras.losses.mae,\n",
        "                           optimizer = tf.keras.optimizers.legacy.Adam(),\n",
        "                           metrics = [\"mae\"])\n",
        "\n",
        "\n",
        "#3. fitting the model\n",
        "\n",
        "insurance_model_2.fit(X_train, y_train, epochs = 100, verbose = 1)"
      ],
      "metadata": {
        "colab": {
          "base_uri": "https://localhost:8080/"
        },
        "id": "cW2zO4YTC3Oc",
        "outputId": "8cbb3f6f-d346-4702-bf0f-c63b6873b23d"
      },
      "execution_count": 203,
      "outputs": [
        {
          "output_type": "stream",
          "name": "stdout",
          "text": [
            "Epoch 1/100\n",
            "34/34 [==============================] - 1s 3ms/step - loss: 13277.0703 - mae: 13277.0703\n",
            "Epoch 2/100\n",
            "34/34 [==============================] - 0s 2ms/step - loss: 13122.2402 - mae: 13122.2402\n",
            "Epoch 3/100\n",
            "34/34 [==============================] - 0s 2ms/step - loss: 12803.4717 - mae: 12803.4717\n",
            "Epoch 4/100\n",
            "34/34 [==============================] - 0s 2ms/step - loss: 12175.9873 - mae: 12175.9873\n",
            "Epoch 5/100\n",
            "34/34 [==============================] - 0s 2ms/step - loss: 11106.0469 - mae: 11106.0469\n",
            "Epoch 6/100\n",
            "34/34 [==============================] - 0s 2ms/step - loss: 9686.5830 - mae: 9686.5830\n",
            "Epoch 7/100\n",
            "34/34 [==============================] - 0s 2ms/step - loss: 8319.6221 - mae: 8319.6221\n",
            "Epoch 8/100\n",
            "34/34 [==============================] - 0s 3ms/step - loss: 7588.2168 - mae: 7588.2168\n",
            "Epoch 9/100\n",
            "34/34 [==============================] - 0s 3ms/step - loss: 7444.6924 - mae: 7444.6924\n",
            "Epoch 10/100\n",
            "34/34 [==============================] - 0s 2ms/step - loss: 7422.1997 - mae: 7422.1997\n",
            "Epoch 11/100\n",
            "34/34 [==============================] - 0s 2ms/step - loss: 7403.7021 - mae: 7403.7021\n",
            "Epoch 12/100\n",
            "34/34 [==============================] - 0s 2ms/step - loss: 7381.9575 - mae: 7381.9575\n",
            "Epoch 13/100\n",
            "34/34 [==============================] - 0s 3ms/step - loss: 7361.8857 - mae: 7361.8857\n",
            "Epoch 14/100\n",
            "34/34 [==============================] - 0s 3ms/step - loss: 7339.8740 - mae: 7339.8740\n",
            "Epoch 15/100\n",
            "34/34 [==============================] - 0s 3ms/step - loss: 7321.0894 - mae: 7321.0894\n",
            "Epoch 16/100\n",
            "34/34 [==============================] - 0s 2ms/step - loss: 7298.6646 - mae: 7298.6646\n",
            "Epoch 17/100\n",
            "34/34 [==============================] - 0s 3ms/step - loss: 7279.3896 - mae: 7279.3896\n",
            "Epoch 18/100\n",
            "34/34 [==============================] - 0s 2ms/step - loss: 7256.0659 - mae: 7256.0659\n",
            "Epoch 19/100\n",
            "34/34 [==============================] - 0s 3ms/step - loss: 7234.3267 - mae: 7234.3267\n",
            "Epoch 20/100\n",
            "34/34 [==============================] - 0s 3ms/step - loss: 7211.6216 - mae: 7211.6216\n",
            "Epoch 21/100\n",
            "34/34 [==============================] - 0s 3ms/step - loss: 7192.7344 - mae: 7192.7344\n",
            "Epoch 22/100\n",
            "34/34 [==============================] - 0s 2ms/step - loss: 7165.9341 - mae: 7165.9341\n",
            "Epoch 23/100\n",
            "34/34 [==============================] - 0s 2ms/step - loss: 7141.5713 - mae: 7141.5713\n",
            "Epoch 24/100\n",
            "34/34 [==============================] - 0s 3ms/step - loss: 7117.4429 - mae: 7117.4429\n",
            "Epoch 25/100\n",
            "34/34 [==============================] - 0s 2ms/step - loss: 7099.0967 - mae: 7099.0967\n",
            "Epoch 26/100\n",
            "34/34 [==============================] - 0s 2ms/step - loss: 7068.8906 - mae: 7068.8906\n",
            "Epoch 27/100\n",
            "34/34 [==============================] - 0s 2ms/step - loss: 7040.4644 - mae: 7040.4644\n",
            "Epoch 28/100\n",
            "34/34 [==============================] - 0s 2ms/step - loss: 7012.9531 - mae: 7012.9531\n",
            "Epoch 29/100\n",
            "34/34 [==============================] - 0s 3ms/step - loss: 6985.3350 - mae: 6985.3350\n",
            "Epoch 30/100\n",
            "34/34 [==============================] - 0s 3ms/step - loss: 6958.7744 - mae: 6958.7744\n",
            "Epoch 31/100\n",
            "34/34 [==============================] - 0s 3ms/step - loss: 6927.8643 - mae: 6927.8643\n",
            "Epoch 32/100\n",
            "34/34 [==============================] - 0s 3ms/step - loss: 6900.8789 - mae: 6900.8789\n",
            "Epoch 33/100\n",
            "34/34 [==============================] - 0s 3ms/step - loss: 6870.2749 - mae: 6870.2749\n",
            "Epoch 34/100\n",
            "34/34 [==============================] - 0s 3ms/step - loss: 6838.0264 - mae: 6838.0264\n",
            "Epoch 35/100\n",
            "34/34 [==============================] - 0s 2ms/step - loss: 6805.6348 - mae: 6805.6348\n",
            "Epoch 36/100\n",
            "34/34 [==============================] - 0s 2ms/step - loss: 6771.9614 - mae: 6771.9614\n",
            "Epoch 37/100\n",
            "34/34 [==============================] - 0s 2ms/step - loss: 6736.6440 - mae: 6736.6440\n",
            "Epoch 38/100\n",
            "34/34 [==============================] - 0s 2ms/step - loss: 6704.3247 - mae: 6704.3247\n",
            "Epoch 39/100\n",
            "34/34 [==============================] - 0s 3ms/step - loss: 6666.3174 - mae: 6666.3174\n",
            "Epoch 40/100\n",
            "34/34 [==============================] - 0s 2ms/step - loss: 6631.4341 - mae: 6631.4341\n",
            "Epoch 41/100\n",
            "34/34 [==============================] - 0s 3ms/step - loss: 6597.4297 - mae: 6597.4297\n",
            "Epoch 42/100\n",
            "34/34 [==============================] - 0s 2ms/step - loss: 6568.2183 - mae: 6568.2183\n",
            "Epoch 43/100\n",
            "34/34 [==============================] - 0s 2ms/step - loss: 6537.2729 - mae: 6537.2729\n",
            "Epoch 44/100\n",
            "34/34 [==============================] - 0s 2ms/step - loss: 6513.2822 - mae: 6513.2822\n",
            "Epoch 45/100\n",
            "34/34 [==============================] - 0s 3ms/step - loss: 6496.6646 - mae: 6496.6646\n",
            "Epoch 46/100\n",
            "34/34 [==============================] - 0s 2ms/step - loss: 6478.2632 - mae: 6478.2632\n",
            "Epoch 47/100\n",
            "34/34 [==============================] - 0s 2ms/step - loss: 6461.8198 - mae: 6461.8198\n",
            "Epoch 48/100\n",
            "34/34 [==============================] - 0s 3ms/step - loss: 6446.8911 - mae: 6446.8911\n",
            "Epoch 49/100\n",
            "34/34 [==============================] - 0s 2ms/step - loss: 6433.7656 - mae: 6433.7656\n",
            "Epoch 50/100\n",
            "34/34 [==============================] - 0s 2ms/step - loss: 6419.8643 - mae: 6419.8643\n",
            "Epoch 51/100\n",
            "34/34 [==============================] - 0s 3ms/step - loss: 6406.0737 - mae: 6406.0737\n",
            "Epoch 52/100\n",
            "34/34 [==============================] - 0s 4ms/step - loss: 6395.0015 - mae: 6395.0015\n",
            "Epoch 53/100\n",
            "34/34 [==============================] - 0s 5ms/step - loss: 6380.8926 - mae: 6380.8926\n",
            "Epoch 54/100\n",
            "34/34 [==============================] - 0s 4ms/step - loss: 6367.0146 - mae: 6367.0146\n",
            "Epoch 55/100\n",
            "34/34 [==============================] - 0s 4ms/step - loss: 6353.9189 - mae: 6353.9189\n",
            "Epoch 56/100\n",
            "34/34 [==============================] - 0s 4ms/step - loss: 6339.4043 - mae: 6339.4043\n",
            "Epoch 57/100\n",
            "34/34 [==============================] - 0s 5ms/step - loss: 6327.3232 - mae: 6327.3232\n",
            "Epoch 58/100\n",
            "34/34 [==============================] - 0s 5ms/step - loss: 6312.8423 - mae: 6312.8423\n",
            "Epoch 59/100\n",
            "34/34 [==============================] - 0s 5ms/step - loss: 6298.0176 - mae: 6298.0176\n",
            "Epoch 60/100\n",
            "34/34 [==============================] - 0s 4ms/step - loss: 6287.7031 - mae: 6287.7031\n",
            "Epoch 61/100\n",
            "34/34 [==============================] - 0s 4ms/step - loss: 6267.6831 - mae: 6267.6831\n",
            "Epoch 62/100\n",
            "34/34 [==============================] - 0s 4ms/step - loss: 6256.2861 - mae: 6256.2861\n",
            "Epoch 63/100\n",
            "34/34 [==============================] - 0s 4ms/step - loss: 6237.8052 - mae: 6237.8052\n",
            "Epoch 64/100\n",
            "34/34 [==============================] - 0s 4ms/step - loss: 6220.7925 - mae: 6220.7925\n",
            "Epoch 65/100\n",
            "34/34 [==============================] - 0s 5ms/step - loss: 6204.2881 - mae: 6204.2881\n",
            "Epoch 66/100\n",
            "34/34 [==============================] - 0s 5ms/step - loss: 6187.1245 - mae: 6187.1245\n",
            "Epoch 67/100\n",
            "34/34 [==============================] - 0s 4ms/step - loss: 6175.0508 - mae: 6175.0508\n",
            "Epoch 68/100\n",
            "34/34 [==============================] - 0s 3ms/step - loss: 6152.3423 - mae: 6152.3423\n",
            "Epoch 69/100\n",
            "34/34 [==============================] - 0s 4ms/step - loss: 6136.6016 - mae: 6136.6016\n",
            "Epoch 70/100\n",
            "34/34 [==============================] - 0s 4ms/step - loss: 6116.4751 - mae: 6116.4751\n",
            "Epoch 71/100\n",
            "34/34 [==============================] - 0s 4ms/step - loss: 6096.7275 - mae: 6096.7275\n",
            "Epoch 72/100\n",
            "34/34 [==============================] - 0s 4ms/step - loss: 6078.8291 - mae: 6078.8291\n",
            "Epoch 73/100\n",
            "34/34 [==============================] - 0s 4ms/step - loss: 6063.6680 - mae: 6063.6680\n",
            "Epoch 74/100\n",
            "34/34 [==============================] - 0s 4ms/step - loss: 6036.6938 - mae: 6036.6938\n",
            "Epoch 75/100\n",
            "34/34 [==============================] - 0s 4ms/step - loss: 6015.5449 - mae: 6015.5449\n",
            "Epoch 76/100\n",
            "34/34 [==============================] - 0s 4ms/step - loss: 6002.3105 - mae: 6002.3105\n",
            "Epoch 77/100\n",
            "34/34 [==============================] - 0s 4ms/step - loss: 5968.8599 - mae: 5968.8599\n",
            "Epoch 78/100\n",
            "34/34 [==============================] - 0s 5ms/step - loss: 5946.5610 - mae: 5946.5610\n",
            "Epoch 79/100\n",
            "34/34 [==============================] - 0s 4ms/step - loss: 5922.2881 - mae: 5922.2881\n",
            "Epoch 80/100\n",
            "34/34 [==============================] - 0s 4ms/step - loss: 5895.5234 - mae: 5895.5234\n",
            "Epoch 81/100\n",
            "34/34 [==============================] - 0s 4ms/step - loss: 5869.6582 - mae: 5869.6582\n",
            "Epoch 82/100\n",
            "34/34 [==============================] - 0s 4ms/step - loss: 5842.7314 - mae: 5842.7314\n",
            "Epoch 83/100\n",
            "34/34 [==============================] - 0s 2ms/step - loss: 5814.2456 - mae: 5814.2456\n",
            "Epoch 84/100\n",
            "34/34 [==============================] - 0s 2ms/step - loss: 5781.8369 - mae: 5781.8369\n",
            "Epoch 85/100\n",
            "34/34 [==============================] - 0s 2ms/step - loss: 5754.7793 - mae: 5754.7793\n",
            "Epoch 86/100\n",
            "34/34 [==============================] - 0s 2ms/step - loss: 5720.7939 - mae: 5720.7939\n",
            "Epoch 87/100\n",
            "34/34 [==============================] - 0s 3ms/step - loss: 5685.5381 - mae: 5685.5381\n",
            "Epoch 88/100\n",
            "34/34 [==============================] - 0s 3ms/step - loss: 5651.4814 - mae: 5651.4814\n",
            "Epoch 89/100\n",
            "34/34 [==============================] - 0s 3ms/step - loss: 5613.8188 - mae: 5613.8188\n",
            "Epoch 90/100\n",
            "34/34 [==============================] - 0s 3ms/step - loss: 5573.1821 - mae: 5573.1821\n",
            "Epoch 91/100\n",
            "34/34 [==============================] - 0s 2ms/step - loss: 5538.7705 - mae: 5538.7705\n",
            "Epoch 92/100\n",
            "34/34 [==============================] - 0s 2ms/step - loss: 5489.2974 - mae: 5489.2974\n",
            "Epoch 93/100\n",
            "34/34 [==============================] - 0s 2ms/step - loss: 5449.6543 - mae: 5449.6543\n",
            "Epoch 94/100\n",
            "34/34 [==============================] - 0s 2ms/step - loss: 5405.0552 - mae: 5405.0552\n",
            "Epoch 95/100\n",
            "34/34 [==============================] - 0s 3ms/step - loss: 5353.7432 - mae: 5353.7432\n",
            "Epoch 96/100\n",
            "34/34 [==============================] - 0s 3ms/step - loss: 5308.9653 - mae: 5308.9653\n",
            "Epoch 97/100\n",
            "34/34 [==============================] - 0s 3ms/step - loss: 5256.4839 - mae: 5256.4839\n",
            "Epoch 98/100\n",
            "34/34 [==============================] - 0s 3ms/step - loss: 5196.9897 - mae: 5196.9897\n",
            "Epoch 99/100\n",
            "34/34 [==============================] - 0s 3ms/step - loss: 5138.6846 - mae: 5138.6846\n",
            "Epoch 100/100\n",
            "34/34 [==============================] - 0s 2ms/step - loss: 5082.6987 - mae: 5082.6987\n"
          ]
        },
        {
          "output_type": "execute_result",
          "data": {
            "text/plain": [
              "<keras.callbacks.History at 0x7ff9acce6f10>"
            ]
          },
          "metadata": {},
          "execution_count": 203
        }
      ]
    },
    {
      "cell_type": "code",
      "source": [
        "#Evaluate the larger model\n",
        "insurance_model_2.evaluate(X_test, y_test)"
      ],
      "metadata": {
        "colab": {
          "base_uri": "https://localhost:8080/"
        },
        "id": "mUdIoDt_DMiz",
        "outputId": "0e914880-86ee-490d-aa06-cd9351af144a"
      },
      "execution_count": 204,
      "outputs": [
        {
          "output_type": "stream",
          "name": "stdout",
          "text": [
            "9/9 [==============================] - 0s 3ms/step - loss: 4951.7119 - mae: 4951.7119\n"
          ]
        },
        {
          "output_type": "execute_result",
          "data": {
            "text/plain": [
              "[4951.7119140625, 4951.7119140625]"
            ]
          },
          "metadata": {},
          "execution_count": 204
        }
      ]
    },
    {
      "cell_type": "code",
      "source": [
        "#Set the random seed\n",
        "tf.random.set_seed(42)\n",
        "\n",
        "#1. create the model\n",
        "insurance_model_3 = tf.keras.Sequential([\n",
        "    tf.keras.layers.Dense(10),\n",
        "    tf.keras.layers.Dense(100),\n",
        "    tf.keras.layers.Dense(1)\n",
        "])\n",
        "\n",
        "#2. Compile the model\n",
        "insurance_model_3.compile(loss = tf.keras.losses.mae,\n",
        "                          optimizer = tf.keras.optimizers.Adam(lr = 0.01),\n",
        "                          metrics = [\"mae\"])\n",
        "\n",
        "#3. Fit the model\n",
        "history = insurance_model_3.fit(X_train, y_train, epochs = 500)"
      ],
      "metadata": {
        "colab": {
          "base_uri": "https://localhost:8080/"
        },
        "id": "Mx7IX5TwE-FN",
        "outputId": "632b34e4-fc85-42a9-fd62-35bf8db392e5"
      },
      "execution_count": 212,
      "outputs": [
        {
          "output_type": "stream",
          "name": "stderr",
          "text": [
            "WARNING:absl:`lr` is deprecated in Keras optimizer, please use `learning_rate` or use the legacy optimizer, e.g.,tf.keras.optimizers.legacy.Adam.\n"
          ]
        },
        {
          "output_type": "stream",
          "name": "stdout",
          "text": [
            "Epoch 1/500\n",
            "34/34 [==============================] - 1s 3ms/step - loss: 13318.3926 - mae: 13318.3926\n",
            "Epoch 2/500\n",
            "34/34 [==============================] - 0s 2ms/step - loss: 13223.6777 - mae: 13223.6777\n",
            "Epoch 3/500\n",
            "34/34 [==============================] - 0s 2ms/step - loss: 12990.8125 - mae: 12990.8125\n",
            "Epoch 4/500\n",
            "34/34 [==============================] - 0s 2ms/step - loss: 12487.1045 - mae: 12487.1045\n",
            "Epoch 5/500\n",
            "34/34 [==============================] - 0s 2ms/step - loss: 11558.9873 - mae: 11558.9873\n",
            "Epoch 6/500\n",
            "34/34 [==============================] - 0s 2ms/step - loss: 10151.0234 - mae: 10151.0234\n",
            "Epoch 7/500\n",
            "34/34 [==============================] - 0s 2ms/step - loss: 8605.9932 - mae: 8605.9932\n",
            "Epoch 8/500\n",
            "34/34 [==============================] - 0s 2ms/step - loss: 7581.0752 - mae: 7581.0752\n",
            "Epoch 9/500\n",
            "34/34 [==============================] - 0s 2ms/step - loss: 7346.7021 - mae: 7346.7021\n",
            "Epoch 10/500\n",
            "34/34 [==============================] - 0s 2ms/step - loss: 7323.6577 - mae: 7323.6577\n",
            "Epoch 11/500\n",
            "34/34 [==============================] - 0s 2ms/step - loss: 7308.5649 - mae: 7308.5649\n",
            "Epoch 12/500\n",
            "34/34 [==============================] - 0s 2ms/step - loss: 7290.5513 - mae: 7290.5513\n",
            "Epoch 13/500\n",
            "34/34 [==============================] - 0s 2ms/step - loss: 7272.7168 - mae: 7272.7168\n",
            "Epoch 14/500\n",
            "34/34 [==============================] - 0s 2ms/step - loss: 7254.3032 - mae: 7254.3032\n",
            "Epoch 15/500\n",
            "34/34 [==============================] - 0s 2ms/step - loss: 7238.5708 - mae: 7238.5708\n",
            "Epoch 16/500\n",
            "34/34 [==============================] - 0s 2ms/step - loss: 7220.0679 - mae: 7220.0679\n",
            "Epoch 17/500\n",
            "34/34 [==============================] - 0s 2ms/step - loss: 7201.8823 - mae: 7201.8823\n",
            "Epoch 18/500\n",
            "34/34 [==============================] - 0s 2ms/step - loss: 7181.8481 - mae: 7181.8481\n",
            "Epoch 19/500\n",
            "34/34 [==============================] - 0s 2ms/step - loss: 7163.0239 - mae: 7163.0239\n",
            "Epoch 20/500\n",
            "34/34 [==============================] - 0s 2ms/step - loss: 7142.6748 - mae: 7142.6748\n",
            "Epoch 21/500\n",
            "34/34 [==============================] - 0s 2ms/step - loss: 7126.0210 - mae: 7126.0210\n",
            "Epoch 22/500\n",
            "34/34 [==============================] - 0s 3ms/step - loss: 7104.8096 - mae: 7104.8096\n",
            "Epoch 23/500\n",
            "34/34 [==============================] - 0s 2ms/step - loss: 7083.5835 - mae: 7083.5835\n",
            "Epoch 24/500\n",
            "34/34 [==============================] - 0s 3ms/step - loss: 7062.9263 - mae: 7062.9263\n",
            "Epoch 25/500\n",
            "34/34 [==============================] - 0s 4ms/step - loss: 7048.4683 - mae: 7048.4683\n",
            "Epoch 26/500\n",
            "34/34 [==============================] - 0s 4ms/step - loss: 7022.0781 - mae: 7022.0781\n",
            "Epoch 27/500\n",
            "34/34 [==============================] - 0s 4ms/step - loss: 6998.8467 - mae: 6998.8467\n",
            "Epoch 28/500\n",
            "34/34 [==============================] - 0s 4ms/step - loss: 6975.9185 - mae: 6975.9185\n",
            "Epoch 29/500\n",
            "34/34 [==============================] - 0s 4ms/step - loss: 6952.9590 - mae: 6952.9590\n",
            "Epoch 30/500\n",
            "34/34 [==============================] - 0s 4ms/step - loss: 6933.0894 - mae: 6933.0894\n",
            "Epoch 31/500\n",
            "34/34 [==============================] - 0s 4ms/step - loss: 6907.9795 - mae: 6907.9795\n",
            "Epoch 32/500\n",
            "34/34 [==============================] - 0s 4ms/step - loss: 6885.9785 - mae: 6885.9785\n",
            "Epoch 33/500\n",
            "34/34 [==============================] - 0s 4ms/step - loss: 6861.3599 - mae: 6861.3599\n",
            "Epoch 34/500\n",
            "34/34 [==============================] - 0s 4ms/step - loss: 6836.4331 - mae: 6836.4331\n",
            "Epoch 35/500\n",
            "34/34 [==============================] - 0s 4ms/step - loss: 6811.4312 - mae: 6811.4312\n",
            "Epoch 36/500\n",
            "34/34 [==============================] - 0s 4ms/step - loss: 6785.2480 - mae: 6785.2480\n",
            "Epoch 37/500\n",
            "34/34 [==============================] - 0s 4ms/step - loss: 6757.3242 - mae: 6757.3242\n",
            "Epoch 38/500\n",
            "34/34 [==============================] - 0s 4ms/step - loss: 6735.2188 - mae: 6735.2188\n",
            "Epoch 39/500\n",
            "34/34 [==============================] - 0s 4ms/step - loss: 6705.8091 - mae: 6705.8091\n",
            "Epoch 40/500\n",
            "34/34 [==============================] - 0s 4ms/step - loss: 6679.5986 - mae: 6679.5986\n",
            "Epoch 41/500\n",
            "34/34 [==============================] - 0s 3ms/step - loss: 6656.1084 - mae: 6656.1084\n",
            "Epoch 42/500\n",
            "34/34 [==============================] - 0s 3ms/step - loss: 6631.7622 - mae: 6631.7622\n",
            "Epoch 43/500\n",
            "34/34 [==============================] - 0s 4ms/step - loss: 6609.9507 - mae: 6609.9507\n",
            "Epoch 44/500\n",
            "34/34 [==============================] - 0s 4ms/step - loss: 6590.6982 - mae: 6590.6982\n",
            "Epoch 45/500\n",
            "34/34 [==============================] - 0s 4ms/step - loss: 6577.7056 - mae: 6577.7056\n",
            "Epoch 46/500\n",
            "34/34 [==============================] - 0s 4ms/step - loss: 6559.9805 - mae: 6559.9805\n",
            "Epoch 47/500\n",
            "34/34 [==============================] - 0s 4ms/step - loss: 6548.6265 - mae: 6548.6265\n",
            "Epoch 48/500\n",
            "34/34 [==============================] - 0s 4ms/step - loss: 6536.8335 - mae: 6536.8335\n",
            "Epoch 49/500\n",
            "34/34 [==============================] - 0s 4ms/step - loss: 6526.0547 - mae: 6526.0547\n",
            "Epoch 50/500\n",
            "34/34 [==============================] - 0s 3ms/step - loss: 6515.9438 - mae: 6515.9438\n",
            "Epoch 51/500\n",
            "34/34 [==============================] - 0s 3ms/step - loss: 6506.6099 - mae: 6506.6099\n",
            "Epoch 52/500\n",
            "34/34 [==============================] - 0s 4ms/step - loss: 6498.7261 - mae: 6498.7261\n",
            "Epoch 53/500\n",
            "34/34 [==============================] - 0s 4ms/step - loss: 6488.5522 - mae: 6488.5522\n",
            "Epoch 54/500\n",
            "34/34 [==============================] - 0s 4ms/step - loss: 6478.0269 - mae: 6478.0269\n",
            "Epoch 55/500\n",
            "34/34 [==============================] - 0s 4ms/step - loss: 6469.1021 - mae: 6469.1021\n",
            "Epoch 56/500\n",
            "34/34 [==============================] - 0s 4ms/step - loss: 6458.9556 - mae: 6458.9556\n",
            "Epoch 57/500\n",
            "34/34 [==============================] - 0s 2ms/step - loss: 6451.0669 - mae: 6451.0669\n",
            "Epoch 58/500\n",
            "34/34 [==============================] - 0s 2ms/step - loss: 6441.1919 - mae: 6441.1919\n",
            "Epoch 59/500\n",
            "34/34 [==============================] - 0s 2ms/step - loss: 6431.6978 - mae: 6431.6978\n",
            "Epoch 60/500\n",
            "34/34 [==============================] - 0s 3ms/step - loss: 6424.8545 - mae: 6424.8545\n",
            "Epoch 61/500\n",
            "34/34 [==============================] - 0s 2ms/step - loss: 6412.9375 - mae: 6412.9375\n",
            "Epoch 62/500\n",
            "34/34 [==============================] - 0s 2ms/step - loss: 6403.0830 - mae: 6403.0830\n",
            "Epoch 63/500\n",
            "34/34 [==============================] - 0s 2ms/step - loss: 6392.0947 - mae: 6392.0947\n",
            "Epoch 64/500\n",
            "34/34 [==============================] - 0s 3ms/step - loss: 6382.5742 - mae: 6382.5742\n",
            "Epoch 65/500\n",
            "34/34 [==============================] - 0s 2ms/step - loss: 6370.7881 - mae: 6370.7881\n",
            "Epoch 66/500\n",
            "34/34 [==============================] - 0s 2ms/step - loss: 6360.8809 - mae: 6360.8809\n",
            "Epoch 67/500\n",
            "34/34 [==============================] - 0s 2ms/step - loss: 6352.5303 - mae: 6352.5303\n",
            "Epoch 68/500\n",
            "34/34 [==============================] - 0s 2ms/step - loss: 6341.7852 - mae: 6341.7852\n",
            "Epoch 69/500\n",
            "34/34 [==============================] - 0s 2ms/step - loss: 6330.9727 - mae: 6330.9727\n",
            "Epoch 70/500\n",
            "34/34 [==============================] - 0s 2ms/step - loss: 6318.0942 - mae: 6318.0942\n",
            "Epoch 71/500\n",
            "34/34 [==============================] - 0s 2ms/step - loss: 6305.1895 - mae: 6305.1895\n",
            "Epoch 72/500\n",
            "34/34 [==============================] - 0s 3ms/step - loss: 6297.9258 - mae: 6297.9258\n",
            "Epoch 73/500\n",
            "34/34 [==============================] - 0s 2ms/step - loss: 6287.1035 - mae: 6287.1035\n",
            "Epoch 74/500\n",
            "34/34 [==============================] - 0s 2ms/step - loss: 6270.8931 - mae: 6270.8931\n",
            "Epoch 75/500\n",
            "34/34 [==============================] - 0s 2ms/step - loss: 6258.3853 - mae: 6258.3853\n",
            "Epoch 76/500\n",
            "34/34 [==============================] - 0s 2ms/step - loss: 6254.3125 - mae: 6254.3125\n",
            "Epoch 77/500\n",
            "34/34 [==============================] - 0s 2ms/step - loss: 6230.1475 - mae: 6230.1475\n",
            "Epoch 78/500\n",
            "34/34 [==============================] - 0s 2ms/step - loss: 6219.2319 - mae: 6219.2319\n",
            "Epoch 79/500\n",
            "34/34 [==============================] - 0s 2ms/step - loss: 6205.3125 - mae: 6205.3125\n",
            "Epoch 80/500\n",
            "34/34 [==============================] - 0s 2ms/step - loss: 6192.8472 - mae: 6192.8472\n",
            "Epoch 81/500\n",
            "34/34 [==============================] - 0s 2ms/step - loss: 6177.7866 - mae: 6177.7866\n",
            "Epoch 82/500\n",
            "34/34 [==============================] - 0s 2ms/step - loss: 6165.7441 - mae: 6165.7441\n",
            "Epoch 83/500\n",
            "34/34 [==============================] - 0s 3ms/step - loss: 6148.5884 - mae: 6148.5884\n",
            "Epoch 84/500\n",
            "34/34 [==============================] - 0s 2ms/step - loss: 6131.4004 - mae: 6131.4004\n",
            "Epoch 85/500\n",
            "34/34 [==============================] - 0s 2ms/step - loss: 6118.4771 - mae: 6118.4771\n",
            "Epoch 86/500\n",
            "34/34 [==============================] - 0s 3ms/step - loss: 6100.5625 - mae: 6100.5625\n",
            "Epoch 87/500\n",
            "34/34 [==============================] - 0s 2ms/step - loss: 6084.5850 - mae: 6084.5850\n",
            "Epoch 88/500\n",
            "34/34 [==============================] - 0s 2ms/step - loss: 6069.8403 - mae: 6069.8403\n",
            "Epoch 89/500\n",
            "34/34 [==============================] - 0s 2ms/step - loss: 6050.0049 - mae: 6050.0049\n",
            "Epoch 90/500\n",
            "34/34 [==============================] - 0s 2ms/step - loss: 6031.6196 - mae: 6031.6196\n",
            "Epoch 91/500\n",
            "34/34 [==============================] - 0s 2ms/step - loss: 6013.6719 - mae: 6013.6719\n",
            "Epoch 92/500\n",
            "34/34 [==============================] - 0s 2ms/step - loss: 5996.0220 - mae: 5996.0220\n",
            "Epoch 93/500\n",
            "34/34 [==============================] - 0s 2ms/step - loss: 5974.0381 - mae: 5974.0381\n",
            "Epoch 94/500\n",
            "34/34 [==============================] - 0s 2ms/step - loss: 5955.4785 - mae: 5955.4785\n",
            "Epoch 95/500\n",
            "34/34 [==============================] - 0s 3ms/step - loss: 5933.2446 - mae: 5933.2446\n",
            "Epoch 96/500\n",
            "34/34 [==============================] - 0s 2ms/step - loss: 5910.5015 - mae: 5910.5015\n",
            "Epoch 97/500\n",
            "34/34 [==============================] - 0s 2ms/step - loss: 5888.0688 - mae: 5888.0688\n",
            "Epoch 98/500\n",
            "34/34 [==============================] - 0s 3ms/step - loss: 5862.5146 - mae: 5862.5146\n",
            "Epoch 99/500\n",
            "34/34 [==============================] - 0s 2ms/step - loss: 5839.5273 - mae: 5839.5273\n",
            "Epoch 100/500\n",
            "34/34 [==============================] - 0s 3ms/step - loss: 5811.5962 - mae: 5811.5962\n",
            "Epoch 101/500\n",
            "34/34 [==============================] - 0s 2ms/step - loss: 5787.1265 - mae: 5787.1265\n",
            "Epoch 102/500\n",
            "34/34 [==============================] - 0s 2ms/step - loss: 5757.2251 - mae: 5757.2251\n",
            "Epoch 103/500\n",
            "34/34 [==============================] - 0s 2ms/step - loss: 5728.7227 - mae: 5728.7227\n",
            "Epoch 104/500\n",
            "34/34 [==============================] - 0s 2ms/step - loss: 5696.6489 - mae: 5696.6489\n",
            "Epoch 105/500\n",
            "34/34 [==============================] - 0s 2ms/step - loss: 5667.9902 - mae: 5667.9902\n",
            "Epoch 106/500\n",
            "34/34 [==============================] - 0s 2ms/step - loss: 5633.1182 - mae: 5633.1182\n",
            "Epoch 107/500\n",
            "34/34 [==============================] - 0s 2ms/step - loss: 5595.5161 - mae: 5595.5161\n",
            "Epoch 108/500\n",
            "34/34 [==============================] - 0s 2ms/step - loss: 5569.6743 - mae: 5569.6743\n",
            "Epoch 109/500\n",
            "34/34 [==============================] - 0s 2ms/step - loss: 5522.5444 - mae: 5522.5444\n",
            "Epoch 110/500\n",
            "34/34 [==============================] - 0s 2ms/step - loss: 5480.4678 - mae: 5480.4678\n",
            "Epoch 111/500\n",
            "34/34 [==============================] - 0s 2ms/step - loss: 5442.1548 - mae: 5442.1548\n",
            "Epoch 112/500\n",
            "34/34 [==============================] - 0s 2ms/step - loss: 5399.3555 - mae: 5399.3555\n",
            "Epoch 113/500\n",
            "34/34 [==============================] - 0s 2ms/step - loss: 5349.1353 - mae: 5349.1353\n",
            "Epoch 114/500\n",
            "34/34 [==============================] - 0s 2ms/step - loss: 5302.0337 - mae: 5302.0337\n",
            "Epoch 115/500\n",
            "34/34 [==============================] - 0s 2ms/step - loss: 5249.6074 - mae: 5249.6074\n",
            "Epoch 116/500\n",
            "34/34 [==============================] - 0s 2ms/step - loss: 5200.5317 - mae: 5200.5317\n",
            "Epoch 117/500\n",
            "34/34 [==============================] - 0s 2ms/step - loss: 5143.7383 - mae: 5143.7383\n",
            "Epoch 118/500\n",
            "34/34 [==============================] - 0s 2ms/step - loss: 5082.7612 - mae: 5082.7612\n",
            "Epoch 119/500\n",
            "34/34 [==============================] - 0s 2ms/step - loss: 5025.9907 - mae: 5025.9907\n",
            "Epoch 120/500\n",
            "34/34 [==============================] - 0s 2ms/step - loss: 4954.4785 - mae: 4954.4785\n",
            "Epoch 121/500\n",
            "34/34 [==============================] - 0s 2ms/step - loss: 4887.9297 - mae: 4887.9297\n",
            "Epoch 122/500\n",
            "34/34 [==============================] - 0s 2ms/step - loss: 4822.5576 - mae: 4822.5576\n",
            "Epoch 123/500\n",
            "34/34 [==============================] - 0s 3ms/step - loss: 4736.8730 - mae: 4736.8730\n",
            "Epoch 124/500\n",
            "34/34 [==============================] - 0s 2ms/step - loss: 4669.6172 - mae: 4669.6172\n",
            "Epoch 125/500\n",
            "34/34 [==============================] - 0s 2ms/step - loss: 4577.2339 - mae: 4577.2339\n",
            "Epoch 126/500\n",
            "34/34 [==============================] - 0s 2ms/step - loss: 4492.2261 - mae: 4492.2261\n",
            "Epoch 127/500\n",
            "34/34 [==============================] - 0s 2ms/step - loss: 4411.1924 - mae: 4411.1924\n",
            "Epoch 128/500\n",
            "34/34 [==============================] - 0s 2ms/step - loss: 4335.3335 - mae: 4335.3335\n",
            "Epoch 129/500\n",
            "34/34 [==============================] - 0s 2ms/step - loss: 4248.1099 - mae: 4248.1099\n",
            "Epoch 130/500\n",
            "34/34 [==============================] - 0s 3ms/step - loss: 4168.7720 - mae: 4168.7720\n",
            "Epoch 131/500\n",
            "34/34 [==============================] - 0s 2ms/step - loss: 4098.7354 - mae: 4098.7354\n",
            "Epoch 132/500\n",
            "34/34 [==============================] - 0s 2ms/step - loss: 4044.6099 - mae: 4044.6099\n",
            "Epoch 133/500\n",
            "34/34 [==============================] - 0s 2ms/step - loss: 3988.6279 - mae: 3988.6279\n",
            "Epoch 134/500\n",
            "34/34 [==============================] - 0s 2ms/step - loss: 3956.2971 - mae: 3956.2971\n",
            "Epoch 135/500\n",
            "34/34 [==============================] - 0s 3ms/step - loss: 3919.5125 - mae: 3919.5125\n",
            "Epoch 136/500\n",
            "34/34 [==============================] - 0s 2ms/step - loss: 3895.7214 - mae: 3895.7214\n",
            "Epoch 137/500\n",
            "34/34 [==============================] - 0s 2ms/step - loss: 3887.2734 - mae: 3887.2734\n",
            "Epoch 138/500\n",
            "34/34 [==============================] - 0s 2ms/step - loss: 3888.2097 - mae: 3888.2095\n",
            "Epoch 139/500\n",
            "34/34 [==============================] - 0s 2ms/step - loss: 3849.2612 - mae: 3849.2612\n",
            "Epoch 140/500\n",
            "34/34 [==============================] - 0s 2ms/step - loss: 3846.3953 - mae: 3846.3953\n",
            "Epoch 141/500\n",
            "34/34 [==============================] - 0s 2ms/step - loss: 3832.6594 - mae: 3832.6594\n",
            "Epoch 142/500\n",
            "34/34 [==============================] - 0s 2ms/step - loss: 3830.5110 - mae: 3830.5110\n",
            "Epoch 143/500\n",
            "34/34 [==============================] - 0s 2ms/step - loss: 3816.0647 - mae: 3816.0647\n",
            "Epoch 144/500\n",
            "34/34 [==============================] - 0s 2ms/step - loss: 3810.4314 - mae: 3810.4314\n",
            "Epoch 145/500\n",
            "34/34 [==============================] - 0s 2ms/step - loss: 3807.6360 - mae: 3807.6360\n",
            "Epoch 146/500\n",
            "34/34 [==============================] - 0s 3ms/step - loss: 3810.0212 - mae: 3810.0212\n",
            "Epoch 147/500\n",
            "34/34 [==============================] - 0s 2ms/step - loss: 3803.3777 - mae: 3803.3777\n",
            "Epoch 148/500\n",
            "34/34 [==============================] - 0s 2ms/step - loss: 3807.4431 - mae: 3807.4431\n",
            "Epoch 149/500\n",
            "34/34 [==============================] - 0s 2ms/step - loss: 3794.0842 - mae: 3794.0842\n",
            "Epoch 150/500\n",
            "34/34 [==============================] - 0s 2ms/step - loss: 3787.3599 - mae: 3787.3599\n",
            "Epoch 151/500\n",
            "34/34 [==============================] - 0s 2ms/step - loss: 3789.8347 - mae: 3789.8347\n",
            "Epoch 152/500\n",
            "34/34 [==============================] - 0s 2ms/step - loss: 3788.8789 - mae: 3788.8789\n",
            "Epoch 153/500\n",
            "34/34 [==============================] - 0s 3ms/step - loss: 3786.9375 - mae: 3786.9375\n",
            "Epoch 154/500\n",
            "34/34 [==============================] - 0s 3ms/step - loss: 3781.1360 - mae: 3781.1360\n",
            "Epoch 155/500\n",
            "34/34 [==============================] - 0s 3ms/step - loss: 3785.8572 - mae: 3785.8572\n",
            "Epoch 156/500\n",
            "34/34 [==============================] - 0s 2ms/step - loss: 3779.3726 - mae: 3779.3726\n",
            "Epoch 157/500\n",
            "34/34 [==============================] - 0s 2ms/step - loss: 3776.4050 - mae: 3776.4050\n",
            "Epoch 158/500\n",
            "34/34 [==============================] - 0s 2ms/step - loss: 3772.8882 - mae: 3772.8882\n",
            "Epoch 159/500\n",
            "34/34 [==============================] - 0s 2ms/step - loss: 3770.6301 - mae: 3770.6301\n",
            "Epoch 160/500\n",
            "34/34 [==============================] - 0s 2ms/step - loss: 3775.3096 - mae: 3775.3096\n",
            "Epoch 161/500\n",
            "34/34 [==============================] - 0s 2ms/step - loss: 3770.5754 - mae: 3770.5754\n",
            "Epoch 162/500\n",
            "34/34 [==============================] - 0s 2ms/step - loss: 3768.3928 - mae: 3768.3928\n",
            "Epoch 163/500\n",
            "34/34 [==============================] - 0s 3ms/step - loss: 3764.9370 - mae: 3764.9370\n",
            "Epoch 164/500\n",
            "34/34 [==============================] - 0s 3ms/step - loss: 3768.4868 - mae: 3768.4868\n",
            "Epoch 165/500\n",
            "34/34 [==============================] - 0s 2ms/step - loss: 3762.6724 - mae: 3762.6724\n",
            "Epoch 166/500\n",
            "34/34 [==============================] - 0s 2ms/step - loss: 3763.5745 - mae: 3763.5745\n",
            "Epoch 167/500\n",
            "34/34 [==============================] - 0s 2ms/step - loss: 3764.7708 - mae: 3764.7708\n",
            "Epoch 168/500\n",
            "34/34 [==============================] - 0s 2ms/step - loss: 3756.9976 - mae: 3756.9976\n",
            "Epoch 169/500\n",
            "34/34 [==============================] - 0s 4ms/step - loss: 3753.5952 - mae: 3753.5952\n",
            "Epoch 170/500\n",
            "34/34 [==============================] - 0s 4ms/step - loss: 3751.8030 - mae: 3751.8030\n",
            "Epoch 171/500\n",
            "34/34 [==============================] - 0s 4ms/step - loss: 3750.9414 - mae: 3750.9414\n",
            "Epoch 172/500\n",
            "34/34 [==============================] - 0s 4ms/step - loss: 3752.2764 - mae: 3752.2764\n",
            "Epoch 173/500\n",
            "34/34 [==============================] - 0s 4ms/step - loss: 3745.1101 - mae: 3745.1101\n",
            "Epoch 174/500\n",
            "34/34 [==============================] - 0s 3ms/step - loss: 3752.9856 - mae: 3752.9856\n",
            "Epoch 175/500\n",
            "34/34 [==============================] - 0s 4ms/step - loss: 3749.6194 - mae: 3749.6194\n",
            "Epoch 176/500\n",
            "34/34 [==============================] - 0s 4ms/step - loss: 3743.9160 - mae: 3743.9160\n",
            "Epoch 177/500\n",
            "34/34 [==============================] - 0s 3ms/step - loss: 3741.7317 - mae: 3741.7317\n",
            "Epoch 178/500\n",
            "34/34 [==============================] - 0s 3ms/step - loss: 3745.3704 - mae: 3745.3704\n",
            "Epoch 179/500\n",
            "34/34 [==============================] - 0s 4ms/step - loss: 3743.5017 - mae: 3743.5017\n",
            "Epoch 180/500\n",
            "34/34 [==============================] - 0s 4ms/step - loss: 3752.0020 - mae: 3752.0020\n",
            "Epoch 181/500\n",
            "34/34 [==============================] - 0s 4ms/step - loss: 3737.1040 - mae: 3737.1040\n",
            "Epoch 182/500\n",
            "34/34 [==============================] - 0s 3ms/step - loss: 3736.5967 - mae: 3736.5967\n",
            "Epoch 183/500\n",
            "34/34 [==============================] - 0s 3ms/step - loss: 3735.0938 - mae: 3735.0938\n",
            "Epoch 184/500\n",
            "34/34 [==============================] - 0s 3ms/step - loss: 3738.4519 - mae: 3738.4519\n",
            "Epoch 185/500\n",
            "34/34 [==============================] - 0s 3ms/step - loss: 3735.2556 - mae: 3735.2556\n",
            "Epoch 186/500\n",
            "34/34 [==============================] - 0s 4ms/step - loss: 3736.1655 - mae: 3736.1655\n",
            "Epoch 187/500\n",
            "34/34 [==============================] - 0s 4ms/step - loss: 3729.0881 - mae: 3729.0881\n",
            "Epoch 188/500\n",
            "34/34 [==============================] - 0s 4ms/step - loss: 3732.8223 - mae: 3732.8223\n",
            "Epoch 189/500\n",
            "34/34 [==============================] - 0s 4ms/step - loss: 3725.8501 - mae: 3725.8501\n",
            "Epoch 190/500\n",
            "34/34 [==============================] - 0s 3ms/step - loss: 3726.7605 - mae: 3726.7605\n",
            "Epoch 191/500\n",
            "34/34 [==============================] - 0s 4ms/step - loss: 3749.4314 - mae: 3749.4314\n",
            "Epoch 192/500\n",
            "34/34 [==============================] - 0s 3ms/step - loss: 3728.3269 - mae: 3728.3269\n",
            "Epoch 193/500\n",
            "34/34 [==============================] - 0s 4ms/step - loss: 3719.0706 - mae: 3719.0706\n",
            "Epoch 194/500\n",
            "34/34 [==============================] - 0s 4ms/step - loss: 3720.2820 - mae: 3720.2820\n",
            "Epoch 195/500\n",
            "34/34 [==============================] - 0s 3ms/step - loss: 3719.6008 - mae: 3719.6008\n",
            "Epoch 196/500\n",
            "34/34 [==============================] - 0s 4ms/step - loss: 3721.3831 - mae: 3721.3831\n",
            "Epoch 197/500\n",
            "34/34 [==============================] - 0s 3ms/step - loss: 3711.6406 - mae: 3711.6406\n",
            "Epoch 198/500\n",
            "34/34 [==============================] - 0s 3ms/step - loss: 3716.7878 - mae: 3716.7878\n",
            "Epoch 199/500\n",
            "34/34 [==============================] - 0s 4ms/step - loss: 3724.0542 - mae: 3724.0542\n",
            "Epoch 200/500\n",
            "34/34 [==============================] - 0s 4ms/step - loss: 3711.5439 - mae: 3711.5439\n",
            "Epoch 201/500\n",
            "34/34 [==============================] - 0s 4ms/step - loss: 3713.1106 - mae: 3713.1106\n",
            "Epoch 202/500\n",
            "34/34 [==============================] - 0s 4ms/step - loss: 3716.6362 - mae: 3716.6362\n",
            "Epoch 203/500\n",
            "34/34 [==============================] - 0s 5ms/step - loss: 3706.9756 - mae: 3706.9756\n",
            "Epoch 204/500\n",
            "34/34 [==============================] - 0s 4ms/step - loss: 3701.5896 - mae: 3701.5896\n",
            "Epoch 205/500\n",
            "34/34 [==============================] - 0s 4ms/step - loss: 3708.1155 - mae: 3708.1155\n",
            "Epoch 206/500\n",
            "34/34 [==============================] - 0s 4ms/step - loss: 3702.0488 - mae: 3702.0488\n",
            "Epoch 207/500\n",
            "34/34 [==============================] - 0s 3ms/step - loss: 3702.1758 - mae: 3702.1758\n",
            "Epoch 208/500\n",
            "34/34 [==============================] - 0s 2ms/step - loss: 3699.6995 - mae: 3699.6995\n",
            "Epoch 209/500\n",
            "34/34 [==============================] - 0s 3ms/step - loss: 3696.2285 - mae: 3696.2285\n",
            "Epoch 210/500\n",
            "34/34 [==============================] - 0s 3ms/step - loss: 3702.9756 - mae: 3702.9756\n",
            "Epoch 211/500\n",
            "34/34 [==============================] - 0s 2ms/step - loss: 3695.1335 - mae: 3695.1335\n",
            "Epoch 212/500\n",
            "34/34 [==============================] - 0s 3ms/step - loss: 3701.1509 - mae: 3701.1509\n",
            "Epoch 213/500\n",
            "34/34 [==============================] - 0s 2ms/step - loss: 3697.1931 - mae: 3697.1931\n",
            "Epoch 214/500\n",
            "34/34 [==============================] - 0s 3ms/step - loss: 3720.1260 - mae: 3720.1260\n",
            "Epoch 215/500\n",
            "34/34 [==============================] - 0s 2ms/step - loss: 3689.8997 - mae: 3689.8997\n",
            "Epoch 216/500\n",
            "34/34 [==============================] - 0s 2ms/step - loss: 3690.2576 - mae: 3690.2576\n",
            "Epoch 217/500\n",
            "34/34 [==============================] - 0s 2ms/step - loss: 3691.6572 - mae: 3691.6572\n",
            "Epoch 218/500\n",
            "34/34 [==============================] - 0s 3ms/step - loss: 3688.2234 - mae: 3688.2234\n",
            "Epoch 219/500\n",
            "34/34 [==============================] - 0s 2ms/step - loss: 3688.7107 - mae: 3688.7107\n",
            "Epoch 220/500\n",
            "34/34 [==============================] - 0s 2ms/step - loss: 3684.6392 - mae: 3684.6392\n",
            "Epoch 221/500\n",
            "34/34 [==============================] - 0s 2ms/step - loss: 3690.7317 - mae: 3690.7317\n",
            "Epoch 222/500\n",
            "34/34 [==============================] - 0s 2ms/step - loss: 3690.1985 - mae: 3690.1985\n",
            "Epoch 223/500\n",
            "34/34 [==============================] - 0s 2ms/step - loss: 3679.1807 - mae: 3679.1807\n",
            "Epoch 224/500\n",
            "34/34 [==============================] - 0s 2ms/step - loss: 3682.1360 - mae: 3682.1360\n",
            "Epoch 225/500\n",
            "34/34 [==============================] - 0s 3ms/step - loss: 3679.6050 - mae: 3679.6050\n",
            "Epoch 226/500\n",
            "34/34 [==============================] - 0s 2ms/step - loss: 3671.3901 - mae: 3671.3901\n",
            "Epoch 227/500\n",
            "34/34 [==============================] - 0s 2ms/step - loss: 3670.0093 - mae: 3670.0093\n",
            "Epoch 228/500\n",
            "34/34 [==============================] - 0s 2ms/step - loss: 3680.2283 - mae: 3680.2283\n",
            "Epoch 229/500\n",
            "34/34 [==============================] - 0s 2ms/step - loss: 3672.6006 - mae: 3672.6006\n",
            "Epoch 230/500\n",
            "34/34 [==============================] - 0s 3ms/step - loss: 3669.9163 - mae: 3669.9163\n",
            "Epoch 231/500\n",
            "34/34 [==============================] - 0s 2ms/step - loss: 3666.1809 - mae: 3666.1809\n",
            "Epoch 232/500\n",
            "34/34 [==============================] - 0s 2ms/step - loss: 3663.7957 - mae: 3663.7957\n",
            "Epoch 233/500\n",
            "34/34 [==============================] - 0s 2ms/step - loss: 3662.0435 - mae: 3662.0435\n",
            "Epoch 234/500\n",
            "34/34 [==============================] - 0s 3ms/step - loss: 3670.7329 - mae: 3670.7329\n",
            "Epoch 235/500\n",
            "34/34 [==============================] - 0s 2ms/step - loss: 3667.7485 - mae: 3667.7485\n",
            "Epoch 236/500\n",
            "34/34 [==============================] - 0s 3ms/step - loss: 3664.6934 - mae: 3664.6934\n",
            "Epoch 237/500\n",
            "34/34 [==============================] - 0s 2ms/step - loss: 3664.3557 - mae: 3664.3557\n",
            "Epoch 238/500\n",
            "34/34 [==============================] - 0s 2ms/step - loss: 3652.8755 - mae: 3652.8755\n",
            "Epoch 239/500\n",
            "34/34 [==============================] - 0s 2ms/step - loss: 3656.4102 - mae: 3656.4102\n",
            "Epoch 240/500\n",
            "34/34 [==============================] - 0s 2ms/step - loss: 3655.5950 - mae: 3655.5950\n",
            "Epoch 241/500\n",
            "34/34 [==============================] - 0s 2ms/step - loss: 3651.0803 - mae: 3651.0803\n",
            "Epoch 242/500\n",
            "34/34 [==============================] - 0s 2ms/step - loss: 3650.1448 - mae: 3650.1448\n",
            "Epoch 243/500\n",
            "34/34 [==============================] - 0s 2ms/step - loss: 3647.2666 - mae: 3647.2666\n",
            "Epoch 244/500\n",
            "34/34 [==============================] - 0s 2ms/step - loss: 3655.5068 - mae: 3655.5068\n",
            "Epoch 245/500\n",
            "34/34 [==============================] - 0s 3ms/step - loss: 3646.2212 - mae: 3646.2212\n",
            "Epoch 246/500\n",
            "34/34 [==============================] - 0s 2ms/step - loss: 3642.1694 - mae: 3642.1694\n",
            "Epoch 247/500\n",
            "34/34 [==============================] - 0s 2ms/step - loss: 3642.7271 - mae: 3642.7271\n",
            "Epoch 248/500\n",
            "34/34 [==============================] - 0s 3ms/step - loss: 3655.1348 - mae: 3655.1348\n",
            "Epoch 249/500\n",
            "34/34 [==============================] - 0s 3ms/step - loss: 3640.2083 - mae: 3640.2083\n",
            "Epoch 250/500\n",
            "34/34 [==============================] - 0s 2ms/step - loss: 3638.2549 - mae: 3638.2549\n",
            "Epoch 251/500\n",
            "34/34 [==============================] - 0s 2ms/step - loss: 3634.6431 - mae: 3634.6431\n",
            "Epoch 252/500\n",
            "34/34 [==============================] - 0s 2ms/step - loss: 3638.2236 - mae: 3638.2236\n",
            "Epoch 253/500\n",
            "34/34 [==============================] - 0s 3ms/step - loss: 3634.3982 - mae: 3634.3982\n",
            "Epoch 254/500\n",
            "34/34 [==============================] - 0s 3ms/step - loss: 3628.9548 - mae: 3628.9548\n",
            "Epoch 255/500\n",
            "34/34 [==============================] - 0s 3ms/step - loss: 3625.5405 - mae: 3625.5405\n",
            "Epoch 256/500\n",
            "34/34 [==============================] - 0s 2ms/step - loss: 3628.9897 - mae: 3628.9897\n",
            "Epoch 257/500\n",
            "34/34 [==============================] - 0s 2ms/step - loss: 3630.5750 - mae: 3630.5750\n",
            "Epoch 258/500\n",
            "34/34 [==============================] - 0s 2ms/step - loss: 3631.7979 - mae: 3631.7979\n",
            "Epoch 259/500\n",
            "34/34 [==============================] - 0s 3ms/step - loss: 3621.0498 - mae: 3621.0498\n",
            "Epoch 260/500\n",
            "34/34 [==============================] - 0s 3ms/step - loss: 3625.9292 - mae: 3625.9292\n",
            "Epoch 261/500\n",
            "34/34 [==============================] - 0s 2ms/step - loss: 3620.2869 - mae: 3620.2869\n",
            "Epoch 262/500\n",
            "34/34 [==============================] - 0s 2ms/step - loss: 3619.8994 - mae: 3619.8994\n",
            "Epoch 263/500\n",
            "34/34 [==============================] - 0s 3ms/step - loss: 3613.0815 - mae: 3613.0815\n",
            "Epoch 264/500\n",
            "34/34 [==============================] - 0s 3ms/step - loss: 3617.8284 - mae: 3617.8284\n",
            "Epoch 265/500\n",
            "34/34 [==============================] - 0s 2ms/step - loss: 3613.1453 - mae: 3613.1453\n",
            "Epoch 266/500\n",
            "34/34 [==============================] - 0s 2ms/step - loss: 3613.6033 - mae: 3613.6033\n",
            "Epoch 267/500\n",
            "34/34 [==============================] - 0s 3ms/step - loss: 3609.8823 - mae: 3609.8823\n",
            "Epoch 268/500\n",
            "34/34 [==============================] - 0s 2ms/step - loss: 3605.1465 - mae: 3605.1465\n",
            "Epoch 269/500\n",
            "34/34 [==============================] - 0s 3ms/step - loss: 3607.2559 - mae: 3607.2559\n",
            "Epoch 270/500\n",
            "34/34 [==============================] - 0s 2ms/step - loss: 3598.1626 - mae: 3598.1626\n",
            "Epoch 271/500\n",
            "34/34 [==============================] - 0s 2ms/step - loss: 3602.0535 - mae: 3602.0535\n",
            "Epoch 272/500\n",
            "34/34 [==============================] - 0s 2ms/step - loss: 3596.8130 - mae: 3596.8130\n",
            "Epoch 273/500\n",
            "34/34 [==============================] - 0s 3ms/step - loss: 3592.8669 - mae: 3592.8669\n",
            "Epoch 274/500\n",
            "34/34 [==============================] - 0s 3ms/step - loss: 3594.1821 - mae: 3594.1821\n",
            "Epoch 275/500\n",
            "34/34 [==============================] - 0s 2ms/step - loss: 3588.4451 - mae: 3588.4451\n",
            "Epoch 276/500\n",
            "34/34 [==============================] - 0s 3ms/step - loss: 3595.0916 - mae: 3595.0916\n",
            "Epoch 277/500\n",
            "34/34 [==============================] - 0s 2ms/step - loss: 3587.4409 - mae: 3587.4409\n",
            "Epoch 278/500\n",
            "34/34 [==============================] - 0s 2ms/step - loss: 3594.3921 - mae: 3594.3921\n",
            "Epoch 279/500\n",
            "34/34 [==============================] - 0s 2ms/step - loss: 3588.6033 - mae: 3588.6033\n",
            "Epoch 280/500\n",
            "34/34 [==============================] - 0s 3ms/step - loss: 3580.8027 - mae: 3580.8027\n",
            "Epoch 281/500\n",
            "34/34 [==============================] - 0s 2ms/step - loss: 3584.6787 - mae: 3584.6787\n",
            "Epoch 282/500\n",
            "34/34 [==============================] - 0s 2ms/step - loss: 3578.9148 - mae: 3578.9148\n",
            "Epoch 283/500\n",
            "34/34 [==============================] - 0s 3ms/step - loss: 3583.3594 - mae: 3583.3594\n",
            "Epoch 284/500\n",
            "34/34 [==============================] - 0s 2ms/step - loss: 3577.5684 - mae: 3577.5684\n",
            "Epoch 285/500\n",
            "34/34 [==============================] - 0s 3ms/step - loss: 3578.5027 - mae: 3578.5027\n",
            "Epoch 286/500\n",
            "34/34 [==============================] - 0s 2ms/step - loss: 3570.3357 - mae: 3570.3357\n",
            "Epoch 287/500\n",
            "34/34 [==============================] - 0s 2ms/step - loss: 3570.3367 - mae: 3570.3367\n",
            "Epoch 288/500\n",
            "34/34 [==============================] - 0s 2ms/step - loss: 3566.7773 - mae: 3566.7773\n",
            "Epoch 289/500\n",
            "34/34 [==============================] - 0s 3ms/step - loss: 3567.1555 - mae: 3567.1555\n",
            "Epoch 290/500\n",
            "34/34 [==============================] - 0s 3ms/step - loss: 3567.6299 - mae: 3567.6299\n",
            "Epoch 291/500\n",
            "34/34 [==============================] - 0s 3ms/step - loss: 3568.4863 - mae: 3568.4863\n",
            "Epoch 292/500\n",
            "34/34 [==============================] - 0s 2ms/step - loss: 3572.8655 - mae: 3572.8655\n",
            "Epoch 293/500\n",
            "34/34 [==============================] - 0s 2ms/step - loss: 3560.3418 - mae: 3560.3418\n",
            "Epoch 294/500\n",
            "34/34 [==============================] - 0s 3ms/step - loss: 3574.1448 - mae: 3574.1448\n",
            "Epoch 295/500\n",
            "34/34 [==============================] - 0s 3ms/step - loss: 3565.6072 - mae: 3565.6072\n",
            "Epoch 296/500\n",
            "34/34 [==============================] - 0s 2ms/step - loss: 3558.6228 - mae: 3558.6228\n",
            "Epoch 297/500\n",
            "34/34 [==============================] - 0s 2ms/step - loss: 3553.3608 - mae: 3553.3608\n",
            "Epoch 298/500\n",
            "34/34 [==============================] - 0s 2ms/step - loss: 3556.3586 - mae: 3556.3586\n",
            "Epoch 299/500\n",
            "34/34 [==============================] - 0s 2ms/step - loss: 3567.6179 - mae: 3567.6179\n",
            "Epoch 300/500\n",
            "34/34 [==============================] - 0s 2ms/step - loss: 3551.1104 - mae: 3551.1104\n",
            "Epoch 301/500\n",
            "34/34 [==============================] - 0s 3ms/step - loss: 3552.2871 - mae: 3552.2871\n",
            "Epoch 302/500\n",
            "34/34 [==============================] - 0s 2ms/step - loss: 3566.8538 - mae: 3566.8538\n",
            "Epoch 303/500\n",
            "34/34 [==============================] - 0s 2ms/step - loss: 3565.4810 - mae: 3565.4810\n",
            "Epoch 304/500\n",
            "34/34 [==============================] - 0s 3ms/step - loss: 3550.7903 - mae: 3550.7903\n",
            "Epoch 305/500\n",
            "34/34 [==============================] - 0s 3ms/step - loss: 3543.0884 - mae: 3543.0884\n",
            "Epoch 306/500\n",
            "34/34 [==============================] - 0s 2ms/step - loss: 3542.9072 - mae: 3542.9072\n",
            "Epoch 307/500\n",
            "34/34 [==============================] - 0s 2ms/step - loss: 3544.5671 - mae: 3544.5671\n",
            "Epoch 308/500\n",
            "34/34 [==============================] - 0s 3ms/step - loss: 3542.8396 - mae: 3542.8396\n",
            "Epoch 309/500\n",
            "34/34 [==============================] - 0s 2ms/step - loss: 3537.4041 - mae: 3537.4041\n",
            "Epoch 310/500\n",
            "34/34 [==============================] - 0s 2ms/step - loss: 3543.0618 - mae: 3543.0618\n",
            "Epoch 311/500\n",
            "34/34 [==============================] - 0s 2ms/step - loss: 3544.7554 - mae: 3544.7554\n",
            "Epoch 312/500\n",
            "34/34 [==============================] - 0s 3ms/step - loss: 3534.9434 - mae: 3534.9434\n",
            "Epoch 313/500\n",
            "34/34 [==============================] - 0s 4ms/step - loss: 3532.2268 - mae: 3532.2268\n",
            "Epoch 314/500\n",
            "34/34 [==============================] - 0s 4ms/step - loss: 3532.5349 - mae: 3532.5349\n",
            "Epoch 315/500\n",
            "34/34 [==============================] - 0s 5ms/step - loss: 3535.9241 - mae: 3535.9241\n",
            "Epoch 316/500\n",
            "34/34 [==============================] - 0s 3ms/step - loss: 3528.6499 - mae: 3528.6499\n",
            "Epoch 317/500\n",
            "34/34 [==============================] - 0s 4ms/step - loss: 3530.7134 - mae: 3530.7134\n",
            "Epoch 318/500\n",
            "34/34 [==============================] - 0s 4ms/step - loss: 3528.3037 - mae: 3528.3037\n",
            "Epoch 319/500\n",
            "34/34 [==============================] - 0s 4ms/step - loss: 3531.5054 - mae: 3531.5054\n",
            "Epoch 320/500\n",
            "34/34 [==============================] - 0s 4ms/step - loss: 3532.3416 - mae: 3532.3416\n",
            "Epoch 321/500\n",
            "34/34 [==============================] - 0s 4ms/step - loss: 3529.9189 - mae: 3529.9189\n",
            "Epoch 322/500\n",
            "34/34 [==============================] - 0s 4ms/step - loss: 3535.1765 - mae: 3535.1765\n",
            "Epoch 323/500\n",
            "34/34 [==============================] - 0s 4ms/step - loss: 3523.3931 - mae: 3523.3931\n",
            "Epoch 324/500\n",
            "34/34 [==============================] - 0s 4ms/step - loss: 3520.1248 - mae: 3520.1248\n",
            "Epoch 325/500\n",
            "34/34 [==============================] - 0s 4ms/step - loss: 3519.5991 - mae: 3519.5991\n",
            "Epoch 326/500\n",
            "34/34 [==============================] - 0s 4ms/step - loss: 3518.4043 - mae: 3518.4043\n",
            "Epoch 327/500\n",
            "34/34 [==============================] - 0s 4ms/step - loss: 3513.6245 - mae: 3513.6245\n",
            "Epoch 328/500\n",
            "34/34 [==============================] - 0s 4ms/step - loss: 3525.7173 - mae: 3525.7173\n",
            "Epoch 329/500\n",
            "34/34 [==============================] - 0s 3ms/step - loss: 3536.9153 - mae: 3536.9153\n",
            "Epoch 330/500\n",
            "34/34 [==============================] - 0s 3ms/step - loss: 3514.6086 - mae: 3514.6086\n",
            "Epoch 331/500\n",
            "34/34 [==============================] - 0s 4ms/step - loss: 3512.2920 - mae: 3512.2920\n",
            "Epoch 332/500\n",
            "34/34 [==============================] - 0s 3ms/step - loss: 3509.4739 - mae: 3509.4739\n",
            "Epoch 333/500\n",
            "34/34 [==============================] - 0s 3ms/step - loss: 3511.6663 - mae: 3511.6663\n",
            "Epoch 334/500\n",
            "34/34 [==============================] - 0s 4ms/step - loss: 3504.6304 - mae: 3504.6304\n",
            "Epoch 335/500\n",
            "34/34 [==============================] - 0s 4ms/step - loss: 3502.9587 - mae: 3502.9587\n",
            "Epoch 336/500\n",
            "34/34 [==============================] - 0s 3ms/step - loss: 3504.1379 - mae: 3504.1379\n",
            "Epoch 337/500\n",
            "34/34 [==============================] - 0s 3ms/step - loss: 3503.4377 - mae: 3503.4377\n",
            "Epoch 338/500\n",
            "34/34 [==============================] - 0s 4ms/step - loss: 3505.8552 - mae: 3505.8552\n",
            "Epoch 339/500\n",
            "34/34 [==============================] - 0s 4ms/step - loss: 3499.9658 - mae: 3499.9658\n",
            "Epoch 340/500\n",
            "34/34 [==============================] - 0s 4ms/step - loss: 3499.4492 - mae: 3499.4492\n",
            "Epoch 341/500\n",
            "34/34 [==============================] - 0s 3ms/step - loss: 3498.5386 - mae: 3498.5386\n",
            "Epoch 342/500\n",
            "34/34 [==============================] - 0s 4ms/step - loss: 3500.7241 - mae: 3500.7241\n",
            "Epoch 343/500\n",
            "34/34 [==============================] - 0s 4ms/step - loss: 3493.4875 - mae: 3493.4875\n",
            "Epoch 344/500\n",
            "34/34 [==============================] - 0s 4ms/step - loss: 3496.4243 - mae: 3496.4243\n",
            "Epoch 345/500\n",
            "34/34 [==============================] - 0s 4ms/step - loss: 3493.1277 - mae: 3493.1277\n",
            "Epoch 346/500\n",
            "34/34 [==============================] - 0s 3ms/step - loss: 3491.1226 - mae: 3491.1226\n",
            "Epoch 347/500\n",
            "34/34 [==============================] - 0s 3ms/step - loss: 3494.3511 - mae: 3494.3511\n",
            "Epoch 348/500\n",
            "34/34 [==============================] - 0s 3ms/step - loss: 3484.5759 - mae: 3484.5759\n",
            "Epoch 349/500\n",
            "34/34 [==============================] - 0s 3ms/step - loss: 3489.2959 - mae: 3489.2959\n",
            "Epoch 350/500\n",
            "34/34 [==============================] - 0s 3ms/step - loss: 3489.2043 - mae: 3489.2043\n",
            "Epoch 351/500\n",
            "34/34 [==============================] - 0s 4ms/step - loss: 3485.0574 - mae: 3485.0574\n",
            "Epoch 352/500\n",
            "34/34 [==============================] - 0s 4ms/step - loss: 3488.5303 - mae: 3488.5303\n",
            "Epoch 353/500\n",
            "34/34 [==============================] - 0s 4ms/step - loss: 3495.6179 - mae: 3495.6179\n",
            "Epoch 354/500\n",
            "34/34 [==============================] - 0s 3ms/step - loss: 3483.5457 - mae: 3483.5457\n",
            "Epoch 355/500\n",
            "34/34 [==============================] - 0s 4ms/step - loss: 3480.7458 - mae: 3480.7458\n",
            "Epoch 356/500\n",
            "34/34 [==============================] - 0s 3ms/step - loss: 3487.7419 - mae: 3487.7419\n",
            "Epoch 357/500\n",
            "34/34 [==============================] - 0s 4ms/step - loss: 3480.2781 - mae: 3480.2781\n",
            "Epoch 358/500\n",
            "34/34 [==============================] - 0s 3ms/step - loss: 3491.7463 - mae: 3491.7463\n",
            "Epoch 359/500\n",
            "34/34 [==============================] - 0s 3ms/step - loss: 3509.4727 - mae: 3509.4727\n",
            "Epoch 360/500\n",
            "34/34 [==============================] - 0s 2ms/step - loss: 3482.5078 - mae: 3482.5078\n",
            "Epoch 361/500\n",
            "34/34 [==============================] - 0s 3ms/step - loss: 3484.8196 - mae: 3484.8196\n",
            "Epoch 362/500\n",
            "34/34 [==============================] - 0s 2ms/step - loss: 3485.3423 - mae: 3485.3423\n",
            "Epoch 363/500\n",
            "34/34 [==============================] - 0s 2ms/step - loss: 3484.5632 - mae: 3484.5632\n",
            "Epoch 364/500\n",
            "34/34 [==============================] - 0s 2ms/step - loss: 3503.2405 - mae: 3503.2405\n",
            "Epoch 365/500\n",
            "34/34 [==============================] - 0s 3ms/step - loss: 3484.8486 - mae: 3484.8486\n",
            "Epoch 366/500\n",
            "34/34 [==============================] - 0s 2ms/step - loss: 3481.4355 - mae: 3481.4355\n",
            "Epoch 367/500\n",
            "34/34 [==============================] - 0s 2ms/step - loss: 3475.7700 - mae: 3475.7700\n",
            "Epoch 368/500\n",
            "34/34 [==============================] - 0s 2ms/step - loss: 3483.5066 - mae: 3483.5066\n",
            "Epoch 369/500\n",
            "34/34 [==============================] - 0s 3ms/step - loss: 3484.0735 - mae: 3484.0735\n",
            "Epoch 370/500\n",
            "34/34 [==============================] - 0s 2ms/step - loss: 3485.0327 - mae: 3485.0327\n",
            "Epoch 371/500\n",
            "34/34 [==============================] - 0s 2ms/step - loss: 3478.5105 - mae: 3478.5105\n",
            "Epoch 372/500\n",
            "34/34 [==============================] - 0s 3ms/step - loss: 3479.3469 - mae: 3479.3469\n",
            "Epoch 373/500\n",
            "34/34 [==============================] - 0s 3ms/step - loss: 3476.8687 - mae: 3476.8687\n",
            "Epoch 374/500\n",
            "34/34 [==============================] - 0s 2ms/step - loss: 3487.0586 - mae: 3487.0586\n",
            "Epoch 375/500\n",
            "34/34 [==============================] - 0s 2ms/step - loss: 3476.3201 - mae: 3476.3201\n",
            "Epoch 376/500\n",
            "34/34 [==============================] - 0s 2ms/step - loss: 3476.5261 - mae: 3476.5261\n",
            "Epoch 377/500\n",
            "34/34 [==============================] - 0s 2ms/step - loss: 3477.4331 - mae: 3477.4331\n",
            "Epoch 378/500\n",
            "34/34 [==============================] - 0s 2ms/step - loss: 3477.0049 - mae: 3477.0049\n",
            "Epoch 379/500\n",
            "34/34 [==============================] - 0s 2ms/step - loss: 3483.7996 - mae: 3483.7996\n",
            "Epoch 380/500\n",
            "34/34 [==============================] - 0s 3ms/step - loss: 3481.3030 - mae: 3481.3030\n",
            "Epoch 381/500\n",
            "34/34 [==============================] - 0s 3ms/step - loss: 3486.0320 - mae: 3486.0320\n",
            "Epoch 382/500\n",
            "34/34 [==============================] - 0s 2ms/step - loss: 3483.6550 - mae: 3483.6550\n",
            "Epoch 383/500\n",
            "34/34 [==============================] - 0s 3ms/step - loss: 3477.2681 - mae: 3477.2681\n",
            "Epoch 384/500\n",
            "34/34 [==============================] - 0s 3ms/step - loss: 3493.6255 - mae: 3493.6255\n",
            "Epoch 385/500\n",
            "34/34 [==============================] - 0s 2ms/step - loss: 3488.9592 - mae: 3488.9592\n",
            "Epoch 386/500\n",
            "34/34 [==============================] - 0s 2ms/step - loss: 3486.8374 - mae: 3486.8374\n",
            "Epoch 387/500\n",
            "34/34 [==============================] - 0s 3ms/step - loss: 3482.6487 - mae: 3482.6487\n",
            "Epoch 388/500\n",
            "34/34 [==============================] - 0s 2ms/step - loss: 3484.6150 - mae: 3484.6150\n",
            "Epoch 389/500\n",
            "34/34 [==============================] - 0s 2ms/step - loss: 3487.8220 - mae: 3487.8220\n",
            "Epoch 390/500\n",
            "34/34 [==============================] - 0s 3ms/step - loss: 3495.6331 - mae: 3495.6331\n",
            "Epoch 391/500\n",
            "34/34 [==============================] - 0s 3ms/step - loss: 3480.4604 - mae: 3480.4604\n",
            "Epoch 392/500\n",
            "34/34 [==============================] - 0s 2ms/step - loss: 3480.1948 - mae: 3480.1948\n",
            "Epoch 393/500\n",
            "34/34 [==============================] - 0s 2ms/step - loss: 3503.5896 - mae: 3503.5896\n",
            "Epoch 394/500\n",
            "34/34 [==============================] - 0s 3ms/step - loss: 3480.4026 - mae: 3480.4026\n",
            "Epoch 395/500\n",
            "34/34 [==============================] - 0s 2ms/step - loss: 3488.5525 - mae: 3488.5525\n",
            "Epoch 396/500\n",
            "34/34 [==============================] - 0s 2ms/step - loss: 3481.2148 - mae: 3481.2148\n",
            "Epoch 397/500\n",
            "34/34 [==============================] - 0s 2ms/step - loss: 3480.0471 - mae: 3480.0471\n",
            "Epoch 398/500\n",
            "34/34 [==============================] - 0s 2ms/step - loss: 3480.6184 - mae: 3480.6184\n",
            "Epoch 399/500\n",
            "34/34 [==============================] - 0s 2ms/step - loss: 3482.4290 - mae: 3482.4290\n",
            "Epoch 400/500\n",
            "34/34 [==============================] - 0s 2ms/step - loss: 3475.3367 - mae: 3475.3367\n",
            "Epoch 401/500\n",
            "34/34 [==============================] - 0s 2ms/step - loss: 3477.2744 - mae: 3477.2744\n",
            "Epoch 402/500\n",
            "34/34 [==============================] - 0s 2ms/step - loss: 3477.5725 - mae: 3477.5725\n",
            "Epoch 403/500\n",
            "34/34 [==============================] - 0s 3ms/step - loss: 3483.5591 - mae: 3483.5591\n",
            "Epoch 404/500\n",
            "34/34 [==============================] - 0s 3ms/step - loss: 3480.5659 - mae: 3480.5659\n",
            "Epoch 405/500\n",
            "34/34 [==============================] - 0s 3ms/step - loss: 3474.6006 - mae: 3474.6006\n",
            "Epoch 406/500\n",
            "34/34 [==============================] - 0s 2ms/step - loss: 3482.6201 - mae: 3482.6201\n",
            "Epoch 407/500\n",
            "34/34 [==============================] - 0s 3ms/step - loss: 3480.5076 - mae: 3480.5076\n",
            "Epoch 408/500\n",
            "34/34 [==============================] - 0s 3ms/step - loss: 3480.3887 - mae: 3480.3887\n",
            "Epoch 409/500\n",
            "34/34 [==============================] - 0s 3ms/step - loss: 3478.1045 - mae: 3478.1045\n",
            "Epoch 410/500\n",
            "34/34 [==============================] - 0s 3ms/step - loss: 3477.4026 - mae: 3477.4026\n",
            "Epoch 411/500\n",
            "34/34 [==============================] - 0s 2ms/step - loss: 3488.9878 - mae: 3488.9878\n",
            "Epoch 412/500\n",
            "34/34 [==============================] - 0s 2ms/step - loss: 3482.4937 - mae: 3482.4937\n",
            "Epoch 413/500\n",
            "34/34 [==============================] - 0s 3ms/step - loss: 3475.2314 - mae: 3475.2314\n",
            "Epoch 414/500\n",
            "34/34 [==============================] - 0s 3ms/step - loss: 3477.2961 - mae: 3477.2961\n",
            "Epoch 415/500\n",
            "34/34 [==============================] - 0s 3ms/step - loss: 3485.8892 - mae: 3485.8892\n",
            "Epoch 416/500\n",
            "34/34 [==============================] - 0s 2ms/step - loss: 3477.3054 - mae: 3477.3054\n",
            "Epoch 417/500\n",
            "34/34 [==============================] - 0s 2ms/step - loss: 3479.9951 - mae: 3479.9951\n",
            "Epoch 418/500\n",
            "34/34 [==============================] - 0s 3ms/step - loss: 3490.6052 - mae: 3490.6052\n",
            "Epoch 419/500\n",
            "34/34 [==============================] - 0s 3ms/step - loss: 3477.4814 - mae: 3477.4814\n",
            "Epoch 420/500\n",
            "34/34 [==============================] - 0s 2ms/step - loss: 3481.5305 - mae: 3481.5305\n",
            "Epoch 421/500\n",
            "34/34 [==============================] - 0s 3ms/step - loss: 3478.7449 - mae: 3478.7449\n",
            "Epoch 422/500\n",
            "34/34 [==============================] - 0s 3ms/step - loss: 3490.5679 - mae: 3490.5679\n",
            "Epoch 423/500\n",
            "34/34 [==============================] - 0s 3ms/step - loss: 3490.9927 - mae: 3490.9927\n",
            "Epoch 424/500\n",
            "34/34 [==============================] - 0s 2ms/step - loss: 3495.6501 - mae: 3495.6501\n",
            "Epoch 425/500\n",
            "34/34 [==============================] - 0s 3ms/step - loss: 3474.2598 - mae: 3474.2598\n",
            "Epoch 426/500\n",
            "34/34 [==============================] - 0s 3ms/step - loss: 3493.3560 - mae: 3493.3560\n",
            "Epoch 427/500\n",
            "34/34 [==============================] - 0s 2ms/step - loss: 3475.9360 - mae: 3475.9360\n",
            "Epoch 428/500\n",
            "34/34 [==============================] - 0s 2ms/step - loss: 3479.6638 - mae: 3479.6638\n",
            "Epoch 429/500\n",
            "34/34 [==============================] - 0s 2ms/step - loss: 3474.1123 - mae: 3474.1123\n",
            "Epoch 430/500\n",
            "34/34 [==============================] - 0s 3ms/step - loss: 3486.2737 - mae: 3486.2737\n",
            "Epoch 431/500\n",
            "34/34 [==============================] - 0s 3ms/step - loss: 3480.2961 - mae: 3480.2961\n",
            "Epoch 432/500\n",
            "34/34 [==============================] - 0s 3ms/step - loss: 3474.7297 - mae: 3474.7297\n",
            "Epoch 433/500\n",
            "34/34 [==============================] - 0s 3ms/step - loss: 3477.0906 - mae: 3477.0906\n",
            "Epoch 434/500\n",
            "34/34 [==============================] - 0s 2ms/step - loss: 3489.0510 - mae: 3489.0510\n",
            "Epoch 435/500\n",
            "34/34 [==============================] - 0s 3ms/step - loss: 3484.5940 - mae: 3484.5940\n",
            "Epoch 436/500\n",
            "34/34 [==============================] - 0s 2ms/step - loss: 3481.2151 - mae: 3481.2151\n",
            "Epoch 437/500\n",
            "34/34 [==============================] - 0s 2ms/step - loss: 3485.3669 - mae: 3485.3669\n",
            "Epoch 438/500\n",
            "34/34 [==============================] - 0s 2ms/step - loss: 3487.9636 - mae: 3487.9636\n",
            "Epoch 439/500\n",
            "34/34 [==============================] - 0s 2ms/step - loss: 3482.5759 - mae: 3482.5759\n",
            "Epoch 440/500\n",
            "34/34 [==============================] - 0s 3ms/step - loss: 3485.5178 - mae: 3485.5178\n",
            "Epoch 441/500\n",
            "34/34 [==============================] - 0s 2ms/step - loss: 3478.9473 - mae: 3478.9473\n",
            "Epoch 442/500\n",
            "34/34 [==============================] - 0s 3ms/step - loss: 3480.7590 - mae: 3480.7590\n",
            "Epoch 443/500\n",
            "34/34 [==============================] - 0s 2ms/step - loss: 3481.1992 - mae: 3481.1992\n",
            "Epoch 444/500\n",
            "34/34 [==============================] - 0s 2ms/step - loss: 3478.7915 - mae: 3478.7915\n",
            "Epoch 445/500\n",
            "34/34 [==============================] - 0s 3ms/step - loss: 3487.2017 - mae: 3487.2017\n",
            "Epoch 446/500\n",
            "34/34 [==============================] - 0s 2ms/step - loss: 3495.2102 - mae: 3495.2102\n",
            "Epoch 447/500\n",
            "34/34 [==============================] - 0s 3ms/step - loss: 3476.5474 - mae: 3476.5474\n",
            "Epoch 448/500\n",
            "34/34 [==============================] - 0s 2ms/step - loss: 3479.2874 - mae: 3479.2874\n",
            "Epoch 449/500\n",
            "34/34 [==============================] - 0s 3ms/step - loss: 3482.3215 - mae: 3482.3215\n",
            "Epoch 450/500\n",
            "34/34 [==============================] - 0s 2ms/step - loss: 3480.0100 - mae: 3480.0100\n",
            "Epoch 451/500\n",
            "34/34 [==============================] - 0s 2ms/step - loss: 3483.3206 - mae: 3483.3206\n",
            "Epoch 452/500\n",
            "34/34 [==============================] - 0s 3ms/step - loss: 3495.1121 - mae: 3495.1121\n",
            "Epoch 453/500\n",
            "34/34 [==============================] - 0s 3ms/step - loss: 3475.5923 - mae: 3475.5923\n",
            "Epoch 454/500\n",
            "34/34 [==============================] - 0s 2ms/step - loss: 3486.7642 - mae: 3486.7642\n",
            "Epoch 455/500\n",
            "34/34 [==============================] - 0s 2ms/step - loss: 3479.2732 - mae: 3479.2732\n",
            "Epoch 456/500\n",
            "34/34 [==============================] - 0s 3ms/step - loss: 3481.3679 - mae: 3481.3679\n",
            "Epoch 457/500\n",
            "34/34 [==============================] - 0s 2ms/step - loss: 3483.3130 - mae: 3483.3130\n",
            "Epoch 458/500\n",
            "34/34 [==============================] - 0s 3ms/step - loss: 3479.8818 - mae: 3479.8818\n",
            "Epoch 459/500\n",
            "34/34 [==============================] - 0s 2ms/step - loss: 3477.9045 - mae: 3477.9045\n",
            "Epoch 460/500\n",
            "34/34 [==============================] - 0s 2ms/step - loss: 3477.1633 - mae: 3477.1633\n",
            "Epoch 461/500\n",
            "34/34 [==============================] - 0s 3ms/step - loss: 3474.6567 - mae: 3474.6567\n",
            "Epoch 462/500\n",
            "34/34 [==============================] - 0s 3ms/step - loss: 3479.4971 - mae: 3479.4971\n",
            "Epoch 463/500\n",
            "34/34 [==============================] - 0s 4ms/step - loss: 3476.9299 - mae: 3476.9299\n",
            "Epoch 464/500\n",
            "34/34 [==============================] - 0s 4ms/step - loss: 3478.6577 - mae: 3478.6577\n",
            "Epoch 465/500\n",
            "34/34 [==============================] - 0s 4ms/step - loss: 3480.7490 - mae: 3480.7490\n",
            "Epoch 466/500\n",
            "34/34 [==============================] - 0s 4ms/step - loss: 3482.8054 - mae: 3482.8054\n",
            "Epoch 467/500\n",
            "34/34 [==============================] - 0s 4ms/step - loss: 3482.2578 - mae: 3482.2578\n",
            "Epoch 468/500\n",
            "34/34 [==============================] - 0s 4ms/step - loss: 3482.6399 - mae: 3482.6399\n",
            "Epoch 469/500\n",
            "34/34 [==============================] - 0s 3ms/step - loss: 3479.6550 - mae: 3479.6550\n",
            "Epoch 470/500\n",
            "34/34 [==============================] - 0s 3ms/step - loss: 3475.8347 - mae: 3475.8347\n",
            "Epoch 471/500\n",
            "34/34 [==============================] - 0s 3ms/step - loss: 3486.4998 - mae: 3486.4998\n",
            "Epoch 472/500\n",
            "34/34 [==============================] - 0s 4ms/step - loss: 3474.4119 - mae: 3474.4119\n",
            "Epoch 473/500\n",
            "34/34 [==============================] - 0s 4ms/step - loss: 3477.0710 - mae: 3477.0710\n",
            "Epoch 474/500\n",
            "34/34 [==============================] - 0s 4ms/step - loss: 3478.1785 - mae: 3478.1785\n",
            "Epoch 475/500\n",
            "34/34 [==============================] - 0s 3ms/step - loss: 3489.0691 - mae: 3489.0691\n",
            "Epoch 476/500\n",
            "34/34 [==============================] - 0s 3ms/step - loss: 3482.9172 - mae: 3482.9172\n",
            "Epoch 477/500\n",
            "34/34 [==============================] - 0s 3ms/step - loss: 3492.1953 - mae: 3492.1953\n",
            "Epoch 478/500\n",
            "34/34 [==============================] - 0s 3ms/step - loss: 3476.3901 - mae: 3476.3901\n",
            "Epoch 479/500\n",
            "34/34 [==============================] - 0s 4ms/step - loss: 3484.8870 - mae: 3484.8870\n",
            "Epoch 480/500\n",
            "34/34 [==============================] - 0s 3ms/step - loss: 3483.5093 - mae: 3483.5093\n",
            "Epoch 481/500\n",
            "34/34 [==============================] - 0s 4ms/step - loss: 3475.4619 - mae: 3475.4619\n",
            "Epoch 482/500\n",
            "34/34 [==============================] - 0s 4ms/step - loss: 3481.6575 - mae: 3481.6575\n",
            "Epoch 483/500\n",
            "34/34 [==============================] - 0s 4ms/step - loss: 3479.7925 - mae: 3479.7925\n",
            "Epoch 484/500\n",
            "34/34 [==============================] - 0s 4ms/step - loss: 3477.6018 - mae: 3477.6018\n",
            "Epoch 485/500\n",
            "34/34 [==============================] - 0s 3ms/step - loss: 3482.8174 - mae: 3482.8174\n",
            "Epoch 486/500\n",
            "34/34 [==============================] - 0s 3ms/step - loss: 3507.4636 - mae: 3507.4636\n",
            "Epoch 487/500\n",
            "34/34 [==============================] - 0s 4ms/step - loss: 3479.7559 - mae: 3479.7559\n",
            "Epoch 488/500\n",
            "34/34 [==============================] - 0s 4ms/step - loss: 3475.9819 - mae: 3475.9819\n",
            "Epoch 489/500\n",
            "34/34 [==============================] - 0s 4ms/step - loss: 3472.7622 - mae: 3472.7622\n",
            "Epoch 490/500\n",
            "34/34 [==============================] - 0s 4ms/step - loss: 3476.0061 - mae: 3476.0061\n",
            "Epoch 491/500\n",
            "34/34 [==============================] - 0s 3ms/step - loss: 3501.3821 - mae: 3501.3821\n",
            "Epoch 492/500\n",
            "34/34 [==============================] - 0s 4ms/step - loss: 3473.2195 - mae: 3473.2195\n",
            "Epoch 493/500\n",
            "34/34 [==============================] - 0s 5ms/step - loss: 3486.7961 - mae: 3486.7961\n",
            "Epoch 494/500\n",
            "34/34 [==============================] - 0s 6ms/step - loss: 3475.9409 - mae: 3475.9409\n",
            "Epoch 495/500\n",
            "34/34 [==============================] - 0s 4ms/step - loss: 3487.0049 - mae: 3487.0049\n",
            "Epoch 496/500\n",
            "34/34 [==============================] - 0s 6ms/step - loss: 3476.4126 - mae: 3476.4126\n",
            "Epoch 497/500\n",
            "34/34 [==============================] - 0s 9ms/step - loss: 3481.5454 - mae: 3481.5454\n",
            "Epoch 498/500\n",
            "34/34 [==============================] - 0s 8ms/step - loss: 3483.4519 - mae: 3483.4519\n",
            "Epoch 499/500\n",
            "34/34 [==============================] - 0s 9ms/step - loss: 3474.9321 - mae: 3474.9321\n",
            "Epoch 500/500\n",
            "34/34 [==============================] - 0s 7ms/step - loss: 3476.7166 - mae: 3476.7166\n"
          ]
        }
      ]
    },
    {
      "cell_type": "code",
      "source": [
        "#Evaluate the third model\n",
        "insurance_model_3.evaluate(X_test,y_test)"
      ],
      "metadata": {
        "colab": {
          "base_uri": "https://localhost:8080/"
        },
        "id": "7PKboGjcG15u",
        "outputId": "d3068090-82c4-4416-d47a-742a7eeab389"
      },
      "execution_count": 206,
      "outputs": [
        {
          "output_type": "stream",
          "name": "stdout",
          "text": [
            "9/9 [==============================] - 1s 5ms/step - loss: 3480.4663 - mae: 3480.4663\n"
          ]
        },
        {
          "output_type": "execute_result",
          "data": {
            "text/plain": [
              "[3480.46630859375, 3480.46630859375]"
            ]
          },
          "metadata": {},
          "execution_count": 206
        }
      ]
    },
    {
      "cell_type": "code",
      "source": [
        "#plot history (also known as a loss curve or a training curve)\n",
        "pd.DataFrame(history.history).plot()\n",
        "plt.ylabel(\"loss\")\n",
        "plt.xlabel(\"epochs\")\n"
      ],
      "metadata": {
        "colab": {
          "base_uri": "https://localhost:8080/",
          "height": 466
        },
        "id": "0Ae7L--THDCH",
        "outputId": "d9753191-4eaf-4d18-cc56-4567c85ad2e9"
      },
      "execution_count": 213,
      "outputs": [
        {
          "output_type": "execute_result",
          "data": {
            "text/plain": [
              "Text(0.5, 0, 'epochs')"
            ]
          },
          "metadata": {},
          "execution_count": 213
        },
        {
          "output_type": "display_data",
          "data": {
            "text/plain": [
              "<Figure size 640x480 with 1 Axes>"
            ],
            "image/png": "[encoded data removed]"
          },
          "metadata": {}
        }
      ]
    },
    {
      "cell_type": "markdown",
      "source": [
        "**Question:** how long should you train for?\n",
        "\n",
        "It depends. Really.., it depends on the problem you're working on. However, many people have asked this question before... s0 TensorFlow has a solution! It's called the EarlyStoppingCallback, Which is a tensorflow component you can add to your model to stop training once it stops improving a certain metric"
      ],
      "metadata": {
        "id": "ASvcjRMpHabn"
      }
    },
    {
      "cell_type": "markdown",
      "source": [
        "##Preprocessing data(normalization and standardization)\n",
        "\n",
        "In terms of scaling values, neural network tend to prefer normalization.\n",
        "\n",
        "if you're sure not on which to use, you could try both and see which performs better."
      ],
      "metadata": {
        "id": "_Iz980jDK2Fd"
      }
    },
    {
      "cell_type": "code",
      "source": [
        "import pandas as pd\n",
        "import matplotlib.pyplot as plt\n",
        "import tensorflow as tf\n",
        "\n",
        "\n",
        "#Read in the insurance dataframe\n",
        "insurance = pd.read_csv(\"https://raw.githubusercontent.com/stedy/Machine-Learning-with-R-datasets/master/insurance.csv\")\n",
        "insurance"
      ],
      "metadata": {
        "colab": {
          "base_uri": "https://localhost:8080/",
          "height": 423
        },
        "id": "NQP3c_MJOZre",
        "outputId": "c36657cd-de6e-4017-b507-183b92586c71"
      },
      "execution_count": 220,
      "outputs": [
        {
          "output_type": "execute_result",
          "data": {
            "text/plain": [
              "      age     sex     bmi  children smoker     region      charges\n",
              "0      19  female  27.900         0    yes  southwest  16884.92400\n",
              "1      18    male  33.770         1     no  southeast   1725.55230\n",
              "2      28    male  33.000         3     no  southeast   4449.46200\n",
              "3      33    male  22.705         0     no  northwest  21984.47061\n",
              "4      32    male  28.880         0     no  northwest   3866.85520\n",
              "...   ...     ...     ...       ...    ...        ...          ...\n",
              "1333   50    male  30.970         3     no  northwest  10600.54830\n",
              "1334   18  female  31.920         0     no  northeast   2205.98080\n",
              "1335   18  female  36.850         0     no  southeast   1629.83350\n",
              "1336   21  female  25.800         0     no  southwest   2007.94500\n",
              "1337   61  female  29.070         0    yes  northwest  29141.36030\n",
              "\n",
              "[1338 rows x 7 columns]"
            ],
            "text/html": [
              "\n",
              "  <div id=\"df-d1b67143-b421-4e2e-a191-27f5394db48a\">\n",
              "    <div class=\"colab-df-container\">\n",
              "      <div>\n",
              "<style scoped>\n",
              "    .dataframe tbody tr th:only-of-type {\n",
              "        vertical-align: middle;\n",
              "    }\n",
              "\n",
              "    .dataframe tbody tr th {\n",
              "        vertical-align: top;\n",
              "    }\n",
              "\n",
              "    .dataframe thead th {\n",
              "        text-align: right;\n",
              "    }\n",
              "</style>\n",
              "<table border=\"1\" class=\"dataframe\">\n",
              "  <thead>\n",
              "    <tr style=\"text-align: right;\">\n",
              "      <th></th>\n",
              "      <th>age</th>\n",
              "      <th>sex</th>\n",
              "      <th>bmi</th>\n",
              "      <th>children</th>\n",
              "      <th>smoker</th>\n",
              "      <th>region</th>\n",
              "      <th>charges</th>\n",
              "    </tr>\n",
              "  </thead>\n",
              "  <tbody>\n",
              "    <tr>\n",
              "      <th>0</th>\n",
              "      <td>19</td>\n",
              "      <td>female</td>\n",
              "      <td>27.900</td>\n",
              "      <td>0</td>\n",
              "      <td>yes</td>\n",
              "      <td>southwest</td>\n",
              "      <td>16884.92400</td>\n",
              "    </tr>\n",
              "    <tr>\n",
              "      <th>1</th>\n",
              "      <td>18</td>\n",
              "      <td>male</td>\n",
              "      <td>33.770</td>\n",
              "      <td>1</td>\n",
              "      <td>no</td>\n",
              "      <td>southeast</td>\n",
              "      <td>1725.55230</td>\n",
              "    </tr>\n",
              "    <tr>\n",
              "      <th>2</th>\n",
              "      <td>28</td>\n",
              "      <td>male</td>\n",
              "      <td>33.000</td>\n",
              "      <td>3</td>\n",
              "      <td>no</td>\n",
              "      <td>southeast</td>\n",
              "      <td>4449.46200</td>\n",
              "    </tr>\n",
              "    <tr>\n",
              "      <th>3</th>\n",
              "      <td>33</td>\n",
              "      <td>male</td>\n",
              "      <td>22.705</td>\n",
              "      <td>0</td>\n",
              "      <td>no</td>\n",
              "      <td>northwest</td>\n",
              "      <td>21984.47061</td>\n",
              "    </tr>\n",
              "    <tr>\n",
              "      <th>4</th>\n",
              "      <td>32</td>\n",
              "      <td>male</td>\n",
              "      <td>28.880</td>\n",
              "      <td>0</td>\n",
              "      <td>no</td>\n",
              "      <td>northwest</td>\n",
              "      <td>3866.85520</td>\n",
              "    </tr>\n",
              "    <tr>\n",
              "      <th>...</th>\n",
              "      <td>...</td>\n",
              "      <td>...</td>\n",
              "      <td>...</td>\n",
              "      <td>...</td>\n",
              "      <td>...</td>\n",
              "      <td>...</td>\n",
              "      <td>...</td>\n",
              "    </tr>\n",
              "    <tr>\n",
              "      <th>1333</th>\n",
              "      <td>50</td>\n",
              "      <td>male</td>\n",
              "      <td>30.970</td>\n",
              "      <td>3</td>\n",
              "      <td>no</td>\n",
              "      <td>northwest</td>\n",
              "      <td>10600.54830</td>\n",
              "    </tr>\n",
              "    <tr>\n",
              "      <th>1334</th>\n",
              "      <td>18</td>\n",
              "      <td>female</td>\n",
              "      <td>31.920</td>\n",
              "      <td>0</td>\n",
              "      <td>no</td>\n",
              "      <td>northeast</td>\n",
              "      <td>2205.98080</td>\n",
              "    </tr>\n",
              "    <tr>\n",
              "      <th>1335</th>\n",
              "      <td>18</td>\n",
              "      <td>female</td>\n",
              "      <td>36.850</td>\n",
              "      <td>0</td>\n",
              "      <td>no</td>\n",
              "      <td>southeast</td>\n",
              "      <td>1629.83350</td>\n",
              "    </tr>\n",
              "    <tr>\n",
              "      <th>1336</th>\n",
              "      <td>21</td>\n",
              "      <td>female</td>\n",
              "      <td>25.800</td>\n",
              "      <td>0</td>\n",
              "      <td>no</td>\n",
              "      <td>southwest</td>\n",
              "      <td>2007.94500</td>\n",
              "    </tr>\n",
              "    <tr>\n",
              "      <th>1337</th>\n",
              "      <td>61</td>\n",
              "      <td>female</td>\n",
              "      <td>29.070</td>\n",
              "      <td>0</td>\n",
              "      <td>yes</td>\n",
              "      <td>northwest</td>\n",
              "      <td>29141.36030</td>\n",
              "    </tr>\n",
              "  </tbody>\n",
              "</table>\n",
              "<p>1338 rows × 7 columns</p>\n",
              "</div>\n",
              "      <button class=\"colab-df-convert\" onclick=\"convertToInteractive('df-d1b67143-b421-4e2e-a191-27f5394db48a')\"\n",
              "              title=\"Convert this dataframe to an interactive table.\"\n",
              "              style=\"display:none;\">\n",
              "        \n",
              "  <svg xmlns=\"http://www.w3.org/2000/svg\" height=\"24px\"viewBox=\"0 0 24 24\"\n",
              "       width=\"24px\">\n",
              "    <path d=\"M0 0h24v24H0V0z\" fill=\"none\"/>\n",
              "    <path d=\"M18.56 5.44l.94 2.06.94-2.06 2.06-.94-2.06-.94-.94-2.06-.94 2.06-2.06.94zm-11 1L8.5 8.5l.94-2.06 2.06-.94-2.06-.94L8.5 2.5l-.94 2.06-2.06.94zm10 10l.94 2.06.94-2.06 2.06-.94-2.06-.94-.94-2.06-.94 2.06-2.06.94z\"/><path d=\"M17.41 7.96l-1.37-1.37c-.4-.4-.92-.59-1.43-.59-.52 0-1.04.2-1.43.59L10.3 9.45l-7.72 7.72c-.78.78-.78 2.05 0 2.83L4 21.41c.39.39.9.59 1.41.59.51 0 1.02-.2 1.41-.59l7.78-7.78 2.81-2.81c.8-.78.8-2.07 0-2.86zM5.41 20L4 18.59l7.72-7.72 1.47 1.35L5.41 20z\"/>\n",
              "  </svg>\n",
              "      </button>\n",
              "      \n",
              "  <style>\n",
              "    .colab-df-container {\n",
              "      display:flex;\n",
              "      flex-wrap:wrap;\n",
              "      gap: 12px;\n",
              "    }\n",
              "\n",
              "    .colab-df-convert {\n",
              "      background-color: #E8F0FE;\n",
              "      border: none;\n",
              "      border-radius: 50%;\n",
              "      cursor: pointer;\n",
              "      display: none;\n",
              "      fill: #1967D2;\n",
              "      height: 32px;\n",
              "      padding: 0 0 0 0;\n",
              "      width: 32px;\n",
              "    }\n",
              "\n",
              "    .colab-df-convert:hover {\n",
              "      background-color: #E2EBFA;\n",
              "      box-shadow: 0px 1px 2px rgba(60, 64, 67, 0.3), 0px 1px 3px 1px rgba(60, 64, 67, 0.15);\n",
              "      fill: #174EA6;\n",
              "    }\n",
              "\n",
              "    [theme=dark] .colab-df-convert {\n",
              "      background-color: #3B4455;\n",
              "      fill: #D2E3FC;\n",
              "    }\n",
              "\n",
              "    [theme=dark] .colab-df-convert:hover {\n",
              "      background-color: #434B5C;\n",
              "      box-shadow: 0px 1px 3px 1px rgba(0, 0, 0, 0.15);\n",
              "      filter: drop-shadow(0px 1px 2px rgba(0, 0, 0, 0.3));\n",
              "      fill: #FFFFFF;\n",
              "    }\n",
              "  </style>\n",
              "\n",
              "      <script>\n",
              "        const buttonEl =\n",
              "          document.querySelector('#df-d1b67143-b421-4e2e-a191-27f5394db48a button.colab-df-convert');\n",
              "        buttonEl.style.display =\n",
              "          google.colab.kernel.accessAllowed ? 'block' : 'none';\n",
              "\n",
              "        async function convertToInteractive(key) {\n",
              "          const element = document.querySelector('#df-d1b67143-b421-4e2e-a191-27f5394db48a');\n",
              "          const dataTable =\n",
              "            await google.colab.kernel.invokeFunction('convertToInteractive',\n",
              "                                                     [key], {});\n",
              "          if (!dataTable) return;\n",
              "\n",
              "          const docLinkHtml = 'Like what you see? Visit the ' +\n",
              "            '<a target=\"_blank\" href=https://colab.research.google.com/notebooks/data_table.ipynb>data table notebook</a>'\n",
              "            + ' to learn more about interactive tables.';\n",
              "          element.innerHTML = '';\n",
              "          dataTable['output_type'] = 'display_data';\n",
              "          await google.colab.output.renderOutput(dataTable, element);\n",
              "          const docLink = document.createElement('div');\n",
              "          docLink.innerHTML = docLinkHtml;\n",
              "          element.appendChild(docLink);\n",
              "        }\n",
              "      </script>\n",
              "    </div>\n",
              "  </div>\n",
              "  "
            ]
          },
          "metadata": {},
          "execution_count": 220
        }
      ]
    },
    {
      "cell_type": "code",
      "source": [
        "X_train, y_train"
      ],
      "metadata": {
        "colab": {
          "base_uri": "https://localhost:8080/"
        },
        "id": "qf4or9umK7EF",
        "outputId": "8ddf87bc-24a2-45c6-db83-db78588bb31d"
      },
      "execution_count": 214,
      "outputs": [
        {
          "output_type": "execute_result",
          "data": {
            "text/plain": [
              "(      age     bmi  children  sex_female  sex_male  smoker_no  smoker_yes  \\\n",
              " 560    46  19.950         2           1         0          1           0   \n",
              " 1285   47  24.320         0           1         0          1           0   \n",
              " 1142   52  24.860         0           1         0          1           0   \n",
              " 969    39  34.320         5           1         0          1           0   \n",
              " 486    54  21.470         3           1         0          1           0   \n",
              " ...   ...     ...       ...         ...       ...        ...         ...   \n",
              " 1095   18  31.350         4           1         0          1           0   \n",
              " 1130   39  23.870         5           1         0          1           0   \n",
              " 1294   58  25.175         0           0         1          1           0   \n",
              " 860    37  47.600         2           1         0          0           1   \n",
              " 1126   55  29.900         0           0         1          1           0   \n",
              " \n",
              "       region_northeast  region_northwest  region_southeast  region_southwest  \n",
              " 560                  0                 1                 0                 0  \n",
              " 1285                 1                 0                 0                 0  \n",
              " 1142                 0                 0                 1                 0  \n",
              " 969                  0                 0                 1                 0  \n",
              " 486                  0                 1                 0                 0  \n",
              " ...                ...               ...               ...               ...  \n",
              " 1095                 1                 0                 0                 0  \n",
              " 1130                 0                 0                 1                 0  \n",
              " 1294                 1                 0                 0                 0  \n",
              " 860                  0                 0                 0                 1  \n",
              " 1126                 0                 0                 0                 1  \n",
              " \n",
              " [1070 rows x 11 columns],\n",
              " 560      9193.83850\n",
              " 1285     8534.67180\n",
              " 1142    27117.99378\n",
              " 969      8596.82780\n",
              " 486     12475.35130\n",
              "            ...     \n",
              " 1095     4561.18850\n",
              " 1130     8582.30230\n",
              " 1294    11931.12525\n",
              " 860     46113.51100\n",
              " 1126    10214.63600\n",
              " Name: charges, Length: 1070, dtype: float64)"
            ]
          },
          "metadata": {},
          "execution_count": 214
        }
      ]
    },
    {
      "cell_type": "markdown",
      "source": [
        "To prepare our data, we can borrow a few classes from Scikit-learn"
      ],
      "metadata": {
        "id": "FZNxrwxpPK7L"
      }
    },
    {
      "cell_type": "code",
      "source": [
        "from sklearn.compose import make_column_transformer\n",
        "from sklearn.preprocessing import MinMaxScaler, OneHotEncoder\n",
        "from sklearn.model_selection import train_test_split\n",
        "\n",
        "\n",
        "#Create a column transformer \n",
        "ct = make_column_transformer(\n",
        "    (MinMaxScaler(), [\"age\",\"bmi\",\"children\"]), #turn all values in these columns into between 0 and 1\n",
        "    (OneHotEncoder(handle_unknown=\"ignore\"), [\"sex\",\"smoker\",\"region\"])\n",
        ")\n",
        "\n",
        "#Create X & y \n",
        "X = insurance.drop(\"charges\", axis = 1)\n",
        "y = insurance[\"charges\"]\n",
        "\n",
        "# Build our train and test sets\n",
        "X_train, X_test, y_train, y_test = train_test_split(X,y, test_size=0.2, random_state = 42)\n",
        "\n",
        "#Fit the column transformer  to our training data\n",
        "ct.fit(X_train)\n",
        "\n",
        "#Transform training and test data with normalization (MinMaxScaler) and OneHotEncoder\n",
        "X_train_normal = ct.transform(X_train)\n",
        "X_test_normal = ct.transform(X_test)\n"
      ],
      "metadata": {
        "id": "MingsV_RK89w"
      },
      "execution_count": 221,
      "outputs": []
    },
    {
      "cell_type": "code",
      "source": [
        "#what does our data look like now?\n",
        "X_train.loc[0]"
      ],
      "metadata": {
        "colab": {
          "base_uri": "https://localhost:8080/"
        },
        "id": "TRLxo9SvRy6h",
        "outputId": "8f82b33a-b902-4660-fe69-be98b961c44a"
      },
      "execution_count": 222,
      "outputs": [
        {
          "output_type": "execute_result",
          "data": {
            "text/plain": [
              "age                19\n",
              "sex            female\n",
              "bmi              27.9\n",
              "children            0\n",
              "smoker            yes\n",
              "region      southwest\n",
              "Name: 0, dtype: object"
            ]
          },
          "metadata": {},
          "execution_count": 222
        }
      ]
    },
    {
      "cell_type": "code",
      "source": [
        "X_train_normal[0]"
      ],
      "metadata": {
        "colab": {
          "base_uri": "https://localhost:8080/"
        },
        "id": "beWgxJcMR6NE",
        "outputId": "d3bd26fc-ccb2-4056-83ba-d6bb1a7cf041"
      },
      "execution_count": 226,
      "outputs": [
        {
          "output_type": "execute_result",
          "data": {
            "text/plain": [
              "array([0.60869565, 0.10734463, 0.4       , 1.        , 0.        ,\n",
              "       1.        , 0.        , 0.        , 1.        , 0.        ,\n",
              "       0.        ])"
            ]
          },
          "metadata": {},
          "execution_count": 226
        }
      ]
    },
    {
      "cell_type": "code",
      "source": [
        "X_train.shape, X_train_normal.shape"
      ],
      "metadata": {
        "colab": {
          "base_uri": "https://localhost:8080/"
        },
        "id": "SU7EfezVSTNF",
        "outputId": "f71282d5-727e-4932-b5b5-1c5459debe17"
      },
      "execution_count": 227,
      "outputs": [
        {
          "output_type": "execute_result",
          "data": {
            "text/plain": [
              "((1070, 6), (1070, 11))"
            ]
          },
          "metadata": {},
          "execution_count": 227
        }
      ]
    },
    {
      "cell_type": "markdown",
      "source": [
        "Beautiful! our data has been normalize and one hot encoded => let's build a neural network model on it and see how it goes"
      ],
      "metadata": {
        "id": "8bj-HBD8Sgb-"
      }
    },
    {
      "cell_type": "code",
      "source": [
        "insurance_model_2.summary()"
      ],
      "metadata": {
        "colab": {
          "base_uri": "https://localhost:8080/"
        },
        "id": "NnN9QLUwU9gi",
        "outputId": "90dd2ab2-fa22-41e1-cf86-3fda3c75c9c9"
      },
      "execution_count": 232,
      "outputs": [
        {
          "output_type": "stream",
          "name": "stdout",
          "text": [
            "Model: \"sequential_31\"\n",
            "_________________________________________________________________\n",
            " Layer (type)                Output Shape              Param #   \n",
            "=================================================================\n",
            " dense_57 (Dense)            (None, 100)               1200      \n",
            "                                                                 \n",
            " dense_58 (Dense)            (None, 10)                1010      \n",
            "                                                                 \n",
            " dense_59 (Dense)            (None, 1)                 11        \n",
            "                                                                 \n",
            "=================================================================\n",
            "Total params: 2,221\n",
            "Trainable params: 2,221\n",
            "Non-trainable params: 0\n",
            "_________________________________________________________________\n"
          ]
        }
      ]
    },
    {
      "cell_type": "code",
      "source": [
        "#Build a neural network to fit on our normalized data\n",
        "\n",
        "#set seed\n",
        "tf.random.set_seed(42)\n",
        "\n",
        "#1. Create the model\n",
        "final_model = tf.keras.Sequential([\n",
        "    tf.keras.layers.Dense(100),\n",
        "    tf.keras.layers.Dense(10),\n",
        "    tf.keras.layers.Dense(1)\n",
        "\n",
        "])\n",
        "\n",
        "#2. compile the model\n",
        "\n",
        "final_model.compile(\n",
        "    loss = tf.keras.losses.mae,\n",
        "    optimizer = tf.keras.optimizers.legacy.Adam(),\n",
        "    metrics = [\"mae\"]\n",
        ")\n",
        "\n",
        "#3. fit the model\n",
        "final_model.fit(X_train_normal, y_train, epochs = 200)"
      ],
      "metadata": {
        "colab": {
          "base_uri": "https://localhost:8080/"
        },
        "id": "Uz9uxmLRSfIm",
        "outputId": "389ae104-abbf-455d-e7b1-be3f2bc07cbd"
      },
      "execution_count": 231,
      "outputs": [
        {
          "output_type": "stream",
          "name": "stdout",
          "text": [
            "Epoch 1/200\n",
            "34/34 [==============================] - 1s 5ms/step - loss: 13344.0508 - mae: 13344.0508\n",
            "Epoch 2/200\n",
            "34/34 [==============================] - 0s 5ms/step - loss: 13336.7158 - mae: 13336.7158\n",
            "Epoch 3/200\n",
            "34/34 [==============================] - 0s 5ms/step - loss: 13317.5801 - mae: 13317.5801\n",
            "Epoch 4/200\n",
            "34/34 [==============================] - 0s 4ms/step - loss: 13276.5557 - mae: 13276.5557\n",
            "Epoch 5/200\n",
            "34/34 [==============================] - 0s 4ms/step - loss: 13202.6143 - mae: 13202.6143\n",
            "Epoch 6/200\n",
            "34/34 [==============================] - 0s 5ms/step - loss: 13084.7930 - mae: 13084.7930\n",
            "Epoch 7/200\n",
            "34/34 [==============================] - 0s 5ms/step - loss: 12912.8525 - mae: 12912.8525\n",
            "Epoch 8/200\n",
            "34/34 [==============================] - 0s 5ms/step - loss: 12676.6152 - mae: 12676.6152\n",
            "Epoch 9/200\n",
            "34/34 [==============================] - 0s 6ms/step - loss: 12365.7812 - mae: 12365.7812\n",
            "Epoch 10/200\n",
            "34/34 [==============================] - 0s 6ms/step - loss: 11974.4570 - mae: 11974.4570\n",
            "Epoch 11/200\n",
            "34/34 [==============================] - 0s 6ms/step - loss: 11509.8750 - mae: 11509.8750\n",
            "Epoch 12/200\n",
            "34/34 [==============================] - 0s 4ms/step - loss: 11006.0957 - mae: 11006.0957\n",
            "Epoch 13/200\n",
            "34/34 [==============================] - 0s 8ms/step - loss: 10505.4170 - mae: 10505.4170\n",
            "Epoch 14/200\n",
            "34/34 [==============================] - 0s 8ms/step - loss: 10007.5098 - mae: 10007.5098\n",
            "Epoch 15/200\n",
            "34/34 [==============================] - 0s 9ms/step - loss: 9535.4248 - mae: 9535.4248\n",
            "Epoch 16/200\n",
            "34/34 [==============================] - 0s 9ms/step - loss: 9113.2129 - mae: 9113.2129\n",
            "Epoch 17/200\n",
            "34/34 [==============================] - 0s 5ms/step - loss: 8759.6338 - mae: 8759.6338\n",
            "Epoch 18/200\n",
            "34/34 [==============================] - 0s 2ms/step - loss: 8474.8037 - mae: 8474.8037\n",
            "Epoch 19/200\n",
            "34/34 [==============================] - 0s 3ms/step - loss: 8252.5254 - mae: 8252.5254\n",
            "Epoch 20/200\n",
            "34/34 [==============================] - 0s 2ms/step - loss: 8100.8643 - mae: 8100.8643\n",
            "Epoch 21/200\n",
            "34/34 [==============================] - 0s 2ms/step - loss: 7986.6934 - mae: 7986.6934\n",
            "Epoch 22/200\n",
            "34/34 [==============================] - 0s 3ms/step - loss: 7909.0581 - mae: 7909.0581\n",
            "Epoch 23/200\n",
            "34/34 [==============================] - 0s 3ms/step - loss: 7848.6362 - mae: 7848.6362\n",
            "Epoch 24/200\n",
            "34/34 [==============================] - 0s 2ms/step - loss: 7795.9790 - mae: 7795.9790\n",
            "Epoch 25/200\n",
            "34/34 [==============================] - 0s 2ms/step - loss: 7757.5200 - mae: 7757.5200\n",
            "Epoch 26/200\n",
            "34/34 [==============================] - 0s 3ms/step - loss: 7706.3999 - mae: 7706.3999\n",
            "Epoch 27/200\n",
            "34/34 [==============================] - 0s 3ms/step - loss: 7665.0815 - mae: 7665.0815\n",
            "Epoch 28/200\n",
            "34/34 [==============================] - 0s 3ms/step - loss: 7623.0381 - mae: 7623.0381\n",
            "Epoch 29/200\n",
            "34/34 [==============================] - 0s 3ms/step - loss: 7580.9292 - mae: 7580.9292\n",
            "Epoch 30/200\n",
            "34/34 [==============================] - 0s 3ms/step - loss: 7538.0308 - mae: 7538.0308\n",
            "Epoch 31/200\n",
            "34/34 [==============================] - 0s 3ms/step - loss: 7494.7173 - mae: 7494.7173\n",
            "Epoch 32/200\n",
            "34/34 [==============================] - 0s 3ms/step - loss: 7451.1978 - mae: 7451.1978\n",
            "Epoch 33/200\n",
            "34/34 [==============================] - 0s 3ms/step - loss: 7407.5068 - mae: 7407.5068\n",
            "Epoch 34/200\n",
            "34/34 [==============================] - 0s 4ms/step - loss: 7359.8867 - mae: 7359.8867\n",
            "Epoch 35/200\n",
            "34/34 [==============================] - 0s 4ms/step - loss: 7313.8145 - mae: 7313.8145\n",
            "Epoch 36/200\n",
            "34/34 [==============================] - 0s 4ms/step - loss: 7264.4253 - mae: 7264.4253\n",
            "Epoch 37/200\n",
            "34/34 [==============================] - 0s 5ms/step - loss: 7214.8843 - mae: 7214.8843\n",
            "Epoch 38/200\n",
            "34/34 [==============================] - 0s 4ms/step - loss: 7164.6836 - mae: 7164.6836\n",
            "Epoch 39/200\n",
            "34/34 [==============================] - 0s 5ms/step - loss: 7110.8496 - mae: 7110.8496\n",
            "Epoch 40/200\n",
            "34/34 [==============================] - 0s 5ms/step - loss: 7056.4385 - mae: 7056.4385\n",
            "Epoch 41/200\n",
            "34/34 [==============================] - 0s 4ms/step - loss: 7001.0190 - mae: 7001.0190\n",
            "Epoch 42/200\n",
            "34/34 [==============================] - 0s 4ms/step - loss: 6943.4395 - mae: 6943.4395\n",
            "Epoch 43/200\n",
            "34/34 [==============================] - 0s 4ms/step - loss: 6882.0688 - mae: 6882.0688\n",
            "Epoch 44/200\n",
            "34/34 [==============================] - 0s 4ms/step - loss: 6817.1997 - mae: 6817.1997\n",
            "Epoch 45/200\n",
            "34/34 [==============================] - 0s 4ms/step - loss: 6751.5483 - mae: 6751.5483\n",
            "Epoch 46/200\n",
            "34/34 [==============================] - 0s 4ms/step - loss: 6683.6636 - mae: 6683.6636\n",
            "Epoch 47/200\n",
            "34/34 [==============================] - 0s 4ms/step - loss: 6614.3076 - mae: 6614.3076\n",
            "Epoch 48/200\n",
            "34/34 [==============================] - 0s 4ms/step - loss: 6537.4004 - mae: 6537.4004\n",
            "Epoch 49/200\n",
            "34/34 [==============================] - 0s 4ms/step - loss: 6460.4883 - mae: 6460.4883\n",
            "Epoch 50/200\n",
            "34/34 [==============================] - 0s 4ms/step - loss: 6376.8677 - mae: 6376.8677\n",
            "Epoch 51/200\n",
            "34/34 [==============================] - 0s 4ms/step - loss: 6294.6377 - mae: 6294.6377\n",
            "Epoch 52/200\n",
            "34/34 [==============================] - 0s 4ms/step - loss: 6203.5254 - mae: 6203.5254\n",
            "Epoch 53/200\n",
            "34/34 [==============================] - 0s 4ms/step - loss: 6110.2808 - mae: 6110.2808\n",
            "Epoch 54/200\n",
            "34/34 [==============================] - 0s 4ms/step - loss: 6014.3135 - mae: 6014.3135\n",
            "Epoch 55/200\n",
            "34/34 [==============================] - 0s 5ms/step - loss: 5909.9624 - mae: 5909.9624\n",
            "Epoch 56/200\n",
            "34/34 [==============================] - 0s 4ms/step - loss: 5804.7925 - mae: 5804.7925\n",
            "Epoch 57/200\n",
            "34/34 [==============================] - 0s 4ms/step - loss: 5692.0005 - mae: 5692.0005\n",
            "Epoch 58/200\n",
            "34/34 [==============================] - 0s 5ms/step - loss: 5576.6494 - mae: 5576.6494\n",
            "Epoch 59/200\n",
            "34/34 [==============================] - 0s 4ms/step - loss: 5461.6240 - mae: 5461.6240\n",
            "Epoch 60/200\n",
            "34/34 [==============================] - 0s 4ms/step - loss: 5341.9062 - mae: 5341.9062\n",
            "Epoch 61/200\n",
            "34/34 [==============================] - 0s 5ms/step - loss: 5217.5239 - mae: 5217.5239\n",
            "Epoch 62/200\n",
            "34/34 [==============================] - 0s 4ms/step - loss: 5091.5493 - mae: 5091.5493\n",
            "Epoch 63/200\n",
            "34/34 [==============================] - 0s 5ms/step - loss: 4965.3569 - mae: 4965.3569\n",
            "Epoch 64/200\n",
            "34/34 [==============================] - 0s 4ms/step - loss: 4836.4395 - mae: 4836.4395\n",
            "Epoch 65/200\n",
            "34/34 [==============================] - 0s 5ms/step - loss: 4710.6899 - mae: 4710.6899\n",
            "Epoch 66/200\n",
            "34/34 [==============================] - 0s 3ms/step - loss: 4583.8564 - mae: 4583.8564\n",
            "Epoch 67/200\n",
            "34/34 [==============================] - 0s 2ms/step - loss: 4473.3394 - mae: 4473.3394\n",
            "Epoch 68/200\n",
            "34/34 [==============================] - 0s 3ms/step - loss: 4366.4600 - mae: 4366.4600\n",
            "Epoch 69/200\n",
            "34/34 [==============================] - 0s 3ms/step - loss: 4264.2061 - mae: 4264.2061\n",
            "Epoch 70/200\n",
            "34/34 [==============================] - 0s 3ms/step - loss: 4168.0161 - mae: 4168.0161\n",
            "Epoch 71/200\n",
            "34/34 [==============================] - 0s 3ms/step - loss: 4076.6753 - mae: 4076.6753\n",
            "Epoch 72/200\n",
            "34/34 [==============================] - 0s 3ms/step - loss: 3995.6702 - mae: 3995.6702\n",
            "Epoch 73/200\n",
            "34/34 [==============================] - 0s 3ms/step - loss: 3923.4812 - mae: 3923.4812\n",
            "Epoch 74/200\n",
            "34/34 [==============================] - 0s 2ms/step - loss: 3862.2874 - mae: 3862.2874\n",
            "Epoch 75/200\n",
            "34/34 [==============================] - 0s 2ms/step - loss: 3814.0854 - mae: 3814.0854\n",
            "Epoch 76/200\n",
            "34/34 [==============================] - 0s 3ms/step - loss: 3774.4478 - mae: 3774.4478\n",
            "Epoch 77/200\n",
            "34/34 [==============================] - 0s 3ms/step - loss: 3742.9954 - mae: 3742.9954\n",
            "Epoch 78/200\n",
            "34/34 [==============================] - 0s 3ms/step - loss: 3720.3657 - mae: 3720.3657\n",
            "Epoch 79/200\n",
            "34/34 [==============================] - 0s 3ms/step - loss: 3702.3010 - mae: 3702.3010\n",
            "Epoch 80/200\n",
            "34/34 [==============================] - 0s 2ms/step - loss: 3689.8896 - mae: 3689.8896\n",
            "Epoch 81/200\n",
            "34/34 [==============================] - 0s 3ms/step - loss: 3681.1855 - mae: 3681.1855\n",
            "Epoch 82/200\n",
            "34/34 [==============================] - 0s 2ms/step - loss: 3676.2791 - mae: 3676.2791\n",
            "Epoch 83/200\n",
            "34/34 [==============================] - 0s 2ms/step - loss: 3668.6208 - mae: 3668.6208\n",
            "Epoch 84/200\n",
            "34/34 [==============================] - 0s 2ms/step - loss: 3664.8242 - mae: 3664.8242\n",
            "Epoch 85/200\n",
            "34/34 [==============================] - 0s 2ms/step - loss: 3662.9358 - mae: 3662.9358\n",
            "Epoch 86/200\n",
            "34/34 [==============================] - 0s 2ms/step - loss: 3660.4810 - mae: 3660.4810\n",
            "Epoch 87/200\n",
            "34/34 [==============================] - 0s 2ms/step - loss: 3657.2378 - mae: 3657.2378\n",
            "Epoch 88/200\n",
            "34/34 [==============================] - 0s 2ms/step - loss: 3654.5078 - mae: 3654.5078\n",
            "Epoch 89/200\n",
            "34/34 [==============================] - 0s 3ms/step - loss: 3652.5137 - mae: 3652.5137\n",
            "Epoch 90/200\n",
            "34/34 [==============================] - 0s 3ms/step - loss: 3650.8335 - mae: 3650.8335\n",
            "Epoch 91/200\n",
            "34/34 [==============================] - 0s 2ms/step - loss: 3648.0923 - mae: 3648.0923\n",
            "Epoch 92/200\n",
            "34/34 [==============================] - 0s 2ms/step - loss: 3647.2124 - mae: 3647.2124\n",
            "Epoch 93/200\n",
            "34/34 [==============================] - 0s 2ms/step - loss: 3644.9141 - mae: 3644.9141\n",
            "Epoch 94/200\n",
            "34/34 [==============================] - 0s 3ms/step - loss: 3643.2986 - mae: 3643.2986\n",
            "Epoch 95/200\n",
            "34/34 [==============================] - 0s 2ms/step - loss: 3644.4165 - mae: 3644.4165\n",
            "Epoch 96/200\n",
            "34/34 [==============================] - 0s 2ms/step - loss: 3641.1636 - mae: 3641.1636\n",
            "Epoch 97/200\n",
            "34/34 [==============================] - 0s 3ms/step - loss: 3638.7473 - mae: 3638.7473\n",
            "Epoch 98/200\n",
            "34/34 [==============================] - 0s 2ms/step - loss: 3636.6790 - mae: 3636.6790\n",
            "Epoch 99/200\n",
            "34/34 [==============================] - 0s 2ms/step - loss: 3636.2996 - mae: 3636.2996\n",
            "Epoch 100/200\n",
            "34/34 [==============================] - 0s 3ms/step - loss: 3634.5552 - mae: 3634.5552\n",
            "Epoch 101/200\n",
            "34/34 [==============================] - 0s 3ms/step - loss: 3631.5645 - mae: 3631.5645\n",
            "Epoch 102/200\n",
            "34/34 [==============================] - 0s 2ms/step - loss: 3629.2246 - mae: 3629.2246\n",
            "Epoch 103/200\n",
            "34/34 [==============================] - 0s 3ms/step - loss: 3628.0281 - mae: 3628.0281\n",
            "Epoch 104/200\n",
            "34/34 [==============================] - 0s 2ms/step - loss: 3625.6104 - mae: 3625.6104\n",
            "Epoch 105/200\n",
            "34/34 [==============================] - 0s 2ms/step - loss: 3624.1814 - mae: 3624.1814\n",
            "Epoch 106/200\n",
            "34/34 [==============================] - 0s 2ms/step - loss: 3622.7522 - mae: 3622.7522\n",
            "Epoch 107/200\n",
            "34/34 [==============================] - 0s 2ms/step - loss: 3622.2339 - mae: 3622.2339\n",
            "Epoch 108/200\n",
            "34/34 [==============================] - 0s 2ms/step - loss: 3619.7363 - mae: 3619.7363\n",
            "Epoch 109/200\n",
            "34/34 [==============================] - 0s 2ms/step - loss: 3620.0730 - mae: 3620.0730\n",
            "Epoch 110/200\n",
            "34/34 [==============================] - 0s 3ms/step - loss: 3616.4719 - mae: 3616.4719\n",
            "Epoch 111/200\n",
            "34/34 [==============================] - 0s 3ms/step - loss: 3613.8879 - mae: 3613.8879\n",
            "Epoch 112/200\n",
            "34/34 [==============================] - 0s 3ms/step - loss: 3611.8599 - mae: 3611.8599\n",
            "Epoch 113/200\n",
            "34/34 [==============================] - 0s 2ms/step - loss: 3610.4607 - mae: 3610.4607\n",
            "Epoch 114/200\n",
            "34/34 [==============================] - 0s 2ms/step - loss: 3609.5022 - mae: 3609.5022\n",
            "Epoch 115/200\n",
            "34/34 [==============================] - 0s 3ms/step - loss: 3607.8650 - mae: 3607.8650\n",
            "Epoch 116/200\n",
            "34/34 [==============================] - 0s 3ms/step - loss: 3606.3269 - mae: 3606.3269\n",
            "Epoch 117/200\n",
            "34/34 [==============================] - 0s 2ms/step - loss: 3603.3838 - mae: 3603.3838\n",
            "Epoch 118/200\n",
            "34/34 [==============================] - 0s 3ms/step - loss: 3599.7356 - mae: 3599.7356\n",
            "Epoch 119/200\n",
            "34/34 [==============================] - 0s 2ms/step - loss: 3601.9111 - mae: 3601.9111\n",
            "Epoch 120/200\n",
            "34/34 [==============================] - 0s 2ms/step - loss: 3598.4524 - mae: 3598.4524\n",
            "Epoch 121/200\n",
            "34/34 [==============================] - 0s 3ms/step - loss: 3593.8867 - mae: 3593.8867\n",
            "Epoch 122/200\n",
            "34/34 [==============================] - 0s 3ms/step - loss: 3593.2048 - mae: 3593.2048\n",
            "Epoch 123/200\n",
            "34/34 [==============================] - 0s 3ms/step - loss: 3591.2073 - mae: 3591.2073\n",
            "Epoch 124/200\n",
            "34/34 [==============================] - 0s 3ms/step - loss: 3589.0127 - mae: 3589.0127\n",
            "Epoch 125/200\n",
            "34/34 [==============================] - 0s 3ms/step - loss: 3587.0881 - mae: 3587.0881\n",
            "Epoch 126/200\n",
            "34/34 [==============================] - 0s 3ms/step - loss: 3585.7822 - mae: 3585.7822\n",
            "Epoch 127/200\n",
            "34/34 [==============================] - 0s 3ms/step - loss: 3586.3474 - mae: 3586.3474\n",
            "Epoch 128/200\n",
            "34/34 [==============================] - 0s 3ms/step - loss: 3582.7852 - mae: 3582.7852\n",
            "Epoch 129/200\n",
            "34/34 [==============================] - 0s 2ms/step - loss: 3581.3713 - mae: 3581.3713\n",
            "Epoch 130/200\n",
            "34/34 [==============================] - 0s 2ms/step - loss: 3577.7825 - mae: 3577.7825\n",
            "Epoch 131/200\n",
            "34/34 [==============================] - 0s 3ms/step - loss: 3576.3877 - mae: 3576.3877\n",
            "Epoch 132/200\n",
            "34/34 [==============================] - 0s 4ms/step - loss: 3573.5110 - mae: 3573.5110\n",
            "Epoch 133/200\n",
            "34/34 [==============================] - 0s 3ms/step - loss: 3572.0750 - mae: 3572.0750\n",
            "Epoch 134/200\n",
            "34/34 [==============================] - 0s 3ms/step - loss: 3569.8660 - mae: 3569.8660\n",
            "Epoch 135/200\n",
            "34/34 [==============================] - 0s 3ms/step - loss: 3568.0239 - mae: 3568.0239\n",
            "Epoch 136/200\n",
            "34/34 [==============================] - 0s 3ms/step - loss: 3566.5447 - mae: 3566.5447\n",
            "Epoch 137/200\n",
            "34/34 [==============================] - 0s 3ms/step - loss: 3564.8767 - mae: 3564.8767\n",
            "Epoch 138/200\n",
            "34/34 [==============================] - 0s 3ms/step - loss: 3562.6511 - mae: 3562.6511\n",
            "Epoch 139/200\n",
            "34/34 [==============================] - 0s 3ms/step - loss: 3561.9412 - mae: 3561.9412\n",
            "Epoch 140/200\n",
            "34/34 [==============================] - 0s 3ms/step - loss: 3559.7957 - mae: 3559.7957\n",
            "Epoch 141/200\n",
            "34/34 [==============================] - 0s 3ms/step - loss: 3559.8289 - mae: 3559.8289\n",
            "Epoch 142/200\n",
            "34/34 [==============================] - 0s 2ms/step - loss: 3556.8401 - mae: 3556.8401\n",
            "Epoch 143/200\n",
            "34/34 [==============================] - 0s 3ms/step - loss: 3557.3479 - mae: 3557.3479\n",
            "Epoch 144/200\n",
            "34/34 [==============================] - 0s 3ms/step - loss: 3554.0686 - mae: 3554.0686\n",
            "Epoch 145/200\n",
            "34/34 [==============================] - 0s 3ms/step - loss: 3552.2717 - mae: 3552.2717\n",
            "Epoch 146/200\n",
            "34/34 [==============================] - 0s 3ms/step - loss: 3552.5352 - mae: 3552.5352\n",
            "Epoch 147/200\n",
            "34/34 [==============================] - 0s 2ms/step - loss: 3550.3833 - mae: 3550.3833\n",
            "Epoch 148/200\n",
            "34/34 [==============================] - 0s 2ms/step - loss: 3548.7881 - mae: 3548.7881\n",
            "Epoch 149/200\n",
            "34/34 [==============================] - 0s 2ms/step - loss: 3546.0129 - mae: 3546.0129\n",
            "Epoch 150/200\n",
            "34/34 [==============================] - 0s 3ms/step - loss: 3545.7910 - mae: 3545.7910\n",
            "Epoch 151/200\n",
            "34/34 [==============================] - 0s 3ms/step - loss: 3544.1018 - mae: 3544.1018\n",
            "Epoch 152/200\n",
            "34/34 [==============================] - 0s 3ms/step - loss: 3542.3721 - mae: 3542.3721\n",
            "Epoch 153/200\n",
            "34/34 [==============================] - 0s 3ms/step - loss: 3540.8589 - mae: 3540.8589\n",
            "Epoch 154/200\n",
            "34/34 [==============================] - 0s 2ms/step - loss: 3542.3535 - mae: 3542.3535\n",
            "Epoch 155/200\n",
            "34/34 [==============================] - 0s 3ms/step - loss: 3539.7283 - mae: 3539.7283\n",
            "Epoch 156/200\n",
            "34/34 [==============================] - 0s 2ms/step - loss: 3537.9646 - mae: 3537.9646\n",
            "Epoch 157/200\n",
            "34/34 [==============================] - 0s 3ms/step - loss: 3536.5625 - mae: 3536.5625\n",
            "Epoch 158/200\n",
            "34/34 [==============================] - 0s 2ms/step - loss: 3533.5784 - mae: 3533.5784\n",
            "Epoch 159/200\n",
            "34/34 [==============================] - 0s 3ms/step - loss: 3532.0906 - mae: 3532.0906\n",
            "Epoch 160/200\n",
            "34/34 [==============================] - 0s 3ms/step - loss: 3531.8220 - mae: 3531.8220\n",
            "Epoch 161/200\n",
            "34/34 [==============================] - 0s 3ms/step - loss: 3528.8081 - mae: 3528.8081\n",
            "Epoch 162/200\n",
            "34/34 [==============================] - 0s 2ms/step - loss: 3528.1472 - mae: 3528.1472\n",
            "Epoch 163/200\n",
            "34/34 [==============================] - 0s 3ms/step - loss: 3526.6614 - mae: 3526.6614\n",
            "Epoch 164/200\n",
            "34/34 [==============================] - 0s 3ms/step - loss: 3525.5264 - mae: 3525.5264\n",
            "Epoch 165/200\n",
            "34/34 [==============================] - 0s 3ms/step - loss: 3523.3794 - mae: 3523.3794\n",
            "Epoch 166/200\n",
            "34/34 [==============================] - 0s 4ms/step - loss: 3521.9373 - mae: 3521.9373\n",
            "Epoch 167/200\n",
            "34/34 [==============================] - 0s 5ms/step - loss: 3521.1492 - mae: 3521.1492\n",
            "Epoch 168/200\n",
            "34/34 [==============================] - 0s 4ms/step - loss: 3520.1895 - mae: 3520.1895\n",
            "Epoch 169/200\n",
            "34/34 [==============================] - 0s 5ms/step - loss: 3518.9641 - mae: 3518.9641\n",
            "Epoch 170/200\n",
            "34/34 [==============================] - 0s 4ms/step - loss: 3517.2493 - mae: 3517.2493\n",
            "Epoch 171/200\n",
            "34/34 [==============================] - 0s 4ms/step - loss: 3516.8718 - mae: 3516.8718\n",
            "Epoch 172/200\n",
            "34/34 [==============================] - 0s 4ms/step - loss: 3515.4265 - mae: 3515.4265\n",
            "Epoch 173/200\n",
            "34/34 [==============================] - 0s 4ms/step - loss: 3514.0032 - mae: 3514.0032\n",
            "Epoch 174/200\n",
            "34/34 [==============================] - 0s 4ms/step - loss: 3512.9248 - mae: 3512.9248\n",
            "Epoch 175/200\n",
            "34/34 [==============================] - 0s 4ms/step - loss: 3511.6924 - mae: 3511.6924\n",
            "Epoch 176/200\n",
            "34/34 [==============================] - 0s 4ms/step - loss: 3511.5725 - mae: 3511.5725\n",
            "Epoch 177/200\n",
            "34/34 [==============================] - 0s 5ms/step - loss: 3511.8357 - mae: 3511.8357\n",
            "Epoch 178/200\n",
            "34/34 [==============================] - 0s 5ms/step - loss: 3509.5671 - mae: 3509.5671\n",
            "Epoch 179/200\n",
            "34/34 [==============================] - 0s 4ms/step - loss: 3511.4797 - mae: 3511.4797\n",
            "Epoch 180/200\n",
            "34/34 [==============================] - 0s 4ms/step - loss: 3506.3972 - mae: 3506.3972\n",
            "Epoch 181/200\n",
            "34/34 [==============================] - 0s 4ms/step - loss: 3504.3711 - mae: 3504.3711\n",
            "Epoch 182/200\n",
            "34/34 [==============================] - 0s 5ms/step - loss: 3503.7124 - mae: 3503.7124\n",
            "Epoch 183/200\n",
            "34/34 [==============================] - 0s 4ms/step - loss: 3501.7371 - mae: 3501.7371\n",
            "Epoch 184/200\n",
            "34/34 [==============================] - 0s 4ms/step - loss: 3501.3496 - mae: 3501.3496\n",
            "Epoch 185/200\n",
            "34/34 [==============================] - 0s 4ms/step - loss: 3500.6638 - mae: 3500.6638\n",
            "Epoch 186/200\n",
            "34/34 [==============================] - 0s 4ms/step - loss: 3498.2544 - mae: 3498.2542\n",
            "Epoch 187/200\n",
            "34/34 [==============================] - 0s 4ms/step - loss: 3498.6003 - mae: 3498.6003\n",
            "Epoch 188/200\n",
            "34/34 [==============================] - 0s 4ms/step - loss: 3495.9739 - mae: 3495.9739\n",
            "Epoch 189/200\n",
            "34/34 [==============================] - 0s 4ms/step - loss: 3494.3660 - mae: 3494.3660\n",
            "Epoch 190/200\n",
            "34/34 [==============================] - 0s 4ms/step - loss: 3495.9429 - mae: 3495.9429\n",
            "Epoch 191/200\n",
            "34/34 [==============================] - 0s 4ms/step - loss: 3501.0920 - mae: 3501.0920\n",
            "Epoch 192/200\n",
            "34/34 [==============================] - 0s 4ms/step - loss: 3491.2114 - mae: 3491.2114\n",
            "Epoch 193/200\n",
            "34/34 [==============================] - 0s 4ms/step - loss: 3490.9685 - mae: 3490.9685\n",
            "Epoch 194/200\n",
            "34/34 [==============================] - 0s 5ms/step - loss: 3488.1929 - mae: 3488.1929\n",
            "Epoch 195/200\n",
            "34/34 [==============================] - 0s 4ms/step - loss: 3487.5911 - mae: 3487.5911\n",
            "Epoch 196/200\n",
            "34/34 [==============================] - 0s 4ms/step - loss: 3488.6997 - mae: 3488.6997\n",
            "Epoch 197/200\n",
            "34/34 [==============================] - 0s 5ms/step - loss: 3485.1213 - mae: 3485.1213\n",
            "Epoch 198/200\n",
            "34/34 [==============================] - 0s 4ms/step - loss: 3484.0747 - mae: 3484.0747\n",
            "Epoch 199/200\n",
            "34/34 [==============================] - 0s 3ms/step - loss: 3482.9048 - mae: 3482.9048\n",
            "Epoch 200/200\n",
            "34/34 [==============================] - 0s 2ms/step - loss: 3483.4817 - mae: 3483.4817\n"
          ]
        },
        {
          "output_type": "execute_result",
          "data": {
            "text/plain": [
              "<keras.callbacks.History at 0x7ff9b30c1040>"
            ]
          },
          "metadata": {},
          "execution_count": 231
        }
      ]
    },
    {
      "cell_type": "code",
      "source": [
        "#evaluate our model trained on normalized data\n",
        "final_model.evaluate(X_test_normal, y_test)"
      ],
      "metadata": {
        "colab": {
          "base_uri": "https://localhost:8080/"
        },
        "id": "3gvDsNjDVqM_",
        "outputId": "22a06e89-e89b-42cc-c007-747f65bcb2e3"
      },
      "execution_count": 234,
      "outputs": [
        {
          "output_type": "stream",
          "name": "stdout",
          "text": [
            "9/9 [==============================] - 0s 3ms/step - loss: 3170.0417 - mae: 3170.0417\n"
          ]
        },
        {
          "output_type": "execute_result",
          "data": {
            "text/plain": [
              "[3170.041748046875, 3170.041748046875]"
            ]
          },
          "metadata": {},
          "execution_count": 234
        }
      ]
    },
    {
      "cell_type": "code",
      "source": [
        "X[\"age\"].plot(kind = \"hist\")"
      ],
      "metadata": {
        "colab": {
          "base_uri": "https://localhost:8080/",
          "height": 447
        },
        "id": "-efm0mu1MC4I",
        "outputId": "5b28217e-1c91-4505-c3d7-1dc8e974ea27"
      },
      "execution_count": 217,
      "outputs": [
        {
          "output_type": "execute_result",
          "data": {
            "text/plain": [
              "<Axes: ylabel='Frequency'>"
            ]
          },
          "metadata": {},
          "execution_count": 217
        },
        {
          "output_type": "display_data",
          "data": {
            "text/plain": [
              "<Figure size 640x480 with 1 Axes>"
            ],
            "image/png": "[encoded data removed]"
          },
          "metadata": {}
        }
      ]
    },
    {
      "cell_type": "code",
      "source": [
        "X[\"bmi\"].plot(kind = \"hist\")"
      ],
      "metadata": {
        "colab": {
          "base_uri": "https://localhost:8080/",
          "height": 447
        },
        "id": "Idx-Ck77MMBQ",
        "outputId": "65f2b653-dccd-44a6-b5a4-39b934cd29c7"
      },
      "execution_count": 218,
      "outputs": [
        {
          "output_type": "execute_result",
          "data": {
            "text/plain": [
              "<Axes: ylabel='Frequency'>"
            ]
          },
          "metadata": {},
          "execution_count": 218
        },
        {
          "output_type": "display_data",
          "data": {
            "text/plain": [
              "<Figure size 640x480 with 1 Axes>"
            ],
            "image/png": "[encoded data removed]"
          },
          "metadata": {}
        }
      ]
    },
    {
      "cell_type": "code",
      "source": [
        "X[\"children\"].value_counts()"
      ],
      "metadata": {
        "colab": {
          "base_uri": "https://localhost:8080/"
        },
        "id": "v1_dVWOnMeCS",
        "outputId": "faca4fb7-4da5-4492-e8e3-ff1e3fb8ac44"
      },
      "execution_count": 219,
      "outputs": [
        {
          "output_type": "execute_result",
          "data": {
            "text/plain": [
              "0    574\n",
              "1    324\n",
              "2    240\n",
              "3    157\n",
              "4     25\n",
              "5     18\n",
              "Name: children, dtype: int64"
            ]
          },
          "metadata": {},
          "execution_count": 219
        }
      ]
    },
    {
      "cell_type": "code",
      "source": [],
      "metadata": {
        "id": "GsHaQToNMqzo"
      },
      "execution_count": null,
      "outputs": []
    }
  ]
}